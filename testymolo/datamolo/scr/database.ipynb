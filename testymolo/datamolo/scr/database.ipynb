{
 "cells": [
  {
   "cell_type": "code",
   "execution_count": 1,
   "metadata": {},
   "outputs": [],
   "source": [
    "import re, os, json\n",
    "\n",
    "import numpy as np\n",
    "\n",
    "from Bio import Entrez\n",
    "\n",
    "Entrez.email = \"VIMVer@univ-amu.fr\"\n",
    "\n",
    "testydata: str = \"./../../testymolo/media/data/\""
   ]
  },
  {
   "cell_type": "code",
   "execution_count": null,
   "metadata": {},
   "outputs": [],
   "source": [
    "def get_tax_data(taxid):\n",
    "    try:\n",
    "        request:str = f\"txid{taxid}[Organism] AND refseq[filter]\"\n",
    "        search = Entrez.efetch(term=request, db='nucleotide', retmode='xml')\n",
    "        return Entrez.read(search)\n",
    "    except:\n",
    "        return []"
   ]
  }
 ],
 "metadata": {
  "kernelspec": {
   "display_name": "Python 3",
   "language": "python",
   "name": "python3"
  },
  "language_info": {
   "codemirror_mode": {
    "name": "ipython",
    "version": 3
   },
   "file_extension": ".py",
   "mimetype": "text/x-python",
   "name": "python",
   "nbconvert_exporter": "python",
   "pygments_lexer": "ipython3",
   "version": "3.10.12"
  },
  "orig_nbformat": 4
 },
 "nbformat": 4,
 "nbformat_minor": 2
}
