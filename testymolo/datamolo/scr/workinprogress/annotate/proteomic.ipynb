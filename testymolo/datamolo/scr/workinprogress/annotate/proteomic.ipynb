{
 "cells": [
  {
   "cell_type": "code",
   "execution_count": 2,
   "metadata": {},
   "outputs": [],
   "source": [
    "import os\n",
    "import subprocess \n",
    "import json\n",
    "\n",
    "k = 0"
   ]
  },
  {
   "cell_type": "markdown",
   "metadata": {},
   "source": []
  },
  {
   "cell_type": "code",
   "execution_count": 4,
   "metadata": {},
   "outputs": [],
   "source": [
    "##  reference .json -> .fasta\n",
    "\n",
    "with open(\"./in/reference.json\") as handle:\n",
    "    reference = json.load(handle)\n",
    "\n",
    "    with open(\"./in/reference.fasta\", 'w') as out:\n",
    "        for item in reference:\n",
    "            if item['id'] not in [ 329, 340]:\n",
    "                out.write(f\">{item['header']}\\n\")\n",
    "                out.write(f\"{item['sequence']}\\n\")"
   ]
  },
  {
   "cell_type": "code",
   "execution_count": 4,
   "metadata": {},
   "outputs": [
    {
     "name": "stdout",
     "output_type": "stream",
     "text": [
      "mmseqs createdb ../profile/aln/F185.aln.fasta ../profile/aln/F252.aln.fasta ../profile/aln/F248.aln.fasta ../profile/aln/F190.aln.fasta ../profile/aln/F41.aln.fasta ../profile/aln/F40.aln.fasta ../profile/aln/F246.aln.fasta ../profile/aln/F189.aln.fasta ../profile/aln/F240.aln.fasta ../profile/aln/F186.aln.fasta ../profile/aln/F195.aln.fasta ../profile/aln/F247.aln.fasta ../profile/aln/F250.aln.fasta ../profile/aln/F199.aln.fasta ../profile/aln/F205.aln.fasta ../profile/aln/F184.aln.fasta ../profile/aln/F233.aln.fasta ../profile/aln/F194.aln.fasta ../profile/aln/F249.aln.fasta ../profile/aln/F251.aln.fasta ../profile/aln/F254.aln.fasta ../profile/aln/F204.aln.fasta ../profile/aln/F209.aln.fasta ../profile/aln/F197.aln.fasta ../profile/aln/F202.aln.fasta ../profile/aln/F188.aln.fasta ../profile/aln/F203.aln.fasta ../profile/aln/F198.aln.fasta ../profile/aln/F196.aln.fasta ../profile/aln/F206.aln.fasta ../profile/aln/F207.aln.fasta ../profile/aln/F201.aln.fasta ../profile/aln/F253.aln.fasta ../profile/aln/F245.aln.fasta ../profile/aln/F187.aln.fasta ../profile/aln/F208.aln.fasta ../profile/aln/F192.aln.fasta ../profile/aln/F200.aln.fasta ../profile/aln/F193.aln.fasta ../profile/aln/F191.aln.fasta ./data/FASTA\n"
     ]
    },
    {
     "data": {
      "text/plain": [
       "<Popen: returncode: None args: ['mmseqs', 'createdb', '../profile/aln/F185.a...>"
      ]
     },
     "execution_count": 4,
     "metadata": {},
     "output_type": "execute_result"
    }
   ],
   "source": [
    "## database FASTA\n",
    "fastas = os.listdir(\"../profile/aln/\")\n",
    "fastas = ' '.join([\"../profile/aln/\"+item for item in fastas])\n",
    "out = \"./data/FASTA\"\n",
    "command:str = f\"mmseqs createdb {fastas} {out}\"\n",
    "print(command)\n",
    "subprocess.Popen(command.split(' '), stdout=subprocess.DEVNULL)"
   ]
  },
  {
   "cell_type": "code",
   "execution_count": 4,
   "metadata": {},
   "outputs": [
    {
     "name": "stdout",
     "output_type": "stream",
     "text": [
      "mmseqs easy-search ./in/reference.fasta ./data/FASTA ./out/MERS.aln.fasta ./tmp -v 0\n"
     ]
    },
    {
     "data": {
      "text/plain": [
       "<Popen: returncode: None args: ['mmseqs', 'easy-search', './in/reference.fas...>"
      ]
     },
     "execution_count": 4,
     "metadata": {},
     "output_type": "execute_result"
    }
   ],
   "source": [
    "command:str = f\"mmseqs easy-search ./in/reference.fasta ./data/FASTA ./out/MERS.aln.fasta ./tmp -v 0\"\n",
    "print(command)\n",
    "subprocess.Popen(command.split(' '), stdout=subprocess.DEVNULL)"
   ]
  },
  {
   "cell_type": "code",
   "execution_count": 17,
   "metadata": {},
   "outputs": [
    {
     "name": "stdout",
     "output_type": "stream",
     "text": [
      "mmseqs easy-search ./in/MERS.nsp1.fasta ./data/FASTA ./out/MERS.nsp1.aln.fasta ./tmp -v 0\n"
     ]
    },
    {
     "data": {
      "text/plain": [
       "<Popen: returncode: None args: ['mmseqs', 'easy-search', './in/MERS.nsp1.fas...>"
      ]
     },
     "execution_count": 17,
     "metadata": {},
     "output_type": "execute_result"
    }
   ],
   "source": [
    "command:str = f\"mmseqs easy-search ./in/MERS.nsp1.fasta ./data/FASTA ./out/MERS.nsp1.aln.fasta ./tmp -v 0\"\n",
    "print(command)\n",
    "subprocess.Popen(command.split(' '), stdout=subprocess.DEVNULL)"
   ]
  },
  {
   "cell_type": "code",
   "execution_count": 18,
   "metadata": {},
   "outputs": [
    {
     "name": "stdout",
     "output_type": "stream",
     "text": [
      "mmseqs easy-search ./in/nsp2.profile.fasta ./in/NIDOVIRALES/data ./out/out_1 ./tmp -v 0\n"
     ]
    },
    {
     "data": {
      "text/plain": [
       "<Popen: returncode: None args: ['mmseqs', 'easy-search', './in/nsp2.profile....>"
      ]
     },
     "execution_count": 18,
     "metadata": {},
     "output_type": "execute_result"
    }
   ],
   "source": [
    "q = \"./in/nsp2.profile.fasta\"\n",
    "db = \"./in/NIDOVIRALES/data\"\n",
    "command:str = f\"mmseqs easy-search {q} {db} ./out/out_{k} ./tmp -v 0\"\n",
    "k += 1\n",
    "print(command)\n",
    "subprocess.Popen(command.split(' '), stdout=subprocess.DEVNULL)"
   ]
  }
 ],
 "metadata": {
  "kernelspec": {
   "display_name": "Python 3",
   "language": "python",
   "name": "python3"
  },
  "language_info": {
   "codemirror_mode": {
    "name": "ipython",
    "version": 3
   },
   "file_extension": ".py",
   "mimetype": "text/x-python",
   "name": "python",
   "nbconvert_exporter": "python",
   "pygments_lexer": "ipython3",
   "version": "3.10.12"
  }
 },
 "nbformat": 4,
 "nbformat_minor": 2
}
