{
 "cells": [
  {
   "cell_type": "code",
   "execution_count": 1,
   "metadata": {},
   "outputs": [],
   "source": [
    "import os\n",
    "import subprocess \n",
    "import json"
   ]
  },
  {
   "cell_type": "code",
   "execution_count": 4,
   "metadata": {},
   "outputs": [],
   "source": [
    "##  reference .json -> .fasta\n",
    "\n",
    "with open(\"./in/reference.json\") as handle:\n",
    "    reference = json.load(handle)\n",
    "\n",
    "    with open(\"./in/reference.fasta\", 'w') as out:\n",
    "        for item in reference:\n",
    "            if item['id'] not in [ 329, 340]:\n",
    "                out.write(f\">{item['header']}\\n\")\n",
    "                out.write(f\"{item['sequence']}\\n\")"
   ]
  },
  {
   "cell_type": "code",
   "execution_count": 15,
   "metadata": {},
   "outputs": [
    {
     "name": "stdout",
     "output_type": "stream",
     "text": [
      "mmseqs easy-search ./in/reference.fasta ./localDataBase_prot.fasta ./out/MERS.prot.fasta ./tmp -v 0\n"
     ]
    },
    {
     "data": {
      "text/plain": [
       "<Popen: returncode: None args: ['mmseqs', 'easy-search', './in/reference.fas...>"
      ]
     },
     "execution_count": 15,
     "metadata": {},
     "output_type": "execute_result"
    }
   ],
   "source": [
    "command:str = f\"mmseqs easy-search ./in/reference.fasta ./localDataBase_prot.fasta ./out/MERS.prot.fasta ./tmp -v 0\"\n",
    "print(command)\n",
    "subprocess.Popen(command.split(' '), stdout=subprocess.DEVNULL)"
   ]
  },
  {
   "cell_type": "code",
   "execution_count": 16,
   "metadata": {},
   "outputs": [
    {
     "name": "stdout",
     "output_type": "stream",
     "text": [
      "mmseqs easy-search ./in/reference.fasta ./data/FASTA ./out/MERS.aln.fasta ./tmp -v 0\n"
     ]
    },
    {
     "data": {
      "text/plain": [
       "<Popen: returncode: None args: ['mmseqs', 'easy-search', './in/reference.fas...>"
      ]
     },
     "execution_count": 16,
     "metadata": {},
     "output_type": "execute_result"
    }
   ],
   "source": [
    "command:str = f\"mmseqs easy-search ./in/reference.fasta ./data/FASTA ./out/MERS.aln.fasta ./tmp -v 0\"\n",
    "print(command)\n",
    "subprocess.Popen(command.split(' '), stdout=subprocess.DEVNULL)"
   ]
  },
  {
   "cell_type": "code",
   "execution_count": 17,
   "metadata": {},
   "outputs": [
    {
     "name": "stdout",
     "output_type": "stream",
     "text": [
      "mmseqs easy-search ./in/MERS.nsp1.fasta ./data/FASTA ./out/MERS.nsp1.aln.fasta ./tmp -v 0\n"
     ]
    },
    {
     "data": {
      "text/plain": [
       "<Popen: returncode: None args: ['mmseqs', 'easy-search', './in/MERS.nsp1.fas...>"
      ]
     },
     "execution_count": 17,
     "metadata": {},
     "output_type": "execute_result"
    }
   ],
   "source": [
    "command:str = f\"mmseqs easy-search ./in/MERS.nsp1.fasta ./data/FASTA ./out/MERS.nsp1.aln.fasta ./tmp -v 0\"\n",
    "print(command)\n",
    "subprocess.Popen(command.split(' '), stdout=subprocess.DEVNULL)"
   ]
  }
 ],
 "metadata": {
  "kernelspec": {
   "display_name": "Python 3",
   "language": "python",
   "name": "python3"
  },
  "language_info": {
   "codemirror_mode": {
    "name": "ipython",
    "version": 3
   },
   "file_extension": ".py",
   "mimetype": "text/x-python",
   "name": "python",
   "nbconvert_exporter": "python",
   "pygments_lexer": "ipython3",
   "version": "3.10.12"
  }
 },
 "nbformat": 4,
 "nbformat_minor": 2
}
