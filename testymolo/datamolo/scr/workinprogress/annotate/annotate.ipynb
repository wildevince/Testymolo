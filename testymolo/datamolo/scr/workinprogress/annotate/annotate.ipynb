{
 "cells": [
  {
   "cell_type": "code",
   "execution_count": 2,
   "metadata": {},
   "outputs": [],
   "source": [
    "import os\n",
    "import subprocess \n",
    "import json"
   ]
  },
  {
   "cell_type": "code",
   "execution_count": 8,
   "metadata": {},
   "outputs": [],
   "source": [
    "PWD:str = \"/home/vincentwilde/Documents/thesis_1/Testymolo/testymolo/datamolo/scr/workinprogress/annotate\"\n",
    "reference_path:str = \"./in/reference.fasta\"\n",
    "out_path:str = \"./data/FASTA\""
   ]
  },
  {
   "cell_type": "markdown",
   "metadata": {},
   "source": [
    "# DB"
   ]
  },
  {
   "cell_type": "markdown",
   "metadata": {},
   "source": [
    "change header \\\n",
    "Export as Profile"
   ]
  },
  {
   "cell_type": "code",
   "execution_count": 4,
   "metadata": {},
   "outputs": [],
   "source": [
    "####  VAZy 2  ####\n",
    "vazy2_path:str = \"./../../../../testymolo/media/data/\"\n",
    "vazy2_list:list = [ 'Modulo', 'Profile', 'Organism', 'PolyProtein', 'Protein', 'Subseq', ]\n",
    "vazy2:dict= {}\n",
    "\n",
    "def Load(param:str) -> list:\n",
    "    fileName:str = os.path.join(vazy2_path, param+'.temp.json')\n",
    "    with open(fileName) as handle:\n",
    "        return json.load(handle)\n",
    "\n",
    "for tabName in vazy2_list:\n",
    "    vazy2[tabName] = Load(tabName)"
   ]
  },
  {
   "cell_type": "code",
   "execution_count": 5,
   "metadata": {},
   "outputs": [],
   "source": [
    "####  trace  ####\n",
    "trace:dict = {}\n",
    "\n",
    "for profile in vazy2['Profile']:\n",
    "    k = profile['id']\n",
    "    modId = profile['modulo']\n",
    "    if modId.startswith('F'):\n",
    "        trace[modId] =  []\n",
    "        #filter\n",
    "        for subSeq in vazy2['Subseq']:\n",
    "            if subSeq['profile'] == k:\n",
    "                trace[modId].append((subSeq['id'], subSeq['origin'], subSeq['profile'], subSeq['start'], subSeq['end']))\n",
    "\n",
    "with open(\"./data/trace.json\", 'w') as out :\n",
    "    out.write(json.dumps(trace))"
   ]
  },
  {
   "cell_type": "code",
   "execution_count": 6,
   "metadata": {},
   "outputs": [],
   "source": [
    "####  Export  &  change header  ####\n",
    "\n",
    "for mod, SubSeqs in trace.items():\n",
    "    fasta:list = []\n",
    "    for ss in SubSeqs:\n",
    "        #filter\n",
    "        for item in vazy2['Protein']:\n",
    "            if item['id'] == ss[1]:\n",
    "                header:str = '>'+str(ss[2])+':'+str(item['id'])+f\":[{ss[-2]}-{ss[-1]}]\\n\"  # change header\n",
    "                sequence:str = item['sequence'][ss[-2]-1:ss[-1]-1]+'\\n'\n",
    "                fasta.append(header+sequence)\n",
    "                break\n",
    "    #endfor\n",
    "\n",
    "    with open(f\"./fasta/{mod}.fasta\", 'w') as out:  # Export\n",
    "        out.write(''.join(fasta))"
   ]
  },
  {
   "cell_type": "code",
   "execution_count": 20,
   "metadata": {},
   "outputs": [],
   "source": []
  },
  {
   "cell_type": "markdown",
   "metadata": {},
   "source": [
    "*profiles -> DB"
   ]
  },
  {
   "cell_type": "code",
   "execution_count": 7,
   "metadata": {},
   "outputs": [],
   "source": [
    "def profile2DB():\n",
    "    p_profiles:str = \"./fasta\"\n",
    "    fn_profiles:list = os.listdir(p_profiles)\n",
    "    out_path:str = \"./data/FASTA\"\n",
    "    #print(os.path.join(p_profiles, fn_profiles[0]))\n",
    "    lst_profiles:str = ' '.join([ os.path.join(p_profiles, fn_profiles[i]) for i in range(len(fn_profiles))])\n",
    "    command = f\"mmseqs createdb {lst_profiles} {out_path} -v 0\"\n",
    "    subprocess.Popen(command.split(' '), stdout=subprocess.DEVNULL)\n",
    "\n",
    "profile2DB()\n"
   ]
  },
  {
   "cell_type": "markdown",
   "metadata": {},
   "source": [
    "# Align"
   ]
  },
  {
   "cell_type": "code",
   "execution_count": 9,
   "metadata": {},
   "outputs": [
    {
     "name": "stdout",
     "output_type": "stream",
     "text": [
      "mmseqs easy-search ./in/reference.fasta ./data/FASTA ./out/out.aln.fasta ./tmp -v 0\n"
     ]
    },
    {
     "data": {
      "text/plain": [
       "<Popen: returncode: None args: ['mmseqs', 'easy-search', './in/reference.fas...>"
      ]
     },
     "execution_count": 9,
     "metadata": {},
     "output_type": "execute_result"
    }
   ],
   "source": [
    "command:str = f\"mmseqs easy-search {reference_path} {out_path} ./out/out.aln.fasta ./tmp -v 0\"\n",
    "print(command)\n",
    "subprocess.Popen(command.split(' '), stdout=subprocess.DEVNULL)"
   ]
  },
  {
   "cell_type": "markdown",
   "metadata": {},
   "source": [
    "SARS-CoV-2 (TaxId) : 2697049 \\\n",
    "pp1ab (id) : 270"
   ]
  },
  {
   "cell_type": "markdown",
   "metadata": {},
   "source": [
    "# Muscle"
   ]
  },
  {
   "cell_type": "code",
   "execution_count": 32,
   "metadata": {},
   "outputs": [],
   "source": [
    "from Bio.Align.Applications import MuscleCommandline\n",
    "import subprocess "
   ]
  },
  {
   "cell_type": "code",
   "execution_count": 33,
   "metadata": {},
   "outputs": [],
   "source": [
    "from Bio import SeqIO\n",
    "\n",
    "sequences:list = []\n",
    "\n"
   ]
  },
  {
   "cell_type": "code",
   "execution_count": 49,
   "metadata": {},
   "outputs": [],
   "source": [
    "## align profiles \n",
    "with open(\"./in/reference.fasta\") as handle:\n",
    "    sequences = SeqIO.parse(handle, format='fasta')\n",
    "    for i, seq in enumerate(sequences):\n",
    "\n",
    "        for file in os.listdir(\"./fasta\"):\n",
    "            profile_path:str = os.path.join(\"./fasta\", file)\n",
    "\n",
    "            #profile\n",
    "            profile = \"\"\n",
    "            with open(profile_path) as handle:\n",
    "                profile = handle.read()\n",
    "\n",
    "            #inFile\n",
    "            inFile = f\"./in/sequences/{str(i)}_{file}\"\n",
    "            with open(inFile, 'w') as handle:\n",
    "                handle.write(f\">{seq.id}\\n\")\n",
    "                handle.write(f\"{seq.seq}\\n\")\n",
    "                handle.write(profile)\n",
    "\n",
    "            out:str = f\"./out/muscle/{str(i)}_{file}.clwstrict\"\n",
    "            command:str = f\"muscle -in {inFile} -out {out} -clwstrict -quiet\"\n",
    "            #print(command)  # adding \"-quiet\" option ... doen't work in v3.8 ?! (but does in v5.)\n",
    "            subprocess.Popen(command.split(' '), stdout=subprocess.DEVNULL)  # command must be a list of words\n",
    "\n",
    "            break\n",
    "        break\n",
    "\n",
    "        \n",
    "    "
   ]
  },
  {
   "cell_type": "code",
   "execution_count": null,
   "metadata": {},
   "outputs": [],
   "source": [
    "data:list = []\n",
    "\n",
    "out_dir_path:str = \"./out/muscle\"\n",
    "for outFile in os.listdir(out_dir_path):\n",
    "    outPath:str = os.path.join(out_dir_path, outFile)\n",
    "    #"
   ]
  },
  {
   "cell_type": "code",
   "execution_count": 28,
   "metadata": {},
   "outputs": [],
   "source": []
  },
  {
   "cell_type": "code",
   "execution_count": null,
   "metadata": {},
   "outputs": [],
   "source": []
  },
  {
   "cell_type": "code",
   "execution_count": null,
   "metadata": {},
   "outputs": [],
   "source": []
  }
 ],
 "metadata": {
  "kernelspec": {
   "display_name": "Python 3",
   "language": "python",
   "name": "python3"
  },
  "language_info": {
   "codemirror_mode": {
    "name": "ipython",
    "version": 3
   },
   "file_extension": ".py",
   "mimetype": "text/x-python",
   "name": "python",
   "nbconvert_exporter": "python",
   "pygments_lexer": "ipython3",
   "version": "3.undefined.undefined"
  }
 },
 "nbformat": 4,
 "nbformat_minor": 2
}
