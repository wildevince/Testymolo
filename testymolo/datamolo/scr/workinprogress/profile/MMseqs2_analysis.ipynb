{
 "cells": [
  {
   "cell_type": "code",
   "execution_count": 4,
   "metadata": {},
   "outputs": [],
   "source": [
    "FASTA=\"../annotate/data/FASTA\"\n",
    "NIDO=\"../annotate/in/Nidovirales.fasta\"\n",
    "PROFILE=\"./aln/F189.aln.fasta\"\n",
    "\n",
    "m8_file_path = \"./F189-search/alnResult.m8\"\n",
    "\n",
    "\n"
   ]
  },
  {
   "cell_type": "markdown",
   "metadata": {},
   "source": [
    "### 1. parse seq id "
   ]
  },
  {
   "cell_type": "code",
   "execution_count": 5,
   "metadata": {},
   "outputs": [],
   "source": [
    "import pandas as pd\n",
    "\n",
    "# Load the .m8 file into a pandas DataFrame\n",
    "\n",
    "columns = [\n",
    "    'query', 'subject', 'percentage_identity', 'alignment_length',\n",
    "    'mismatches', 'gap_opens', 'query_start', 'query_end', \n",
    "    'subject_start', 'subject_end', 'e_value', 'bit_score'\n",
    "]\n",
    "m8_df = pd.read_csv(m8_file_path, sep='\\t', names=columns)\n",
    "\n",
    "# Extract unique sequence identifiers\n",
    "sequence_ids = set(m8_df['query']).union(set(m8_df['subject']))"
   ]
  },
  {
   "cell_type": "markdown",
   "metadata": {},
   "source": [
    "### Step 2: Fetch sequences from a FASTA file"
   ]
  },
  {
   "cell_type": "code",
   "execution_count": 10,
   "metadata": {},
   "outputs": [],
   "source": [
    "from Bio import SeqIO\n",
    "\n",
    "# Load sequences from a FASTA file\n",
    "sequences:dict = {}\n",
    "Sources = [PROFILE, NIDO, FASTA]\n",
    "for fasta_file_path in Sources:\n",
    "    for record in SeqIO.parse(fasta_file_path, 'fasta'):\n",
    "        if record.id not in sequences:\n",
    "            sequences = { **sequences, record.id: record}\n",
    "#sequences = {record.id: record for record in SeqIO.parse(fasta_file_path, 'fasta')}\n",
    "\n",
    "# Filter sequences based on the unique identifiers from the .m8 file\n",
    "filtered_sequences = [sequences[seq_id] for seq_id in sequence_ids if seq_id in sequences]\n",
    "\n"
   ]
  },
  {
   "cell_type": "markdown",
   "metadata": {},
   "source": [
    "### Step 3: Write to a multifasta file"
   ]
  },
  {
   "cell_type": "code",
   "execution_count": 11,
   "metadata": {},
   "outputs": [],
   "source": [
    "# Write the filtered sequences to a multifasta file\n",
    "output_fasta_file_path = 'F189-search/filtered_sequences.fasta'\n",
    "with open(output_fasta_file_path, 'w') as output_handle:\n",
    "    SeqIO.write(filtered_sequences, output_handle, 'fasta')"
   ]
  },
  {
   "cell_type": "markdown",
   "metadata": {},
   "source": [
    "# _________________________________________________________________________________________________________________"
   ]
  },
  {
   "cell_type": "markdown",
   "metadata": {},
   "source": [
    "### workflow"
   ]
  },
  {
   "cell_type": "markdown",
   "metadata": {},
   "source": [
    "1. adding sequence \"polymerase\" from francois                       **&rarr; NO**\n",
    "2. retreve fasta seq from all record                                **&rarr; OK**\n",
    "3. filter - remove redundancy - cluster                             **&rarr; OK**\n",
    "4. align -> tree                                                    **&rarr; ...**\n",
    "5. cluster -> network graph (qvge --balloon)\n",
    "6. short align -> leaders -> Espript\n",
    "7. locate MOTIF (Shannon et al, 2020) -> cut-off entropy -> MOTIF\n",
    "8. heatmap , test with all profile sequences"
   ]
  },
  {
   "cell_type": "code",
   "execution_count": null,
   "metadata": {},
   "outputs": [],
   "source": []
  }
 ],
 "metadata": {
  "kernelspec": {
   "display_name": "Python 3",
   "language": "python",
   "name": "python3"
  },
  "language_info": {
   "codemirror_mode": {
    "name": "ipython",
    "version": 3
   },
   "file_extension": ".py",
   "mimetype": "text/x-python",
   "name": "python",
   "nbconvert_exporter": "python",
   "pygments_lexer": "ipython3",
   "version": "3.10.12"
  }
 },
 "nbformat": 4,
 "nbformat_minor": 2
}
