{
 "cells": [
  {
   "cell_type": "code",
   "execution_count": 4,
   "metadata": {},
   "outputs": [],
   "source": [
    "FASTA=\"../annotate/data/FASTA\"\n",
    "NIDO=\"../annotate/in/Nidovirales.fasta\"\n",
    "PROFILE=\"./aln/F189.aln.fasta\"\n",
    "\n",
    "m8_file_path = \"./F189-search/alnResult.m8\"\n",
    "\n",
    "\n"
   ]
  },
  {
   "cell_type": "markdown",
   "metadata": {},
   "source": [
    "### 1. parse seq id "
   ]
  },
  {
   "cell_type": "code",
   "execution_count": 5,
   "metadata": {},
   "outputs": [],
   "source": [
    "import pandas as pd\n",
    "\n",
    "# Load the .m8 file into a pandas DataFrame\n",
    "\n",
    "columns = [\n",
    "    'query', 'subject', 'percentage_identity', 'alignment_length',\n",
    "    'mismatches', 'gap_opens', 'query_start', 'query_end', \n",
    "    'subject_start', 'subject_end', 'e_value', 'bit_score'\n",
    "]\n",
    "m8_df = pd.read_csv(m8_file_path, sep='\\t', names=columns)\n",
    "\n",
    "# Extract unique sequence identifiers\n",
    "sequence_ids = set(m8_df['query']).union(set(m8_df['subject']))"
   ]
  },
  {
   "cell_type": "markdown",
   "metadata": {},
   "source": [
    "### Step 2: Fetch sequences from a FASTA file"
   ]
  },
  {
   "cell_type": "code",
   "execution_count": 10,
   "metadata": {},
   "outputs": [],
   "source": [
    "from Bio import SeqIO\n",
    "\n",
    "# Load sequences from a FASTA file\n",
    "sequences:dict = {}\n",
    "Sources = [PROFILE, NIDO, FASTA]\n",
    "for fasta_file_path in Sources:\n",
    "    for record in SeqIO.parse(fasta_file_path, 'fasta'):\n",
    "        if record.id not in sequences:\n",
    "            sequences = { **sequences, record.id: record}\n",
    "#sequences = {record.id: record for record in SeqIO.parse(fasta_file_path, 'fasta')}\n",
    "\n",
    "# Filter sequences based on the unique identifiers from the .m8 file\n",
    "filtered_sequences = [sequences[seq_id] for seq_id in sequence_ids if seq_id in sequences]\n",
    "\n"
   ]
  },
  {
   "cell_type": "markdown",
   "metadata": {},
   "source": [
    "### Step 3: Write to a multifasta file"
   ]
  },
  {
   "cell_type": "code",
   "execution_count": 11,
   "metadata": {},
   "outputs": [],
   "source": [
    "# Write the filtered sequences to a multifasta file\n",
    "output_fasta_file_path = 'F189-search/filtered_sequences.fasta'\n",
    "with open(output_fasta_file_path, 'w') as output_handle:\n",
    "    SeqIO.write(filtered_sequences, output_handle, 'fasta')"
   ]
  },
  {
   "cell_type": "markdown",
   "metadata": {},
   "source": [
    "# _________________________________________________________________________________________________________________"
   ]
  },
  {
   "cell_type": "markdown",
   "metadata": {},
   "source": [
    "### workflow"
   ]
  },
  {
   "cell_type": "markdown",
   "metadata": {},
   "source": [
    "1. adding sequence \"polymerase\" from francois                       **&rarr; NO**\n",
    "2. retreve fasta seq from all record                                **&rarr; OK**\n",
    "3. filter - remove redundancy - cluster                             **&rarr; OK**\n",
    "4. align -> tree                                                    **&rarr; OK**\n",
    "5. cluster -> network graph (qvge --balloon)                        **&rarr; OK**\n",
    "6. locate MOTIF (Shannon et al, 2020) -> cut-off entropy -> MOTIF   **&rarr; ...**\n",
    "7. short align -> leaders -> Espript\n",
    "8. heatmap , test with all profile sequences"
   ]
  },
  {
   "cell_type": "markdown",
   "metadata": {},
   "source": [
    "2. retreve fasta seq from all record\n",
    "\n",
    "### txid2501931[Organism:exp] AND refseq[filter]"
   ]
  },
  {
   "cell_type": "markdown",
   "metadata": {},
   "source": [
    "3. filter - remove redundancy - cluster  "
   ]
  },
  {
   "cell_type": "code",
   "execution_count": null,
   "metadata": {
    "vscode": {
     "languageId": "shellscript"
    }
   },
   "outputs": [],
   "source": [
    "cd '/home/vincentwilde/Documents/thesis_1/Testymolo/testymolo/datamolo/scr/workinprogress/profile'\n",
    "\n",
    "PROFILE=\"./aln/F189.aln.fasta\"\n",
    "Orthocoronavirinae=\"./in/Orthocoronaviridae.fasta\"\n",
    "OUT=\"./F189-search/alnResult.m8\"\n",
    "tmp=\"./F189-search/tmp\"\n",
    "\n",
    "mmseqs easy-search $PROFILE $Orthocoronavirinae $OUT $tmp"
   ]
  },
  {
   "cell_type": "code",
   "execution_count": null,
   "metadata": {
    "vscode": {
     "languageId": "shellscript"
    }
   },
   "outputs": [],
   "source": [
    "# Set working directory\n",
    "cd '/home/vincentwilde/Documents/thesis_1/Testymolo/testymolo/datamolo/scr/workinprogress/profile'\n",
    "\n",
    "# Create necessary directories\n",
    "mkdir -p \"./F189-search/PROFILE\"\n",
    "mkdir -p \"./F189-search/Orthocoronaviridae\"\n",
    "mkdir -p \"./F189-search/OUT\"\n",
    "\n",
    "# Define relative paths\n",
    "PROFILE_f_p=\"./aln/F189.aln.fasta\"\n",
    "PROFILE=\"./F189-search/PROFILE/PROFILE\"\n",
    "Orthocoronavirinae_f_p=\"./in/Orthocoronaviridae.fasta\"\n",
    "Orthocoronavirinae=\"./F189-search/Orthocoronaviridae/Orthocoronaviridae\"\n",
    "OUT_m8=\"./F189-search/alnResult.m8\"\n",
    "tmp=\"./F189-search/tmp\"\n",
    "\n",
    "# Create MMseqs2 databases\n",
    "mmseqs createdb $PROFILE_f_p $PROFILE -v 0\n",
    "mmseqs createdb $Orthocoronavirinae_f_p $Orthocoronavirinae -v 0\n",
    "\n",
    "# Perform search\n",
    "OUT_db=\"./F189-search/OUT/OUT_db\"\n",
    "mmseqs search $PROFILE $Orthocoronavirinae $OUT_db $tmp\n",
    "\n",
    "# Extract sequences from search results (this step ensures we have sequence data, not alignments)\n",
    "OUT_db_m8=\"./F189-search/OUT/OUT_db_m8\"\n",
    "mmseqs conversalis $PROFILE $Orthocoronaviridae $OUT_db $OUT_db_m8 --extract-seq\n",
    "\n",
    "# Cluster the sequences\n",
    "OUT_clu=\"./F189-search/OUT/OUT_clu\"\n",
    "mmseqs cluster $OUT_db_m8 $OUT_clu $tmp --min-seq-id 0.9 \n",
    "\n",
    "# Export clustering results to TSV format\n",
    "OUT_clu_tsv=\"./F189-search/OUT/OUT_clu_tsv\"\n",
    "mmseqs createtsv $OUT_db $OUT_clu $OUT_clu_tsv\n",
    "\n",
    "# Optionally convert to .m8 format if needed\n",
    "# If you need to align the sequences and then convert to .m8 format\n",
    "mmseqs align $PROFILE $Orthocoronavirinae $OUT_db $tmp\n",
    "mmseqs convertalis $PROFILE $Orthocoronavirinae $OUT_db $OUT_m8"
   ]
  },
  {
   "cell_type": "code",
   "execution_count": 7,
   "metadata": {},
   "outputs": [],
   "source": [
    "import pandas as pd\n",
    "\n",
    "# Load the .m8 file into a pandas DataFrame\n",
    "m8_file_path=\"./F189-search/alnResult.m8\"\n",
    "\n",
    "columns = [\n",
    "    'query', 'subject', 'percentage_identity', 'alignment_length',\n",
    "    'mismatches', 'gap_opens', 'query_start', 'query_end', \n",
    "    'subject_start', 'subject_end', 'e_value', 'bit_score'\n",
    "]\n",
    "m8_df = pd.read_csv(m8_file_path, sep='\\t', names=columns)\n",
    "# Extract unique sequence identifiers\n",
    "sequence_ids = set(m8_df['query']).union(set(m8_df['subject']))"
   ]
  },
  {
   "cell_type": "code",
   "execution_count": null,
   "metadata": {},
   "outputs": [],
   "source": [
    "#if percentage of identity is 1 : redundancy \n",
    "filtered_df = m8_df[m8_df['percentage_identity'] == 1.0]\n",
    "count = filtered_df.shape[0]\n",
    "print(count)\n",
    "# => 0 : no redundancy "
   ]
  },
  {
   "cell_type": "code",
   "execution_count": 9,
   "metadata": {},
   "outputs": [],
   "source": [
    "from Bio import SeqIO\n",
    "\n",
    "# Load sequences from a FASTA file\n",
    "PROFILE = \"./aln/F189.aln.fasta\"\n",
    "sequences_PROFILE = {record.id: record for record in SeqIO.parse(PROFILE, 'fasta')}\n",
    "\n",
    "# Filter sequences based on the unique identifiers from the .m8 file\n",
    "filtered_sequences_PROFILE = [sequences_PROFILE[seq_id] for seq_id in sequence_ids if seq_id in sequences_PROFILE]\n",
    "\n",
    "\n",
    "Orthocoronavirinae=\"./in/Orthocoronaviridae.fasta\"\n",
    "sequences_Orthocoronavirinae = {record.id: record for record in SeqIO.parse(Orthocoronavirinae, 'fasta')}\n",
    "filtered_sequences_Orthocoronavirinae = [sequences_Orthocoronavirinae[seq_id] for seq_id in sequence_ids if seq_id in sequences_Orthocoronavirinae]\n",
    "\n",
    "\n",
    "filtered_sequences = filtered_sequences_PROFILE + filtered_sequences_Orthocoronavirinae"
   ]
  },
  {
   "cell_type": "code",
   "execution_count": 10,
   "metadata": {},
   "outputs": [],
   "source": [
    "# Write the filtered sequences to a FASTA file\n",
    "output_fasta_file_path = './F189-search/filtered_sequences_Orthocoronavirinae.fasta'\n",
    "with open(output_fasta_file_path, 'w') as output_handle:\n",
    "    SeqIO.write(filtered_sequences, output_handle, 'fasta')\n"
   ]
  },
  {
   "cell_type": "markdown",
   "metadata": {},
   "source": [
    "out_all_[5668-6645]_aligned_filtered_sequences_Orthocoronavirinae.fasta"
   ]
  },
  {
   "cell_type": "markdown",
   "metadata": {},
   "source": [
    "5. cluster -> graph"
   ]
  },
  {
   "cell_type": "code",
   "execution_count": 1,
   "metadata": {},
   "outputs": [],
   "source": [
    "import pandas as pd\n",
    "\n",
    "# Load the .m8 file into a pandas DataFrame\n",
    "m8_file_path = \"./F189-search/alnResult.m8\"\n",
    "columns = [\n",
    "    'query', 'subject', 'percentage_identity', 'alignment_length',\n",
    "    'mismatches', 'gap_opens', 'query_start', 'query_end', \n",
    "    'subject_start', 'subject_end', 'e_value', 'bit_score'\n",
    "]\n",
    "m8_df = pd.read_csv(m8_file_path, sep='\\t', names=columns)\n",
    "\n",
    "########################################################################################################\n",
    "\n",
    "import networkx as nx\n",
    "\n",
    "# Create a directed graph\n",
    "G = nx.DiGraph()\n",
    "\n",
    "# Add edges to the graph\n",
    "for index, row in m8_df.iterrows():\n",
    "    G.add_edge(row['query'], row['subject'], e_value=row['e_value'], bit_score=row['bit_score'])\n",
    "\n",
    "#########################################################################################################\n",
    "\n",
    "# Export to GraphML\n",
    "nx.write_graphml(G, f\"./F189-search/OUT/network_graph.graphml\")\n",
    "\n",
    "# Export to GEXF\n",
    "nx.write_gexf(G, f\"./F189-search/OUT/network_graph.gexf\")"
   ]
  },
  {
   "cell_type": "code",
   "execution_count": null,
   "metadata": {},
   "outputs": [],
   "source": []
  },
  {
   "cell_type": "code",
   "execution_count": 7,
   "metadata": {},
   "outputs": [
    {
     "name": "stdout",
     "output_type": "stream",
     "text": [
      "Original DataFrame:\n",
      "   A  B  C\n",
      "0  0  1  1\n",
      "1  1  1  1\n",
      "2  1  1  0\n"
     ]
    },
    {
     "data": {
      "image/png": "[encoded data removed]",
      "text/plain": [
       "<Figure size 576x432 with 2 Axes>"
      ]
     },
     "metadata": {
      "needs_background": "light"
     },
     "output_type": "display_data"
    }
   ],
   "source": [
    "import pandas as pd\n",
    "import numpy as np\n",
    "import seaborn as sns\n",
    "import matplotlib.pyplot as plt\n",
    "\n",
    "# Example data (replace this with your actual data)\n",
    "data = {\n",
    "    'A': [0, 1, 1],\n",
    "    'B': [1, 1, 1],\n",
    "    'C': [1, 1, 0]\n",
    "}\n",
    "df = pd.DataFrame(data)\n",
    "print(\"Original DataFrame:\")\n",
    "print(df)\n",
    "\n",
    "# Plotting a heatmap using seaborn\n",
    "plt.figure(figsize=(8, 6))\n",
    "#sns.heatmap(df, annot=False, cmap='coolwarm', linewidths=0.5, linecolor='gray', fmt='.1f')\n",
    "sns.heatmap(df, annot=False, vmin=0, vmax=1)#, cmap='coolwarm', linewidths=0.5, linecolor='gray', fmt='.1f')\n",
    "plt.title('Heatmap of DataFrame')\n",
    "plt.xlabel('Columns')\n",
    "plt.ylabel('Rows')\n",
    "plt.show()"
   ]
  }
 ],
 "metadata": {
  "kernelspec": {
   "display_name": "Python 3",
   "language": "python",
   "name": "python3"
  },
  "language_info": {
   "codemirror_mode": {
    "name": "ipython",
    "version": 3
   },
   "file_extension": ".py",
   "mimetype": "text/x-python",
   "name": "python",
   "nbconvert_exporter": "python",
   "pygments_lexer": "ipython3",
   "version": "3.10.12"
  }
 },
 "nbformat": 4,
 "nbformat_minor": 2
}
