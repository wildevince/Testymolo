{
 "cells": [
  {
   "cell_type": "code",
   "execution_count": 1,
   "metadata": {},
   "outputs": [],
   "source": [
    "import os\n",
    "from Bio import Entrez\n",
    "import json"
   ]
  },
  {
   "cell_type": "code",
   "execution_count": 2,
   "metadata": {},
   "outputs": [],
   "source": [
    "vazy2_path:str = \"./../../../../testymolo/media/data/\"\n",
    "vazy2_list:list = [ 'Modulo', 'Profile', 'Organism', 'PolyProtein', 'Protein', 'Subseq', ]\n",
    "vazy2:dict= {}\n",
    "\n",
    "def Load(param:str) -> list:\n",
    "    fileName:str = os.path.join(vazy2_path, param+'.temp.json')\n",
    "    with open(fileName) as handle:\n",
    "        return json.load(handle)\n",
    "for tabName in vazy2_list:\n",
    "    vazy2[tabName] = Load(tabName)"
   ]
  },
  {
   "cell_type": "code",
   "execution_count": 3,
   "metadata": {},
   "outputs": [
    {
     "name": "stdout",
     "output_type": "stream",
     "text": [
      "343\n"
     ]
    }
   ],
   "source": [
    "print(max([item['id'] for item in vazy2[\"Subseq\"]]))"
   ]
  },
  {
   "cell_type": "markdown",
   "metadata": {},
   "source": [
    "### trace"
   ]
  },
  {
   "cell_type": "code",
   "execution_count": 4,
   "metadata": {},
   "outputs": [],
   "source": [
    "trace:dict = {}\n",
    "for profile in vazy2['Profile']:\n",
    "    k = profile['id']\n",
    "    modId = profile['modulo']\n",
    "    if modId.startswith('F'):\n",
    "        trace[modId] =  []\n",
    "        #filter\n",
    "        for subSeq in vazy2['Subseq']:\n",
    "            if subSeq['profile'] == k:\n",
    "                trace[modId].append((subSeq['id'], subSeq['origin'], subSeq['profile'], subSeq['start'], subSeq['end']))\n",
    "trace\n",
    "with open(\"./vazi2_mod_trace.json\", 'w') as out :\n",
    "    out.write(json.dumps(trace))"
   ]
  },
  {
   "cell_type": "markdown",
   "metadata": {},
   "source": [
    "# Extract profile fasta"
   ]
  },
  {
   "cell_type": "code",
   "execution_count": 11,
   "metadata": {},
   "outputs": [],
   "source": [
    "for mod, SubSeqs in trace.items():\n",
    "    fasta:list = []\n",
    "    for ss in SubSeqs:\n",
    "        #filter\n",
    "        for item in vazy2['Protein']:\n",
    "            if item['id'] == ss[1]:\n",
    "                header:str = f\">{mod}.{ss[1]}.{ss[0]}.{item['definition']}.[{ss[-2]}-{ss[-1]}]\\n\"\n",
    "                sequence:str = item['sequence'][ss[-2]-1:ss[-1]-1]+'\\n'\n",
    "                fasta.append(header+sequence)\n",
    "                break\n",
    "    #endfor\n",
    "    with open(f\"./fasta/{mod}.fasta\", 'w') as out:\n",
    "        out.write(''.join(fasta))\n",
    "        "
   ]
  },
  {
   "cell_type": "markdown",
   "metadata": {},
   "source": [
    "### Alignment fasta"
   ]
  },
  {
   "cell_type": "code",
   "execution_count": 12,
   "metadata": {},
   "outputs": [
    {
     "name": "stdout",
     "output_type": "stream",
     "text": [
      "muscle -in ./fasta/F191.fasta -out ./aln/F191.aln.fasta -quiet\n",
      "muscle -in ./fasta/F252.fasta -out ./aln/F252.aln.fasta -quiet\n",
      "muscle -in ./fasta/F200.fasta -out ./aln/F200.aln.fasta -quiet\n",
      "muscle -in ./fasta/F189.fasta -out ./aln/F189.aln.fasta -quiet\n",
      "muscle -in ./fasta/F247.fasta -out ./aln/F247.aln.fasta -quiet\n",
      "muscle -in ./fasta/F197.fasta -out ./aln/F197.aln.fasta -quiet\n",
      "muscle -in ./fasta/F253.fasta -out ./aln/F253.aln.fasta -quiet\n",
      "muscle -in ./fasta/F204.fasta -out ./aln/F204.aln.fasta -quiet\n",
      "muscle -in ./fasta/F248.fasta -out ./aln/F248.aln.fasta -quiet\n",
      "muscle -in ./fasta/F192.fasta -out ./aln/F192.aln.fasta -quiet\n",
      "muscle -in ./fasta/F233.fasta -out ./aln/F233.aln.fasta -quiet\n",
      "muscle -in ./fasta/F40.fasta -out ./aln/F40.aln.fasta -quiet\n",
      "muscle -in ./fasta/F190.fasta -out ./aln/F190.aln.fasta -quiet\n",
      "muscle -in ./fasta/F185.fasta -out ./aln/F185.aln.fasta -quiet\n",
      "muscle -in ./fasta/F184.fasta -out ./aln/F184.aln.fasta -quiet\n",
      "muscle -in ./fasta/F251.fasta -out ./aln/F251.aln.fasta -quiet\n",
      "muscle -in ./fasta/F202.fasta -out ./aln/F202.aln.fasta -quiet\n",
      "muscle -in ./fasta/F207.fasta -out ./aln/F207.aln.fasta -quiet\n",
      "muscle -in ./fasta/F246.fasta -out ./aln/F246.aln.fasta -quiet\n",
      "muscle -in ./fasta/F240.fasta -out ./aln/F240.aln.fasta -quiet\n",
      "muscle -in ./fasta/F201.fasta -out ./aln/F201.aln.fasta -quiet\n",
      "muscle -in ./fasta/F206.fasta -out ./aln/F206.aln.fasta -quiet\n",
      "muscle -in ./fasta/F193.fasta -out ./aln/F193.aln.fasta -quiet\n",
      "muscle -in ./fasta/F188.fasta -out ./aln/F188.aln.fasta -quiet\n",
      "muscle -in ./fasta/F208.fasta -out ./aln/F208.aln.fasta -quiet\n",
      "muscle -in ./fasta/F209.fasta -out ./aln/F209.aln.fasta -quiet\n",
      "muscle -in ./fasta/F187.fasta -out ./aln/F187.aln.fasta -quiet\n",
      "muscle -in ./fasta/F198.fasta -out ./aln/F198.aln.fasta -quiet\n",
      "muscle -in ./fasta/F203.fasta -out ./aln/F203.aln.fasta -quiet\n",
      "muscle -in ./fasta/F196.fasta -out ./aln/F196.aln.fasta -quiet\n",
      "muscle -in ./fasta/F199.fasta -out ./aln/F199.aln.fasta -quiet\n",
      "muscle -in ./fasta/F205.fasta -out ./aln/F205.aln.fasta -quiet\n",
      "muscle -in ./fasta/F194.fasta -out ./aln/F194.aln.fasta -quiet\n",
      "muscle -in ./fasta/F41.fasta -out ./aln/F41.aln.fasta -quiet\n",
      "muscle -in ./fasta/F186.fasta -out ./aln/F186.aln.fasta -quiet\n",
      "muscle -in ./fasta/F249.fasta -out ./aln/F249.aln.fasta -quiet\n",
      "muscle -in ./fasta/F250.fasta -out ./aln/F250.aln.fasta -quiet\n",
      "muscle -in ./fasta/F245.fasta -out ./aln/F245.aln.fasta -quiet\n",
      "muscle -in ./fasta/F195.fasta -out ./aln/F195.aln.fasta -quiet\n",
      "muscle -in ./fasta/F254.fasta -out ./aln/F254.aln.fasta -quiet\n"
     ]
    }
   ],
   "source": [
    "from Bio.Align.Applications import MuscleCommandline\n",
    "import subprocess \n",
    "\n",
    "for file in os.listdir(\"./fasta\"):\n",
    "    #print(file)\n",
    "    inFile:str = os.path.join(\"./fasta\", file)\n",
    "    out:str = os.path.join('./aln', file.split(\".fasta\")[0]+'.aln'+'.fasta')\n",
    "    \n",
    "    command:str = f\"muscle -in {inFile} -out {out} -quiet\"\n",
    "    print(command)  # adding \"-quiet\" option ... doen't work in v3.8 ?! (but does in v5.)\n",
    "    subprocess.Popen(command.split(' '), stdout=subprocess.DEVNULL)  # command must be a list of words\n",
    "\n"
   ]
  },
  {
   "cell_type": "markdown",
   "metadata": {},
   "source": [
    "### transfer  "
   ]
  },
  {
   "cell_type": "markdown",
   "metadata": {},
   "source": [
    "* *foreach PP -> Map les nsp  =>  vazy2[\"PolyProtein\"]*"
   ]
  },
  {
   "cell_type": "markdown",
   "metadata": {},
   "source": [
    "* *foreach subseq -> find the nsp that fits best* \\\n",
    "    1. indices comparison (auto)"
   ]
  },
  {
   "cell_type": "code",
   "execution_count": 6,
   "metadata": {},
   "outputs": [],
   "source": [
    "def filter(tab:list, **kwargs) -> list:\n",
    "    res:list = []\n",
    "    for item in tab:\n",
    "        params = [item[key] == value for key, value in kwargs.items()]\n",
    "        #print(params)\n",
    "        if all(params):\n",
    "            res.append(item)\n",
    "            #print(item)\n",
    "            pass\n",
    "        elif any(params):\n",
    "            #print(item)\n",
    "            pass\n",
    "    return res"
   ]
  },
  {
   "cell_type": "code",
   "execution_count": 5,
   "metadata": {},
   "outputs": [],
   "source": [
    "def interval(val:int, t:int=1):\n",
    "    return range(val-t,val+t)\n",
    "\n",
    "def indices_comparison(hits:list, **positions):\n",
    "    result:list = []\n",
    "    for hit in hits:\n",
    "        bools = [hit[key] in interval(value) for key, value in positions.items()]\n",
    "        #bools = [positions['start'] >= hit['start']-1 , positions['end'] <= hit['end']+1]\n",
    "        #print(bools)\n",
    "        if all(bools):\n",
    "            result.append(hit)\n",
    "        elif all([positions['start'] >= hit['start']-1 , positions['end'] <= hit['end']+1]):\n",
    "            result.append(hit)\n",
    "    return result"
   ]
  },
  {
   "cell_type": "code",
   "execution_count": 7,
   "metadata": {},
   "outputs": [
    {
     "name": "stdout",
     "output_type": "stream",
     "text": [
      "15\n",
      "pps: no hits\n",
      "{'PP': 31, 'protein': 153, 'index': 1, 'start': 1, 'end': 247}\n",
      "{'PP': 31, 'protein': 154, 'index': 2, 'start': 248, 'end': 832}\n",
      "{'PP': 31, 'protein': 155, 'index': 3, 'start': 833, 'end': 3141}\n",
      "{'PP': 31, 'protein': 377, 'index': 4, 'start': 3142, 'end': 3333}\n",
      "{'PP': 31, 'protein': 156, 'index': 5, 'start': 3334, 'end': 3636}\n",
      "{'PP': 31, 'protein': 157, 'index': 6, 'start': 3637, 'end': 3923}\n",
      "{'PP': 31, 'protein': 158, 'index': 7, 'start': 3924, 'end': 4012}\n",
      "{'PP': 31, 'protein': 159, 'index': 8, 'start': 4013, 'end': 4209}\n",
      "{'PP': 31, 'protein': 160, 'index': 9, 'start': 4210, 'end': 4319}\n",
      "{'PP': 31, 'protein': 161, 'index': 10, 'start': 4320, 'end': 4456}\n",
      "{'PP': 31, 'protein': 162, 'index': 12, 'start': 4457, 'end': 5384}\n",
      "{'PP': 31, 'protein': 163, 'index': 13, 'start': 5385, 'end': 5984}\n",
      "{'PP': 31, 'protein': 164, 'index': 14, 'start': 5985, 'end': 6505}\n",
      "{'PP': 31, 'protein': 165, 'index': 15, 'start': 6506, 'end': 6879}\n",
      "{'PP': 31, 'protein': 166, 'index': 16, 'start': 6880, 'end': 7178}\n"
     ]
    }
   ],
   "source": [
    "notr = {\n",
    "     #'F187': [368, 56, 7, 4123, 4232] ,\n",
    "     #'F185': [198, 31, 9, 3924, 4015] ,\n",
    "     'F196': [201, 31, 12, 2868, 3333] ,\n",
    "     }\n",
    "#\n",
    "for key, value in notr.items():\n",
    "    pps = filter(vazy2['PolyProtein'], PP=value[1])\n",
    "    ps = filter(vazy2['PolyProtein'], protein=value[1])\n",
    "    if len(pps) > 0:\n",
    "        print(len(pps))\n",
    "        hits = indices_comparison(pps, start=value[3], end=value[4])\n",
    "        if len(hits) > 0:\n",
    "             print(*hits, sep='\\n')\n",
    "        else:\n",
    "             print(\"pps: no hits\")\n",
    "             print(*pps, sep='\\n')\n",
    "\n",
    "    elif len(ps) > 0:\n",
    "        print(len(ps))\n",
    "        hits = indices_comparison(ps, start=value[3], end=value[4])\n",
    "        if len(hits) > 0:\n",
    "             print(*hits, sep='\\n')\n",
    "        else:\n",
    "             print(\"ps: no hits\")\n",
    "             print(*ps, sep='\\n')\n",
    "    break"
   ]
  },
  {
   "cell_type": "code",
   "execution_count": 59,
   "metadata": {},
   "outputs": [],
   "source": [
    "\n",
    "vazi2_mod_trace:dict = {}\n",
    "\n",
    "with open(\"./vazi2_mod_trace.json\") as handle :\n",
    "    vazi2_mod_trace = json.load(handle)\n",
    "\n",
    "all_pp1a:list = [2, 24, 32, 43, 69, 269, 329, 341, 343]\n",
    "all_PP:list = [ item['PP'] for item in vazy2['PolyProtein'] if item['PP'] not in all_pp1a]"
   ]
  },
  {
   "cell_type": "code",
   "execution_count": 60,
   "metadata": {},
   "outputs": [
    {
     "name": "stdout",
     "output_type": "stream",
     "text": [
      "'F187': [368, 56, 7, 4123, 4232] ,\n",
      "'F185': [198, 31, 9, 3924, 4015] ,\n",
      "'F196': [201, 31, 12, 2868, 3333] ,\n"
     ]
    }
   ],
   "source": [
    "trace_transfer:dict = {}\n",
    "trace_no_nsp:dict = {}\n",
    "trace_mlt_hit:dict = {}\n",
    "trace_done:dict = {}\n",
    "trace_no_transfer:dict = {}\n",
    "\n",
    "for modId, SubSeqs in vazi2_mod_trace.items():\n",
    "    #print(\"modulo :\", modId, sep='\\t')\n",
    "    #trace_transfer[modId] = []\n",
    "    for sseq in SubSeqs:\n",
    "        \n",
    "        #--> Is PolyProtein\n",
    "        items_filtered:list = filter(vazy2['PolyProtein'], PP=sseq[1])\n",
    "        #--> filter management\n",
    "        \n",
    "        if len(items_filtered) < 1:\n",
    "            items_filtered = filter(vazy2['PolyProtein'], protein=sseq[1])\n",
    "            if len(items_filtered) < 1:\n",
    "                if not (modId in trace_no_nsp):\n",
    "                    trace_no_nsp[modId] = []\n",
    "                #sseq.append(False)\n",
    "                trace_no_nsp[modId].append(sseq)    \n",
    "        #print(\"no NSP for:\", modId, sseq)\n",
    "        #break\n",
    "\n",
    "        hits:list = indices_comparison(items_filtered, start=sseq[3], end=sseq[4])\n",
    "        #print(*hits, sep='\\n')\n",
    "\n",
    "        # hit management\n",
    "        if len(hits) > 1:\n",
    "            \"\"\"if not modId in trace_mlt_hit:\n",
    "                trace_mlt_hit[modId] = []\n",
    "            sseq.append(False)\n",
    "            trace_mlt_hit[modId].append(sseq)\n",
    "            #print(\"multiple hits\", modId, sseq)\"\"\"\n",
    "            continue\n",
    "        elif len(hits) < 1:\n",
    "            #print(\"no hit:\", modId, sseq)\n",
    "            if not sseq[1] in all_pp1a:\n",
    "\n",
    "                #--> already done ?\n",
    "                if (sseq[1] not in all_PP):\n",
    "                    if not (modId in trace_done):\n",
    "                        trace_done[modId] = []\n",
    "                    trace_done[modId].append(sseq)\n",
    "                    continue\n",
    "\n",
    "                if not (modId in trace_no_transfer):\n",
    "                    trace_no_transfer[modId] = []\n",
    "                print(\"'\"+modId+\"':\", sseq, \",\")\n",
    "                trace_no_transfer[modId].append(sseq)\n",
    "            continue\n",
    "        ##\n",
    "        else:\n",
    "            if not (modId in trace_transfer):\n",
    "                trace_transfer[modId] = []\n",
    "            start = sseq[3] - hits[0]['start'] +1\n",
    "            end = sseq[4] - sseq[3] +1\n",
    "            trace_transfer[modId].append((sseq[0], hits[0][\"protein\"], sseq[2], start, end))\n",
    "        \n",
    "            \n",
    "\n",
    "        #break\n",
    "        #endfor\n",
    "\n",
    "    #break \n",
    "    #endfor\n",
    "\n"
   ]
  },
  {
   "cell_type": "code",
   "execution_count": 62,
   "metadata": {},
   "outputs": [],
   "source": [
    "with open(\"./trace_transfer.json\", 'w') as out :\n",
    "    out.write(json.dumps(trace_transfer))\n",
    "    \n",
    "with open(\"./trace_no_nsp.json\", 'w') as out :\n",
    "    out.write(json.dumps(trace_no_nsp))\n",
    "    \n",
    "#with open(\"./trace_mlt_hit.json\", 'w') as out :\n",
    "#    out.write(json.dumps(trace_mlt_hit))\n",
    "    \n",
    "with open(\"./trace_done.json\", 'w') as out :\n",
    "    out.write(json.dumps(trace_done))\n",
    "\n",
    "\n",
    "with open(\"./trace_no_transfer.json\", 'w') as out :\n",
    "    out.write(json.dumps(trace_no_transfer))\n"
   ]
  },
  {
   "cell_type": "markdown",
   "metadata": {},
   "source": [
    "### alignment profile .vs. PP"
   ]
  },
  {
   "cell_type": "code",
   "execution_count": 15,
   "metadata": {},
   "outputs": [],
   "source": [
    "def profile_alignment(modId, sseq):\n",
    "    # profile\n",
    "    fasta_path:str = \"./aln/\"+modId+'.aln.fasta'\n",
    "    # input protein\n",
    "    #with open(\"./sequence_input.fasta\", 'w') as inFile:\n",
    "    for protein in vazy2['Protein']:\n",
    "        if protein['id'] == sseq[1]:\n",
    "            text:str = \">\"+protein['header']+\"\\n\"+protein['sequence']\n",
    "            #inFile.write('>'+protein['header']+'\\n'+protein['sequence'])\n",
    "            #command:str = f\"muscle -in {filepath} -out {out_filepath} -quiet\"\n",
    "            return text\n",
    "\n"
   ]
  },
  {
   "cell_type": "code",
   "execution_count": 16,
   "metadata": {},
   "outputs": [
    {
     "name": "stdout",
     "output_type": "stream",
     "text": [
      ">ORF1a_polyprotein__(@474)\n",
      "MASSLKQGVSPKPRDVILVSKDIPEQLCDALFFYTSHNPKDYADAFAVRQKFDRSLQTGKQFKFETVCGLFLLKGVDKITPGVPAKVLKATSKLADLEDIFGVSPLARKYRELLKTACQWSLTVEALDVRAQTLDEIFDPTEILWLQVAAKIHVSSMAMRRLVGEVTAKVMDALGSNLSALFQIVKQQIARIFQKALAIFENVNELPQRIAALKMAFAKCARSITVVVVERTLVVKEFAGTCLASINGAVAKFFEELPNGFMGSKIFTTLAFFKEAAVRVVENIPNAPRGTKGFEVVGNAKGTQVVVRGMRNDLTLLDQKADIPVEPEGWSAILDGHLCYVFRSGDRFYAAPLSGNFALSDVHCCERVVCLSDGVTPEINDGLILAAIYSSFSVSELVTALKKGEPFKFLGHKFVYAKDAAVSFTLAKAATIADVLRLFQSARVIAEDVWSSFTEKSFEFWKLAYGKVRNLEEFVKTYVCKAQMSIVILAAVLGEDIWHLVSQVIYKLGVLFTKVVDFCDKHWKGFCVQLKRAKLIVTETFCVLKGVAQHCFQLLLDAIHSLYKSFKKCALGRIHGDLLFWKGGVHKIVQDGDEIWFDAIDSVDVEDLGVVQEKSIDFEVCDDVTLPENQPGHMVQIEDDGKNYMFFRFKKDENIYYTPMSQLGAINVVCKAGGKTVTFGETTVQEIPPPDVVPIKVSIECCGEPWNTIFKKAYKEPIEVDTDLTVEQLLSVIYEKMCDDLKLFPEAPEPPPFENVALVDKNGKDLDCIKSCHLIYRDYESDDDIEEEDAEECDTDSGEAEECDTNSECEEEDEDTKVLALIQDPASIKYPLPLDEDYSVYNGCIVHKDALDVVNLPSGEETFVVNNCFEGAVKPLPQKVVDVLGDWGEAVDAQEQLCQQEPLQHTFEEPVENSTGSSKTMTEQVVVEDQELPVVEQDQDVVVYTPTDLEVAKETAEEVDEFILIFAVPKEEVVSQKDGAQIKQEPIQVVKPQREKKAKKFKVKPATCEKPKFLEYKTCVGDLTVVIAKALDEFKEFCIVNAANEHMTHGSGVAKAIADFCGLDFVEYCEDYVKKHGPQQRLVTPSFVKGIQCVNNVVGPRHGDNNLHEKLVAAYKNVLVDGVVNYVVPVLSLGIFGVDFKMSIDAMREAFEGCTIRVLLFSLSQEHIDYFDVTCKQKTIYLTEDGVKYRSIVLKPGDSLGQFGQVYAKNKIVFTADDVEDKEILYVPTTDKSILEYYGLDAQKYVIYLQTLAQKWNVQYRDNFLILEWRDGNCWISSAIVLLQAAKIRFKGFLTEAWAKLLGGDPTDFVAWCYASCTAKVGDFSDANWLLANLAEHFDADYTNAFLKKRVSCNCGIKSYELRGLEACIQPVRATNLLHFKTQYSNCPTCGANNTDEVIEASLPYLLLFATDGPATVDCDEDAVGTVVFVGSTNSGHCYTQAAGQAFDNLAKDRKFGKKSPYITAMYTRFAFKNETSLPVAKQSKGKSKSVKEDVSNLATSSKASFDNLTDFEQWYDSNIYESLKVQESPDNFDKYVSFTTKEDSKLPLTLKVRGIKSVVDFRSKDGFIYKLTPDTDENSKAPVYYPVLDAISLKAIWVEGNANFVVGHPNYYSKSLHIPTFWENAENFVKMGDKIGGVTMGLWRAEHLNKPNLERIFNIAKKAIVGSSVVTTQCGKLIGKAATFIADKVGGGVVRNITDSIKGLCGITRGHFERKMSPQFLKTLMFFLFYFLKASVKSVVASYKTVLCKVVLATLLIVWFVYTSNPVMFTGIRVLDFLFEGSLCGPYKDYGKDSFDVLRYCADDFICRVCLHDKDSLHLYKHAYSVEQVYKDAASGFIFNWNWLYLVFLILFVKPVAGFVIICYCVKYLVLNSTVLQTGVCFLDWFVQTVFSHFNFMGAGFYFWLFYKIYIQVHHILYCKDVTCEVCKRVARSNRQEVSVVVGGRKQIVHVYTNSGYNFCKRHNWYCRNCDDYGHQNTFMSPEVAGELSEKLKRHVKPTAYAYHVVDEACLVDDFVNLKYKAATPGKDSASSAVKCFSVTDFLKKAVFLKEALKCEQISNDGFIVCNTQSAHALEEAKNAAIYYAQYLCKPILILDQALYEQLVVEPVSKSVIDKVCSILSSIISVDTAALNYKAGTLRDALLSITKDEEAVDMAIFCHNHDVDYTGDGFTNVIPSYGIDTGKLTPRDRGFLINADASIANLRVKNAPPVVWKFSELIKLSDSCLKYLISATVKSGVRFFITKSGAKQVIACHTQKLLVEKKAGGIVSGTFKCFKSYFKWLLIFYILFTACCSGYYYMEVSKSFVHPMYDVNSTLHVEGFKVIDKGVLREIVPEDTCFSNKFVNFDAFWGRPYDNSRNCPIVTAVIDGDGTVATGVPGFVSWVMDGVMFIHMTQTERKPWYIPTWFNREIVGYTQDSIITEGSFYTSIALFSARCLYLTASNTPQLYCFNGDNDAPGALPFGSIIPHRVYFQPNGVRLIVPQQILHTPYVVKFVSDSYCRGSVCEYTRPGYCVSLNPQWVLFNDEYTSKPGVFCGSTVRELMFSMVSTFFTGVNPNIYMQLATMFLILVVVVLIFAMVIKFQGVFKAYATTVFITMLVWVINAFILCVHSYNSVLAVILLVLYCYASLVTSRNTVIIMHCWLVFTFGLIVPTWLACCYLGFIIYMYTPLFLWCYGTTKNTRKLYDGNEFVGNYDLAAKSTFVIRGSEFVKLTNEIGDKFEAYLSAYARLKYYSGTGSEQDYLQACRAWLAYALDQYRNSGVEIVYTPPRYSIGVSRLQSGFKKLVSPSSAVEKCIVSVSYRGNNLNGLWLGDTIYCPRHVLGKFSGDQWNDVLNLANNHEFEVTTQHGVTLNVVSRRLKGAVLILQTAVANAETPKYKFIKANCGDSFTIACAYGGTVVGLYPVTMRSNGTIRASFLAGACGSVGFNIEKGVVNFFYMHHLELPNALHTGTDLMGEFYGGYVDEEVAQRVPPDNLVTNNIVAWLYAAIISVKESSFSLPKWLESTTVSVDDYNKWAGDNGFTPFSTSTAITKLSAITGVDVCKLLRTIMVKNSQWGGDPILGQYNFEDELTPESVFNQIGGVRLQSSFVRKATSWFWSRCVLACFLFVLCAIVLFTAVPLKFYVYAAVILLMAVLFISFTVKHVMAYMDTFLLPTLITVIIGVCAEVPFIYNTLISQVVIFLSQWYDPVVFDTMVPWMFLPLVLYTAFKCVQGCYMNSFNTSLLMLYQFVKLGFVIYTSSNTLTAYTEGNWELFFELVHTTVLANVSSNSLIGLFVFKCAKWMLYYCNATYLNNYVLMAVMVNCIGWLCTCYFGLYWWVNKVFGLTLGKYNFKVSVDQYRYMCLHKINPPKTVWEVFSTNILIQGIGGDRVLPIATVQAKLSDVKCTTVVLMQLLTKLNVEANSKMHVYLVELHNKILASDDVGECMDNLLGMLITLFCIDSTIDLSEYCDDILKRSTVLQSVTQEFSHIPSYAEYERAKNLYEKVLVDSKNGGVTQQELAAYRKAANIAKSVFDRDLAVQKKLDSMAERAMTTMYKEARVTDRRAKLVSSLHALLFSMLKKIDSEKLNVLFDQASSGVVPLATVPIVCSNKLTLVIPDPETWVKCVEGVHVTYSTVVWNIDTVIDADGTELHPTSTGSGLTYCISGANIAWPLKVNLTRNGHNKVDVVLQNNELMPHGVKTKACVAGVDQAHCSVESKCYYTNISGNSVVAAITSSNPNLKVASFLNEAGNQIYVDLDPPCKFGMKVGVKVEVVYLYFIKNTRSIVRGMVLGAISNVVVLQSKGHETEEVDAVGILSLCSFAVDPADTYCKYVAAGNQPLGNCVKMLTVHNGSGFAITSKPSPTPDQDSYGGASVCLYCRAHIAHPGSVGNLDGRCQFKGSFVQIPTTEKDPVGFCLRNKVCTVCQCWIGYGCQCDSLRQPKSSVQSVAGASDFDKNYLNGYGVAVRLG\n"
     ]
    }
   ],
   "source": [
    "print(profile_alignment(\"F188\", [23, 2, 6, 3784, 3928]))"
   ]
  },
  {
   "cell_type": "markdown",
   "metadata": {},
   "source": [
    "# Comparator"
   ]
  },
  {
   "cell_type": "markdown",
   "metadata": {},
   "source": [
    "*impossible cuz not same identification system*"
   ]
  },
  {
   "cell_type": "code",
   "execution_count": null,
   "metadata": {},
   "outputs": [],
   "source": [
    "import json, os \n",
    "\n",
    "vazi1_mod_trace:dict = {}\n",
    "vazi2_mod_trace:dict = {}\n",
    "\n",
    "with open(\"./vazi1_mod_trace.json\") as handle :\n",
    "    vazi1_mod_trace = json.load(handle)\n",
    "with open(\"./vazi2_mod_trace.json\") as handle :\n",
    "    vazi2_mod_trace = json.load(handle)"
   ]
  },
  {
   "cell_type": "code",
   "execution_count": null,
   "metadata": {},
   "outputs": [],
   "source": []
  },
  {
   "cell_type": "markdown",
   "metadata": {},
   "source": [
    "# "
   ]
  },
  {
   "cell_type": "markdown",
   "metadata": {},
   "source": [
    "### compare advancement"
   ]
  },
  {
   "cell_type": "code",
   "execution_count": 1,
   "metadata": {},
   "outputs": [],
   "source": [
    "import json, os \n",
    "\n",
    "vazi2_mod_trace:dict = {}\n",
    "with open(\"./vazi2_mod_trace.json\") as handle :\n",
    "    vazi2_mod_trace = json.load(handle)\n",
    "\n",
    "trace_transfer:dict = {}\n",
    "with open(\"./trace_transfer.json\") as handle:\n",
    "    trace_transfer = json.load(handle)\n",
    "\n",
    "trace_no_transfer:dict = {}\n",
    "with open(\"./trace_no_transfer.json\") as handle :\n",
    "    trace_no_transfer = json.load(handle)\n"
   ]
  },
  {
   "cell_type": "code",
   "execution_count": 2,
   "metadata": {},
   "outputs": [],
   "source": [
    "SubSeqs_id:list = []\n",
    "all_pp1a:list = [2, 24, 32, 43, 69, 269, 329, 341, 343]\n",
    "\n",
    "for modId, SubSeqs in vazi2_mod_trace.items():\n",
    "    for sseq in SubSeqs:   \n",
    "        if (not sseq[0] in SubSeqs_id) and (not sseq[1] in all_pp1a):\n",
    "            SubSeqs_id.append(sseq[0])\n",
    "\n",
    "for modId, SubSeqs in trace_transfer.items():\n",
    "    for sseq in SubSeqs:   \n",
    "        if sseq[0] in SubSeqs_id:\n",
    "            SubSeqs_id.remove(sseq[0])\n",
    "\n",
    "for modId, SubSeqs in trace_no_transfer.items():\n",
    "    for sseq in SubSeqs:   \n",
    "        if sseq[0] in SubSeqs_id:\n",
    "            SubSeqs_id.remove(sseq[0])\n",
    "\n",
    "SubSeqs_id.sort()"
   ]
  },
  {
   "cell_type": "code",
   "execution_count": 3,
   "metadata": {},
   "outputs": [
    {
     "name": "stdout",
     "output_type": "stream",
     "text": [
      "20\n",
      "[1, 5, 57, 59, 186, 188, 231, 250, 252, 253, 313, 315, 358, 360, 385, 386, 403, 405, 474, 476]\n"
     ]
    }
   ],
   "source": [
    "print(len(SubSeqs_id))\n",
    "print(SubSeqs_id)"
   ]
  },
  {
   "cell_type": "code",
   "execution_count": null,
   "metadata": {},
   "outputs": [],
   "source": []
  },
  {
   "cell_type": "markdown",
   "metadata": {},
   "source": [
    "# Parsing .m8 into graph\n",
    "### Step 1: Parse the .m8 file"
   ]
  },
  {
   "cell_type": "code",
   "execution_count": null,
   "metadata": {},
   "outputs": [],
   "source": []
  }
 ],
 "metadata": {
  "kernelspec": {
   "display_name": "Python 3",
   "language": "python",
   "name": "python3"
  },
  "language_info": {
   "codemirror_mode": {
    "name": "ipython",
    "version": 3
   },
   "file_extension": ".py",
   "mimetype": "text/x-python",
   "name": "python",
   "nbconvert_exporter": "python",
   "pygments_lexer": "ipython3",
   "version": "3.10.12"
  }
 },
 "nbformat": 4,
 "nbformat_minor": 2
}
