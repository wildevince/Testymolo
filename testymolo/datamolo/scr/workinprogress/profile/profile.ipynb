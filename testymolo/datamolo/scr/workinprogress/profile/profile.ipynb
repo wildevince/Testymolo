{
 "cells": [
  {
   "cell_type": "code",
   "execution_count": 5,
   "metadata": {},
   "outputs": [],
   "source": [
    "import os\n",
    "from Bio import Entrez\n",
    "import json"
   ]
  },
  {
   "cell_type": "code",
   "execution_count": 6,
   "metadata": {},
   "outputs": [],
   "source": [
    "vazy2_path:str = \"./../../../../testymolo/media/data/\"\n",
    "vazy2_list:list = [ 'Modulo', 'Profile', 'Organism', 'PolyProtein', 'Protein', 'Subseq', ]\n",
    "vazy2:dict= {}\n",
    "\n",
    "def Load(param:str) -> list:\n",
    "    fileName:str = os.path.join(vazy2_path, param+'.temp.json')\n",
    "    with open(fileName) as handle:\n",
    "        return json.load(handle)\n",
    "for tabName in vazy2_list:\n",
    "    vazy2[tabName] = Load(tabName)"
   ]
  },
  {
   "cell_type": "markdown",
   "metadata": {},
   "source": [
    "### trace"
   ]
  },
  {
   "cell_type": "code",
   "execution_count": 6,
   "metadata": {},
   "outputs": [],
   "source": [
    "trace:dict = {}\n",
    "for profile in vazy2['Profile']:\n",
    "    k = profile['id']\n",
    "    modId = profile['modulo']\n",
    "    if modId.startswith('F'):\n",
    "        trace[modId] =  []\n",
    "        #filter\n",
    "        for subSeq in vazy2['Subseq']:\n",
    "            if subSeq['profile'] == k:\n",
    "                trace[modId].append((subSeq['id'], subSeq['origin'], subSeq['profile'], subSeq['start'], subSeq['end']))\n",
    "trace\n",
    "with open(\"./vazi2_mod_trace.json\", 'w') as out :\n",
    "    out.write(json.dumps(trace))"
   ]
  },
  {
   "cell_type": "markdown",
   "metadata": {},
   "source": [
    "# Extract profile fasta"
   ]
  },
  {
   "cell_type": "code",
   "execution_count": 7,
   "metadata": {},
   "outputs": [],
   "source": [
    "for mod, SubSeqs in trace.items():\n",
    "    fasta:list = []\n",
    "    for ss in SubSeqs:\n",
    "        #filter\n",
    "        for item in vazy2['Protein']:\n",
    "            if item['id'] == ss[1]:\n",
    "                header:str = '>'+item['header']+f\":[{ss[-2]}-{ss[-1]}]\\n\"\n",
    "                sequence:str = item['sequence'][ss[-2]-1:ss[-1]-1]+'\\n'\n",
    "                fasta.append(header+sequence)\n",
    "                break\n",
    "    #endfor\n",
    "    with open(f\"./fasta/{mod}.fasta\", 'w') as out:\n",
    "        out.write(''.join(fasta))\n",
    "        "
   ]
  },
  {
   "cell_type": "markdown",
   "metadata": {},
   "source": [
    "### Alignment fasta"
   ]
  },
  {
   "cell_type": "code",
   "execution_count": 21,
   "metadata": {},
   "outputs": [
    {
     "name": "stdout",
     "output_type": "stream",
     "text": [
      "muscle -in ./fasta/F191.fasta -out ./aln/F191.aln.fasta -quiet\n"
     ]
    }
   ],
   "source": [
    "from Bio.Align.Applications import MuscleCommandline\n",
    "import subprocess \n",
    "\n",
    "for file in os.listdir(\"./fasta\"):\n",
    "    #print(file)\n",
    "    inFile:str = os.path.join(\"./fasta\", file)\n",
    "    out:str = os.path.join('./aln', file.split(\".fasta\")[0]+'.aln'+'.fasta')\n",
    "    \n",
    "    command:str = f\"muscle -in {inFile} -out {out} -quiet\"\n",
    "    print(command)  # adding \"-quiet\" option ... doen't work in v3.8 ?! (but does in v5.)\n",
    "    subprocess.Popen(command.split(' '), stdout=subprocess.DEVNULL)  # command must be a list of words\n",
    "\n"
   ]
  },
  {
   "cell_type": "markdown",
   "metadata": {},
   "source": [
    "### transfer  "
   ]
  },
  {
   "cell_type": "markdown",
   "metadata": {},
   "source": [
    "* *foreach PP -> Map les nsp  =>  vazy2[\"PolyProtein\"]*"
   ]
  },
  {
   "cell_type": "markdown",
   "metadata": {},
   "source": [
    "* *foreach subseq -> find the nsp that fits best* \\\n",
    "    1. indices comparison (auto)"
   ]
  },
  {
   "cell_type": "code",
   "execution_count": 99,
   "metadata": {},
   "outputs": [],
   "source": [
    "def filter(tab:list, **kwargs) -> list:\n",
    "    res:list = []\n",
    "    for item in tab:\n",
    "        params = [item[key] == value for key, value in kwargs.items()]\n",
    "        #print(params)\n",
    "        if all(params):\n",
    "            res.append(item)\n",
    "            #print(item)\n",
    "            pass\n",
    "        elif any(params):\n",
    "            #print(item)\n",
    "            pass\n",
    "    return res"
   ]
  },
  {
   "cell_type": "code",
   "execution_count": 100,
   "metadata": {},
   "outputs": [],
   "source": [
    "def indices_comparison(hits:list, **positions):\n",
    "    result:list = []\n",
    "    for hit in hits:\n",
    "        bools = [hit[key] in interval(value) for key, value in positions.items()]\n",
    "        #bools = [positions['start'] >= hit['start']-1 , positions['end'] <= hit['end']+1]\n",
    "        #print(bools)\n",
    "        if all(bools):\n",
    "            result.append(hit)\n",
    "        elif all([positions['start'] >= hit['start']-1 , positions['end'] <= hit['end']+1]):\n",
    "            result.append(hit)\n",
    "    return result"
   ]
  },
  {
   "cell_type": "code",
   "execution_count": 101,
   "metadata": {},
   "outputs": [
    {
     "name": "stdout",
     "output_type": "stream",
     "text": [
      "[{'PP': 1, 'protein': 80, 'index': 2, 'start': 674, 'end': 2779}]\n",
      "[{'PP': 1, 'protein': 87, 'index': 9, 'start': 3929, 'end': 4868}]\n"
     ]
    }
   ],
   "source": [
    "list_ex = [\n",
    "{\"PP\": 1, \"protein\": 79, \"index\": 1, \"start\": 1, \"end\": 673},\n",
    "{\"PP\": 1, \"protein\": 80, \"index\": 2, \"start\": 674, \"end\": 2779},\n",
    "{\"PP\": 1, \"protein\": 81, \"index\": 3, \"start\": 2780, \"end\": 3086},\n",
    "{\"PP\": 1, \"protein\": 82, \"index\": 4, \"start\": 3087, \"end\": 3379},\n",
    "{\"PP\": 1, \"protein\": 83, \"index\": 5, \"start\": 3380, \"end\": 3462},\n",
    "{\"PP\": 1, \"protein\": 84, \"index\": 6, \"start\": 3463, \"end\": 3672},\n",
    "{\"PP\": 1, \"protein\": 85, \"index\": 7, \"start\": 3673, \"end\": 3783},\n",
    "{\"PP\": 1, \"protein\": 86, \"index\": 8, \"start\": 3784, \"end\": 3928},\n",
    "{\"PP\": 1, \"protein\": 87, \"index\": 9, \"start\": 3929, \"end\": 4868},\n",
    "{\"PP\": 1, \"protein\": 88, \"index\": 10, \"start\": 4869, \"end\": 5468},\n",
    "{\"PP\": 1, \"protein\": 89, \"index\": 11, \"start\": 5469, \"end\": 5989},\n",
    "{\"PP\": 1, \"protein\": 90, \"index\": 12, \"start\": 5990, \"end\": 6327},\n",
    "{\"PP\": 1, \"protein\": 91, \"index\": 13, \"start\": 6328, \"end\": 6629},]\n",
    "print(indices_comparison(list_ex, start=2298, end=2779))\n",
    "print(indices_comparison(list_ex, start=3929, end=4868))"
   ]
  },
  {
   "cell_type": "code",
   "execution_count": 102,
   "metadata": {},
   "outputs": [],
   "source": [
    "def interval(val:int, t:int=1):\n",
    "    return range(val-t,val+t)"
   ]
  },
  {
   "cell_type": "code",
   "execution_count": 103,
   "metadata": {},
   "outputs": [],
   "source": [
    "trace_transfer:dict = {}\n",
    "#trace_no_nsp:dict = {}\n",
    "trace_mlt_hit:dict = {}\n",
    "trace_no_transfer:dict = {}\n",
    "\n",
    "for modId, SubSeqs in vazi2_mod_trace.items():\n",
    "    #print(\"modulo :\", modId, sep='\\t')\n",
    "    trace_transfer[modId] = []\n",
    "    for sseq in SubSeqs:\n",
    "        #print(\"subseq :\", sseq)\n",
    "        items_filtered:list = filter(vazy2['PolyProtein'], PP=sseq[1])\n",
    "        # filter management\n",
    "        #\n",
    "        #if len(items_filtered) < 1:\n",
    "        #    if not modId in trace_no_nsp:\n",
    "        #        trace_no_nsp[modId] = []\n",
    "        #    sseq.append(False)\n",
    "        #    trace_no_nsp[modId].append(sseq)    \n",
    "        #    #print(\"no NSP for:\", modId, sseq)\n",
    "        #    break\n",
    "\n",
    "        hits:list = indices_comparison(items_filtered, start=sseq[3], end=sseq[4])\n",
    "        #print(*hits, sep='\\n')\n",
    "\n",
    "        # hit management\n",
    "        if len(hits) > 1:\n",
    "            \"\"\"if not modId in trace_mlt_hit:\n",
    "                trace_mlt_hit[modId] = []\n",
    "            sseq.append(False)\n",
    "            trace_mlt_hit[modId].append(sseq)\n",
    "            #print(\"multiple hits\", modId, sseq)\"\"\"\n",
    "            break\n",
    "        elif len(hits) < 1:\n",
    "            #print(\"no hit:\", modId, sseq)\n",
    "            if not modId in trace_no_transfer:\n",
    "                trace_no_transfer[modId] = []\n",
    "            trace_no_transfer[modId].append(sseq)\n",
    "            break\n",
    "        ##\n",
    "        \n",
    "        trace_transfer[modId].append((sseq[0], hits[0][\"protein\"], sseq[2], hits[0][\"start\"], hits[0][\"end\"]))\n",
    "        \n",
    "            \n",
    "\n",
    "        #break\n",
    "        #endfor\n",
    "\n",
    "    #break \n",
    "    #endfor\n",
    "\n"
   ]
  },
  {
   "cell_type": "code",
   "execution_count": 104,
   "metadata": {},
   "outputs": [],
   "source": [
    "with open(\"./trace_transfer.json\", 'w') as out :\n",
    "    out.write(json.dumps(trace_transfer))\n",
    "    \n",
    "#with open(\"./trace_no_nsp.json\", 'w') as out :\n",
    "#    out.write(json.dumps(trace_no_nsp))\n",
    "    \n",
    "#with open(\"./trace_mlt_hit.json\", 'w') as out :\n",
    "#    out.write(json.dumps(trace_mlt_hit))\n",
    "\n",
    "with open(\"./trace_no_transfer.json\", 'w') as out :\n",
    "    out.write(json.dumps(trace_no_transfer))\n"
   ]
  },
  {
   "cell_type": "markdown",
   "metadata": {},
   "source": [
    "### alignment profile .vs. PP"
   ]
  },
  {
   "cell_type": "code",
   "execution_count": 48,
   "metadata": {},
   "outputs": [],
   "source": [
    "def profile_alignment(modId, sseq):\n",
    "    # profile\n",
    "    fasta_path:str = \"./aln/\"+modId+'.aln.fasta'\n",
    "    # input protein\n",
    "    #with open(\"./sequence_input.fasta\", 'w') as inFile:\n",
    "    for protein in vazy2['Protein']:\n",
    "        if protein['id'] == sseq[1]:\n",
    "            text:str = \">\"+protein['header']+\"\\n\"+protein['sequence']\n",
    "            #inFile.write('>'+protein['header']+'\\n'+protein['sequence'])\n",
    "            #command:str = f\"muscle -in {filepath} -out {out_filepath} -quiet\"\n",
    "            return text\n",
    "\n"
   ]
  },
  {
   "cell_type": "code",
   "execution_count": 50,
   "metadata": {},
   "outputs": [
    {
     "name": "stdout",
     "output_type": "stream",
     "text": [
      ">ORF1a_polyprotein__(@474)\n",
      "MASSLKQGVSPKPRDVILVSKDIPEQLCDALFFYTSHNPKDYADAFAVRQKFDRSLQTGKQFKFETVCGLFLLKGVDKITPGVPAKVLKATSKLADLEDIFGVSPLARKYRELLKTACQWSLTVEALDVRAQTLDEIFDPTEILWLQVAAKIHVSSMAMRRLVGEVTAKVMDALGSNLSALFQIVKQQIARIFQKALAIFENVNELPQRIAALKMAFAKCARSITVVVVERTLVVKEFAGTCLASINGAVAKFFEELPNGFMGSKIFTTLAFFKEAAVRVVENIPNAPRGTKGFEVVGNAKGTQVVVRGMRNDLTLLDQKADIPVEPEGWSAILDGHLCYVFRSGDRFYAAPLSGNFALSDVHCCERVVCLSDGVTPEINDGLILAAIYSSFSVSELVTALKKGEPFKFLGHKFVYAKDAAVSFTLAKAATIADVLRLFQSARVIAEDVWSSFTEKSFEFWKLAYGKVRNLEEFVKTYVCKAQMSIVILAAVLGEDIWHLVSQVIYKLGVLFTKVVDFCDKHWKGFCVQLKRAKLIVTETFCVLKGVAQHCFQLLLDAIHSLYKSFKKCALGRIHGDLLFWKGGVHKIVQDGDEIWFDAIDSVDVEDLGVVQEKSIDFEVCDDVTLPENQPGHMVQIEDDGKNYMFFRFKKDENIYYTPMSQLGAINVVCKAGGKTVTFGETTVQEIPPPDVVPIKVSIECCGEPWNTIFKKAYKEPIEVDTDLTVEQLLSVIYEKMCDDLKLFPEAPEPPPFENVALVDKNGKDLDCIKSCHLIYRDYESDDDIEEEDAEECDTDSGEAEECDTNSECEEEDEDTKVLALIQDPASIKYPLPLDEDYSVYNGCIVHKDALDVVNLPSGEETFVVNNCFEGAVKPLPQKVVDVLGDWGEAVDAQEQLCQQEPLQHTFEEPVENSTGSSKTMTEQVVVEDQELPVVEQDQDVVVYTPTDLEVAKETAEEVDEFILIFAVPKEEVVSQKDGAQIKQEPIQVVKPQREKKAKKFKVKPATCEKPKFLEYKTCVGDLTVVIAKALDEFKEFCIVNAANEHMTHGSGVAKAIADFCGLDFVEYCEDYVKKHGPQQRLVTPSFVKGIQCVNNVVGPRHGDNNLHEKLVAAYKNVLVDGVVNYVVPVLSLGIFGVDFKMSIDAMREAFEGCTIRVLLFSLSQEHIDYFDVTCKQKTIYLTEDGVKYRSIVLKPGDSLGQFGQVYAKNKIVFTADDVEDKEILYVPTTDKSILEYYGLDAQKYVIYLQTLAQKWNVQYRDNFLILEWRDGNCWISSAIVLLQAAKIRFKGFLTEAWAKLLGGDPTDFVAWCYASCTAKVGDFSDANWLLANLAEHFDADYTNAFLKKRVSCNCGIKSYELRGLEACIQPVRATNLLHFKTQYSNCPTCGANNTDEVIEASLPYLLLFATDGPATVDCDEDAVGTVVFVGSTNSGHCYTQAAGQAFDNLAKDRKFGKKSPYITAMYTRFAFKNETSLPVAKQSKGKSKSVKEDVSNLATSSKASFDNLTDFEQWYDSNIYESLKVQESPDNFDKYVSFTTKEDSKLPLTLKVRGIKSVVDFRSKDGFIYKLTPDTDENSKAPVYYPVLDAISLKAIWVEGNANFVVGHPNYYSKSLHIPTFWENAENFVKMGDKIGGVTMGLWRAEHLNKPNLERIFNIAKKAIVGSSVVTTQCGKLIGKAATFIADKVGGGVVRNITDSIKGLCGITRGHFERKMSPQFLKTLMFFLFYFLKASVKSVVASYKTVLCKVVLATLLIVWFVYTSNPVMFTGIRVLDFLFEGSLCGPYKDYGKDSFDVLRYCADDFICRVCLHDKDSLHLYKHAYSVEQVYKDAASGFIFNWNWLYLVFLILFVKPVAGFVIICYCVKYLVLNSTVLQTGVCFLDWFVQTVFSHFNFMGAGFYFWLFYKIYIQVHHILYCKDVTCEVCKRVARSNRQEVSVVVGGRKQIVHVYTNSGYNFCKRHNWYCRNCDDYGHQNTFMSPEVAGELSEKLKRHVKPTAYAYHVVDEACLVDDFVNLKYKAATPGKDSASSAVKCFSVTDFLKKAVFLKEALKCEQISNDGFIVCNTQSAHALEEAKNAAIYYAQYLCKPILILDQALYEQLVVEPVSKSVIDKVCSILSSIISVDTAALNYKAGTLRDALLSITKDEEAVDMAIFCHNHDVDYTGDGFTNVIPSYGIDTGKLTPRDRGFLINADASIANLRVKNAPPVVWKFSELIKLSDSCLKYLISATVKSGVRFFITKSGAKQVIACHTQKLLVEKKAGGIVSGTFKCFKSYFKWLLIFYILFTACCSGYYYMEVSKSFVHPMYDVNSTLHVEGFKVIDKGVLREIVPEDTCFSNKFVNFDAFWGRPYDNSRNCPIVTAVIDGDGTVATGVPGFVSWVMDGVMFIHMTQTERKPWYIPTWFNREIVGYTQDSIITEGSFYTSIALFSARCLYLTASNTPQLYCFNGDNDAPGALPFGSIIPHRVYFQPNGVRLIVPQQILHTPYVVKFVSDSYCRGSVCEYTRPGYCVSLNPQWVLFNDEYTSKPGVFCGSTVRELMFSMVSTFFTGVNPNIYMQLATMFLILVVVVLIFAMVIKFQGVFKAYATTVFITMLVWVINAFILCVHSYNSVLAVILLVLYCYASLVTSRNTVIIMHCWLVFTFGLIVPTWLACCYLGFIIYMYTPLFLWCYGTTKNTRKLYDGNEFVGNYDLAAKSTFVIRGSEFVKLTNEIGDKFEAYLSAYARLKYYSGTGSEQDYLQACRAWLAYALDQYRNSGVEIVYTPPRYSIGVSRLQSGFKKLVSPSSAVEKCIVSVSYRGNNLNGLWLGDTIYCPRHVLGKFSGDQWNDVLNLANNHEFEVTTQHGVTLNVVSRRLKGAVLILQTAVANAETPKYKFIKANCGDSFTIACAYGGTVVGLYPVTMRSNGTIRASFLAGACGSVGFNIEKGVVNFFYMHHLELPNALHTGTDLMGEFYGGYVDEEVAQRVPPDNLVTNNIVAWLYAAIISVKESSFSLPKWLESTTVSVDDYNKWAGDNGFTPFSTSTAITKLSAITGVDVCKLLRTIMVKNSQWGGDPILGQYNFEDELTPESVFNQIGGVRLQSSFVRKATSWFWSRCVLACFLFVLCAIVLFTAVPLKFYVYAAVILLMAVLFISFTVKHVMAYMDTFLLPTLITVIIGVCAEVPFIYNTLISQVVIFLSQWYDPVVFDTMVPWMFLPLVLYTAFKCVQGCYMNSFNTSLLMLYQFVKLGFVIYTSSNTLTAYTEGNWELFFELVHTTVLANVSSNSLIGLFVFKCAKWMLYYCNATYLNNYVLMAVMVNCIGWLCTCYFGLYWWVNKVFGLTLGKYNFKVSVDQYRYMCLHKINPPKTVWEVFSTNILIQGIGGDRVLPIATVQAKLSDVKCTTVVLMQLLTKLNVEANSKMHVYLVELHNKILASDDVGECMDNLLGMLITLFCIDSTIDLSEYCDDILKRSTVLQSVTQEFSHIPSYAEYERAKNLYEKVLVDSKNGGVTQQELAAYRKAANIAKSVFDRDLAVQKKLDSMAERAMTTMYKEARVTDRRAKLVSSLHALLFSMLKKIDSEKLNVLFDQASSGVVPLATVPIVCSNKLTLVIPDPETWVKCVEGVHVTYSTVVWNIDTVIDADGTELHPTSTGSGLTYCISGANIAWPLKVNLTRNGHNKVDVVLQNNELMPHGVKTKACVAGVDQAHCSVESKCYYTNISGNSVVAAITSSNPNLKVASFLNEAGNQIYVDLDPPCKFGMKVGVKVEVVYLYFIKNTRSIVRGMVLGAISNVVVLQSKGHETEEVDAVGILSLCSFAVDPADTYCKYVAAGNQPLGNCVKMLTVHNGSGFAITSKPSPTPDQDSYGGASVCLYCRAHIAHPGSVGNLDGRCQFKGSFVQIPTTEKDPVGFCLRNKVCTVCQCWIGYGCQCDSLRQPKSSVQSVAGASDFDKNYLNGYGVAVRLG\n"
     ]
    }
   ],
   "source": [
    "print(profile_alignment(\"F188\", [23, 2, 6, 3784, 3928]))"
   ]
  },
  {
   "cell_type": "markdown",
   "metadata": {},
   "source": [
    "# Comparator"
   ]
  },
  {
   "cell_type": "markdown",
   "metadata": {},
   "source": [
    "*impossible cuz not same identification system*"
   ]
  },
  {
   "cell_type": "code",
   "execution_count": 98,
   "metadata": {},
   "outputs": [],
   "source": [
    "import json, os \n",
    "\n",
    "vazi1_mod_trace:dict = {}\n",
    "vazi2_mod_trace:dict = {}\n",
    "\n",
    "with open(\"./vazi1_mod_trace.json\") as handle :\n",
    "    vazi1_mod_trace = json.load(handle)\n",
    "with open(\"./vazi2_mod_trace.json\") as handle :\n",
    "    vazi2_mod_trace = json.load(handle)"
   ]
  },
  {
   "cell_type": "code",
   "execution_count": null,
   "metadata": {},
   "outputs": [],
   "source": []
  },
  {
   "cell_type": "markdown",
   "metadata": {},
   "source": [
    "# "
   ]
  }
 ],
 "metadata": {
  "kernelspec": {
   "display_name": "Python 3",
   "language": "python",
   "name": "python3"
  },
  "language_info": {
   "codemirror_mode": {
    "name": "ipython",
    "version": 3
   },
   "file_extension": ".py",
   "mimetype": "text/x-python",
   "name": "python",
   "nbconvert_exporter": "python",
   "pygments_lexer": "ipython3",
   "version": "3.10.12"
  }
 },
 "nbformat": 4,
 "nbformat_minor": 2
}
