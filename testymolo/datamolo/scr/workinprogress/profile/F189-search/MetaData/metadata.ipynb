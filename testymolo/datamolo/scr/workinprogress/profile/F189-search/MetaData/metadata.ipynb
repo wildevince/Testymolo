{
 "cells": [
  {
   "cell_type": "code",
   "execution_count": 3,
   "metadata": {},
   "outputs": [],
   "source": [
    "import pandas as pd\n",
    "\n",
    "# Load the .m8 file into a pandas DataFrame\n",
    "m8_file_path = \"../alnResult.m8\"\n",
    "columns = [\n",
    "    'query', 'subject', 'percentage_identity', 'alignment_length',\n",
    "    'mismatches', 'gap_opens', 'query_start', 'query_end', \n",
    "    'subject_start', 'subject_end', 'e_value', 'bit_score'\n",
    "]\n",
    "m8_df = pd.read_csv(m8_file_path, sep='\\t', names=columns)\n",
    "\n",
    "# Extract unique sequence identifiers\n",
    "sequence_ids = set(m8_df['query']).union(set(m8_df['subject']))"
   ]
  },
  {
   "cell_type": "code",
   "execution_count": 15,
   "metadata": {},
   "outputs": [
    {
     "name": "stdout",
     "output_type": "stream",
     "text": [
      "99\n",
      "['F189.87.322.nsp9.[1-940]', 'F189.23.58..[4069-4995]', 'F189.264.339.nsp12.[1-931]', 'F189.50.194..[4101-5027]', 'F189.68.286.pp1ab.[4370-5301]', 'F189.31.102.pp1ab.[4457-5384]', 'F189.56.238..[4370-5297]', 'F189.42.149..[3999-4928]']\n"
     ]
    }
   ],
   "source": [
    "### removing redundancy \n",
    "\n",
    "#print(len(sequence_ids) )\n",
    "#print([ids for ids in sequence_ids if ids.startswith('F189')] ) \n",
    "\n",
    "originals = [  #ignored\n",
    "    ['F189.87.322.nsp9.1-940','nsp9 (RdRp)','AIBV-Beaudette'],\n",
    "    ['F189.23.58..4069-4995','ORF1ab polyprotein','HCoV-229E'],\n",
    "    ['F189.264.339.nsp12.1-931','nsp12','SARS-CoV-2'],\n",
    "    ['F189.68.286.pp1ab.4370-5301','pp1ab','SARS-TOR2'],\n",
    "    ['F189.31.102.pp1ab.4457-5384','pp1ab','MHV-A59'],\n",
    "    ['F189.50.194..4101-5027','polyprotein','PEDV-CV777'],\n",
    "    ['F189.56.238..4370-5297','polyprotein 1ab','HCoV-OC43'],\n",
    "    ['F189.42.149..3999-4928','ORF1ab polyprotein','TGV-Purdue']\n",
    "]"
   ]
  },
  {
   "cell_type": "code",
   "execution_count": 6,
   "metadata": {},
   "outputs": [],
   "source": [
    "from Bio import SeqIO, Entrez\n",
    "\n",
    "Entrez.email = \"your.email@example.com\"\n",
    "\n",
    "\n",
    "def fetch_metadata(seq_id):\n",
    "    try:\n",
    "        # Bio.Entrez fetching \n",
    "        handle = Entrez.efetch(db=\"protein\", id=seq_id, rettype=\"gb\", retmode=\"text\")\n",
    "        record = handle.read()\n",
    "        handle.close()\n",
    "\n",
    "        # parsing Genbank record\n",
    "        for line in record.splitlines():\n",
    "            if line.startswith(\"  ORGANISM  \"):\n",
    "                organism = line.split(\"  ORGANISM  \")[1].strip()\n",
    "            elif line.startswith(\"DEFINITION\"):\n",
    "                protein = line.split(\"DEFINITION  \")[1].strip()\n",
    "        \n",
    "        return protein, organism\n",
    "    except Exception as e:\n",
    "        print(f\"Error fetching data for {seq_id}: {e}\")\n",
    "        return None, None"
   ]
  },
  {
   "cell_type": "code",
   "execution_count": 7,
   "metadata": {},
   "outputs": [
    {
     "name": "stderr",
     "output_type": "stream",
     "text": [
      "/tmp/ipykernel_4156678/1517590194.py:8: FutureWarning: The frame.append method is deprecated and will be removed from pandas in a future version. Use pandas.concat instead.\n",
      "  results = results.append({'sequence_id': seq_id, 'protein_name': protein, 'organism_name': organism}, ignore_index=True)\n",
      "/tmp/ipykernel_4156678/1517590194.py:8: FutureWarning: The frame.append method is deprecated and will be removed from pandas in a future version. Use pandas.concat instead.\n",
      "  results = results.append({'sequence_id': seq_id, 'protein_name': protein, 'organism_name': organism}, ignore_index=True)\n",
      "/tmp/ipykernel_4156678/1517590194.py:8: FutureWarning: The frame.append method is deprecated and will be removed from pandas in a future version. Use pandas.concat instead.\n",
      "  results = results.append({'sequence_id': seq_id, 'protein_name': protein, 'organism_name': organism}, ignore_index=True)\n",
      "/tmp/ipykernel_4156678/1517590194.py:8: FutureWarning: The frame.append method is deprecated and will be removed from pandas in a future version. Use pandas.concat instead.\n",
      "  results = results.append({'sequence_id': seq_id, 'protein_name': protein, 'organism_name': organism}, ignore_index=True)\n",
      "/tmp/ipykernel_4156678/1517590194.py:8: FutureWarning: The frame.append method is deprecated and will be removed from pandas in a future version. Use pandas.concat instead.\n",
      "  results = results.append({'sequence_id': seq_id, 'protein_name': protein, 'organism_name': organism}, ignore_index=True)\n",
      "/tmp/ipykernel_4156678/1517590194.py:8: FutureWarning: The frame.append method is deprecated and will be removed from pandas in a future version. Use pandas.concat instead.\n",
      "  results = results.append({'sequence_id': seq_id, 'protein_name': protein, 'organism_name': organism}, ignore_index=True)\n",
      "/tmp/ipykernel_4156678/1517590194.py:8: FutureWarning: The frame.append method is deprecated and will be removed from pandas in a future version. Use pandas.concat instead.\n",
      "  results = results.append({'sequence_id': seq_id, 'protein_name': protein, 'organism_name': organism}, ignore_index=True)\n",
      "/tmp/ipykernel_4156678/1517590194.py:8: FutureWarning: The frame.append method is deprecated and will be removed from pandas in a future version. Use pandas.concat instead.\n",
      "  results = results.append({'sequence_id': seq_id, 'protein_name': protein, 'organism_name': organism}, ignore_index=True)\n",
      "/tmp/ipykernel_4156678/1517590194.py:8: FutureWarning: The frame.append method is deprecated and will be removed from pandas in a future version. Use pandas.concat instead.\n",
      "  results = results.append({'sequence_id': seq_id, 'protein_name': protein, 'organism_name': organism}, ignore_index=True)\n",
      "/tmp/ipykernel_4156678/1517590194.py:8: FutureWarning: The frame.append method is deprecated and will be removed from pandas in a future version. Use pandas.concat instead.\n",
      "  results = results.append({'sequence_id': seq_id, 'protein_name': protein, 'organism_name': organism}, ignore_index=True)\n"
     ]
    },
    {
     "name": "stdout",
     "output_type": "stream",
     "text": [
      "Error fetching data for F189.87.322.nsp9.[1-940]: HTTP Error 400: Bad Request\n",
      "Error fetching data for F189.23.58..[4069-4995]: HTTP Error 400: Bad Request\n"
     ]
    },
    {
     "name": "stderr",
     "output_type": "stream",
     "text": [
      "/tmp/ipykernel_4156678/1517590194.py:8: FutureWarning: The frame.append method is deprecated and will be removed from pandas in a future version. Use pandas.concat instead.\n",
      "  results = results.append({'sequence_id': seq_id, 'protein_name': protein, 'organism_name': organism}, ignore_index=True)\n",
      "/tmp/ipykernel_4156678/1517590194.py:8: FutureWarning: The frame.append method is deprecated and will be removed from pandas in a future version. Use pandas.concat instead.\n",
      "  results = results.append({'sequence_id': seq_id, 'protein_name': protein, 'organism_name': organism}, ignore_index=True)\n",
      "/tmp/ipykernel_4156678/1517590194.py:8: FutureWarning: The frame.append method is deprecated and will be removed from pandas in a future version. Use pandas.concat instead.\n",
      "  results = results.append({'sequence_id': seq_id, 'protein_name': protein, 'organism_name': organism}, ignore_index=True)\n",
      "/tmp/ipykernel_4156678/1517590194.py:8: FutureWarning: The frame.append method is deprecated and will be removed from pandas in a future version. Use pandas.concat instead.\n",
      "  results = results.append({'sequence_id': seq_id, 'protein_name': protein, 'organism_name': organism}, ignore_index=True)\n",
      "/tmp/ipykernel_4156678/1517590194.py:8: FutureWarning: The frame.append method is deprecated and will be removed from pandas in a future version. Use pandas.concat instead.\n",
      "  results = results.append({'sequence_id': seq_id, 'protein_name': protein, 'organism_name': organism}, ignore_index=True)\n",
      "/tmp/ipykernel_4156678/1517590194.py:8: FutureWarning: The frame.append method is deprecated and will be removed from pandas in a future version. Use pandas.concat instead.\n",
      "  results = results.append({'sequence_id': seq_id, 'protein_name': protein, 'organism_name': organism}, ignore_index=True)\n",
      "/tmp/ipykernel_4156678/1517590194.py:8: FutureWarning: The frame.append method is deprecated and will be removed from pandas in a future version. Use pandas.concat instead.\n",
      "  results = results.append({'sequence_id': seq_id, 'protein_name': protein, 'organism_name': organism}, ignore_index=True)\n",
      "/tmp/ipykernel_4156678/1517590194.py:8: FutureWarning: The frame.append method is deprecated and will be removed from pandas in a future version. Use pandas.concat instead.\n",
      "  results = results.append({'sequence_id': seq_id, 'protein_name': protein, 'organism_name': organism}, ignore_index=True)\n",
      "/tmp/ipykernel_4156678/1517590194.py:8: FutureWarning: The frame.append method is deprecated and will be removed from pandas in a future version. Use pandas.concat instead.\n",
      "  results = results.append({'sequence_id': seq_id, 'protein_name': protein, 'organism_name': organism}, ignore_index=True)\n",
      "/tmp/ipykernel_4156678/1517590194.py:8: FutureWarning: The frame.append method is deprecated and will be removed from pandas in a future version. Use pandas.concat instead.\n",
      "  results = results.append({'sequence_id': seq_id, 'protein_name': protein, 'organism_name': organism}, ignore_index=True)\n",
      "/tmp/ipykernel_4156678/1517590194.py:8: FutureWarning: The frame.append method is deprecated and will be removed from pandas in a future version. Use pandas.concat instead.\n",
      "  results = results.append({'sequence_id': seq_id, 'protein_name': protein, 'organism_name': organism}, ignore_index=True)\n",
      "/tmp/ipykernel_4156678/1517590194.py:8: FutureWarning: The frame.append method is deprecated and will be removed from pandas in a future version. Use pandas.concat instead.\n",
      "  results = results.append({'sequence_id': seq_id, 'protein_name': protein, 'organism_name': organism}, ignore_index=True)\n",
      "/tmp/ipykernel_4156678/1517590194.py:8: FutureWarning: The frame.append method is deprecated and will be removed from pandas in a future version. Use pandas.concat instead.\n",
      "  results = results.append({'sequence_id': seq_id, 'protein_name': protein, 'organism_name': organism}, ignore_index=True)\n",
      "/tmp/ipykernel_4156678/1517590194.py:8: FutureWarning: The frame.append method is deprecated and will be removed from pandas in a future version. Use pandas.concat instead.\n",
      "  results = results.append({'sequence_id': seq_id, 'protein_name': protein, 'organism_name': organism}, ignore_index=True)\n",
      "/tmp/ipykernel_4156678/1517590194.py:8: FutureWarning: The frame.append method is deprecated and will be removed from pandas in a future version. Use pandas.concat instead.\n",
      "  results = results.append({'sequence_id': seq_id, 'protein_name': protein, 'organism_name': organism}, ignore_index=True)\n",
      "/tmp/ipykernel_4156678/1517590194.py:8: FutureWarning: The frame.append method is deprecated and will be removed from pandas in a future version. Use pandas.concat instead.\n",
      "  results = results.append({'sequence_id': seq_id, 'protein_name': protein, 'organism_name': organism}, ignore_index=True)\n",
      "/tmp/ipykernel_4156678/1517590194.py:8: FutureWarning: The frame.append method is deprecated and will be removed from pandas in a future version. Use pandas.concat instead.\n",
      "  results = results.append({'sequence_id': seq_id, 'protein_name': protein, 'organism_name': organism}, ignore_index=True)\n",
      "/tmp/ipykernel_4156678/1517590194.py:8: FutureWarning: The frame.append method is deprecated and will be removed from pandas in a future version. Use pandas.concat instead.\n",
      "  results = results.append({'sequence_id': seq_id, 'protein_name': protein, 'organism_name': organism}, ignore_index=True)\n",
      "/tmp/ipykernel_4156678/1517590194.py:8: FutureWarning: The frame.append method is deprecated and will be removed from pandas in a future version. Use pandas.concat instead.\n",
      "  results = results.append({'sequence_id': seq_id, 'protein_name': protein, 'organism_name': organism}, ignore_index=True)\n"
     ]
    },
    {
     "name": "stdout",
     "output_type": "stream",
     "text": [
      "Error fetching data for F189.264.339.nsp12.[1-931]: HTTP Error 400: Bad Request\n"
     ]
    },
    {
     "name": "stderr",
     "output_type": "stream",
     "text": [
      "/tmp/ipykernel_4156678/1517590194.py:8: FutureWarning: The frame.append method is deprecated and will be removed from pandas in a future version. Use pandas.concat instead.\n",
      "  results = results.append({'sequence_id': seq_id, 'protein_name': protein, 'organism_name': organism}, ignore_index=True)\n",
      "/tmp/ipykernel_4156678/1517590194.py:8: FutureWarning: The frame.append method is deprecated and will be removed from pandas in a future version. Use pandas.concat instead.\n",
      "  results = results.append({'sequence_id': seq_id, 'protein_name': protein, 'organism_name': organism}, ignore_index=True)\n",
      "/tmp/ipykernel_4156678/1517590194.py:8: FutureWarning: The frame.append method is deprecated and will be removed from pandas in a future version. Use pandas.concat instead.\n",
      "  results = results.append({'sequence_id': seq_id, 'protein_name': protein, 'organism_name': organism}, ignore_index=True)\n",
      "/tmp/ipykernel_4156678/1517590194.py:8: FutureWarning: The frame.append method is deprecated and will be removed from pandas in a future version. Use pandas.concat instead.\n",
      "  results = results.append({'sequence_id': seq_id, 'protein_name': protein, 'organism_name': organism}, ignore_index=True)\n",
      "/tmp/ipykernel_4156678/1517590194.py:8: FutureWarning: The frame.append method is deprecated and will be removed from pandas in a future version. Use pandas.concat instead.\n",
      "  results = results.append({'sequence_id': seq_id, 'protein_name': protein, 'organism_name': organism}, ignore_index=True)\n",
      "/tmp/ipykernel_4156678/1517590194.py:8: FutureWarning: The frame.append method is deprecated and will be removed from pandas in a future version. Use pandas.concat instead.\n",
      "  results = results.append({'sequence_id': seq_id, 'protein_name': protein, 'organism_name': organism}, ignore_index=True)\n",
      "/tmp/ipykernel_4156678/1517590194.py:8: FutureWarning: The frame.append method is deprecated and will be removed from pandas in a future version. Use pandas.concat instead.\n",
      "  results = results.append({'sequence_id': seq_id, 'protein_name': protein, 'organism_name': organism}, ignore_index=True)\n",
      "/tmp/ipykernel_4156678/1517590194.py:8: FutureWarning: The frame.append method is deprecated and will be removed from pandas in a future version. Use pandas.concat instead.\n",
      "  results = results.append({'sequence_id': seq_id, 'protein_name': protein, 'organism_name': organism}, ignore_index=True)\n"
     ]
    },
    {
     "name": "stdout",
     "output_type": "stream",
     "text": [
      "Error fetching data for F189.50.194..[4101-5027]: HTTP Error 400: Bad Request\n"
     ]
    },
    {
     "name": "stderr",
     "output_type": "stream",
     "text": [
      "/tmp/ipykernel_4156678/1517590194.py:8: FutureWarning: The frame.append method is deprecated and will be removed from pandas in a future version. Use pandas.concat instead.\n",
      "  results = results.append({'sequence_id': seq_id, 'protein_name': protein, 'organism_name': organism}, ignore_index=True)\n",
      "/tmp/ipykernel_4156678/1517590194.py:8: FutureWarning: The frame.append method is deprecated and will be removed from pandas in a future version. Use pandas.concat instead.\n",
      "  results = results.append({'sequence_id': seq_id, 'protein_name': protein, 'organism_name': organism}, ignore_index=True)\n",
      "/tmp/ipykernel_4156678/1517590194.py:8: FutureWarning: The frame.append method is deprecated and will be removed from pandas in a future version. Use pandas.concat instead.\n",
      "  results = results.append({'sequence_id': seq_id, 'protein_name': protein, 'organism_name': organism}, ignore_index=True)\n",
      "/tmp/ipykernel_4156678/1517590194.py:8: FutureWarning: The frame.append method is deprecated and will be removed from pandas in a future version. Use pandas.concat instead.\n",
      "  results = results.append({'sequence_id': seq_id, 'protein_name': protein, 'organism_name': organism}, ignore_index=True)\n",
      "/tmp/ipykernel_4156678/1517590194.py:8: FutureWarning: The frame.append method is deprecated and will be removed from pandas in a future version. Use pandas.concat instead.\n",
      "  results = results.append({'sequence_id': seq_id, 'protein_name': protein, 'organism_name': organism}, ignore_index=True)\n",
      "/tmp/ipykernel_4156678/1517590194.py:8: FutureWarning: The frame.append method is deprecated and will be removed from pandas in a future version. Use pandas.concat instead.\n",
      "  results = results.append({'sequence_id': seq_id, 'protein_name': protein, 'organism_name': organism}, ignore_index=True)\n",
      "/tmp/ipykernel_4156678/1517590194.py:8: FutureWarning: The frame.append method is deprecated and will be removed from pandas in a future version. Use pandas.concat instead.\n",
      "  results = results.append({'sequence_id': seq_id, 'protein_name': protein, 'organism_name': organism}, ignore_index=True)\n",
      "/tmp/ipykernel_4156678/1517590194.py:8: FutureWarning: The frame.append method is deprecated and will be removed from pandas in a future version. Use pandas.concat instead.\n",
      "  results = results.append({'sequence_id': seq_id, 'protein_name': protein, 'organism_name': organism}, ignore_index=True)\n",
      "/tmp/ipykernel_4156678/1517590194.py:8: FutureWarning: The frame.append method is deprecated and will be removed from pandas in a future version. Use pandas.concat instead.\n",
      "  results = results.append({'sequence_id': seq_id, 'protein_name': protein, 'organism_name': organism}, ignore_index=True)\n",
      "/tmp/ipykernel_4156678/1517590194.py:8: FutureWarning: The frame.append method is deprecated and will be removed from pandas in a future version. Use pandas.concat instead.\n",
      "  results = results.append({'sequence_id': seq_id, 'protein_name': protein, 'organism_name': organism}, ignore_index=True)\n",
      "/tmp/ipykernel_4156678/1517590194.py:8: FutureWarning: The frame.append method is deprecated and will be removed from pandas in a future version. Use pandas.concat instead.\n",
      "  results = results.append({'sequence_id': seq_id, 'protein_name': protein, 'organism_name': organism}, ignore_index=True)\n",
      "/tmp/ipykernel_4156678/1517590194.py:8: FutureWarning: The frame.append method is deprecated and will be removed from pandas in a future version. Use pandas.concat instead.\n",
      "  results = results.append({'sequence_id': seq_id, 'protein_name': protein, 'organism_name': organism}, ignore_index=True)\n",
      "/tmp/ipykernel_4156678/1517590194.py:8: FutureWarning: The frame.append method is deprecated and will be removed from pandas in a future version. Use pandas.concat instead.\n",
      "  results = results.append({'sequence_id': seq_id, 'protein_name': protein, 'organism_name': organism}, ignore_index=True)\n",
      "/tmp/ipykernel_4156678/1517590194.py:8: FutureWarning: The frame.append method is deprecated and will be removed from pandas in a future version. Use pandas.concat instead.\n",
      "  results = results.append({'sequence_id': seq_id, 'protein_name': protein, 'organism_name': organism}, ignore_index=True)\n",
      "/tmp/ipykernel_4156678/1517590194.py:8: FutureWarning: The frame.append method is deprecated and will be removed from pandas in a future version. Use pandas.concat instead.\n",
      "  results = results.append({'sequence_id': seq_id, 'protein_name': protein, 'organism_name': organism}, ignore_index=True)\n",
      "/tmp/ipykernel_4156678/1517590194.py:8: FutureWarning: The frame.append method is deprecated and will be removed from pandas in a future version. Use pandas.concat instead.\n",
      "  results = results.append({'sequence_id': seq_id, 'protein_name': protein, 'organism_name': organism}, ignore_index=True)\n",
      "/tmp/ipykernel_4156678/1517590194.py:8: FutureWarning: The frame.append method is deprecated and will be removed from pandas in a future version. Use pandas.concat instead.\n",
      "  results = results.append({'sequence_id': seq_id, 'protein_name': protein, 'organism_name': organism}, ignore_index=True)\n",
      "/tmp/ipykernel_4156678/1517590194.py:8: FutureWarning: The frame.append method is deprecated and will be removed from pandas in a future version. Use pandas.concat instead.\n",
      "  results = results.append({'sequence_id': seq_id, 'protein_name': protein, 'organism_name': organism}, ignore_index=True)\n",
      "/tmp/ipykernel_4156678/1517590194.py:8: FutureWarning: The frame.append method is deprecated and will be removed from pandas in a future version. Use pandas.concat instead.\n",
      "  results = results.append({'sequence_id': seq_id, 'protein_name': protein, 'organism_name': organism}, ignore_index=True)\n",
      "/tmp/ipykernel_4156678/1517590194.py:8: FutureWarning: The frame.append method is deprecated and will be removed from pandas in a future version. Use pandas.concat instead.\n",
      "  results = results.append({'sequence_id': seq_id, 'protein_name': protein, 'organism_name': organism}, ignore_index=True)\n",
      "/tmp/ipykernel_4156678/1517590194.py:8: FutureWarning: The frame.append method is deprecated and will be removed from pandas in a future version. Use pandas.concat instead.\n",
      "  results = results.append({'sequence_id': seq_id, 'protein_name': protein, 'organism_name': organism}, ignore_index=True)\n",
      "/tmp/ipykernel_4156678/1517590194.py:8: FutureWarning: The frame.append method is deprecated and will be removed from pandas in a future version. Use pandas.concat instead.\n",
      "  results = results.append({'sequence_id': seq_id, 'protein_name': protein, 'organism_name': organism}, ignore_index=True)\n",
      "/tmp/ipykernel_4156678/1517590194.py:8: FutureWarning: The frame.append method is deprecated and will be removed from pandas in a future version. Use pandas.concat instead.\n",
      "  results = results.append({'sequence_id': seq_id, 'protein_name': protein, 'organism_name': organism}, ignore_index=True)\n",
      "/tmp/ipykernel_4156678/1517590194.py:8: FutureWarning: The frame.append method is deprecated and will be removed from pandas in a future version. Use pandas.concat instead.\n",
      "  results = results.append({'sequence_id': seq_id, 'protein_name': protein, 'organism_name': organism}, ignore_index=True)\n",
      "/tmp/ipykernel_4156678/1517590194.py:8: FutureWarning: The frame.append method is deprecated and will be removed from pandas in a future version. Use pandas.concat instead.\n",
      "  results = results.append({'sequence_id': seq_id, 'protein_name': protein, 'organism_name': organism}, ignore_index=True)\n"
     ]
    },
    {
     "name": "stdout",
     "output_type": "stream",
     "text": [
      "Error fetching data for F189.68.286.pp1ab.[4370-5301]: HTTP Error 400: Bad Request\n"
     ]
    },
    {
     "name": "stderr",
     "output_type": "stream",
     "text": [
      "/tmp/ipykernel_4156678/1517590194.py:8: FutureWarning: The frame.append method is deprecated and will be removed from pandas in a future version. Use pandas.concat instead.\n",
      "  results = results.append({'sequence_id': seq_id, 'protein_name': protein, 'organism_name': organism}, ignore_index=True)\n",
      "/tmp/ipykernel_4156678/1517590194.py:8: FutureWarning: The frame.append method is deprecated and will be removed from pandas in a future version. Use pandas.concat instead.\n",
      "  results = results.append({'sequence_id': seq_id, 'protein_name': protein, 'organism_name': organism}, ignore_index=True)\n",
      "/tmp/ipykernel_4156678/1517590194.py:8: FutureWarning: The frame.append method is deprecated and will be removed from pandas in a future version. Use pandas.concat instead.\n",
      "  results = results.append({'sequence_id': seq_id, 'protein_name': protein, 'organism_name': organism}, ignore_index=True)\n",
      "/tmp/ipykernel_4156678/1517590194.py:8: FutureWarning: The frame.append method is deprecated and will be removed from pandas in a future version. Use pandas.concat instead.\n",
      "  results = results.append({'sequence_id': seq_id, 'protein_name': protein, 'organism_name': organism}, ignore_index=True)\n"
     ]
    },
    {
     "name": "stdout",
     "output_type": "stream",
     "text": [
      "Error fetching data for F189.31.102.pp1ab.[4457-5384]: HTTP Error 400: Bad Request\n"
     ]
    },
    {
     "name": "stderr",
     "output_type": "stream",
     "text": [
      "/tmp/ipykernel_4156678/1517590194.py:8: FutureWarning: The frame.append method is deprecated and will be removed from pandas in a future version. Use pandas.concat instead.\n",
      "  results = results.append({'sequence_id': seq_id, 'protein_name': protein, 'organism_name': organism}, ignore_index=True)\n",
      "/tmp/ipykernel_4156678/1517590194.py:8: FutureWarning: The frame.append method is deprecated and will be removed from pandas in a future version. Use pandas.concat instead.\n",
      "  results = results.append({'sequence_id': seq_id, 'protein_name': protein, 'organism_name': organism}, ignore_index=True)\n",
      "/tmp/ipykernel_4156678/1517590194.py:8: FutureWarning: The frame.append method is deprecated and will be removed from pandas in a future version. Use pandas.concat instead.\n",
      "  results = results.append({'sequence_id': seq_id, 'protein_name': protein, 'organism_name': organism}, ignore_index=True)\n",
      "/tmp/ipykernel_4156678/1517590194.py:8: FutureWarning: The frame.append method is deprecated and will be removed from pandas in a future version. Use pandas.concat instead.\n",
      "  results = results.append({'sequence_id': seq_id, 'protein_name': protein, 'organism_name': organism}, ignore_index=True)\n",
      "/tmp/ipykernel_4156678/1517590194.py:8: FutureWarning: The frame.append method is deprecated and will be removed from pandas in a future version. Use pandas.concat instead.\n",
      "  results = results.append({'sequence_id': seq_id, 'protein_name': protein, 'organism_name': organism}, ignore_index=True)\n",
      "/tmp/ipykernel_4156678/1517590194.py:8: FutureWarning: The frame.append method is deprecated and will be removed from pandas in a future version. Use pandas.concat instead.\n",
      "  results = results.append({'sequence_id': seq_id, 'protein_name': protein, 'organism_name': organism}, ignore_index=True)\n",
      "/tmp/ipykernel_4156678/1517590194.py:8: FutureWarning: The frame.append method is deprecated and will be removed from pandas in a future version. Use pandas.concat instead.\n",
      "  results = results.append({'sequence_id': seq_id, 'protein_name': protein, 'organism_name': organism}, ignore_index=True)\n",
      "/tmp/ipykernel_4156678/1517590194.py:8: FutureWarning: The frame.append method is deprecated and will be removed from pandas in a future version. Use pandas.concat instead.\n",
      "  results = results.append({'sequence_id': seq_id, 'protein_name': protein, 'organism_name': organism}, ignore_index=True)\n",
      "/tmp/ipykernel_4156678/1517590194.py:8: FutureWarning: The frame.append method is deprecated and will be removed from pandas in a future version. Use pandas.concat instead.\n",
      "  results = results.append({'sequence_id': seq_id, 'protein_name': protein, 'organism_name': organism}, ignore_index=True)\n",
      "/tmp/ipykernel_4156678/1517590194.py:8: FutureWarning: The frame.append method is deprecated and will be removed from pandas in a future version. Use pandas.concat instead.\n",
      "  results = results.append({'sequence_id': seq_id, 'protein_name': protein, 'organism_name': organism}, ignore_index=True)\n"
     ]
    },
    {
     "name": "stdout",
     "output_type": "stream",
     "text": [
      "Error fetching data for F189.56.238..[4370-5297]: HTTP Error 400: Bad Request\n"
     ]
    },
    {
     "name": "stderr",
     "output_type": "stream",
     "text": [
      "/tmp/ipykernel_4156678/1517590194.py:8: FutureWarning: The frame.append method is deprecated and will be removed from pandas in a future version. Use pandas.concat instead.\n",
      "  results = results.append({'sequence_id': seq_id, 'protein_name': protein, 'organism_name': organism}, ignore_index=True)\n",
      "/tmp/ipykernel_4156678/1517590194.py:8: FutureWarning: The frame.append method is deprecated and will be removed from pandas in a future version. Use pandas.concat instead.\n",
      "  results = results.append({'sequence_id': seq_id, 'protein_name': protein, 'organism_name': organism}, ignore_index=True)\n",
      "/tmp/ipykernel_4156678/1517590194.py:8: FutureWarning: The frame.append method is deprecated and will be removed from pandas in a future version. Use pandas.concat instead.\n",
      "  results = results.append({'sequence_id': seq_id, 'protein_name': protein, 'organism_name': organism}, ignore_index=True)\n",
      "/tmp/ipykernel_4156678/1517590194.py:8: FutureWarning: The frame.append method is deprecated and will be removed from pandas in a future version. Use pandas.concat instead.\n",
      "  results = results.append({'sequence_id': seq_id, 'protein_name': protein, 'organism_name': organism}, ignore_index=True)\n",
      "/tmp/ipykernel_4156678/1517590194.py:8: FutureWarning: The frame.append method is deprecated and will be removed from pandas in a future version. Use pandas.concat instead.\n",
      "  results = results.append({'sequence_id': seq_id, 'protein_name': protein, 'organism_name': organism}, ignore_index=True)\n",
      "/tmp/ipykernel_4156678/1517590194.py:8: FutureWarning: The frame.append method is deprecated and will be removed from pandas in a future version. Use pandas.concat instead.\n",
      "  results = results.append({'sequence_id': seq_id, 'protein_name': protein, 'organism_name': organism}, ignore_index=True)\n",
      "/tmp/ipykernel_4156678/1517590194.py:8: FutureWarning: The frame.append method is deprecated and will be removed from pandas in a future version. Use pandas.concat instead.\n",
      "  results = results.append({'sequence_id': seq_id, 'protein_name': protein, 'organism_name': organism}, ignore_index=True)\n",
      "/tmp/ipykernel_4156678/1517590194.py:8: FutureWarning: The frame.append method is deprecated and will be removed from pandas in a future version. Use pandas.concat instead.\n",
      "  results = results.append({'sequence_id': seq_id, 'protein_name': protein, 'organism_name': organism}, ignore_index=True)\n",
      "/tmp/ipykernel_4156678/1517590194.py:8: FutureWarning: The frame.append method is deprecated and will be removed from pandas in a future version. Use pandas.concat instead.\n",
      "  results = results.append({'sequence_id': seq_id, 'protein_name': protein, 'organism_name': organism}, ignore_index=True)\n",
      "/tmp/ipykernel_4156678/1517590194.py:8: FutureWarning: The frame.append method is deprecated and will be removed from pandas in a future version. Use pandas.concat instead.\n",
      "  results = results.append({'sequence_id': seq_id, 'protein_name': protein, 'organism_name': organism}, ignore_index=True)\n",
      "/tmp/ipykernel_4156678/1517590194.py:8: FutureWarning: The frame.append method is deprecated and will be removed from pandas in a future version. Use pandas.concat instead.\n",
      "  results = results.append({'sequence_id': seq_id, 'protein_name': protein, 'organism_name': organism}, ignore_index=True)\n",
      "/tmp/ipykernel_4156678/1517590194.py:8: FutureWarning: The frame.append method is deprecated and will be removed from pandas in a future version. Use pandas.concat instead.\n",
      "  results = results.append({'sequence_id': seq_id, 'protein_name': protein, 'organism_name': organism}, ignore_index=True)\n",
      "/tmp/ipykernel_4156678/1517590194.py:8: FutureWarning: The frame.append method is deprecated and will be removed from pandas in a future version. Use pandas.concat instead.\n",
      "  results = results.append({'sequence_id': seq_id, 'protein_name': protein, 'organism_name': organism}, ignore_index=True)\n",
      "/tmp/ipykernel_4156678/1517590194.py:8: FutureWarning: The frame.append method is deprecated and will be removed from pandas in a future version. Use pandas.concat instead.\n",
      "  results = results.append({'sequence_id': seq_id, 'protein_name': protein, 'organism_name': organism}, ignore_index=True)\n"
     ]
    },
    {
     "name": "stdout",
     "output_type": "stream",
     "text": [
      "Error fetching data for F189.42.149..[3999-4928]: HTTP Error 400: Bad Request\n"
     ]
    },
    {
     "name": "stderr",
     "output_type": "stream",
     "text": [
      "/tmp/ipykernel_4156678/1517590194.py:8: FutureWarning: The frame.append method is deprecated and will be removed from pandas in a future version. Use pandas.concat instead.\n",
      "  results = results.append({'sequence_id': seq_id, 'protein_name': protein, 'organism_name': organism}, ignore_index=True)\n"
     ]
    }
   ],
   "source": [
    "# Create a DataFrame to store the results\n",
    "results = pd.DataFrame(columns=['sequence_id', 'protein_name', 'organism_name'])\n",
    "\n",
    "# Fetch data for each sequence ID\n",
    "for seq_id in sequence_ids:\n",
    "    protein, organism = fetch_metadata(seq_id)\n",
    "    if protein and organism:\n",
    "        results = results.append({'sequence_id': seq_id, 'protein_name': protein, 'organism_name': organism}, ignore_index=True)\n",
    "\n",
    "# Save the results to a CSV file\n",
    "results.to_csv(\"sequence_info.csv\", index=False)"
   ]
  },
  {
   "cell_type": "code",
   "execution_count": null,
   "metadata": {},
   "outputs": [],
   "source": []
  }
 ],
 "metadata": {
  "kernelspec": {
   "display_name": "Python 3",
   "language": "python",
   "name": "python3"
  },
  "language_info": {
   "codemirror_mode": {
    "name": "ipython",
    "version": 3
   },
   "file_extension": ".py",
   "mimetype": "text/x-python",
   "name": "python",
   "nbconvert_exporter": "python",
   "pygments_lexer": "ipython3",
   "version": "3.10.12"
  }
 },
 "nbformat": 4,
 "nbformat_minor": 2
}
