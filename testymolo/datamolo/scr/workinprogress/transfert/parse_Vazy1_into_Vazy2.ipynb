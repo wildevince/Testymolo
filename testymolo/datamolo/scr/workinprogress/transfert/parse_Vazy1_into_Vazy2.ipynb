{
 "cells": [
  {
   "cell_type": "code",
   "execution_count": 28,
   "metadata": {},
   "outputs": [],
   "source": [
    "import os\n",
    "from Bio import Entrez\n",
    "import json\n",
    "\n",
    "Entrez.email = \"VIMVer@univ-amu.fr\"\n",
    "\n",
    "Vazy1_dir:str = \"./../../../../testymolo/media/tables_csv/\"\n",
    "Vazy2_dir:str = \"./../../../../testymolo/media/data/transfert/\"\n",
    "\n"
   ]
  },
  {
   "cell_type": "markdown",
   "metadata": {},
   "source": [
    "# Tables"
   ]
  },
  {
   "cell_type": "markdown",
   "metadata": {},
   "source": [
    "### Methods"
   ]
  },
  {
   "cell_type": "code",
   "execution_count": 30,
   "metadata": {},
   "outputs": [],
   "source": [
    "### caution when not all rows same nbr of col\n",
    "def custom_csv_parser_to_list(infilepath:str):\n",
    "    with open(infilepath ,'r') as handle:\n",
    "\n",
    "        rows:list = []\n",
    "\n",
    "        for line in handle.readlines():\n",
    "            line = line.strip(';') # removing terminal ';' \n",
    "            values:list = [] # re-initialize value list\n",
    "            val:str = \"\" # current parsing value\n",
    "            inquote:bool = False # re-initialize in quote : False\n",
    "            quote_char:str = '' # ' or \"\n",
    "            for c in line:\n",
    "                if(c == ','): # encounter comma\n",
    "                    if(not inquote): ## and not in quote\n",
    "                        val = val.strip(\"'\")\n",
    "                        val = val.strip('\"')\n",
    "                        if(len(val) > 0):\n",
    "                            values.append(val)\n",
    "                        else:\n",
    "                            values.append(None)\n",
    "                        val = \"\"\n",
    "                        continue\n",
    "                elif(c == '\"' or c == \"'\"): # encounter quote\n",
    "                    if(inquote): # already in quote \n",
    "                        if(quote_char == c):  # encounter ending quote mark\n",
    "                            inquote = False\n",
    "                        else: # encounter the other quote mark \n",
    "                            pass\n",
    "                    else: # encounter starting quote mark\n",
    "                        inquote = True\n",
    "                        quote_char = c\n",
    "                elif((c == ' ' or c == '\\n') and not inquote):  # get rid of whitespaces\n",
    "                    continue\n",
    "                val += c\n",
    "            if(len(val)>0):\n",
    "                val = val.strip(\"'\")\n",
    "                val = val.strip('\"')\n",
    "                values.append(val)\n",
    "\n",
    "            if(len(values) > 0):\n",
    "                rows.append(values)\n",
    "                #print(values)  \n",
    "                \n",
    "        #print(\"nbr of col\", set([len(row) for row in rows]))\n",
    "        #print(\"nbr of rows\", len(rows))\n",
    "\n",
    "        return rows\n",
    "    \n",
    "def csv_to_json(data:list, table_headers):\n",
    "    return [ { table_headers[i]:item[i] for i in range(len(item)) } for item in data ]"
   ]
  },
  {
   "cell_type": "code",
   "execution_count": 32,
   "metadata": {},
   "outputs": [],
   "source": [
    "def fetch_phylogeny(accession):\n",
    "    \n",
    "    def get_tax_data(taxid):\n",
    "        try:\n",
    "            search = Entrez.efetch(id=taxid, db='taxonomy', retmode='xml')\n",
    "            return Entrez.read(search)\n",
    "        except:\n",
    "            return []\n",
    "\n",
    "    def extract_TaxId(taxon):\n",
    "        return taxon['TaxId']\n",
    "\n",
    "    def extract_Name(taxon):\n",
    "        return taxon['ScientificName']\n",
    "\n",
    "    def extract_phylo(taxon):\n",
    "        return taxon['Lineage']\n",
    "    \n",
    "    for result in get_tax_data(accession):\n",
    "        taxon = {\n",
    "            'id':extract_TaxId(result),\n",
    "            'name':extract_Name(result),\n",
    "            'phylogeny':extract_phylo(result)\n",
    "            }\n",
    "        #taxon_json = json.dumps(taxon)\n",
    "        #print(taxon_json)\n",
    "    \n",
    "        return taxon"
   ]
  },
  {
   "cell_type": "code",
   "execution_count": 41,
   "metadata": {},
   "outputs": [],
   "source": [
    "def parse_table(table_name:str, table_headers:tuple) -> list:\n",
    "    return csv_to_json(custom_csv_parser_to_list(os.path.join(Vazy1_dir, table_name+'.csv')), table_headers)"
   ]
  },
  {
   "cell_type": "markdown",
   "metadata": {},
   "source": [
    "### Variables"
   ]
  },
  {
   "cell_type": "code",
   "execution_count": 29,
   "metadata": {},
   "outputs": [],
   "source": [
    "Vazy2_Organism_headers:tuple = (\"id\", \"name\", \"abr\", \"group\", \"phylogeny\", \"complete\")\n",
    "Vazy2_Organism_json:list = []\n",
    "\n",
    "VAZY_2:dict = {}\n",
    "Vazy2_Organism_json:list = []"
   ]
  },
  {
   "cell_type": "code",
   "execution_count": 42,
   "metadata": {},
   "outputs": [
    {
     "name": "stdout",
     "output_type": "stream",
     "text": [
      "{'Tax_id': '11020', 'Name': 'Barmah Forest virus', 'Categorie': 'Viruses', 'Classe': 'ssRNA positive-strand viruses, no DNA stage', 'Ordre': 'nd', 'Fam': 'Togaviridae', 'SsFam': 'nd', 'Genre': 'Alphavirus', 'Note_org': 'BFV complex'}\n"
     ]
    }
   ],
   "source": [
    "VAZY_1:dict = {\n",
    "    'Organism': parse_table('Organism', (\"Tax_id\", \"Name\", \"Categorie\", \"Classe\", \"Ordre\", \"Fam\", \"SsFam\", \"Genre\", \"Note_org\")),\n",
    "    'CAZy_DB': parse_table('CAZy_DB', (\"DB_ac\", \"Protein\", \"DB_nom\", \"Organism\", \"abr\", \"Tax_id\", \"EC\", \"_3D_status\", \"Length\", \"Sequence\", \"DB_note\", \"Created\", \"Modified\", \"PP_status\", \"Lib_sort\")),\n",
    "    'CAZy_GB_GP': parse_table('CAZy_GB_GP', (\"DB_ac\", \"GP_ac\", \"GB_ac\", \"GP_gi\", \"GP_gene\", \"GP_genomic\", \"GP_begin\", \"GP_end\", \"GP_note\")),\n",
    "    'CAZy_PDB': parse_table('CAZy_PDB', (\"DB_ac\", \"PDB_id\", \"PDB_chain\", \"PDB_begin\", \"PDB_end\", \"PDB_note\", \"PDB_bornModo\")),\n",
    "    'CAZy_PP': parse_table('CAZy_PP', (\"DB_ac\", \"PP_ac\", \"PP_gi\", \"PP_gene\", \"PP_begin\", \"PP_end\", \"PP_note\", \"PP_diff\")),\n",
    "    'CAZy_SP': parse_table('CAZy_SP', (\"DB_ac\", \"SP_ac\", \"SP_id\", \"SP_gene\", \"SP_begin\", \"SP_end\", \"SP_note\")),\n",
    "    'CAZyModO': parse_table('CAZyModO', (\"URL_family\", \"URL_title\", \"URL_body\", \"URL_relative\", \"URL_note\", \"Modified\")),\n",
    "    'Cz_EC' : parse_table('Cz_EC', (\"DB_ac\", \"EC\")),\n",
    "    'EC_num': parse_table('EC_num', (\"EC\", \"EC_name\", \"EC_othername\", \"EC_reaction\", \"EC_comment\")),\n",
    "    'ModO_Composition': parse_table('ModO_Composition', (\"DB_ac\", \"Mod_num\", \"Family\", \"Subf\")),\n",
    "    'ModO_CrossRefs': parse_table('ModO_CrossRefs', (\"Family\", \"Link\", \"URL_base\", \"URL_string\", \"Ref_note\")),\n",
    "    'ModO_Families': parse_table('ModO_Families', (\"Family\", \"Family_Name\", \"Family_Activity\", \"Family_Taxo\", \"Clan\", \"Family_note\", \"Family_Private_note\", \"Fold\", \"ModoS_uniqfct\", \"ModoS_Activity\", \"ModoS_Description\", \"ModoS_Fold\", \"ModoS_note\", \"ModoS_Private_note\", \"web_descript\", \"web_status\")),\n",
    "    'ModO_Limits': parse_table('ModO_Limits', (\"DB_ac\", \"Mod_num\", \"Mod_begin\", \"Mod_end\") ),\n",
    "    'Motifs':parse_table('Motifs', (\"motifs_ac\", \"motifs_name\", \"motifs_activity\", \"motifs_classification\", \"motifs_form\", \"motifs_note\")),\n",
    "    'Prot_Infos':parse_table('Prot_Infos', (\"DB_ac\", \"INFO_indice\", \"INFO_ac\", \"INFO_Nature\", \"INFO\", \"INFO_pmid\")),\n",
    "    'Prot_MOTIF':parse_table('Prot_MOTIF', (\"DB_ac\", \"MOTIF_indice\", \"MOTIF_ac\", \"MOTIF_name\", \"MOTIF_begin\", \"MOTIF_end\", \"MOTIF\", \"MOTIF_activity\", \"MOTIF_class\", \"MOTIF_note\", \"MOTIF_ref\", \"MOTIF_pmid\")),\n",
    "    'Prot_MUT': parse_table('Prot_MUT', (\"DB_ac\", \"MUT_indice\", \"MUT_ac\", \"MUT\", \"MUT_note\", \"MUT_ref\", \"MUT_pmid\")),\n",
    "    'Prot_REG': parse_table('Prot_REG', (\"DB_ac\", \"REG_indice\", \"REG_ac\", \"REG_name\", \"REG_begin\", \"REG_end\", \"REG_note\", \"REG_ref\", \"REG_pmid\")),\n",
    "    'Prot_RI': parse_table('Prot_RI',(\"DB_ac\", \"RI_indice\", \"RI_ac\", \"RI_name\", \"RI_begin\", \"RI_end\", \"RI_no_limit\", \"RI_note\", \"RI_ref\", \"RI_pmid\")),\n",
    "}\n",
    "\n",
    "print(VAZY_1['Organism'][0])\n"
   ]
  },
  {
   "cell_type": "markdown",
   "metadata": {},
   "source": [
    "### Resolve"
   ]
  },
  {
   "cell_type": "code",
   "execution_count": 35,
   "metadata": {},
   "outputs": [],
   "source": [
    "for organism in Vazy1_Organism_json:\n",
    "    taxon:dict = fetch_phylogeny(organism['Tax_id'])\n",
    "    if taxon:\n",
    "        if \"Nidovirales\" in taxon['phylogeny']:\n",
    "            if not organism['Tax_id'] in [Vazy2_item['id'] for Vazy2_item in Vazy2_Organism_json]:\n",
    "                Vazy2_Organism_json.append(taxon)"
   ]
  },
  {
   "cell_type": "markdown",
   "metadata": {},
   "source": [
    "# Vazy1"
   ]
  },
  {
   "cell_type": "markdown",
   "metadata": {},
   "source": [
    "### Variables"
   ]
  },
  {
   "cell_type": "code",
   "execution_count": 57,
   "metadata": {},
   "outputs": [
    {
     "name": "stdout",
     "output_type": "stream",
     "text": [
      "[11120, 11128, 11137, 11138, 11149, 28295, 31631, 227984, 233262, 694007, 694008, 1335626, 2697049]\n"
     ]
    }
   ],
   "source": [
    "#import json\n",
    "Nidovirales_taxid:list = []\n",
    "Vazy2_json:list = []\n",
    "with open(\"./../../../../testymolo/media/data/Organism.temp.json\") as handle:\n",
    "    Vazy2_json:list = json.load(handle)\n",
    "Nidovirales_taxid = [ item['id'] for item in Vazy2_json]\n",
    "Nidovirales_taxid.sort()\n",
    "print(Nidovirales_taxid)\n",
    "\n",
    "#TaxId:list = [ int(Org['Tax_id']) for Org in VAZY_1['Organism'] ]\n",
    "#TaxId.sort()\n",
    "#print(TaxId)"
   ]
  },
  {
   "cell_type": "markdown",
   "metadata": {},
   "source": [
    "## Methods"
   ]
  },
  {
   "cell_type": "code",
   "execution_count": 68,
   "metadata": {},
   "outputs": [],
   "source": [
    "def filter__CAZy_DB__by__taxid(taxid:int) -> list:\n",
    "    result:list=[]\n",
    "    for item in VAZY_1['CAZy_DB']:\n",
    "        if str(item['Tax_id']) == str(taxid):\n",
    "            result.append(item)\n",
    "    #print(result)\n",
    "    return result"
   ]
  },
  {
   "cell_type": "code",
   "execution_count": 79,
   "metadata": {},
   "outputs": [
    {
     "name": "stdout",
     "output_type": "stream",
     "text": [
      "11120\n",
      "{'11120': {'Tax_id': '11120', 'Name': 'Avian infectious bronchitis virus', 'Categorie': 'Viruses', 'Classe': 'ssRNA positive-strand viruses, no DNA stage', 'Ordre': 'Nidovirales', 'Fam': 'Coronaviridae', 'SsFam': 'nd', 'Genre': 'Coronavirus', 'Note_org': 'NULL', 'CAZy_DB': [{'DB_ac': '473', 'Protein': 'ORF1ab polyprotein', 'DB_nom': 'None', 'Organism': 'Avian infectious bronchitis virus [Beaudette]', 'abr': 'AIBV[Beaudette]', 'Tax_id': '11120', 'EC': 'None', '_3D_status': 'None', 'Length': '6629', 'Sequence': 'MASSLKQGVSPKPRDVILVSKDIPEQLCDALFFYTSHNPKDYADAFAVRQKFDRSLQTGKQFKFETVCGLFLLKGVDKITPGVPAKVLKATSKLADLEDIFGVSPLARKYRELLKTACQWSLTVEALDVRAQTLDEIFDPTEILWLQVAAKIHVSSMAMRRLVGEVTAKVMDALGSNLSALFQIVKQQIARIFQKALAIFENVNELPQRIAALKMAFAKCARSITVVVVERTLVVKEFAGTCLASINGAVAKFFEELPNGFMGSKIFTTLAFFKEAAVRVVENIPNAPRGTKGFEVVGNAKGTQVVVRGMRNDLTLLDQKADIPVEPEGWSAILDGHLCYVFRSGDRFYAAPLSGNFALSDVHCCERVVCLSDGVTPEINDGLILAAIYSSFSVSELVTALKKGEPFKFLGHKFVYAKDAAVSFTLAKAATIADVLRLFQSARVIAEDVWSSFTEKSFEFWKLAYGKVRNLEEFVKTYVCKAQMSIVILAAVLGEDIWHLVSQVIYKLGVLFTKVVDFCDKHWKGFCVQLKRAKLIVTETFCVLKGVAQHCFQLLLDAIHSLYKSFKKCALGRIHGDLLFWKGGVHKIVQDGDEIWFDAIDSVDVEDLGVVQEKSIDFEVCDDVTLPENQPGHMVQIEDDGKNYMFFRFKKDENIYYTPMSQLGAINVVCKAGGKTVTFGETTVQEIPPPDVVPIKVSIECCGEPWNTIFKKAYKEPIEVDTDLTVEQLLSVIYEKMCDDLKLFPEAPEPPPFENVALVDKNGKDLDCIKSCHLIYRDYESDDDIEEEDAEECDTDSGEAEECDTNSECEEEDEDTKVLALIQDPASIKYPLPLDEDYSVYNGCIVHKDALDVVNLPSGEETFVVNNCFEGAVKPLPQKVVDVLGDWGEAVDAQEQLCQQEPLQHTFEEPVENSTGSSKTMTEQVVVEDQELPVVEQDQDVVVYTPTDLEVAKETAEEVDEFILIFAVPKEEVVSQKDGAQIKQEPIQVVKPQREKKAKKFKVKPATCEKPKFLEYKTCVGDLTVVIAKALDEFKEFCIVNAANEHMTHGSGVAKAIADFCGLDFVEYCEDYVKKHGPQQRLVTPSFVKGIQCVNNVVGPRHGDNNLHEKLVAAYKNVLVDGVVNYVVPVLSLGIFGVDFKMSIDAMREAFEGCTIRVLLFSLSQEHIDYFDVTCKQKTIYLTEDGVKYRSIVLKPGDSLGQFGQVYAKNKIVFTADDVEDKEILYVPTTDKSILEYYGLDAQKYVIYLQTLAQKWNVQYRDNFLILEWRDGNCWISSAIVLLQAAKIRFKGFLTEAWAKLLGGDPTDFVAWCYASCTAKVGDFSDANWLLANLAEHFDADYTNAFLKKRVSCNCGIKSYELRGLEACIQPVRATNLLHFKTQYSNCPTCGANNTDEVIEASLPYLLLFATDGPATVDCDEDAVGTVVFVGSTNSGHCYTQAAGQAFDNLAKDRKFGKKSPYITAMYTRFAFKNETSLPVAKQSKGKSKSVKEDVSNLATSSKASFDNLTDFEQWYDSNIYESLKVQESPDNFDKYVSFTTKEDSKLPLTLKVRGIKSVVDFRSKDGFIYKLTPDTDENSKAPVYYPVLDAISLKAIWVEGNANFVVGHPNYYSKSLHIPTFWENAENFVKMGDKIGGVTMGLWRAEHLNKPNLERIFNIAKKAIVGSSVVTTQCGKLIGKAATFIADKVGGGVVRNITDSIKGLCGITRGHFERKMSPQFLKTLMFFLFYFLKASVKSVVASYKTVLCKVVLATLLIVWFVYTSNPVMFTGIRVLDFLFEGSLCGPYKDYGKDSFDVLRYCADDFICRVCLHDKDSLHLYKHAYSVEQVYKDAASGFIFNWNWLYLVFLILFVKPVAGFVIICYCVKYLVLNSTVLQTGVCFLDWFVQTVFSHFNFMGAGFYFWLFYKIYIQVHHILYCKDVTCEVCKRVARSNRQEVSVVVGGRKQIVHVYTNSGYNFCKRHNWYCRNCDDYGHQNTFMSPEVAGELSEKLKRHVKPTAYAYHVVDEACLVDDFVNLKYKAATPGKDSASSAVKCFSVTDFLKKAVFLKEALKCEQISNDGFIVCNTQSAHALEEAKNAAIYYAQYLCKPILILDQALYEQLVVEPVSKSVIDKVCSILSSIISVDTAALNYKAGTLRDALLSITKDEEAVDMAIFCHNHDVDYTGDGFTNVIPSYGIDTGKLTPRDRGFLINADASIANLRVKNAPPVVWKFSELIKLSDSCLKYLISATVKSGVRFFITKSGAKQVIACHTQKLLVEKKAGGIVSGTFKCFKSYFKWLLIFYILFTACCSGYYYMEVSKSFVHPMYDVNSTLHVEGFKVIDKGVLREIVPEDTCFSNKFVNFDAFWGRPYDNSRNCPIVTAVIDGDGTVATGVPGFVSWVMDGVMFIHMTQTERKPWYIPTWFNREIVGYTQDSIITEGSFYTSIALFSARCLYLTASNTPQLYCFNGDNDAPGALPFGSIIPHRVYFQPNGVRLIVPQQILHTPYVVKFVSDSYCRGSVCEYTRPGYCVSLNPQWVLFNDEYTSKPGVFCGSTVRELMFSMVSTFFTGVNPNIYMQLATMFLILVVVVLIFAMVIKFQGVFKAYATTVFITMLVWVINAFILCVHSYNSVLAVILLVLYCYASLVTSRNTVIIMHCWLVFTFGLIVPTWLACCYLGFIIYMYTPLFLWCYGTTKNTRKLYDGNEFVGNYDLAAKSTFVIRGSEFVKLTNEIGDKFEAYLSAYARLKYYSGTGSEQDYLQACRAWLAYALDQYRNSGVEIVYTPPRYSIGVSRLQSGFKKLVSPSSAVEKCIVSVSYRGNNLNGLWLGDTIYCPRHVLGKFSGDQWNDVLNLANNHEFEVTTQHGVTLNVVSRRLKGAVLILQTAVANAETPKYKFIKANCGDSFTIACAYGGTVVGLYPVTMRSNGTIRASFLAGACGSVGFNIEKGVVNFFYMHHLELPNALHTGTDLMGEFYGGYVDEEVAQRVPPDNLVTNNIVAWLYAAIISVKESSFSLPKWLESTTVSVDDYNKWAGDNGFTPFSTSTAITKLSAITGVDVCKLLRTIMVKNSQWGGDPILGQYNFEDELTPESVFNQIGGVRLQSSFVRKATSWFWSRCVLACFLFVLCAIVLFTAVPLKFYVYAAVILLMAVLFISFTVKHVMAYMDTFLLPTLITVIIGVCAEVPFIYNTLISQVVIFLSQWYDPVVFDTMVPWMFLPLVLYTAFKCVQGCYMNSFNTSLLMLYQFVKLGFVIYTSSNTLTAYTEGNWELFFELVHTTVLANVSSNSLIGLFVFKCAKWMLYYCNATYLNNYVLMAVMVNCIGWLCTCYFGLYWWVNKVFGLTLGKYNFKVSVDQYRYMCLHKINPPKTVWEVFSTNILIQGIGGDRVLPIATVQAKLSDVKCTTVVLMQLLTKLNVEANSKMHVYLVELHNKILASDDVGECMDNLLGMLITLFCIDSTIDLSEYCDDILKRSTVLQSVTQEFSHIPSYAEYERAKNLYEKVLVDSKNGGVTQQELAAYRKAANIAKSVFDRDLAVQKKLDSMAERAMTTMYKEARVTDRRAKLVSSLHALLFSMLKKIDSEKLNVLFDQASSGVVPLATVPIVCSNKLTLVIPDPETWVKCVEGVHVTYSTVVWNIDTVIDADGTELHPTSTGSGLTYCISGANIAWPLKVNLTRNGHNKVDVVLQNNELMPHGVKTKACVAGVDQAHCSVESKCYYTNISGNSVVAAITSSNPNLKVASFLNEAGNQIYVDLDPPCKFGMKVGVKVEVVYLYFIKNTRSIVRGMVLGAISNVVVLQSKGHETEEVDAVGILSLCSFAVDPADTYCKYVAAGNQPLGNCVKMLTVHNGSGFAITSKPSPTPDQDSYGGASVCLYCRAHIAHPGSVGNLDGRCQFKGSFVQIPTTEKDPVGFCLRNKVCTVCQCWIGYGCQCDSLRQPKSSVQSVAGASDFDKNYLNRVRGSSEARLIPLASGCDPDVVKRAFDVCNKESAGMFQNLKRNCARFQELRDTEDGNLEYLDSYFVVKQTTPSNYEHEKSCYEDLKSEVTADHDFFVFNKNIYNISRQRLTKYTMMDFCYALRHFDPKDCEVLKEILVTYGCIEDYHPKWFEENKDWYDPIENSKYYVMLAKMGPIVRRALLNAIEFGNLMVEKGYVGVITLDNQDLNGKFYDFGDFQKTAPGAGVPVFDTYYSYMMPIIAMTDALAPERYFEYDVHKGYKSYDLLKYDYTEEKQELFQKYFKYWDQEYHPNCRDCSDDRCLIHCANFNILFSTLIPQTSFGNLCRKVFVDGVPFIATCGYHSKELGVIMNQDNTMSFSKMGLSQLMQFVGDPALLVGTSNNLVDLRTSCFSVCALTSGITHQTVKPGHFNKDFYDFAEKAGMFKEGSSIPLKHFFYPQTGNAAINDYDYYRYNRPTMFDICQLLFCLEVTSKYFECYEGGCIPASQVVVNNLDKSAGYPFNKFGKARLYYEMSLEEQDQLFEITKKNVLPTITQMNLKYAISAKNRARTVAGVSILSTMTNRQFHQKILKSIVNTRNASVVIGTTKFYGGWDNMLRNLIQGVEDPILMGWDYPKCDRAMPNLLRIAASLVLARKHTNCCSWSERIYRLYNECAQVLSETVLATGGIYVKPGGTSSGDATTAYANSVFNIIQATSANVARLLSVITRDIVYDNIKSLQYELYQQVYRRVNFDPAFVEKFYSYLCKNFSLMILSDDGVVCYNNTLAKQGLVADISGFREVLYYQNNVFMADSKCWVEPDLEKGPHEFCSQHTMLVEVDGEPKYLPYPDPSRILGACVFVDDVDKTEPVAVMERYIALAIDAYPLVHHENEEYKKVFFVLLAYIRKLYQELSQNMLMDYSFVMDIDKGSKFWEQEFYENMYRAPTTLQSCGVCVVCNSQTILRCGNCIRKPFLCCKCCYDHVMHTDHKNVLSINPYICSQLGCGEADVTKLYLGGMSYFCGNHKPKLSIPLVSNGTVFGIYRANCAGSENVDDFNQLATTNWSIVEPYILANRCSDSLRRFAAETVKATEELHKQQFASAEVREVFSDRELILSWEPGKTRPPLNRNYVFTGYHFTRTSKVQLGDFTFEKGEGKDVVYYKATSTAKLSVGDIFVLTSHNVVSLVAPTLCPQQTFSRFVNLRPNVMVPECFVNNIPLYHLVGKQKRTTVQGPPGSGKSHFAIGLAVYFSSARVVFTACSHAAVDALCEKAFKFLKVDDCTRIVPQRTTVDCFSKFKANDTGKKYIFSTINALPEVSCDILLVDEVSMLTNYELSFINGKINYQYVVYVGDPAQLPAPRTLLNGSLSPKDYNVVTNLMVCVKPDIFLAKCYRCPKEIVDTVSTLVYDGKFIANNPESRECFKVIVNNGNSDVGHESGSAYNTTQLEFVKDFVCRNKQWREAIFISPYNAMNQRAYRMLGLNVQTVDSSQGSEYDYVIFCVTADSQHALNINRFNVALTRAKRGILVVMRQRDELYSALKFTELDSETSLQGTGLFKICNKEFSGVHPAYAVTTKALAATYKVNDELAALVNVEAGSEITYKHLISLLGFKMSVNVEGCHNMFITRDEAIRNVRGWVGFDVEATHACGTNIGTNLPFQVGFSTGADFVVTPEGLVDTSIGNNFEPVNSKAPPGEQFNHLRVLFKSAKPWHVIRPRIVQMLADNLCNVSDCVVFVTWCHGLELTTLRYFVKIGKEQVCSCGSRATTFNSHTQAYACWKHCLGFDFVYNPLLVDIQQWGYSGNLQFNHDLHCNVHGHAHVASVDAIMTRCLAINNAFCQDVNWDLTYPHIANEDEVNSSCRYLQRMYLNACVDALKVNVVYDIGNPKGIKCVRRGDVNFRFYDKNPIVRNVKQFEYDYNQHKDKFADGLCMFWNCNVDCYPDNSLVCRYDTRNLSVFNLPGCNGGSLYVNKHAFYTPKFDRISFRNLKAMPFFFYDSSPCETIQVDGVAQDLVSLATKDCITKCNIGGAVCKKHAQMYAEFVTSYNAAVTAGFTFWVTNKLNPYNLWKSFSALQSIDNIAYNMYKGGHYDAIAGEMPTVITGDKVFVIDQGVEKAVFVNQTTLPTSVAFELYAKRNIRTLPNNRILKGLGVDVTNGFVIWDYANQTPLYRNTVKVCAYTDIEPNGLVVLYDDRYGDYQSFLAADNAVLVSTQCYKRYSYVEIPSNLLVQNGMPLKDGANLYVYKRVNGAFVTLPNTINTQGRSYETFEPRSDIERDFLAMSEESFVERYGKDLGLQHILYGEVDKPQLGGLHTVIGMYRLLRANKLNAKSVTNSDSDVMQNYFVLSDNGSYKQVCTVVDLLLDDFLELLRNILKEYGTNKSKVVTVSIDYHSINFMTWFEDGSIKTCYPQLQSAWTCGYNMPELYKVQNCVMEPCNIPNYGVGITLPSGILMNVAKYTQLCQYLSKTTICVPHNMRVMHFGAGSDKGVAPGSTVLKQWLPEGTLLVDNDIVDYVSDAHVSVLSDCNKYNTEHKFDLVISDMYTDNDSKRKHEGVIANNGNDDVFIYLSSFLRNNLALGGSFAVKVTETSWHEVLYDIAQDCAWWTMFCTAVNASSSEAFLIGVNYLGASEKVKVSGKTLHANYIFWRNCNYLQTSAYSIFDVAKFDLRLKATPVVNLKTEQKTDLVFNLIKCGKLLVRDVGNTSFTSDSFVCTM', 'DB_note': 'None', 'Created': '2003-04-16', 'Modified': '2004-02-02', 'PP_status': 'yes', 'Lib_sort': 'NULL'}, {'DB_ac': '474', 'Protein': 'ORF1a polyprotein', 'DB_nom': 'None', 'Organism': 'Avian infectious bronchitis virus [Beaudette]', 'abr': 'AIBV[Beaudette]', 'Tax_id': '11120', 'EC': 'None', '_3D_status': 'None', 'Length': '3951', 'Sequence': 'MASSLKQGVSPKPRDVILVSKDIPEQLCDALFFYTSHNPKDYADAFAVRQKFDRSLQTGKQFKFETVCGLFLLKGVDKITPGVPAKVLKATSKLADLEDIFGVSPLARKYRELLKTACQWSLTVEALDVRAQTLDEIFDPTEILWLQVAAKIHVSSMAMRRLVGEVTAKVMDALGSNLSALFQIVKQQIARIFQKALAIFENVNELPQRIAALKMAFAKCARSITVVVVERTLVVKEFAGTCLASINGAVAKFFEELPNGFMGSKIFTTLAFFKEAAVRVVENIPNAPRGTKGFEVVGNAKGTQVVVRGMRNDLTLLDQKADIPVEPEGWSAILDGHLCYVFRSGDRFYAAPLSGNFALSDVHCCERVVCLSDGVTPEINDGLILAAIYSSFSVSELVTALKKGEPFKFLGHKFVYAKDAAVSFTLAKAATIADVLRLFQSARVIAEDVWSSFTEKSFEFWKLAYGKVRNLEEFVKTYVCKAQMSIVILAAVLGEDIWHLVSQVIYKLGVLFTKVVDFCDKHWKGFCVQLKRAKLIVTETFCVLKGVAQHCFQLLLDAIHSLYKSFKKCALGRIHGDLLFWKGGVHKIVQDGDEIWFDAIDSVDVEDLGVVQEKSIDFEVCDDVTLPENQPGHMVQIEDDGKNYMFFRFKKDENIYYTPMSQLGAINVVCKAGGKTVTFGETTVQEIPPPDVVPIKVSIECCGEPWNTIFKKAYKEPIEVDTDLTVEQLLSVIYEKMCDDLKLFPEAPEPPPFENVALVDKNGKDLDCIKSCHLIYRDYESDDDIEEEDAEECDTDSGEAEECDTNSECEEEDEDTKVLALIQDPASIKYPLPLDEDYSVYNGCIVHKDALDVVNLPSGEETFVVNNCFEGAVKPLPQKVVDVLGDWGEAVDAQEQLCQQEPLQHTFEEPVENSTGSSKTMTEQVVVEDQELPVVEQDQDVVVYTPTDLEVAKETAEEVDEFILIFAVPKEEVVSQKDGAQIKQEPIQVVKPQREKKAKKFKVKPATCEKPKFLEYKTCVGDLTVVIAKALDEFKEFCIVNAANEHMTHGSGVAKAIADFCGLDFVEYCEDYVKKHGPQQRLVTPSFVKGIQCVNNVVGPRHGDNNLHEKLVAAYKNVLVDGVVNYVVPVLSLGIFGVDFKMSIDAMREAFEGCTIRVLLFSLSQEHIDYFDVTCKQKTIYLTEDGVKYRSIVLKPGDSLGQFGQVYAKNKIVFTADDVEDKEILYVPTTDKSILEYYGLDAQKYVIYLQTLAQKWNVQYRDNFLILEWRDGNCWISSAIVLLQAAKIRFKGFLTEAWAKLLGGDPTDFVAWCYASCTAKVGDFSDANWLLANLAEHFDADYTNAFLKKRVSCNCGIKSYELRGLEACIQPVRATNLLHFKTQYSNCPTCGANNTDEVIEASLPYLLLFATDGPATVDCDEDAVGTVVFVGSTNSGHCYTQAAGQAFDNLAKDRKFGKKSPYITAMYTRFAFKNETSLPVAKQSKGKSKSVKEDVSNLATSSKASFDNLTDFEQWYDSNIYESLKVQESPDNFDKYVSFTTKEDSKLPLTLKVRGIKSVVDFRSKDGFIYKLTPDTDENSKAPVYYPVLDAISLKAIWVEGNANFVVGHPNYYSKSLHIPTFWENAENFVKMGDKIGGVTMGLWRAEHLNKPNLERIFNIAKKAIVGSSVVTTQCGKLIGKAATFIADKVGGGVVRNITDSIKGLCGITRGHFERKMSPQFLKTLMFFLFYFLKASVKSVVASYKTVLCKVVLATLLIVWFVYTSNPVMFTGIRVLDFLFEGSLCGPYKDYGKDSFDVLRYCADDFICRVCLHDKDSLHLYKHAYSVEQVYKDAASGFIFNWNWLYLVFLILFVKPVAGFVIICYCVKYLVLNSTVLQTGVCFLDWFVQTVFSHFNFMGAGFYFWLFYKIYIQVHHILYCKDVTCEVCKRVARSNRQEVSVVVGGRKQIVHVYTNSGYNFCKRHNWYCRNCDDYGHQNTFMSPEVAGELSEKLKRHVKPTAYAYHVVDEACLVDDFVNLKYKAATPGKDSASSAVKCFSVTDFLKKAVFLKEALKCEQISNDGFIVCNTQSAHALEEAKNAAIYYAQYLCKPILILDQALYEQLVVEPVSKSVIDKVCSILSSIISVDTAALNYKAGTLRDALLSITKDEEAVDMAIFCHNHDVDYTGDGFTNVIPSYGIDTGKLTPRDRGFLINADASIANLRVKNAPPVVWKFSELIKLSDSCLKYLISATVKSGVRFFITKSGAKQVIACHTQKLLVEKKAGGIVSGTFKCFKSYFKWLLIFYILFTACCSGYYYMEVSKSFVHPMYDVNSTLHVEGFKVIDKGVLREIVPEDTCFSNKFVNFDAFWGRPYDNSRNCPIVTAVIDGDGTVATGVPGFVSWVMDGVMFIHMTQTERKPWYIPTWFNREIVGYTQDSIITEGSFYTSIALFSARCLYLTASNTPQLYCFNGDNDAPGALPFGSIIPHRVYFQPNGVRLIVPQQILHTPYVVKFVSDSYCRGSVCEYTRPGYCVSLNPQWVLFNDEYTSKPGVFCGSTVRELMFSMVSTFFTGVNPNIYMQLATMFLILVVVVLIFAMVIKFQGVFKAYATTVFITMLVWVINAFILCVHSYNSVLAVILLVLYCYASLVTSRNTVIIMHCWLVFTFGLIVPTWLACCYLGFIIYMYTPLFLWCYGTTKNTRKLYDGNEFVGNYDLAAKSTFVIRGSEFVKLTNEIGDKFEAYLSAYARLKYYSGTGSEQDYLQACRAWLAYALDQYRNSGVEIVYTPPRYSIGVSRLQSGFKKLVSPSSAVEKCIVSVSYRGNNLNGLWLGDTIYCPRHVLGKFSGDQWNDVLNLANNHEFEVTTQHGVTLNVVSRRLKGAVLILQTAVANAETPKYKFIKANCGDSFTIACAYGGTVVGLYPVTMRSNGTIRASFLAGACGSVGFNIEKGVVNFFYMHHLELPNALHTGTDLMGEFYGGYVDEEVAQRVPPDNLVTNNIVAWLYAAIISVKESSFSLPKWLESTTVSVDDYNKWAGDNGFTPFSTSTAITKLSAITGVDVCKLLRTIMVKNSQWGGDPILGQYNFEDELTPESVFNQIGGVRLQSSFVRKATSWFWSRCVLACFLFVLCAIVLFTAVPLKFYVYAAVILLMAVLFISFTVKHVMAYMDTFLLPTLITVIIGVCAEVPFIYNTLISQVVIFLSQWYDPVVFDTMVPWMFLPLVLYTAFKCVQGCYMNSFNTSLLMLYQFVKLGFVIYTSSNTLTAYTEGNWELFFELVHTTVLANVSSNSLIGLFVFKCAKWMLYYCNATYLNNYVLMAVMVNCIGWLCTCYFGLYWWVNKVFGLTLGKYNFKVSVDQYRYMCLHKINPPKTVWEVFSTNILIQGIGGDRVLPIATVQAKLSDVKCTTVVLMQLLTKLNVEANSKMHVYLVELHNKILASDDVGECMDNLLGMLITLFCIDSTIDLSEYCDDILKRSTVLQSVTQEFSHIPSYAEYERAKNLYEKVLVDSKNGGVTQQELAAYRKAANIAKSVFDRDLAVQKKLDSMAERAMTTMYKEARVTDRRAKLVSSLHALLFSMLKKIDSEKLNVLFDQASSGVVPLATVPIVCSNKLTLVIPDPETWVKCVEGVHVTYSTVVWNIDTVIDADGTELHPTSTGSGLTYCISGANIAWPLKVNLTRNGHNKVDVVLQNNELMPHGVKTKACVAGVDQAHCSVESKCYYTNISGNSVVAAITSSNPNLKVASFLNEAGNQIYVDLDPPCKFGMKVGVKVEVVYLYFIKNTRSIVRGMVLGAISNVVVLQSKGHETEEVDAVGILSLCSFAVDPADTYCKYVAAGNQPLGNCVKMLTVHNGSGFAITSKPSPTPDQDSYGGASVCLYCRAHIAHPGSVGNLDGRCQFKGSFVQIPTTEKDPVGFCLRNKVCTVCQCWIGYGCQCDSLRQPKSSVQSVAGASDFDKNYLNGYGVAVRLG', 'DB_note': 'None', 'Created': '2003-04-16', 'Modified': '2004-02-02', 'PP_status': 'yes', 'Lib_sort': 'NULL'}, {'DB_ac': '475', 'Protein': 'spike protein', 'DB_nom': 'None', 'Organism': 'Avian infectious bronchitis virus [Beaudette]', 'abr': 'AIBV[Beaudette]', 'Tax_id': '11120', 'EC': 'None', '_3D_status': 'None', 'Length': '1162', 'Sequence': 'MLVTPLLLVTLLCALCSAVLYDSSSYVYYYQSAFRPPSGWHLQGGAYAVVNISSEFNNAGSSSGCTVGIIHGGRVVNASSIAMTAPSSGMAWSSSQFCTAHCNFSDTTVFVTHCYKHGGCPLTGMLQQNLIRVSAMKNGQLFYNLTVSVAKYPTFRSFQCVNNLTSVYLNGDLVYTSNETIDVTSAGVYFKAGGPITYKVMREVKALAYFVNGTAQDVILCDGSPRGLLACQYNTGNFSDGFYPFTNSSLVKQKFIVYRENSVNTTCTLHNFIFHNETGANPNPSGVQNIQTYQTKTAQSGYYNFNFSFLSSFVYKESNFMYGSYHPSCKFRLETINNGLWFNSLSVSIAYGPLQGGCKQSVFKGRATCCYAYSYGGPSLCKGVYSGELDHNFECGLLVYVTKSGGSRIQTATEPPVITQNNYNNITLNTCVDYNIYGRTGQGFITNVTDSAVSYNYLADAGLAILDTSGSIDIFVVQGEYGLNYYKVNPCEDVNQQFVVSGGKLVGILTSRNETGSQLLENQFYIKITNGTRRFRRSITENVANCPYVSYGKFCIKPDGSIATIVPKQLEQFVAPLFNVTENVLIPNSFNLTVTDEYIQTRMDKVQINCLQYVCGSSLDCRKLFQQYGPVCDNILSVVNSVGQKEDMELLNFYSSTKPAGFNTPVLSNVSTGEFNISLLLTNPSSRRKRSLIEDLLFTSVESVGLPTNDAYKNCTAGPLGFFKDLACAREYNGLLVLPPIITAEMQALYTSSLVASMAFGGITAAGAIPFATQLQARINHLGITQSLLLKNQEKIAASFNKAIGHMQEGFRSTSLALQQIQDVVSKQSAILTETMASLNKNFGAISSVIQEIYQQFDAIQANAQVDRLITGRLSSLSVLASAKQAEYIRVSQQRELATQKINECVKSQSIRYSFCGNGRHVLTIPQNAPNGIVFIHFSYTPDSFVNVTAIVGFCVKPANASQYAIVPANGRGIFIQVNGSYYITARDMYMPRAITAGDVVTLTSCQANYVSVNKTVITTFVDNDDFDFNDELSKWWNDTKHELPDFDKFNYTVPILDIDSEIDRIQGVIQGLNDSLIDLEKLSILKTYIKWPWYVWLAIAFATIIFILILGWVFFMTGCCGCCCGCFGIMPLMSKCGKKSSYYTTFDNDVVTEQYRPKKSV', 'DB_note': 'None', 'Created': '2003-04-16', 'Modified': '2003-05-07', 'PP_status': 'no', 'Lib_sort': 'NULL'}, {'DB_ac': '476', 'Protein': '3a protein', 'DB_nom': 'None', 'Organism': 'Avian infectious bronchitis virus [Beaudette]', 'abr': 'AIBV[Beaudette]', 'Tax_id': '11120', 'EC': 'None', '_3D_status': 'None', 'Length': '57', 'Sequence': 'MIQSPTSFLIVLILLWCKLVLSCFREFIIALQQLIQVLLQIINSNLQSRLTLWHSLD', 'DB_note': 'None', 'Created': '2003-04-16', 'Modified': '2003-04-16', 'PP_status': 'no', 'Lib_sort': 'NULL'}, {'DB_ac': '477', 'Protein': '3b protein', 'DB_nom': 'None', 'Organism': 'Avian infectious bronchitis virus [Beaudette]', 'abr': 'AIBV[Beaudette]', 'Tax_id': '11120', 'EC': 'None', '_3D_status': 'None', 'Length': '64', 'Sequence': 'MLNLEVIIETGEQVIQKISFNLQHISSVLNTEVFDPFDYCYYRGGNFWEIESAEDCSGDDEFIE', 'DB_note': 'None', 'Created': '2003-04-16', 'Modified': '2003-04-16', 'PP_status': 'no', 'Lib_sort': 'NULL'}, {'DB_ac': '478', 'Protein': 'small virion-associated protein', 'DB_nom': 'None', 'Organism': 'Avian infectious bronchitis virus [Beaudette]', 'abr': 'AIBV[Beaudette]', 'Tax_id': '11120', 'EC': 'None', '_3D_status': 'None', 'Length': '108', 'Sequence': 'MNLLNKSLEENGSFLTALYIIVGFLALYLLGRALQAFVQAADACCLFWYTWVVIPGAKGTAFVYKYTYGRKLNNPELEAVIVNEFPKNGWNNKNPANFQDAQRDKLYS', 'DB_note': 'None', 'Created': '2003-04-16', 'Modified': '2003-04-16', 'PP_status': 'no', 'Lib_sort': 'NULL'}, {'DB_ac': '479', 'Protein': 'membrane protein', 'DB_nom': 'None', 'Organism': 'Avian infectious bronchitis virus [Beaudette]', 'abr': 'AIBV[Beaudette]', 'Tax_id': '11120', 'EC': 'None', '_3D_status': 'None', 'Length': '225', 'Sequence': 'MPNETNCTLDFEQSVQLFKEYNLFITAFLLFLTIILQYGYATRSKVIYTLKMIVLWCFWPLNIAVGVISCTYPPNTGGLVAAIILTVFACLSFVGYWIQSIRLFKRCRSWWSFNPESNAVGSILLTNGQQCNFAIESVPMVLSPIIKNGVLYCEGQWLAKCEPDHLPKDIFVCTPDRRNIYRMVQKYTGDQSGNKKRFATFVYAKQSVDTGELESVATGGSSLYT', 'DB_note': 'None', 'Created': '2003-04-16', 'Modified': '2003-04-25', 'PP_status': 'no', 'Lib_sort': 'NULL'}, {'DB_ac': '480', 'Protein': '5a protein', 'DB_nom': 'None', 'Organism': 'Avian infectious bronchitis virus [Beaudette]', 'abr': 'AIBV[Beaudette]', 'Tax_id': '11120', 'EC': 'None', '_3D_status': 'None', 'Length': '65', 'Sequence': 'MKWLTSFGRAVISCYKSLLLTQLRVLDRLILDHGLLRVLTCSRRVLLVQLDLVYRLAYTPTQSLA', 'DB_note': 'None', 'Created': '2003-04-16', 'Modified': '2003-04-16', 'PP_status': 'no', 'Lib_sort': 'NULL'}, {'DB_ac': '481', 'Protein': '5b protein', 'DB_nom': 'None', 'Organism': 'Avian infectious bronchitis virus [Beaudette]', 'abr': 'AIBV[Beaudette]', 'Tax_id': '11120', 'EC': 'None', '_3D_status': 'None', 'Length': '82', 'Sequence': 'MNNSKDNPFRGAIARKARIYLREGLDCVYFLNKAGQAEPCPACTSLVFQGKTCEEHIHNNNLLSWQAVKQLEKQTPQRQSLN', 'DB_note': 'None', 'Created': '2003-04-16', 'Modified': '2003-04-16', 'PP_status': 'no', 'Lib_sort': 'NULL'}, {'DB_ac': '482', 'Protein': 'nucleocapsid protein', 'DB_nom': 'None', 'Organism': 'Avian infectious bronchitis virus [Beaudette]', 'abr': 'AIBV[Beaudette]', 'Tax_id': '11120', 'EC': 'None', '_3D_status': 'None', 'Length': '409', 'Sequence': 'MASGKAAGKTDAPAPVIKLGGPKPPKVGSSGNASWFQAIKAKKLNTPPPKFEGSGVPDNENIKPSQQHGYWRRQARFKPGKGGRKPVPDAWYFYYTGTGPAADLNWGDTQDGIVWVAAKGADTKSRSNQGTRDPDKFDQYPLRFSDGGPDGNFRWDFIPLNRGRSGRSTAASSAAASRAPSREGSRGRRSDSGDDLIARAAKIIQDQQKKGSRITKAKADEMAHRRYCKRTIPPNYRVDQVFGPRTKGKEGNFGDDKMNEEGIKDGRVTAMLNLVPSSHACLFGSRVTPKLQLDGLHLRFEFTTVVPCDDPQFDNYVKICDQCVDGVGTRPKDDEPKPKSRSSSRPATRGNSPAPRQQRPKKEKKLKKQDDEADKALTSDEERNNAQLEFYDEPKVINWGDAALGENEL', 'DB_note': 'None', 'Created': '2003-04-16', 'Modified': '2004-05-17', 'PP_status': 'no', 'Lib_sort': 'NULL'}]}}\n"
     ]
    }
   ],
   "source": [
    "trace:dict = {}\n",
    "\n",
    "for organism in VAZY_1['Organism']:\n",
    "\n",
    "    taxid:str = organism['Tax_id']\n",
    "\n",
    "    #print(taxid)\n",
    "    #print(Nidovirales_taxid)\n",
    "\n",
    "    for nido_taxid in Nidovirales_taxid:\n",
    "        if taxid == str(nido_taxid):\n",
    "\n",
    "            print(taxid)\n",
    "\n",
    "            trace[str(taxid)] = { **organism, 'CAZy_DB':filter__CAZy_DB__by__taxid(taxid)}\n",
    "            print(trace)\n",
    "\n",
    "        break\n",
    "\n",
    "    #break\n"
   ]
  },
  {
   "cell_type": "code",
   "execution_count": null,
   "metadata": {},
   "outputs": [],
   "source": []
  }
 ],
 "metadata": {
  "kernelspec": {
   "display_name": "Python 3",
   "language": "python",
   "name": "python3"
  },
  "language_info": {
   "codemirror_mode": {
    "name": "ipython",
    "version": 3
   },
   "file_extension": ".py",
   "mimetype": "text/x-python",
   "name": "python",
   "nbconvert_exporter": "python",
   "pygments_lexer": "ipython3",
   "version": "3.10.12"
  }
 },
 "nbformat": 4,
 "nbformat_minor": 2
}
