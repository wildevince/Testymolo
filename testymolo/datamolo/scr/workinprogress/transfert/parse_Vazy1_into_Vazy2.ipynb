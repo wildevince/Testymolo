{
 "cells": [
  {
   "cell_type": "code",
   "execution_count": 1,
   "metadata": {},
   "outputs": [],
   "source": [
    "import os\n",
    "from Bio import Entrez\n",
    "import json\n",
    "\n",
    "Entrez.email = \"VIMVer@univ-amu.fr\"\n",
    "\n",
    "Vazy1_dir:str = \"./../../../../testymolo/media/tables_csv/\"\n",
    "Vazy2_dir:str = \"./../../../../testymolo/media/data/transfert/\"\n",
    "data_dir:str = \"./../../../../testymolo/media/data/\"\n",
    "\n"
   ]
  },
  {
   "cell_type": "markdown",
   "metadata": {},
   "source": [
    "# Tables"
   ]
  },
  {
   "cell_type": "markdown",
   "metadata": {},
   "source": [
    "### Methods"
   ]
  },
  {
   "cell_type": "code",
   "execution_count": 4,
   "metadata": {},
   "outputs": [],
   "source": [
    "### caution when not all rows same nbr of col\n",
    "def custom_csv_parser_to_list(infilepath:str):\n",
    "    with open(infilepath ,'r') as handle:\n",
    "\n",
    "        rows:list = []\n",
    "\n",
    "        for line in handle.readlines():\n",
    "            line = line.strip(';') # removing terminal ';' \n",
    "            values:list = [] # re-initialize value list\n",
    "            val:str = \"\" # current parsing value\n",
    "            inquote:bool = False # re-initialize in quote : False\n",
    "            quote_char:str = '' # ' or \"\n",
    "            for c in line:\n",
    "                if(c == ','): # encounter comma\n",
    "                    if(not inquote): ## and not in quote\n",
    "                        val = val.strip(\"'\")\n",
    "                        val = val.strip('\"')\n",
    "                        if(len(val) > 0):\n",
    "                            values.append(val)\n",
    "                        else:\n",
    "                            values.append(None)\n",
    "                        val = \"\"\n",
    "                        continue\n",
    "                elif(c == '\"' or c == \"'\"): # encounter quote\n",
    "                    if(inquote): # already in quote \n",
    "                        if(quote_char == c):  # encounter ending quote mark\n",
    "                            inquote = False\n",
    "                        else: # encounter the other quote mark \n",
    "                            pass\n",
    "                    else: # encounter starting quote mark\n",
    "                        inquote = True\n",
    "                        quote_char = c\n",
    "                elif((c == ' ' or c == '\\n') and not inquote):  # get rid of whitespaces\n",
    "                    continue\n",
    "                val += c\n",
    "            if(len(val)>0):\n",
    "                val = val.strip(\"'\")\n",
    "                val = val.strip('\"')\n",
    "                values.append(val)\n",
    "\n",
    "            if(len(values) > 0):\n",
    "                rows.append(values)\n",
    "                #print(values)  \n",
    "                \n",
    "        #print(\"nbr of col\", set([len(row) for row in rows]))\n",
    "        #print(\"nbr of rows\", len(rows))\n",
    "\n",
    "        return rows\n",
    "    \n",
    "def csv_to_json(data:list, table_headers):\n",
    "    return [ { table_headers[i]:item[i] for i in range(len(item)) } for item in data ]"
   ]
  },
  {
   "cell_type": "code",
   "execution_count": 5,
   "metadata": {},
   "outputs": [],
   "source": [
    "def fetch_phylogeny(accession):\n",
    "    \n",
    "    def get_tax_data(taxid):\n",
    "        try:\n",
    "            search = Entrez.efetch(id=taxid, db='taxonomy', retmode='xml')\n",
    "            return Entrez.read(search)\n",
    "        except:\n",
    "            return []\n",
    "\n",
    "    def extract_TaxId(taxon):\n",
    "        return taxon['TaxId']\n",
    "\n",
    "    def extract_Name(taxon):\n",
    "        return taxon['ScientificName']\n",
    "\n",
    "    def extract_phylo(taxon):\n",
    "        return taxon['Lineage']\n",
    "    \n",
    "    for result in get_tax_data(accession):\n",
    "        taxon = {\n",
    "            'id':extract_TaxId(result),\n",
    "            'name':extract_Name(result),\n",
    "            'phylogeny':extract_phylo(result)\n",
    "            }\n",
    "        #taxon_json = json.dumps(taxon)\n",
    "        #print(taxon_json)\n",
    "    \n",
    "        return taxon"
   ]
  },
  {
   "cell_type": "code",
   "execution_count": 6,
   "metadata": {},
   "outputs": [],
   "source": [
    "def parse_table(table_name:str, table_headers:tuple) -> list:\n",
    "    return csv_to_json(custom_csv_parser_to_list(os.path.join(Vazy1_dir, table_name+'.csv')), table_headers)"
   ]
  },
  {
   "cell_type": "markdown",
   "metadata": {},
   "source": [
    "### Variables"
   ]
  },
  {
   "cell_type": "code",
   "execution_count": 7,
   "metadata": {},
   "outputs": [],
   "source": [
    "Vazy2_Organism_headers:tuple = (\"id\", \"name\", \"abr\", \"group\", \"phylogeny\", \"complete\")\n",
    "Vazy2_Organism_json:list = []\n",
    "\n",
    "VAZY_2:dict = {}\n",
    "Vazy2_Organism_json:list = []"
   ]
  },
  {
   "cell_type": "code",
   "execution_count": 8,
   "metadata": {},
   "outputs": [
    {
     "name": "stdout",
     "output_type": "stream",
     "text": [
      "{'Tax_id': '11020', 'Name': 'Barmah Forest virus', 'Categorie': 'Viruses', 'Classe': 'ssRNA positive-strand viruses, no DNA stage', 'Ordre': 'nd', 'Fam': 'Togaviridae', 'SsFam': 'nd', 'Genre': 'Alphavirus', 'Note_org': 'BFV complex'}\n"
     ]
    }
   ],
   "source": [
    "VAZY_1:dict = {\n",
    "    'Organism': parse_table('Organism', (\"Tax_id\", \"Name\", \"Categorie\", \"Classe\", \"Ordre\", \"Fam\", \"SsFam\", \"Genre\", \"Note_org\")),\n",
    "    'CAZy_DB': parse_table('CAZy_DB', (\"DB_ac\", \"Protein\", \"DB_nom\", \"Organism\", \"abr\", \"Tax_id\", \"EC\", \"_3D_status\", \"Length\", \"Sequence\", \"DB_note\", \"Created\", \"Modified\", \"PP_status\", \"Lib_sort\")),\n",
    "    'CAZy_GB_GP': parse_table('CAZy_GB_GP', (\"DB_ac\", \"GP_ac\", \"GB_ac\", \"GP_gi\", \"GP_gene\", \"GP_genomic\", \"GP_begin\", \"GP_end\", \"GP_note\")),\n",
    "    'CAZy_PDB': parse_table('CAZy_PDB', (\"DB_ac\", \"PDB_id\", \"PDB_chain\", \"PDB_begin\", \"PDB_end\", \"PDB_note\", \"PDB_bornModo\")),\n",
    "    'CAZy_PP': parse_table('CAZy_PP', (\"DB_ac\", \"PP_ac\", \"PP_gi\", \"PP_gene\", \"PP_begin\", \"PP_end\", \"PP_note\", \"PP_diff\")),\n",
    "    'CAZy_SP': parse_table('CAZy_SP', (\"DB_ac\", \"SP_ac\", \"SP_id\", \"SP_gene\", \"SP_begin\", \"SP_end\", \"SP_note\")),\n",
    "    'CAZyModO': parse_table('CAZyModO', (\"URL_family\", \"URL_title\", \"URL_body\", \"URL_relative\", \"URL_note\", \"Modified\")),\n",
    "    'Cz_EC' : parse_table('Cz_EC', (\"DB_ac\", \"EC\")),\n",
    "    'EC_num': parse_table('EC_num', (\"EC\", \"EC_name\", \"EC_othername\", \"EC_reaction\", \"EC_comment\")),\n",
    "    'ModO_Composition': parse_table('ModO_Composition', (\"DB_ac\", \"Mod_num\", \"Family\", \"Subf\")),\n",
    "    'ModO_CrossRefs': parse_table('ModO_CrossRefs', (\"Family\", \"Link\", \"URL_base\", \"URL_string\", \"Ref_note\")),\n",
    "    'ModO_Families': parse_table('ModO_Families', (\"Family\", \"Family_Name\", \"Family_Activity\", \"Family_Taxo\", \"Clan\", \"Family_note\", \"Family_Private_note\", \"Fold\", \"ModoS_uniqfct\", \"ModoS_Activity\", \"ModoS_Description\", \"ModoS_Fold\", \"ModoS_note\", \"ModoS_Private_note\", \"web_descript\", \"web_status\")),\n",
    "    'ModO_Limits': parse_table('ModO_Limits', (\"DB_ac\", \"Mod_num\", \"Mod_begin\", \"Mod_end\") ),\n",
    "    'Motifs':parse_table('Motifs', (\"motifs_ac\", \"motifs_name\", \"motifs_activity\", \"motifs_classification\", \"motifs_form\", \"motifs_note\")),\n",
    "    'Prot_Infos':parse_table('Prot_Infos', (\"DB_ac\", \"INFO_indice\", \"INFO_ac\", \"INFO_Nature\", \"INFO\", \"INFO_pmid\")),\n",
    "    'Prot_MOTIF':parse_table('Prot_MOTIF', (\"DB_ac\", \"MOTIF_indice\", \"MOTIF_ac\", \"MOTIF_name\", \"MOTIF_begin\", \"MOTIF_end\", \"MOTIF\", \"MOTIF_activity\", \"MOTIF_class\", \"MOTIF_note\", \"MOTIF_ref\", \"MOTIF_pmid\")),\n",
    "    'Prot_MUT': parse_table('Prot_MUT', (\"DB_ac\", \"MUT_indice\", \"MUT_ac\", \"MUT\", \"MUT_note\", \"MUT_ref\", \"MUT_pmid\")),\n",
    "    'Prot_REG': parse_table('Prot_REG', (\"DB_ac\", \"REG_indice\", \"REG_ac\", \"REG_name\", \"REG_begin\", \"REG_end\", \"REG_note\", \"REG_ref\", \"REG_pmid\")),\n",
    "    'Prot_RI': parse_table('Prot_RI',(\"DB_ac\", \"RI_indice\", \"RI_ac\", \"RI_name\", \"RI_begin\", \"RI_end\", \"RI_no_limit\", \"RI_note\", \"RI_ref\", \"RI_pmid\")),\n",
    "}\n",
    "\n",
    "print(VAZY_1['Organism'][0])\n"
   ]
  },
  {
   "cell_type": "markdown",
   "metadata": {},
   "source": [
    "### Resolve"
   ]
  },
  {
   "cell_type": "code",
   "execution_count": 19,
   "metadata": {},
   "outputs": [],
   "source": [
    "\"\"\" Fetch NCBI's taxonomy for each organism in VAZY_1 \\\\\n",
    "1m 47.1s\n",
    "\"\"\"\n",
    "for organism in VAZY_1['Organism']:\n",
    "    taxon:dict = fetch_phylogeny(organism['Tax_id'])\n",
    "    if taxon:\n",
    "        if \"Nidovirales\" in taxon['phylogeny']:\n",
    "            if not organism['Tax_id'] in [Vazy2_item['id'] for Vazy2_item in Vazy2_Organism_json]:\n",
    "                Vazy2_Organism_json.append(taxon)"
   ]
  },
  {
   "cell_type": "markdown",
   "metadata": {},
   "source": [
    "# Vazy1"
   ]
  },
  {
   "cell_type": "markdown",
   "metadata": {},
   "source": [
    "### Variables"
   ]
  },
  {
   "cell_type": "code",
   "execution_count": 20,
   "metadata": {},
   "outputs": [
    {
     "name": "stdout",
     "output_type": "stream",
     "text": [
      "[11120, 11128, 11137, 11138, 11149, 28295, 31631, 227984, 233262, 694007, 694008, 1335626, 2697049]\n"
     ]
    }
   ],
   "source": [
    "#import json\n",
    "Nidovirales_taxid:list = []\n",
    "Vazy2_json:list = []\n",
    "with open(\"./../../../../testymolo/media/data/Organism.temp.json\") as handle:\n",
    "    Vazy2_json:list = json.load(handle)\n",
    "Nidovirales_taxid = [ item['id'] for item in Vazy2_json]\n",
    "Nidovirales_taxid.sort()\n",
    "print(Nidovirales_taxid)\n",
    "\n",
    "#TaxId:list = [ int(Org['Tax_id']) for Org in VAZY_1['Organism'] ]\n",
    "#TaxId.sort()\n",
    "#print(TaxId)"
   ]
  },
  {
   "cell_type": "markdown",
   "metadata": {},
   "source": [
    "### Methods"
   ]
  },
  {
   "cell_type": "code",
   "execution_count": 21,
   "metadata": {},
   "outputs": [
    {
     "name": "stderr",
     "output_type": "stream",
     "text": [
      "<>:5: SyntaxWarning: \"is not\" with a literal. Did you mean \"!=\"?\n",
      "<>:5: SyntaxWarning: \"is not\" with a literal. Did you mean \"!=\"?\n",
      "/tmp/ipykernel_627093/2911456616.py:5: SyntaxWarning: \"is not\" with a literal. Did you mean \"!=\"?\n",
      "  if item['Subf'] is not '':\n"
     ]
    }
   ],
   "source": [
    "\n",
    "def Associate__ModO_Composition__ModO_Limits(DB_ac:str, Mod_num:str):\n",
    "    \"\"\" Associate ModO_Composition and ModO_Limits \"\"\"\n",
    "    for item in VAZY_1[\"ModO_Composition\"]:\n",
    "        if item['DB_ac'] == DB_ac and item['Mod_num'] == Mod_num:\n",
    "            if item['Subf'] is not '':\n",
    "                return item['Family']+'-'+item['Subf']\n",
    "            return item['Family']\n",
    "    return 'None'"
   ]
  },
  {
   "cell_type": "code",
   "execution_count": 22,
   "metadata": {},
   "outputs": [],
   "source": [
    "\n",
    "def filter__subseqs__by__DB_ac(DB_ac:str) -> list:\n",
    "    \"\"\" Collect every limits from each protein in CAZy_DB\"\"\"\n",
    "    result:list = []\n",
    "    for item in VAZY_1[\"ModO_Limits\"]:\n",
    "        if item['DB_ac'] == DB_ac :\n",
    "            record:dict = {**item, 'ModO':Associate__ModO_Composition__ModO_Limits(DB_ac, item['Mod_num'])}\n",
    "            result.append(record)\n",
    "    return result"
   ]
  },
  {
   "cell_type": "code",
   "execution_count": 23,
   "metadata": {},
   "outputs": [],
   "source": [
    "\n",
    "def filter__CAZy_DB__by__taxid(taxid:int) -> list:\n",
    "    \"\"\" Collect every item in CAZy_BD from the same organism. \"\"\"\n",
    "    result:list=[]\n",
    "    for item in VAZY_1['CAZy_DB']:\n",
    "        if str(item['Tax_id']) == str(taxid):\n",
    "            record:dict = {**item, 'ModO_Limits':filter__subseqs__by__DB_ac(item['DB_ac'])}\n",
    "            result.append(record)\n",
    "    #print(result)\n",
    "    return result"
   ]
  },
  {
   "cell_type": "markdown",
   "metadata": {},
   "source": [
    "### Resolve"
   ]
  },
  {
   "cell_type": "code",
   "execution_count": 24,
   "metadata": {},
   "outputs": [
    {
     "name": "stdout",
     "output_type": "stream",
     "text": [
      "11120 10\n",
      "11128 10\n",
      "11137 10\n",
      "11138 10\n",
      "11149 10\n",
      "28295 10\n",
      "31631 10\n"
     ]
    }
   ],
   "source": [
    "trace:dict = {}\n",
    "\"\"\" Faire la trace de VAZi-1 en fct de Tax_id\n",
    "\"\"\"\n",
    "for organism in VAZY_1['Organism']:\n",
    "\n",
    "    taxid:str = organism['Tax_id']\n",
    "\n",
    "    #print(taxid)\n",
    "    #print(Nidovirales_taxid)\n",
    "\n",
    "    for nido_taxid in Nidovirales_taxid:\n",
    "        if taxid == str(nido_taxid):\n",
    "\n",
    "            trace[str(taxid)] = { **organism, 'CAZy_DB':filter__CAZy_DB__by__taxid(taxid)}\n",
    "            print(taxid, len(trace[str(taxid)]))\n",
    "\n",
    "        #break\n",
    "\n",
    "    #break\n"
   ]
  },
  {
   "cell_type": "code",
   "execution_count": 25,
   "metadata": {},
   "outputs": [],
   "source": [
    "\"\"\" >> \"trace.json\" \n",
    "\"\"\"\n",
    "with open(os.path.join(Vazy2_dir,'trace.json'), 'w') as outfile:\n",
    "    outfile.write(json.dumps(trace))"
   ]
  },
  {
   "cell_type": "markdown",
   "metadata": {},
   "source": [
    "### save"
   ]
  },
  {
   "cell_type": "code",
   "execution_count": 32,
   "metadata": {},
   "outputs": [],
   "source": [
    "trace:dict = {}\n",
    "with open(os.path.join(Vazy2_dir,'trace.json')) as file:\n",
    "    trace = json.load(file)"
   ]
  },
  {
   "cell_type": "markdown",
   "metadata": {},
   "source": [
    "# Modulo"
   ]
  },
  {
   "cell_type": "markdown",
   "metadata": {},
   "source": [
    "### Variables"
   ]
  },
  {
   "cell_type": "code",
   "execution_count": 26,
   "metadata": {},
   "outputs": [],
   "source": [
    "\"\"\" ONLY F type module (functional) \"\"\"\n",
    "\n",
    "Moduli_f:list = []\n",
    "# modO family\n",
    "# modO size\n",
    "\n",
    "with open(os.path.join(data_dir, \"Organism.temp.json\")) as handle:\n",
    "    VAZY_2['Organism'] = json.load(handle)\n",
    "with open(os.path.join(data_dir, \"Protein.temp.json\")) as handle:\n",
    "    VAZY_2['Protein'] = json.load(handle)\n"
   ]
  },
  {
   "cell_type": "markdown",
   "metadata": {},
   "source": [
    "### method"
   ]
  },
  {
   "cell_type": "code",
   "execution_count": 59,
   "metadata": {},
   "outputs": [],
   "source": [
    "def exists__in__VAZ_2(DB_ac:str) -> bool:\n",
    "    for item in VAZY_2['Protein']:\n",
    "        if str(item['data_ac']) == DB_ac:\n",
    "            return True\n",
    "    return False\n",
    "\n"
   ]
  },
  {
   "cell_type": "markdown",
   "metadata": {},
   "source": [
    "### Resolve"
   ]
  },
  {
   "cell_type": "code",
   "execution_count": 27,
   "metadata": {},
   "outputs": [],
   "source": [
    "for Tax_id, organism in trace.items():\n",
    "    for protein in organism['CAZy_DB']:\n",
    "        for limits in protein['ModO_Limits']:\n",
    "            modO:str = limits['ModO']\n",
    "            if modO not in Moduli_f:\n",
    "                if modO.startswith('F'):\n",
    "                    Moduli_f.append(modO)\n"
   ]
  },
  {
   "cell_type": "code",
   "execution_count": 28,
   "metadata": {},
   "outputs": [
    {
     "name": "stdout",
     "output_type": "stream",
     "text": [
      "Moduli_f 38 ['F184', 'F185-A', 'F185-B', 'F186', 'F187', 'F188', 'F189-A', 'F190-A', 'F191', 'F192-A', 'F193', 'F194', 'F195', 'F196', 'F197', 'F198', 'F199', 'F200', 'F201', 'F202', 'F203', 'F204', 'F205', 'F206', 'F207', 'F208', 'F233', 'F240', 'F245', 'F246', 'F247', 'F248', 'F249', 'F250', 'F251', 'F252', 'F40', 'F41']\n"
     ]
    }
   ],
   "source": [
    "print('Moduli_f', len(Moduli_f), sorted(Moduli_f))"
   ]
  },
  {
   "cell_type": "markdown",
   "metadata": {},
   "source": [
    "### save"
   ]
  },
  {
   "cell_type": "code",
   "execution_count": 29,
   "metadata": {},
   "outputs": [],
   "source": [
    "\"\"\" >> \"Moduli_f.txt\" \n",
    "\"\"\"\n",
    "with open(os.path.join(Vazy2_dir,'Moduli_f.txt'), 'w') as outfile:\n",
    "    outfile.write(json.dumps(sorted(Moduli_f)))"
   ]
  },
  {
   "cell_type": "code",
   "execution_count": 30,
   "metadata": {},
   "outputs": [],
   "source": [
    "Moduli_f:list = []\n",
    "with open(os.path.join(Vazy2_dir,'Moduli_f.txt')) as file:\n",
    "    Moduli_f = json.load(file)"
   ]
  },
  {
   "cell_type": "markdown",
   "metadata": {},
   "source": [
    "### resolve"
   ]
  },
  {
   "cell_type": "code",
   "execution_count": 60,
   "metadata": {},
   "outputs": [],
   "source": [
    "trace_modO:dict = {}\n",
    "for Tax_id, organism in trace.items():\n",
    "    for protein in organism['CAZy_DB']:\n",
    "        for limits in protein['ModO_Limits']:\n",
    "            modO:str = limits['ModO']\n",
    "            if modO in Moduli_f:\n",
    "                if modO not in trace_modO:\n",
    "                    trace_modO[modO] = []\n",
    "                existing = exists__in__VAZ_2(limits['DB_ac'])\n",
    "                trace_modO[modO].append((limits['DB_ac'], limits['Mod_num'], limits['Mod_begin'], limits['Mod_end'], existing))"
   ]
  },
  {
   "cell_type": "markdown",
   "metadata": {},
   "source": [
    "### save"
   ]
  },
  {
   "cell_type": "code",
   "execution_count": 61,
   "metadata": {},
   "outputs": [],
   "source": [
    "\"\"\" >> \"trace_modO.json\" \n",
    "\"\"\"\n",
    "with open(os.path.join(Vazy2_dir,'trace_modO.json'), 'w') as outfile:\n",
    "    outfile.write(json.dumps(trace_modO))"
   ]
  },
  {
   "cell_type": "markdown",
   "metadata": {},
   "source": [
    "# Get profile"
   ]
  },
  {
   "cell_type": "markdown",
   "metadata": {},
   "source": [
    "### variable"
   ]
  },
  {
   "cell_type": "code",
   "execution_count": 1,
   "metadata": {},
   "outputs": [],
   "source": [
    "import os\n",
    "import json\n",
    "from Bio import SeqIO\n",
    "from Bio.Align.Applications import MuscleCommandline\n",
    "from subprocess import Popen\n",
    "\n",
    "## variables\n",
    "modO:str = \"F189-A\"\n",
    "subseqs:list = []\n",
    "VAZY_2:dict = {}\n",
    "\n",
    "## dir path\"\n",
    "data_dir:str = \"./../../../../testymolo/media/data/\"\n",
    "Vazy2_dir:str = os.path.join(data_dir, \"transfert/\")\n",
    "\n",
    "## read data files\n",
    "\"\"\" >> \"trace_modO.json\"  \"\"\"\n",
    "trace_modO:list = []\n",
    "with open(os.path.join(Vazy2_dir,'trace_modO.json')) as file:\n",
    "    trace_modO = json.load(file)\n",
    "with open(os.path.join(data_dir, \"Organism.temp.json\")) as handle:\n",
    "    VAZY_2['Organism'] = json.load(handle)\n",
    "with open(os.path.join(data_dir, \"Protein.temp.json\")) as handle:\n",
    "    VAZY_2['Protein'] = json.load(handle)\n",
    "with open(os.path.join(data_dir, \"Subseq.temp.json\")) as handle:\n",
    "    VAZY_2['subseq'] = json.load(handle)\n"
   ]
  },
  {
   "cell_type": "markdown",
   "metadata": {},
   "source": [
    "### method"
   ]
  },
  {
   "cell_type": "code",
   "execution_count": 2,
   "metadata": {},
   "outputs": [],
   "source": [
    "def get_organism(DB_ac:str) -> str:\n",
    "    for item in VAZY_2['Protein']:\n",
    "        if DB_ac == str(item['data_ac']):\n",
    "            return str(item['organism'])\n",
    "    return ''\n",
    "\n",
    "def get_origin(DB_ac:str) -> dict:\n",
    "    for item in VAZY_2['Protein']:\n",
    "        if DB_ac == str(item['data_ac']) and not item['derivedFromPP']:\n",
    "            return {'header':item['header'], 'sequence':item['sequence']}\n",
    "    return None\n",
    "\n",
    "def get_fasta(*sseq) -> dict:\n",
    "    origin = get_origin(sseq[0])\n",
    "    if origin:\n",
    "        start:int = int(sseq[2])\n",
    "        end:int = int(sseq[3])\n",
    "        header:str = f\">{origin['header']}:[{start}-{end}]\"\n",
    "        sequence:str = origin['sequence'][start-1:end-1]\n",
    "        return {'header':header, 'sequence':sequence} \n",
    "    return None"
   ]
  },
  {
   "cell_type": "code",
   "execution_count": 8,
   "metadata": {},
   "outputs": [],
   "source": [
    "### into fasta\n",
    "def into_fasta(dataset):\n",
    "    with open(\"./infile.fasta\",'w') as handle:\n",
    "        for fasta in subseqs:\n",
    "            handle.write(fasta['header']+'\\n')\n",
    "            handle.write(fasta['sequence']+'\\n')\n"
   ]
  },
  {
   "cell_type": "code",
   "execution_count": 9,
   "metadata": {},
   "outputs": [],
   "source": [
    "### align\n",
    "def align_muscle() -> str:\n",
    "    filepath = \"./infile.fasta\"\n",
    "    out_filepath = \"./outfile_muscle.fasta\"\n",
    "    command:str = str(MuscleCommandline(cmd='muscle', input=filepath, out=out_filepath))\n",
    "    print(command+\" -quiet\" )  # adding \"-quiet\" option ... doen't work in v3.8 ?! (but does in v5.)\n",
    "    Popen(command.split(' '))  # command must be a list of words\n",
    "    return out_filepath\n"
   ]
  },
  {
   "cell_type": "code",
   "execution_count": 10,
   "metadata": {},
   "outputs": [],
   "source": [
    "def parse_alignment(filepath:str) -> list:\n",
    "    msa:list = []\n",
    "    with open(filepath) as handle:\n",
    "        for record in SeqIO.parse(handle, format='fasta'):\n",
    "            msa.append({'header': record.description, 'sequence':str(record.seq)})\n",
    "    return msa"
   ]
  },
  {
   "cell_type": "markdown",
   "metadata": {},
   "source": [
    "### resolve"
   ]
  },
  {
   "cell_type": "code",
   "execution_count": 3,
   "metadata": {},
   "outputs": [
    {
     "name": "stdout",
     "output_type": "stream",
     "text": [
      "{'header': '>ORF1ab_polyprotein__(@473):[3929-4868]', 'sequence': 'SVAGASDFDKNYLNRVRGSSEARLIPLASGCDPDVVKRAFDVCNKESAGMFQNLKRNCARFQELRDTEDGNLEYLDSYFVVKQTTPSNYEHEKSCYEDLKSEVTADHDFFVFNKNIYNISRQRLTKYTMMDFCYALRHFDPKDCEVLKEILVTYGCIEDYHPKWFEENKDWYDPIENSKYYVMLAKMGPIVRRALLNAIEFGNLMVEKGYVGVITLDNQDLNGKFYDFGDFQKTAPGAGVPVFDTYYSYMMPIIAMTDALAPERYFEYDVHKGYKSYDLLKYDYTEEKQELFQKYFKYWDQEYHPNCRDCSDDRCLIHCANFNILFSTLIPQTSFGNLCRKVFVDGVPFIATCGYHSKELGVIMNQDNTMSFSKMGLSQLMQFVGDPALLVGTSNNLVDLRTSCFSVCALTSGITHQTVKPGHFNKDFYDFAEKAGMFKEGSSIPLKHFFYPQTGNAAINDYDYYRYNRPTMFDICQLLFCLEVTSKYFECYEGGCIPASQVVVNNLDKSAGYPFNKFGKARLYYEMSLEEQDQLFEITKKNVLPTITQMNLKYAISAKNRARTVAGVSILSTMTNRQFHQKILKSIVNTRNASVVIGTTKFYGGWDNMLRNLIQGVEDPILMGWDYPKCDRAMPNLLRIAASLVLARKHTNCCSWSERIYRLYNECAQVLSETVLATGGIYVKPGGTSSGDATTAYANSVFNIIQATSANVARLLSVITRDIVYDNIKSLQYELYQQVYRRVNFDPAFVEKFYSYLCKNFSLMILSDDGVVCYNNTLAKQGLVADISGFREVLYYQNNVFMADSKCWVEPDLEKGPHEFCSQHTMLVEVDGEPKYLPYPDPSRILGACVFVDDVDKTEPVAVMERYIALAIDAYPLVHHENEEYKKVFFVLLAYIRKLYQELSQNMLMDYSFVMDIDKGSKFWEQEFYENMYRAPTTL'}\n",
      "{'header': '>ORF1ab_polyprotein__(@465):[4069-4995]', 'sequence': 'SFDNSYLNRVRGSSAARLEPCNGTDIDYCVRAFDVYNKDASFIGKNLKSNCVRFKNVDKDDAFYIVKRCIKSVMDHEQSMYNLLKGCNAVAKHDFFTWHEGRTIYGNVSRQDLTKYTMMDLCFALRNFDEKDCEVFKEILVLTGCCSTDYFEMKNWFDPIENEDIHRVYAALGKVVANAMLKCVAFCDEMVLKGVVGVLTLDNQDLNGNFYDFGDFVLCPPGMGIPYCTSYYSYMMPVMGMTNCLASECFMKSDIFGQDFKTFDLLKYDFTEHKEVLFNKYFKYWGQDYHPDCVDCHDEMCILHCSNFNTLFATTIPNTAFGPLCRKVFIDGVPVVATAGYHFKQLGLVWNKDVNTHSTRLTITELLQFVTDPTLIVASSPALVDKRTVCFSVAALSTGLTSQTVKPGHFNKEFYDFLRSQGFFDEGSELTLKHFFFTQKGDAAIKDFDYYRYNRPTMLDIGQARVAYQVAARYFDCYEGGCITSREVVVTNLNKSAGWPLNKFGKAGLYYESISYEEQDAIFSLTKRNILPTMTQLNLKYAISGKERARTVGGVSLLATMTTRQFHQKCLKSIVATRNATVVIGTTKFYGGWDNMLKNLMADVDDPKLMGWDYPKCDRAMPSMIRMLSAMILGSKHVTCCTASDKFYRLSNELAQVLTEVVYSNGGFYFKPGGTTSGDATTAYANSVFNIFQAVSSNINCVLSVNSSNCNNFNVKKLQRQLYDNCYRNSNVDESFVDDFYGYLQKHFSMMILSDDSVVCYNKTYAGLGYIADISAFKATLYYQNGVFMSTAKCWTEEDLSIGPHEFCSQHTMQIVDENGKYYLPYPDPSRIISAGVFVDDITKTDAVILLERYVSLAIDAYPLSKHPKPEYRKVFYALLDWVKHLNKTLNEGVLESFSVTLLDEHESKFWDESFYASMYEKSTVL'}\n",
      "{'header': '>pp1ab__(@NP_045299):[4457-5384]', 'sequence': 'SKDTNFLNRVRGTSVNARLVPCASGLDTDVQLRAFDICNANRAGIGLYYKVNCCRFQRVDEDGNKLDKFFVVKRTNLEVYNKEKECYELTKECGVVAEHEFFTFDVEGSRVPHIVRKDLSKFTMLDLCYALRHFDRNDCSTLKEILLTYAECEESYFQKKDWYDFVENPDIINVYKKLGPIFNRALLNTAKFADALVEAGLVGVLTLDNQDLYGQWYDFGDFVKTVPGCGVAVADSYYSYMMPMLTMCHALDSELFVNGTYREFDLVQYDFTDFKLELFTKYFKHWSMTYHPNTCECEDDRCIIHCANFNILFSMVLPKTCFGPLVRQIFVDGVPFVVSIGYHYKELGVVMNMDVDTHRYRLSLKDLLLYAADPALHVASASALLDLRTCCFSVAAITSGVKFQTVKPGNFNQDFYEFILSKGLLKEGSSVDLKHFFFTQDGNAAITDYNYYKYNLPTMVDIKQLLFVLEVVNKYFEIYEGGCIPATQVIVNNYDKSAGYPFNKFGKARLYYEALSFEEQDEIYAYTKRNVLPTLTQMNLKYAISAKNRARTVAGVSILSTMTGRMFHQKCLKSIAATRGVPVVIGTTKFYGGWDDMLRRLIKDVDSPVLMGWDYPKCDRAMPNILRIVSSLVLARKHDSCCSHTDRFYRLANECAQVLSEIVMCGGCYYVKPGGTSSGDATTAFANSVFNICQAVSANVCSLMACNGHKIEDLSIRELQKRLYSNVYRADHVDPAFVSEYYEFLNKHFSMMILSDDGVVCYNSEFASKGYIANISAFQQVLYYQNNVFMSEAKCWVETDIEKGPHEFCSQHTMLVKMDGDEVYLPYPDPSRILGAGCFVDDLLKTDSVLLIERFVSLAIDAYPLVYHENPEYQNVFRVYLEYIKKLYNDLGNQILDSYSVILSTCDGQKFTDETFYKNMYLRSAVL'}\n",
      "{'header': '>ORF1ab_polyprotein__(@451):[3999-4928]', 'sequence': 'SFTVDQSYLFKRVRGSSAARLEPCNGTDPDHVSRAFDIYNKDVACIGKFLKTNCSRFRNLDKHDAYYIVKRCTKTVMDHEQVCYNDLKDSGAVAEHDFFTYKEGRCEFGNVARRNLTKYTMMDLCYAIRNFDEKNCEVLKEILVTVGACTEEFFENKDWFDPVENEAIHEVYAKLGPIVANAMLKCVAFCDAIVEKGYIGVITLDNQDLNGNFYDFGDFVKTAPGFGCACVTSYYSYMMPLMGMTSCLESENFVKSDIYGSDYKQYDLLAYDFTEHKEYLFQKYFKYWDRTYHPNCSDCTSDECIIHCANFNTLFSMTIPMTAFGPLVRKVHIDGVPVVVTAGYHFKQLGIVWNLDVKLDTMKLSMTDLLRFVTDPTLLVASSPALLDQRTVCFSIAALSTGITYQTVKPGHFNKDFYDFITERGFFEEGSELTLKHFFFAQGGEAAMTDFNYYRYNRVTVLDICQAQFVYKIVGKYFECYDGGCINAREVVVTNYDKSAGYPLNKFGKARLYYETLSYEEQDALFALTKRNVLPTMTQMNLKYAISGKARARTVGGVSLLSTMTTRQYHQKHLKSIAATRNATVVIGSTKFYGGWDNMLKNLMRDVDNGCLMGWDYPKCDRALPNMIRMASAMILGSKHVGCCTHNDRFYRLSNELAQVLTEVVHCTGGFYFKPGGTTSGDGTTAYANSAFNIFQAVSANVNKLLGVDSNACNNVTVKSIQRKIYDNCYRSSSIDEEFVVEYFSYLRKHFSMMILSDDGVVCYNKDYADLGYVADINAFKATLYYQNNVFMSTSKCWVEPDLSVGPHEFCSQHTLQIVGPDGDYYLPYPDPSRILSAGVFVDDIVKTDNVIMLERYVSLAIDAYPLTKHPKPAYQKVFYTLLDWVKHLQKNLNAGVLDSFSVTMLEEGQDKFWSEEFYASLYEKSTVL'}\n",
      "{'header': '>polyprotein__(@459):[4101-5027]', 'sequence': 'STDYGLFKRVRGSSAARLEPCNGTDTQHVYRAFDIYNKDVACLGKFLKVNCVRLKNLDKHDAFYVVKRCTKSAMEHEQSIYSRLEKCGAIAEHDFFTWKDGRAIYGNVCRKDLTEYTMMDLCYALRNFDENNCDVLKSILIKVGACEESYFNNKVWFDPVENEDIHRVYALLGTIVARAMLKCVKFCDAMVEQGIVGVVTLDNQDLNGDFYDFGDFTCSIKGMGVPICTSYYSYMMPVMGMTNCLASECFVKSDIFGEDFKSYDLLEYDFTEHKTALFNKYFKYWGLQYHPNCVDCSDEQCIVHCANFNTLFSTTIPITAFGPLCRKCWIDGVPLVTTAGYHFKQLGIVWNNDLNLHSSRLSINELLQFCSDPALLIASSPALVDQRTVCFSVAALGTGMTNQTVKPGHFNKEFYDFLLEQGFFSEGSELTLKHFFFAQKVDAAVKDFDYYRYNRPTVLDICQARVVYQIVQRYFDIYEGGCITAKEVVVTNLNKSAGYPLNKFGKAGLYYESLSYEEQDELYAYTKRNILPTMTQLNLKYAISGKERARTVGGVSLLSTMTTRQYHQKHLKSIVNTRGASVVIGTTKFYGGWDNMLKNLIDGVENPCLMGWDYPKCDRALPNMIRMISAMILGSKHTTCCSSTDRFFRLCNELAQVLTEVVYSNGGFYLKPGGTTSGDATTAYANSVFNIFQAVSANVNKLLSVDSNVCHNLEVKQLQRKLYECCYRSTIVDDQFVVEYYGYLRKHFSMMILSDDGVVCYNNDYASLGYVADLNAFKAVLYYQNNVFMSASKCWIEPDINKGPHEFCSQHTMQIVDKEGTYYLPYPDPSRILSAGVFVDDVVKTDAVVLLERYVSLAIDAYPLSKHENPEYKKVFYVLLDWVKHLYKTLNAGVLESFSVTLLEDSTAKFWDESFYANMYEKSAVL'}\n",
      "{'header': '>polyprotein_1ab__(@375):[4370-5297]', 'sequence': 'SKDTNFFKRVRGTSVDARLVPCASGLSTDVQLRAFDIYNASVAGIGLHLKVNCCRFQRVDENGDKLDQFFVVKRTDLTIYNREMKCYERVKDCKFVAEHDFFTFDVEGSRVPHIVRKDLTKYTMLDLCYALRHFDRNDCMLLCDILSIYAGCEQSYFTKKDWYDFVENPDIINVYKKLGPIFNRALVSATEFADKLVEVGLVGVLTLDNQDLNGKWYDFGDYVIAAPGCGVAIADSYYSYIMPMLTMCHALDCELYVNNAYRLFDLVQYDFTDYKLELFNKYFKHWSMPYHPNTVDCQDDRCIIHCANFNILFSMVLPNTCFGPLVRQIFVDGVPFVVSIGYHYKELGIVMNMDVDTHRYRLSLKDLLLYAADPALHVASASALYDLRTCCFSVAAITSGVKFQTVKPGNFNQDFYDFVLSKGLLKEGSSVDLKHFFFTQDGNAAITDYNYYKYNLPTMVDIKQLLFVLEVVYKYFEIYDGGCIPASQVIVNNYDKSAGYPFNKFGKARLYYEALSFEEQDEIYAYTKRNVLPTLTQMNLKYAISAKNRARTVAGVSILSTMTGRMFHQKCLKSIAATRGVPVVIGTTKFYGGWDDMLRRLIKDVDNPVLMGWDYPKCDRAMPNLLRIVSSLVLARKHETCCSQSDRFYRLANECAQVLSEIVMCGGCYYVKPGGTSSGDATTAFANSVFNICQAVSANVCALMSCNGNKIEDLSIRALQKRLYSHVYRSDKVDSTFVTEYYEFLNKHFSMMILSDDGVVCYNSDYASKGYIANISAFQQVLYYQNNVFMSESKCWVEHDINNGPHEFCSQHTMLVKMDGDDVYLPYPNPSRILGAGCFVDDLLKTDSVLLIERFVSLAIDAYPLVYHENEEYQKVFRVYLAYIKKLYNDLGNQILDSYSVILSTCDGQKFTDESFYKNMYLRSAVM'}\n"
     ]
    }
   ],
   "source": [
    "for sseq in trace_modO[modO]:\n",
    "    fasta = get_fasta(*sseq)\n",
    "    if fasta is not None:\n",
    "        subseqs.append(fasta)\n",
    "print(*subseqs, sep='\\n')"
   ]
  },
  {
   "cell_type": "code",
   "execution_count": 13,
   "metadata": {},
   "outputs": [
    {
     "name": "stdout",
     "output_type": "stream",
     "text": [
      "muscle -in ./infile.fasta -out ./outfile_muscle.fasta -quiet\n",
      "{'header': 'ORF1ab_polyprotein__(@451):[3999-4928]', 'sequence': '------SFTVDQSYLFKRVRGSS-AARLEPC-NGTDPDHVSRAFDIYNKDVACIGKFLKTNCSRFR--------NLDKHDAYYIVKRCTKTVMDHEQVCYNDLKDSGAVAEHDFFTYK-EGRCEFGNVARRNLTKYTMMDLCYAIRNFDEKNCEVLKEILVTVGACTEEFFEN-----KDWFDPVENEAIHEVYAKLGPIVANAMLKCVAFCDAIVEKGYIGVITLDNQDLNGNFYDFGDFVKTAPGFGCACVTSYYSYMMPLMGMTSCLESENFVKSDIYGSDYKQYDLLAYDFTEHKEYLFQKYFKYWDRTYHPNCSDCTSDECIIHCANFNTLFSMTIPMTAFGPLVRKVHIDGVPVVVTAGYHFKQLGIVWNLDVKLDTMKLSMTDLLRFVTDPTLLVASSPALLDQRTVCFSIAALSTGITYQTVKPGHFNKDFYDFITERGFFEEGSELTLKHFFFAQGGEAAMTDFNYYRYNRVTVLDICQAQFVYKIVGKYFECYDGGCINAREVVVTNYDKSAGYPLNKFGKARLYYETLSYEEQDALFALTKRNVLPTMTQMNLKYAISGKARARTVGGVSLLSTMTTRQYHQKHLKSIAATRNATVVIGSTKFYGGWDNMLKNLMRDVDNGCLMGWDYPKCDRALPNMIRMASAMILGSKHVGCCTHNDRFYRLSNELAQVLTEVVHCTGGFYFKPGGTTSGDGTTAYANSAFNIFQAVSANVNKLLGVDSNACNNVTVKSIQRKIYDNCYRSSSIDEEFVVEYFSYLRKHFSMMILSDDGVVCYNKDYADLGYVADINAFKATLYYQNNVFMSTSKCWVEPDLSVGPHEFCSQHTLQIVGPDGDYYLPYPDPSRILSAGVFVDDIVKTDNVIMLERYVSLAIDAYPLTKHPKPAYQKVFYTLLDWVKHLQKNLNAGVLDSFSVTMLEEGQDKFWSEEFYASLYEKSTVL'}\n"
     ]
    },
    {
     "name": "stderr",
     "output_type": "stream",
     "text": [
      "\n",
      "MUSCLE v3.8.1551 by Robert C. Edgar\n",
      "\n",
      "http://www.drive5.com/muscle\n",
      "This software is donated to the public domain.\n",
      "Please cite: Edgar, R.C. Nucleic Acids Res 32(5), 1792-97.\n",
      "\n",
      "infile 6 seqs, lengths min 926, max 939, avg 929\n",
      "00:00:00    16 MB(-2%)  Iter   1  100.00%  K-mer dist pass 1\n",
      "00:00:00    16 MB(-2%)  Iter   1  100.00%  K-mer dist pass 2\n"
     ]
    },
    {
     "name": "stderr",
     "output_type": "stream",
     "text": [
      "00:00:00    23 MB(-2%)  Iter   1  100.00%  Align node       \n",
      "00:00:00    23 MB(-2%)  Iter   1  100.00%  Root alignment\n",
      "00:00:00    23 MB(-2%)  Iter   2  100.00%  Refine tree   \n",
      "00:00:00    23 MB(-2%)  Iter   2  100.00%  Root alignment\n",
      "00:00:00    23 MB(-2%)  Iter   2  100.00%  Root alignment\n",
      "00:00:00    23 MB(-2%)  Iter   3  100.00%  Refine biparts\n",
      "00:00:00    23 MB(-2%)  Iter   4  100.00%  Refine biparts\n",
      "00:00:00    23 MB(-2%)  Iter   5  100.00%  Refine biparts\n",
      "00:00:00    23 MB(-2%)  Iter   6  100.00%  Refine biparts\n",
      "00:00:00    23 MB(-2%)  Iter   7  100.00%  Refine biparts\n",
      "00:00:00    23 MB(-2%)  Iter   8  100.00%  Refine biparts\n",
      "00:00:00    23 MB(-2%)  Iter   9  100.00%  Refine biparts\n",
      "00:00:00    23 MB(-2%)  Iter  10  100.00%  Refine biparts\n",
      "00:00:00    23 MB(-2%)  Iter  11  100.00%  Refine biparts\n",
      "00:00:00    23 MB(-2%)  Iter  12  100.00%  Refine biparts\n",
      "00:00:00    23 MB(-2%)  Iter  13  100.00%  Refine biparts\n",
      "00:00:00    23 MB(-2%)  Iter  13  100.00%  Refine biparts\n",
      "00:00:00    23 MB(-2%)  Iter  14  100.00%  Refine biparts\n",
      "00:00:00    23 MB(-2%)  Iter  15  100.00%  Refine biparts\n",
      "00:00:00    23 MB(-2%)  Iter  16  100.00%  Refine biparts\n",
      "00:00:00    23 MB(-2%)  Iter  17  100.00%  Refine biparts\n",
      "00:00:00    23 MB(-2%)  Iter  18  100.00%  Refine biparts\n",
      "00:00:00    23 MB(-2%)  Iter  19  100.00%  Refine biparts\n",
      "00:00:00    23 MB(-2%)  Iter  20  100.00%  Refine biparts\n",
      "00:00:00    23 MB(-2%)  Iter  21  100.00%  Refine biparts\n",
      "00:00:00    23 MB(-2%)  Iter  22  100.00%  Refine biparts\n",
      "00:00:00    23 MB(-2%)  Iter  23  100.00%  Refine biparts\n",
      "00:00:00    23 MB(-2%)  Iter  24  100.00%  Refine biparts\n",
      "00:00:00    23 MB(-2%)  Iter  25  100.00%  Refine biparts\n",
      "00:00:00    23 MB(-2%)  Iter  26  100.00%  Refine biparts\n",
      "00:00:00    23 MB(-2%)  Iter  27  100.00%  Refine biparts\n",
      "00:00:00    23 MB(-2%)  Iter  28  100.00%  Refine biparts\n",
      "00:00:00    23 MB(-2%)  Iter  29  100.00%  Refine biparts\n",
      "00:00:00    23 MB(-2%)  Iter  30  100.00%  Refine biparts\n",
      "00:00:00    23 MB(-2%)  Iter  31  100.00%  Refine biparts\n"
     ]
    }
   ],
   "source": [
    "into_fasta(subseqs)\n",
    "aligned_by_muscle = parse_alignment(align_muscle())\n",
    "print(aligned_by_muscle[0])"
   ]
  },
  {
   "cell_type": "code",
   "execution_count": 9,
   "metadata": {},
   "outputs": [],
   "source": [
    "## load Organism\n",
    "Organisms:list = []\n",
    "with open(os.path.join(data_dir, \"Organism.temp.json\")) as handle:\n",
    "    Organisms:list = json.load(handle)\n",
    "    \n",
    "trace:any\n",
    "with open(os.path.join(Vazy2_dir, \"trace_modO.json\")) as handle:\n",
    "    trace = json.load(handle)"
   ]
  },
  {
   "cell_type": "code",
   "execution_count": 13,
   "metadata": {},
   "outputs": [
    {
     "name": "stdout",
     "output_type": "stream",
     "text": [
      "['473', '494', '465', '483', '451', '459', '375']\n"
     ]
    }
   ],
   "source": [
    "DB_ac = [item[0] for item in trace[\"F189-A\"]]\n",
    "print(DB_ac)"
   ]
  },
  {
   "cell_type": "code",
   "execution_count": 14,
   "metadata": {},
   "outputs": [],
   "source": [
    "def Fetch_taxid_from_DBac(param):\n",
    "    for item in VAZY_1['CAZy_DB']: #['Tax_id']:\n",
    "        if str(item['DB_ac']) == str(param):\n",
    "            return item['Tax_id']\n",
    "    return None    "
   ]
  },
  {
   "cell_type": "code",
   "execution_count": 19,
   "metadata": {},
   "outputs": [
    {
     "name": "stdout",
     "output_type": "stream",
     "text": [
      "['11120', '11128', '11137', '11138', '11149', '28295', '31631']\n"
     ]
    }
   ],
   "source": [
    "TaxId = [str(Fetch_taxid_from_DBac(k)) for k in DB_ac]\n",
    "print(TaxId)"
   ]
  },
  {
   "cell_type": "code",
   "execution_count": 27,
   "metadata": {},
   "outputs": [
    {
     "name": "stdout",
     "output_type": "stream",
     "text": [
      "['Viruses', 'Riboviria', 'Orthornavirae', 'Pisuviricota', 'Pisoniviricetes', 'Nidovirales', 'Cornidovirineae', 'Coronaviridae', 'Orthocoronavirinae', 'Gammacoronavirus', 'Igacovirus', 'Avian coronavirus']\n",
      "['Viruses', 'Riboviria', 'Orthornavirae', 'Pisuviricota', 'Pisoniviricetes', 'Nidovirales', 'Cornidovirineae', 'Coronaviridae', 'Orthocoronavirinae', 'Betacoronavirus', 'Embecovirus', 'Betacoronavirus 1']\n",
      "['Viruses', 'Riboviria', 'Orthornavirae', 'Pisuviricota', 'Pisoniviricetes', 'Nidovirales', 'Cornidovirineae', 'Coronaviridae', 'Orthocoronavirinae', 'Alphacoronavirus', 'Duvinacovirus']\n",
      "['Viruses', 'Riboviria', 'Orthornavirae', 'Pisuviricota', 'Pisoniviricetes', 'Nidovirales', 'Cornidovirineae', 'Coronaviridae', 'Orthocoronavirinae', 'Betacoronavirus', 'Embecovirus', 'Murine coronavirus']\n",
      "['Viruses', 'Riboviria', 'Orthornavirae', 'Pisuviricota', 'Pisoniviricetes', 'Nidovirales', 'Cornidovirineae', 'Coronaviridae', 'Orthocoronavirinae', 'Alphacoronavirus', 'Tegacovirus', 'Alphacoronavirus 1']\n",
      "['Viruses', 'Riboviria', 'Orthornavirae', 'Pisuviricota', 'Pisoniviricetes', 'Nidovirales', 'Cornidovirineae', 'Coronaviridae', 'Orthocoronavirinae', 'Alphacoronavirus', 'Pedacovirus']\n",
      "['Viruses', 'Riboviria', 'Orthornavirae', 'Pisuviricota', 'Pisoniviricetes', 'Nidovirales', 'Cornidovirineae', 'Coronaviridae', 'Orthocoronavirinae', 'Betacoronavirus', 'Embecovirus', 'Betacoronavirus 1']\n"
     ]
    }
   ],
   "source": [
    "Phylogeny:list = []\n",
    "for org in Organisms:\n",
    "    if str(org['id']) in TaxId:\n",
    "        phylogeny:str = org['phylogeny']\n",
    "        phylogeny = phylogeny.split(';')\n",
    "        phylogeny = list([phylo.strip() for phylo in phylogeny])\n",
    "        Phylogeny.append(phylogeny)\n",
    "print(*Phylogeny, sep='\\n')"
   ]
  },
  {
   "cell_type": "code",
   "execution_count": 28,
   "metadata": {},
   "outputs": [],
   "source": [
    "def AllSameStrings(strings:list) -> bool:\n",
    "    if len(strings) > 1:\n",
    "        item = strings[0]\n",
    "        for w in strings[1:]:\n",
    "            if item != w :\n",
    "                return False\n",
    "        return True\n",
    "    else:\n",
    "        return False\n",
    "\n",
    "# LastCommonAncestor\n",
    "def LastCommonAncestor(phylos:list) -> str:\n",
    "    N = min([len(k) for k in phylos])\n",
    "    if N > 0:\n",
    "        lastCommonAncestor = \"\"\n",
    "        for k in range(N):\n",
    "            if AllSameStrings([phylo[k] for phylo in phylos]):\n",
    "                lastCommonAncestor = phylos[0][k]\n",
    "    return lastCommonAncestor"
   ]
  },
  {
   "cell_type": "code",
   "execution_count": 29,
   "metadata": {},
   "outputs": [
    {
     "data": {
      "text/plain": [
       "'Orthocoronavirinae'"
      ]
     },
     "execution_count": 29,
     "metadata": {},
     "output_type": "execute_result"
    }
   ],
   "source": [
    "LastCommonAncestor(Phylogeny)"
   ]
  },
  {
   "cell_type": "markdown",
   "metadata": {},
   "source": [
    "# else"
   ]
  }
 ],
 "metadata": {
  "kernelspec": {
   "display_name": "Python 3",
   "language": "python",
   "name": "python3"
  },
  "language_info": {
   "codemirror_mode": {
    "name": "ipython",
    "version": 3
   },
   "file_extension": ".py",
   "mimetype": "text/x-python",
   "name": "python",
   "nbconvert_exporter": "python",
   "pygments_lexer": "ipython3",
   "version": "3.10.12"
  }
 },
 "nbformat": 4,
 "nbformat_minor": 2
}
