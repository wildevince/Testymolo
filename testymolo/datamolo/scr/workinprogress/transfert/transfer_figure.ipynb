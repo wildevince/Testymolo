{
 "cells": [
  {
   "cell_type": "code",
   "execution_count": 2,
   "metadata": {},
   "outputs": [],
   "source": [
    "from IPython.core.display import display, HTML\n"
   ]
  },
  {
   "cell_type": "code",
   "execution_count": 38,
   "metadata": {},
   "outputs": [],
   "source": [
    "def overlapping(subseq_start:int, subseq_end:int, protein_start:int, protein_end:int):\n",
    "    SVG:str = \"\"\n",
    "    length = 100\n",
    "    height = 100\n",
    "\n",
    "    blue_x = 25\n",
    "    blue_y = 50\n",
    "    blue_w = 50\n",
    "    blue_h = 30\n",
    "\n",
    "    red_x = blue_x \n",
    "    red_y = 20\n",
    "    red_w = blue_w\n",
    "    red_h = blue_h\n",
    "    if not subseq_start in [protein_start-1, protein_start, protein_start+1]:\n",
    "        if subseq_start < protein_start-1:\n",
    "            red_x -= 10\n",
    "            red_w += 10\n",
    "        elif subseq_start > protein_start+1:\n",
    "            red_x += 10\n",
    "            red_w -= 10\n",
    "    if not subseq_end in [protein_end-1, protein_end, protein_end+1]:\n",
    "        if subseq_end > protein_end+1:\n",
    "            red_w += 10\n",
    "        elif subseq_end < protein_end-1:\n",
    "            red_w -= 10\n",
    "\n",
    "    SVG += f\"\"\"\n",
    "    <svg protein= width='{length}px' height='{height}px' >\n",
    "    <rect class='background' width='100%' height='100%' fill='white' fill-opacity='1' stroke='black'></rect>\n",
    "    <rect class='protein' x=\"{red_x}%\" y=\"{red_y}%\" width=\"{red_w}%\" height=\"{red_h}%\" fill='red' fill-opacity='1'></rect>\n",
    "    <rect class='protein' x=\"{blue_x}%\" y=\"{blue_y}%\" width=\"{blue_w}%\" height=\"{blue_h}%\" fill='blue' fill-opacity='1'></rect>\n",
    "    </svg>\n",
    "    \"\"\"\n",
    "    print(SVG)\n",
    "    return display(HTML(SVG))"
   ]
  },
  {
   "cell_type": "code",
   "execution_count": 39,
   "metadata": {},
   "outputs": [
    {
     "name": "stdout",
     "output_type": "stream",
     "text": [
      "\n",
      "    <svg protein= width='100px' height='100px' >\n",
      "    <rect class='background' width='100%' height='100%' fill='white' fill-opacity='1' stroke='black'></rect>\n",
      "    <rect class='protein' x=\"25%\" y=\"20%\" width=\"50%\" height=\"30%\" fill='red' fill-opacity='1'></rect>\n",
      "    <rect class='protein' x=\"25%\" y=\"50%\" width=\"50%\" height=\"30%\" fill='blue' fill-opacity='1'></rect>\n",
      "    </svg>\n",
      "    \n"
     ]
    },
    {
     "data": {
      "text/html": [
       "\n",
       "    <svg protein= width='100px' height='100px' >\n",
       "    <rect class='background' width='100%' height='100%' fill='white' fill-opacity='1' stroke='black'></rect>\n",
       "    <rect class='protein' x=\"25%\" y=\"20%\" width=\"50%\" height=\"30%\" fill='red' fill-opacity='1'></rect>\n",
       "    <rect class='protein' x=\"25%\" y=\"50%\" width=\"50%\" height=\"30%\" fill='blue' fill-opacity='1'></rect>\n",
       "    </svg>\n",
       "    "
      ],
      "text/plain": [
       "<IPython.core.display.HTML object>"
      ]
     },
     "metadata": {},
     "output_type": "display_data"
    }
   ],
   "source": [
    "overlapping(0,0,0,0)"
   ]
  },
  {
   "cell_type": "code",
   "execution_count": 40,
   "metadata": {},
   "outputs": [
    {
     "name": "stdout",
     "output_type": "stream",
     "text": [
      "\n",
      "    <svg protein= width='100px' height='100px' >\n",
      "    <rect class='background' width='100%' height='100%' fill='white' fill-opacity='1' stroke='black'></rect>\n",
      "    <rect class='protein' x=\"15%\" y=\"20%\" width=\"60%\" height=\"30%\" fill='red' fill-opacity='1'></rect>\n",
      "    <rect class='protein' x=\"25%\" y=\"50%\" width=\"50%\" height=\"30%\" fill='blue' fill-opacity='1'></rect>\n",
      "    </svg>\n",
      "    \n"
     ]
    },
    {
     "data": {
      "text/html": [
       "\n",
       "    <svg protein= width='100px' height='100px' >\n",
       "    <rect class='background' width='100%' height='100%' fill='white' fill-opacity='1' stroke='black'></rect>\n",
       "    <rect class='protein' x=\"15%\" y=\"20%\" width=\"60%\" height=\"30%\" fill='red' fill-opacity='1'></rect>\n",
       "    <rect class='protein' x=\"25%\" y=\"50%\" width=\"50%\" height=\"30%\" fill='blue' fill-opacity='1'></rect>\n",
       "    </svg>\n",
       "    "
      ],
      "text/plain": [
       "<IPython.core.display.HTML object>"
      ]
     },
     "metadata": {},
     "output_type": "display_data"
    }
   ],
   "source": [
    "overlapping(0,100,20,100)"
   ]
  },
  {
   "cell_type": "code",
   "execution_count": 36,
   "metadata": {},
   "outputs": [
    {
     "data": {
      "text/html": [
       "\n",
       "    <svg protein= width='100px' height='100px' >\n",
       "    <rect class='background' width='100%' height='100%' fill='white' fill-opacity='1' stroke='black'></rect>\n",
       "    <rect class='protein' x=\"15%\" y=\"20%\" width=\"50%\" height=\"30%\" fill='red' fill-opacity='1'></rect>\n",
       "    <rect class='protein' x=\"25%\" y=\"50%\" width=\"50%\" height=\"30%\" fill='blue' fill-opacity='1'></rect>\n",
       "    </svg>\n",
       "    "
      ],
      "text/plain": [
       "<IPython.core.display.HTML object>"
      ]
     },
     "metadata": {},
     "output_type": "display_data"
    }
   ],
   "source": [
    "overlapping(0,100,20,120)"
   ]
  }
 ],
 "metadata": {
  "kernelspec": {
   "display_name": "Python 3",
   "language": "python",
   "name": "python3"
  },
  "language_info": {
   "codemirror_mode": {
    "name": "ipython",
    "version": 3
   },
   "file_extension": ".py",
   "mimetype": "text/x-python",
   "name": "python",
   "nbconvert_exporter": "python",
   "pygments_lexer": "ipython3",
   "version": "3.10.12"
  }
 },
 "nbformat": 4,
 "nbformat_minor": 2
}
