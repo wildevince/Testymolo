{
 "cells": [
  {
   "cell_type": "markdown",
   "metadata": {},
   "source": [
    "# postgresql "
   ]
  },
  {
   "cell_type": "code",
   "execution_count": null,
   "metadata": {},
   "outputs": [],
   "source": []
  },
  {
   "cell_type": "code",
   "execution_count": null,
   "metadata": {},
   "outputs": [],
   "source": [
    ">>> Entry.objects.annotate(\n",
    "...     search=SearchVector(\"blog__tagline\", \"body_text\"),\n",
    "... ).filter(search=\"cheese\")\n",
    "[\n",
    "    <Entry: Cheese on Toast recipes>,\n",
    "    <Entry: Pizza Recipes>,\n",
    "    <Entry: Dairy farming in Argentina>,\n",
    "]\n"
   ]
  },
  {
   "cell_type": "code",
   "execution_count": null,
   "metadata": {},
   "outputs": [],
   "source": []
  }
 ],
 "metadata": {
  "language_info": {
   "name": "python"
  }
 },
 "nbformat": 4,
 "nbformat_minor": 2
}
