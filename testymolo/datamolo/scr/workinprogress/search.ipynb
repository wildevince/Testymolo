{
 "cells": [
  {
   "cell_type": "markdown",
   "metadata": {},
   "source": [
    "# DB"
   ]
  },
  {
   "cell_type": "code",
   "execution_count": 37,
   "metadata": {},
   "outputs": [],
   "source": [
    "import os, json\n",
    "\n",
    "testydata: str = \"./../../../testymolo/media/data/\"\n",
    "Proteins:list = json.load(open(os.path.join(testydata,'Protein.temp.json')))\n",
    "\n"
   ]
  },
  {
   "cell_type": "markdown",
   "metadata": {},
   "source": [
    "## Lexicon"
   ]
  },
  {
   "cell_type": "code",
   "execution_count": 38,
   "metadata": {},
   "outputs": [],
   "source": [
    "class Lexicon(): \n",
    "\n",
    "    content:dict = {\n",
    "            'methyltransferase':[\"methyltransferase\", \"nsp16\", \"2'-O-methyltransferase\", 'Mtase']\n",
    "        }\n",
    "\n",
    "    @staticmethod\n",
    "    def get_synonym(q):\n",
    "        for syn, values in Lexicon.content.items():\n",
    "            if q in values:\n",
    "                return syn\n",
    "        return None\n",
    "    \n",
    "    "
   ]
  },
  {
   "cell_type": "code",
   "execution_count": 41,
   "metadata": {},
   "outputs": [],
   "source": [
    "with open(os.path.join(testydata, \"Lexicon.json\"), 'w') as handle :\n",
    "    handle.write(json.dumps(Lexicon.content))"
   ]
  },
  {
   "cell_type": "markdown",
   "metadata": {},
   "source": [
    "# Input"
   ]
  },
  {
   "cell_type": "code",
   "execution_count": 39,
   "metadata": {},
   "outputs": [],
   "source": [
    "#suq:str = input(\"BALLS ???\")\n",
    "#print(suq)\n",
    "suq:str = \"methyltransferase\""
   ]
  },
  {
   "cell_type": "markdown",
   "metadata": {},
   "source": [
    "# Search"
   ]
  },
  {
   "cell_type": "code",
   "execution_count": null,
   "metadata": {},
   "outputs": [],
   "source": []
  }
 ],
 "metadata": {
  "kernelspec": {
   "display_name": "Python 3",
   "language": "python",
   "name": "python3"
  },
  "language_info": {
   "codemirror_mode": {
    "name": "ipython",
    "version": 3
   },
   "file_extension": ".py",
   "mimetype": "text/x-python",
   "name": "python",
   "nbconvert_exporter": "python",
   "pygments_lexer": "ipython3",
   "version": "3.10.12"
  }
 },
 "nbformat": 4,
 "nbformat_minor": 2
}
