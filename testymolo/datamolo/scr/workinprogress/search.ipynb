{
 "cells": [
  {
   "cell_type": "markdown",
   "metadata": {},
   "source": [
    "# DB"
   ]
  },
  {
   "cell_type": "code",
   "execution_count": 183,
   "metadata": {},
   "outputs": [],
   "source": [
    "import os, json\n",
    "\n",
    "testydata: str = \"./../../../testymolo/media/data/\"\n",
    "Proteins:list = json.load(open(os.path.join(testydata,'Protein.temp.json')))\n",
    "\n"
   ]
  },
  {
   "cell_type": "markdown",
   "metadata": {},
   "source": [
    "## Lexicon"
   ]
  },
  {
   "cell_type": "code",
   "execution_count": 38,
   "metadata": {},
   "outputs": [],
   "source": [
    "class Lexicon(): \n",
    "\n",
    "    content:dict = {\n",
    "            'methyltransferase':[\"methyltransferase\", \"nsp16\", \"2'-O-methyltransferase\", 'Mtase']\n",
    "        }\n",
    "\n",
    "    @staticmethod\n",
    "    def get_synonym(q):\n",
    "        for syn, values in Lexicon.content.items():\n",
    "            if q in values:\n",
    "                return syn\n",
    "        return None\n",
    "    \n",
    "    "
   ]
  },
  {
   "cell_type": "code",
   "execution_count": 41,
   "metadata": {},
   "outputs": [],
   "source": [
    "with open(os.path.join(testydata, \"Lexicon.json\"), 'w') as handle :\n",
    "    handle.write(json.dumps(Lexicon.content))"
   ]
  },
  {
   "cell_type": "markdown",
   "metadata": {},
   "source": [
    "# Input"
   ]
  },
  {
   "cell_type": "code",
   "execution_count": 39,
   "metadata": {},
   "outputs": [],
   "source": [
    "#suq:str = input(\"BALLS ???\")\n",
    "#print(suq)\n",
    "suq:str = \"methyltransferase\""
   ]
  },
  {
   "cell_type": "markdown",
   "metadata": {},
   "source": [
    "# Search"
   ]
  },
  {
   "cell_type": "code",
   "execution_count": null,
   "metadata": {},
   "outputs": [],
   "source": []
  },
  {
   "cell_type": "markdown",
   "metadata": {},
   "source": [
    "### aligning words"
   ]
  },
  {
   "cell_type": "code",
   "execution_count": 114,
   "metadata": {},
   "outputs": [],
   "source": [
    "referenced_word = \"methyltransferase\"\n",
    "input_kw = \"methyl\"\n",
    "\n",
    "spaces = '_'  ### default: ' ' \\s\n",
    "small_words:bool = True\n",
    "## local alignment\n",
    "\n",
    "ident:int = 2\n",
    "subst:int\n",
    "indel:int\n",
    "\n",
    "\n",
    "if small_words:\n",
    "    indel = max(-1, -2)\n",
    "    subst = min(-1, -2)\n",
    "else:\n",
    "    indel = min(-1, -2)\n",
    "    subst = max(-1, -2)\n",
    "\n",
    "#table:list = [[0] * (len(referenced_word)+1)] * (len(input_kw)+1) \n",
    "#vectors:list = [[0] * len(referenced_word)] * len(input_kw)"
   ]
  },
  {
   "cell_type": "code",
   "execution_count": 115,
   "metadata": {},
   "outputs": [],
   "source": [
    "table:list = []\n",
    "vectors:list = []\n",
    "for y in range(0, len(input_kw)+1):\n",
    "    table.append([])\n",
    "    if y > 0 : \n",
    "        vectors.append([])\n",
    "    for x in range(0, len(referenced_word)+1):\n",
    "        table[y].append(0) \n",
    "        if y > 0 and x > 0:\n",
    "            vectors[y-1].append(0)"
   ]
  },
  {
   "cell_type": "code",
   "execution_count": 116,
   "metadata": {},
   "outputs": [
    {
     "name": "stdout",
     "output_type": "stream",
     "text": [
      "[0, 0, 0, 0, 0, 0, 0, 0, 0, 0, 0, 0, 0, 0, 0, 0, 0, 0]\n",
      "[0, 0, 0, 0, 0, 0, 0, 0, 0, 0, 0, 0, 0, 0, 0, 0, 0, 0]\n",
      "[0, 0, 0, 0, 0, 0, 0, 0, 0, 0, 0, 0, 0, 0, 0, 0, 0, 0]\n",
      "[0, 0, 0, 0, 0, 0, 0, 0, 0, 0, 0, 0, 0, 0, 0, 0, 0, 0]\n",
      "[0, 0, 0, 0, 0, 0, 0, 0, 0, 0, 0, 0, 0, 0, 0, 0, 0, 0]\n",
      "[0, 0, 0, 0, 0, 0, 0, 0, 0, 0, 0, 0, 0, 0, 0, 0, 0, 0]\n",
      "[0, 0, 0, 0, 0, 0, 0, 0, 0, 0, 0, 0, 0, 0, 0, 0, 0, 0]\n",
      "\n",
      "\n",
      "[0, 0, 0, 0, 0, 0, 0, 0, 0, 0, 0, 0, 0, 0, 0, 0, 0]\n",
      "[0, 0, 0, 0, 0, 0, 0, 0, 0, 0, 0, 0, 0, 0, 0, 0, 0]\n",
      "[0, 0, 0, 0, 0, 0, 0, 0, 0, 0, 0, 0, 0, 0, 0, 0, 0]\n",
      "[0, 0, 0, 0, 0, 0, 0, 0, 0, 0, 0, 0, 0, 0, 0, 0, 0]\n",
      "[0, 0, 0, 0, 0, 0, 0, 0, 0, 0, 0, 0, 0, 0, 0, 0, 0]\n",
      "[0, 0, 0, 0, 0, 0, 0, 0, 0, 0, 0, 0, 0, 0, 0, 0, 0]\n"
     ]
    }
   ],
   "source": [
    "print(*table, sep='\\n')\n",
    "print('\\n')\n",
    "print(*vectors, sep='\\n')"
   ]
  },
  {
   "cell_type": "code",
   "execution_count": 117,
   "metadata": {},
   "outputs": [],
   "source": [
    "### filling\n",
    "    # for each x,y where( x:range(1, len(reference)+1) and  y:range(1, len(input)+1)\n",
    "        # calc score -> table(x,y)\n",
    "        # fix vector -> vectors(x-1, y-1)\n",
    "\n",
    "#  subst      -> 0        |ident/subst|  | insertion |  |  deletion |  |    y,x    |\n",
    "#  insertion  -> 1        | +0  |  0  |  |  0  |  0  |  |  0  | +0  |  |-1,-1| 0,-1|\n",
    "#  deletion   -> 2        |  0  | -M  |  |  +0 | -DI |  |  0  | -DI |  |-1, 0| 0, 0|"
   ]
  },
  {
   "cell_type": "code",
   "execution_count": 118,
   "metadata": {},
   "outputs": [
    {
     "name": "stdout",
     "output_type": "stream",
     "text": [
      "1 1 -> 0 0 -> m m 2 0\n",
      "2 1 -> 1 0 -> e m 1 2\n",
      "3 1 -> 2 0 -> t m 0 2\n",
      "4 1 -> 3 0 -> h m -1 1\n",
      "5 1 -> 4 0 -> y m -1 1\n",
      "6 1 -> 5 0 -> l m -1 1\n",
      "7 1 -> 6 0 -> t m -1 1\n",
      "8 1 -> 7 0 -> r m -1 1\n",
      "9 1 -> 8 0 -> a m -1 1\n",
      "10 1 -> 9 0 -> n m -1 1\n",
      "11 1 -> 10 0 -> s m -1 1\n",
      "12 1 -> 11 0 -> f m -1 1\n",
      "13 1 -> 12 0 -> e m -1 1\n",
      "14 1 -> 13 0 -> r m -1 1\n",
      "15 1 -> 14 0 -> a m -1 1\n",
      "16 1 -> 15 0 -> s m -1 1\n",
      "17 1 -> 16 0 -> e m -1 1\n",
      "1 2 -> 0 1 -> m e 1 1\n",
      "2 2 -> 1 1 -> e e 4 0\n",
      "3 2 -> 2 1 -> t e 3 2\n",
      "4 2 -> 3 1 -> h e 2 2\n",
      "5 2 -> 4 1 -> y e 1 2\n",
      "6 2 -> 5 1 -> l e 0 2\n",
      "7 2 -> 6 1 -> t e -1 2\n",
      "8 2 -> 7 1 -> r e -2 1\n",
      "9 2 -> 8 1 -> a e -2 1\n",
      "10 2 -> 9 1 -> n e -2 1\n",
      "11 2 -> 10 1 -> s e -2 1\n",
      "12 2 -> 11 1 -> f e -2 1\n",
      "13 2 -> 12 1 -> e e 1 0\n",
      "14 2 -> 13 1 -> r e 0 2\n",
      "15 2 -> 14 1 -> a e -1 2\n",
      "16 2 -> 15 1 -> s e -2 1\n",
      "17 2 -> 16 1 -> e e 1 0\n",
      "1 3 -> 0 2 -> m t 0 1\n",
      "2 3 -> 1 2 -> e t 3 1\n",
      "3 3 -> 2 2 -> t t 6 0\n",
      "4 3 -> 3 2 -> h t 5 2\n",
      "5 3 -> 4 2 -> y t 4 2\n",
      "6 3 -> 5 2 -> l t 3 2\n",
      "7 3 -> 6 2 -> t t 2 0\n",
      "8 3 -> 7 2 -> r t 1 2\n",
      "9 3 -> 8 2 -> a t 0 2\n",
      "10 3 -> 9 2 -> n t -1 2\n",
      "11 3 -> 10 2 -> s t -2 2\n",
      "12 3 -> 11 2 -> f t -3 1\n",
      "13 3 -> 12 2 -> e t 0 1\n",
      "14 3 -> 13 2 -> r t -1 0\n",
      "15 3 -> 14 2 -> a t -2 0\n",
      "16 3 -> 15 2 -> s t -3 0\n",
      "17 3 -> 16 2 -> e t 0 1\n",
      "1 4 -> 0 3 -> m h -1 1\n",
      "2 4 -> 1 3 -> e h 2 1\n",
      "3 4 -> 2 3 -> t h 5 1\n",
      "4 4 -> 3 3 -> h h 8 0\n",
      "5 4 -> 4 3 -> y h 7 2\n",
      "6 4 -> 5 3 -> l h 6 2\n",
      "7 4 -> 6 3 -> t h 5 2\n",
      "8 4 -> 7 3 -> r h 4 2\n",
      "9 4 -> 8 3 -> a h 3 2\n",
      "10 4 -> 9 3 -> n h 2 2\n",
      "11 4 -> 10 3 -> s h 1 2\n",
      "12 4 -> 11 3 -> f h 0 2\n",
      "13 4 -> 12 3 -> e h -1 1\n",
      "14 4 -> 13 3 -> r h -2 0\n",
      "15 4 -> 14 3 -> a h -3 0\n",
      "16 4 -> 15 3 -> s h -4 0\n",
      "17 4 -> 16 3 -> e h -1 1\n",
      "1 5 -> 0 4 -> m y -1 2\n",
      "2 5 -> 1 4 -> e y 1 1\n",
      "3 5 -> 2 4 -> t y 4 1\n",
      "4 5 -> 3 4 -> h y 7 1\n",
      "5 5 -> 4 4 -> y y 10 0\n",
      "6 5 -> 5 4 -> l y 9 2\n",
      "7 5 -> 6 4 -> t y 8 2\n",
      "8 5 -> 7 4 -> r y 7 2\n",
      "9 5 -> 8 4 -> a y 6 2\n",
      "10 5 -> 9 4 -> n y 5 2\n",
      "11 5 -> 10 4 -> s y 4 2\n",
      "12 5 -> 11 4 -> f y 3 2\n",
      "13 5 -> 12 4 -> e y 2 2\n",
      "14 5 -> 13 4 -> r y 1 2\n",
      "15 5 -> 14 4 -> a y 0 2\n",
      "16 5 -> 15 4 -> s y -1 2\n",
      "17 5 -> 16 4 -> e y -2 1\n",
      "1 6 -> 0 5 -> m l -1 2\n",
      "2 6 -> 1 5 -> e l 0 1\n",
      "3 6 -> 2 5 -> t l 3 1\n",
      "4 6 -> 3 5 -> h l 6 1\n",
      "5 6 -> 4 5 -> y l 9 1\n",
      "6 6 -> 5 5 -> l l 12 0\n",
      "7 6 -> 6 5 -> t l 11 2\n",
      "8 6 -> 7 5 -> r l 10 2\n",
      "9 6 -> 8 5 -> a l 9 2\n",
      "10 6 -> 9 5 -> n l 8 2\n",
      "11 6 -> 10 5 -> s l 7 2\n",
      "12 6 -> 11 5 -> f l 6 2\n",
      "13 6 -> 12 5 -> e l 5 2\n",
      "14 6 -> 13 5 -> r l 4 2\n",
      "15 6 -> 14 5 -> a l 3 2\n",
      "16 6 -> 15 5 -> s l 2 2\n",
      "17 6 -> 16 5 -> e l 1 2\n"
     ]
    }
   ],
   "source": [
    "for y in range(1, len(input_kw)+1):\n",
    "    for x in range(1, len(referenced_word)+1):\n",
    "        if referenced_word[x-1].lower() == input_kw[y-1].lower():\n",
    "            optimum = table[y-1][x-1] + ident\n",
    "            table[y][x] = optimum\n",
    "            vectors[y-1][x-1] = 0\n",
    "            print(x,y , '->', x-1,y-1 , '->', referenced_word[x-1],input_kw[y-1] , optimum , 0)\n",
    "        else:\n",
    "            costs:tuple = ((table[y-1][x-1] + subst), (table[y-1][x] + indel), (table[y][x-1] + indel))\n",
    "            optimum:int = max(costs)\n",
    "            k:int = costs.index(optimum)\n",
    "            #\n",
    "            table[y][x] = optimum\n",
    "            vectors[y-1][x-1] = k\n",
    "            #\n",
    "            print(x,y , '->', x-1,y-1 , '->', referenced_word[x-1],input_kw[y-1] , optimum , k)\n",
    "    "
   ]
  },
  {
   "cell_type": "code",
   "execution_count": 119,
   "metadata": {},
   "outputs": [
    {
     "name": "stdout",
     "output_type": "stream",
     "text": [
      "[0, 0, 0, 0, 0, 0, 0, 0, 0, 0, 0, 0, 0, 0, 0, 0, 0, 0]\n",
      "[0, 2, 1, 0, -1, -1, -1, -1, -1, -1, -1, -1, -1, -1, -1, -1, -1, -1]\n",
      "[0, 1, 4, 3, 2, 1, 0, -1, -2, -2, -2, -2, -2, 1, 0, -1, -2, 1]\n",
      "[0, 0, 3, 6, 5, 4, 3, 2, 1, 0, -1, -2, -3, 0, -1, -2, -3, 0]\n",
      "[0, -1, 2, 5, 8, 7, 6, 5, 4, 3, 2, 1, 0, -1, -2, -3, -4, -1]\n",
      "[0, -1, 1, 4, 7, 10, 9, 8, 7, 6, 5, 4, 3, 2, 1, 0, -1, -2]\n",
      "[0, -1, 0, 3, 6, 9, 12, 11, 10, 9, 8, 7, 6, 5, 4, 3, 2, 1]\n",
      "\n",
      "\n",
      "[0, 2, 2, 1, 1, 1, 1, 1, 1, 1, 1, 1, 1, 1, 1, 1, 1]\n",
      "[1, 0, 2, 2, 2, 2, 2, 1, 1, 1, 1, 1, 0, 2, 2, 1, 0]\n",
      "[1, 1, 0, 2, 2, 2, 0, 2, 2, 2, 2, 1, 1, 0, 0, 0, 1]\n",
      "[1, 1, 1, 0, 2, 2, 2, 2, 2, 2, 2, 2, 1, 0, 0, 0, 1]\n",
      "[2, 1, 1, 1, 0, 2, 2, 2, 2, 2, 2, 2, 2, 2, 2, 2, 1]\n",
      "[2, 1, 1, 1, 1, 0, 2, 2, 2, 2, 2, 2, 2, 2, 2, 2, 2]\n"
     ]
    }
   ],
   "source": [
    "print(*table, sep='\\n')\n",
    "print('\\n')\n",
    "print(*vectors, sep='\\n')"
   ]
  },
  {
   "cell_type": "code",
   "execution_count": 120,
   "metadata": {},
   "outputs": [
    {
     "name": "stdout",
     "output_type": "stream",
     "text": [
      "(6, 6) 12\n"
     ]
    }
   ],
   "source": [
    "final_column:list = [ row[-1] for row in table[1:] ]\n",
    "optimum_final_column:int = max(final_column)\n",
    "index_optimum_final_column:tuple = (final_column.index(optimum_final_column)+1, len(referenced_word))\n",
    "\n",
    "final_row:list = table[-1][1:]\n",
    "optimum_final_row:int = max(final_row)\n",
    "index_optimum_final_row:tuple = (len(input_kw), final_row.index(optimum_final_row)+1)\n",
    "\n",
    "indexes:list = [index_optimum_final_column, index_optimum_final_row]\n",
    "optimi:list = [optimum_final_column, optimum_final_row]\n",
    "\n",
    "global_optimum:int = max(optimi)\n",
    "global_index:tuple = indexes[optimi.index(global_optimum)]\n",
    "\n",
    "print(global_index, global_optimum)\n"
   ]
  },
  {
   "cell_type": "code",
   "execution_count": 125,
   "metadata": {},
   "outputs": [
    {
     "name": "stdout",
     "output_type": "stream",
     "text": [
      "6 6 -> 5 5 -> l l 0 0\n",
      "5 5 -> 4 4 -> y y 0 1\n",
      "4 4 -> 3 3 -> h h 0 2\n",
      "3 3 -> 2 2 -> t t 0 3\n",
      "2 2 -> 1 1 -> e e 0 4\n",
      "1 1 -> 0 0 -> m m 0 5\n",
      "6\n",
      "100 %\n"
     ]
    }
   ],
   "source": [
    "    j,i = global_index\n",
    "    score:int = 0\n",
    "\n",
    "    # starting point\n",
    "    while j > 0 and i > 0:\n",
    "        #score\n",
    "        \n",
    "        #vectors path\n",
    "        v = vectors[j-1][i-1]\n",
    "\n",
    "        print(i,j , '->', i-1,j-1 , '->', referenced_word[i-1],input_kw[j-1] , v , score)\n",
    "\n",
    "        if v == 0:\n",
    "            if referenced_word[i-1].lower() == input_kw[j-1].lower():\n",
    "                score += 1\n",
    "            j -= 1\n",
    "            i -= 1\n",
    "        elif v == 1:\n",
    "            i -= 1\n",
    "        elif v == 2:\n",
    "            j -= 1\n",
    "        else:\n",
    "            raise \"out of range\"\n",
    "    \n",
    "\n",
    "print(score)\n",
    "print(score//min(len(input_kw), len(referenced_word))*100, '%')\n"
   ]
  },
  {
   "cell_type": "code",
   "execution_count": 134,
   "metadata": {},
   "outputs": [],
   "source": [
    "\n",
    "\n",
    "def word_aligner(referenced_word:str, input_kw:str, small_words:bool=False) -> float:\n",
    "    \"\"\" return float in range(0,1) \"\"\"\n",
    "\n",
    "    ### scores\n",
    "    ident:int =2\n",
    "    indel:int = max(-1, -2) if(small_words) else min(-1, -2)\n",
    "    subst:int = min(-1, -2) if(small_words) else max(-1, -2)\n",
    "\n",
    "    ### initialization\n",
    "    table:list = []\n",
    "    vectors:list = []\n",
    "    for y in range(0, len(input_kw)+1):\n",
    "        table.append([])\n",
    "        if y > 0 : \n",
    "            vectors.append([])\n",
    "        for x in range(0, len(referenced_word)+1):\n",
    "            table[y].append(0) \n",
    "            if y > 0 and x > 0:\n",
    "                vectors[y-1].append(0)\n",
    "    \n",
    "    ### filling\n",
    "    for y in range(1, len(input_kw)+1):\n",
    "        for x in range(1, len(referenced_word)+1):\n",
    "            if referenced_word[x-1].lower() == input_kw[y-1].lower():\n",
    "                optimum = table[y-1][x-1] + ident\n",
    "                table[y][x] = optimum\n",
    "                vectors[y-1][x-1] = 0\n",
    "            else:\n",
    "                costs:tuple = ((table[y-1][x-1] + subst), (table[y-1][x] + indel), (table[y][x-1] + indel))\n",
    "                optimum:int = max(costs)\n",
    "                k:int = costs.index(optimum)\n",
    "                table[y][x] = optimum\n",
    "                vectors[y-1][x-1] = k\n",
    "                \n",
    "    ### solving\n",
    "    final_column:list = [ row[-1] for row in table[1:] ]\n",
    "    optimum_final_column:int = max(final_column)\n",
    "    index_optimum_final_column:tuple = (final_column.index(optimum_final_column)+1, len(referenced_word))\n",
    "    final_row:list = table[-1][1:]\n",
    "    optimum_final_row:int = max(final_row)\n",
    "    index_optimum_final_row:tuple = (len(input_kw), final_row.index(optimum_final_row)+1)\n",
    "    indexes:list = [index_optimum_final_column, index_optimum_final_row]\n",
    "    optimi:list = [optimum_final_column, optimum_final_row]\n",
    "    global_optimum:int = max(optimi)\n",
    "    global_index:tuple = indexes[optimi.index(global_optimum)]\n",
    "\n",
    "    ### scoring\n",
    "    j,i = global_index  # starting point\n",
    "    score:int = 0\n",
    "    while j > 0 and i > 0:\n",
    "        v = vectors[j-1][i-1]\n",
    "        if v == 0:\n",
    "            if referenced_word[i-1].lower() == input_kw[j-1].lower():\n",
    "                score += 1\n",
    "            j -= 1\n",
    "            i -= 1\n",
    "        elif v == 1:\n",
    "            i -= 1\n",
    "        elif v == 2:\n",
    "            j -= 1\n",
    "        else:\n",
    "            raise \"out of range\"\n",
    "\n",
    "    ### result\n",
    "    return float(score)/min(len(referenced_word), len(input_kw))\n"
   ]
  },
  {
   "cell_type": "code",
   "execution_count": 135,
   "metadata": {},
   "outputs": [
    {
     "name": "stdout",
     "output_type": "stream",
     "text": [
      "1.0\n"
     ]
    }
   ],
   "source": [
    "print(word_aligner(\"methyltransferase\", \"methyl\"))"
   ]
  },
  {
   "cell_type": "code",
   "execution_count": 137,
   "metadata": {},
   "outputs": [
    {
     "name": "stdout",
     "output_type": "stream",
     "text": [
      "NC_00001\n",
      "NC_00001\n"
     ]
    }
   ],
   "source": [
    "w1:str = \"NC_00001.1\"\n",
    "w2:str = \"NC_00001\"\n",
    "\n",
    "print(w1.split('.')[0])\n",
    "print(w2.split('.')[0])"
   ]
  },
  {
   "cell_type": "markdown",
   "metadata": {},
   "source": [
    "## PROSITE to regex"
   ]
  },
  {
   "cell_type": "code",
   "execution_count": 180,
   "metadata": {},
   "outputs": [
    {
     "name": "stdout",
     "output_type": "stream",
     "text": [
      "[ILV]-X-X-R-|-[FV]-[GS]-X\n",
      "X-|-R-K or R-|-R-X\n",
      "R-X-[RK]-R-|-X\n",
      "K-R-|-X or R-R-|-X\n",
      "D-{W}-[DNS]-{ILVFYW}-[DENSTG]-[DNQGHRK]-{GP}-[LIVMC]-[DENQSTAGC]-x(2)-[DE]-[LIVMFYW]\n",
      "x(2,4)\n",
      "F-[GSTV]-P-R-L-[G>]\n",
      "F-[GSTV]-P-R-L-G\n",
      "F-[GSTV]-P-R-L>\n",
      "[AC]-x-V-x(4)-{ED}\n",
      "<A-x-[ST](2)-x(0,1)-V\n",
      "[APS]-x-{VR}\n",
      "AAA??PPP\n",
      "LLL*CC\n",
      "<H(6)\n",
      "[APS](3)\n",
      "x(2,4)\n",
      "A(3)>\n"
     ]
    }
   ],
   "source": [
    "import re\n",
    "\n",
    "examples = [\n",
    "    \"[ILV]-X-X-R-|-[FV]-[GS]-X\", \"X-|-R-K or R-|-R-X\", \"R-X-[RK]-R-|-X\", \"K-R-|-X or R-R-|-X\", \n",
    "    \"D-{W}-[DNS]-{ILVFYW}-[DENSTG]-[DNQGHRK]-{GP}-[LIVMC]-[DENQSTAGC]-x(2)-[DE]-[LIVMFYW]\", \n",
    "    \"x(2,4)\", \"F-[GSTV]-P-R-L-[G>]\", 'F-[GSTV]-P-R-L-G', \"F-[GSTV]-P-R-L>\", \n",
    "    \"[AC]-x-V-x(4)-{ED}\", \"<A-x-[ST](2)-x(0,1)-V\", \"[APS]-x-{VR}\", \"AAA??PPP\", \"LLL*CC\",\n",
    "    \"<H(6)\", \"[APS](3)\", \"x(2,4)\", \"A(3)>\"\n",
    "    ]\n",
    "soluce = [\n",
    "    \"[ILV]..R[FV][GS].\", \"(.RK)|(RR.)\", \"R.[RK]R.\", \"(KR.)|(RR.)\",\n",
    "    \"D[^W][DNS][^ILVFYW][DENSTG][DNQGHRK][^GP][LIVMC][DENQSTAGC].{2}[DE][LIVMFYW]\",\n",
    "    \".{2,4}\", \"F[GSTV]PRLG?$\", \"F[GSTV]PRLG\", \"F[GSTV]PRL$\",\n",
    "    \"[AC].V.{4}[^ED]\", \"^A.[ST]{2}.?V\", \"[APS].[^VR]\", \"AAA..PPP\", \"LLL.*CC\", \n",
    "    \"^H{6}\", \"[APS]{3}\", \".{2,4}\", \"A{3}$\"\n",
    "]\n",
    "print(*examples, sep='\\n')"
   ]
  },
  {
   "cell_type": "code",
   "execution_count": 197,
   "metadata": {},
   "outputs": [],
   "source": [
    "pouet:list = []\n",
    "\n",
    "for prosite in examples:\n",
    "\n",
    "    regex:str = \"\"\n",
    "    prosite_length:int = len(prosite)\n",
    "\n",
    "    if prosite.startswith('<'):\n",
    "        regex = '^'+regex\n",
    "    \n",
    "    i:int = 0\n",
    "    in_term:bool = False\n",
    "    quantity:bool = False\n",
    "    in_or:bool = False\n",
    "    while i < prosite_length:\n",
    "    #for i in range(len(prosite)):\n",
    "        c = prosite[i]\n",
    "\n",
    "        if c in ['[', '{'] :\n",
    "            term:str = \"\"\n",
    "            in_term:bool = True\n",
    "\n",
    "        elif c in [']', '}', '>'] and in_term:\n",
    "            if c == '>' and prosite[i+1] in ['}', ']'] and len(term) == 1:\n",
    "                in_term = False  # ignoring brackets\n",
    "                if c == ['}']:\n",
    "                    regex += '[^'+term+']?$'\n",
    "                else:\n",
    "                    regex += term+'?$'\n",
    "                term = \"\"\n",
    "                i += 1\n",
    "            elif c == '>' and prosite[i+1] in ['}', ']'] and len(term) > 1:\n",
    "                in_term = False\n",
    "                if c == ['}']:\n",
    "                    regex += '[^'+term+']?$'\n",
    "                else:\n",
    "                    regex += '['+term+']?$'\n",
    "                term = \"\"\n",
    "                i += 1\n",
    "            elif c == '>' :\n",
    "                print(prosite, '->', regex, term)\n",
    "                raise \"WHAT ?\"\n",
    "            elif c == '}':\n",
    "                in_term = False\n",
    "                regex += '[^'+term+']'\n",
    "                term = \"\"\n",
    "            else:\n",
    "                # c == ']'\n",
    "                in_term = False\n",
    "                regex += '['+term+']'\n",
    "                term = \"\"\n",
    "\n",
    "        elif c == '(' :\n",
    "            quantity = True\n",
    "            regex += '{'\n",
    "\n",
    "        elif c == ',' :\n",
    "            if quantity:\n",
    "                regex += ','\n",
    "            else:\n",
    "                print(prosite, '->', regex, term)\n",
    "                raise \"WHAT\"\n",
    "\n",
    "        elif c == ')':\n",
    "            if quantity:\n",
    "                quantity = False\n",
    "                regex += '}'\n",
    "            else:\n",
    "                print(prosite, '->', regex, term)\n",
    "                raise \"WHAT\"\n",
    "        \n",
    "        elif c in ['X', 'x', '?'] :\n",
    "            if in_term:\n",
    "                print(prosite, '->', regex, term)\n",
    "                raise \"WHAT any in brackets ?\"\n",
    "            elif quantity:\n",
    "                print(prosite, '->', regex, term)\n",
    "                raise \"WHAT any in quantity ?\"\n",
    "            else:\n",
    "                regex += '.'\n",
    "        \n",
    "        elif c in [' ', '-', '|', '>', '<']:\n",
    "            pass\n",
    "\n",
    "        elif c == '*':\n",
    "            regex += '.*'\n",
    "\n",
    "        elif c == 'o':\n",
    "            if i+1 < prosite_length:\n",
    "                if prosite[i+1] == 'r':\n",
    "                    in_or = True\n",
    "                    i += 1\n",
    "                    regex = '('+regex+')|('\n",
    "                else:\n",
    "                    raise \"What not or ?\"\n",
    "            else:\n",
    "                raise \"what ending o , not or ?\"\n",
    "        \n",
    "        else:\n",
    "            # AA \n",
    "            if in_term :\n",
    "                term += c\n",
    "            elif quantity :\n",
    "                if c in [str(num) for num in range(10)]:\n",
    "                    regex += c\n",
    "                else:\n",
    "                    print(prosite, '->', regex, term)\n",
    "                    raise \"WHAT must find interger\"\n",
    "            else:\n",
    "                regex += c\n",
    "\n",
    "        i += 1\n",
    "\n",
    "    if prosite.endswith('>'):\n",
    "        # not only case\n",
    "        regex = regex+'$'\n",
    "    \n",
    "    if in_or:\n",
    "        regex += ')'\n",
    "\n",
    "    regex = regex.replace(\"{0,1}\", '?')\n",
    "    pouet.append(regex)\n",
    "\n",
    "    #print(prosite, '->', regex)\n",
    "    "
   ]
  },
  {
   "cell_type": "code",
   "execution_count": 231,
   "metadata": {},
   "outputs": [],
   "source": [
    "chouette:list = []\n",
    "\n",
    "for prosite in examples:\n",
    "\n",
    "    regex:str = \"\"\n",
    "    prosite_length:int = len(prosite)\n",
    "\n",
    "    if prosite.startswith('<'):\n",
    "        regex = '^'+regex\n",
    "    \n",
    "    i:int = 0\n",
    "\n",
    "    starts:dict   = {'(':'{', '[':'[', '{':'[^'}\n",
    "    ends:dict   = {'{':'}', '[':']', '[^':']'}\n",
    "    brackets:dict = {'(':')', '[':']', '{':'}'}\n",
    "\n",
    "\n",
    "    #print(prosite)\n",
    "    while i < prosite_length:\n",
    "    #for i in range(len(prosite)):\n",
    "        c = prosite[i]\n",
    "        #print(c)\n",
    "\n",
    "        if c in '[{(':\n",
    "            stop:str = brackets[c]\n",
    "            #j:int = prosite[i+1:].index(stop, i+1, prosite_length)\n",
    "            j:int = prosite.index(stop, i, prosite_length)+1\n",
    "            term:str = prosite[i:j].strip(c).strip(stop)\n",
    "            start:str = starts[c]\n",
    "            end:str = ends[start]\n",
    "\n",
    "            if term.endswith('>'):\n",
    "                term = term[:-1]\n",
    "                if c == '{':\n",
    "                    start = '[^'\n",
    "                    end = ']?$'\n",
    "                elif c == '[':\n",
    "                    if len(term) > 1:\n",
    "                        start = '['\n",
    "                        end = ']?$'\n",
    "                    else:\n",
    "                        start = ''\n",
    "                        end = '?$'\n",
    "            elif c == '(' and term == '0,1':\n",
    "                term = '?'\n",
    "                start = ''\n",
    "                end = ''\n",
    "\n",
    "            regex += start+term+end\n",
    "            #i += 1+len(term)+1\n",
    "            i = j\n",
    "            \n",
    "        elif c in \"Xx?\":\n",
    "            regex += '.'\n",
    "            i += 1\n",
    "\n",
    "        elif c in '*':\n",
    "            regex += '.*'\n",
    "            i += 1\n",
    "        \n",
    "        elif c in \" -|<>\":\n",
    "            i += 1\n",
    "            pass\n",
    "        \n",
    "        else:\n",
    "            regex += c\n",
    "            i += 1\n",
    "\n",
    "\n",
    "    if prosite.endswith('>'):\n",
    "        # not only case\n",
    "        regex = regex+'$'\n",
    "    \n",
    "    if 'or' in regex:\n",
    "        regex =  '('+')|('.join(regex.split('or'))+')'\n",
    "\n",
    "    chouette.append(regex)\n",
    "    \n",
    "\n",
    "    #print(prosite, '->', regex)\n",
    "    "
   ]
  },
  {
   "cell_type": "code",
   "execution_count": 249,
   "metadata": {},
   "outputs": [
    {
     "name": "stdout",
     "output_type": "stream",
     "text": [
      "251\n"
     ]
    }
   ],
   "source": [
    "import datetime\n",
    "\n",
    "a = datetime.datetime.now()\n",
    "for rep in range(10):\n",
    "    for k in range(len(examples)):\n",
    "        if soluce[k] == pouet[k]:\n",
    "            valid = 'YES'\n",
    "        else:\n",
    "            valid = 'no...'\n",
    "            print(valid, ':' , soluce[k], '==', pouet[k])\n",
    "        #\n",
    "b = datetime.datetime.now()\n",
    "c1 = b-a\n",
    "print(c1.microseconds)"
   ]
  },
  {
   "cell_type": "code",
   "execution_count": 250,
   "metadata": {},
   "outputs": [
    {
     "name": "stdout",
     "output_type": "stream",
     "text": [
      "172\n"
     ]
    }
   ],
   "source": [
    "a = datetime.datetime.now()\n",
    "for rep in range(10):\n",
    "    for k in range(len(examples)):\n",
    "        if soluce[k] == chouette[k]:\n",
    "            valid = 'YES'\n",
    "        else:\n",
    "            valid = 'no...'\n",
    "            print(valid, ':' , soluce[k], '==', chouette[k])\n",
    "        #\n",
    "b = datetime.datetime.now()\n",
    "c2 = b-a\n",
    "print(c2.microseconds)"
   ]
  },
  {
   "cell_type": "code",
   "execution_count": 251,
   "metadata": {},
   "outputs": [
    {
     "name": "stdout",
     "output_type": "stream",
     "text": [
      "chouette\n"
     ]
    },
    {
     "data": {
      "text/plain": [
       "68.52589641434263"
      ]
     },
     "execution_count": 251,
     "metadata": {},
     "output_type": "execute_result"
    }
   ],
   "source": [
    "print( 'pouet' if c1 < c2 else 'chouette')\n",
    "c_min = min(c1,c2)\n",
    "c_max = max(c1,c2)\n",
    "(c_min)/c_max*100"
   ]
  }
 ],
 "metadata": {
  "kernelspec": {
   "display_name": "Python 3",
   "language": "python",
   "name": "python3"
  },
  "language_info": {
   "codemirror_mode": {
    "name": "ipython",
    "version": 3
   },
   "file_extension": ".py",
   "mimetype": "text/x-python",
   "name": "python",
   "nbconvert_exporter": "python",
   "pygments_lexer": "ipython3",
   "version": "3.10.12"
  }
 },
 "nbformat": 4,
 "nbformat_minor": 2
}
