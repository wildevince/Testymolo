{
 "cells": [
  {
   "cell_type": "markdown",
   "metadata": {},
   "source": [
    "# DB"
   ]
  },
  {
   "cell_type": "code",
   "execution_count": 37,
   "metadata": {},
   "outputs": [],
   "source": [
    "import os, json\n",
    "\n",
    "testydata: str = \"./../../../testymolo/media/data/\"\n",
    "Proteins:list = json.load(open(os.path.join(testydata,'Protein.temp.json')))\n",
    "\n"
   ]
  },
  {
   "cell_type": "markdown",
   "metadata": {},
   "source": [
    "## Lexicon"
   ]
  },
  {
   "cell_type": "code",
   "execution_count": 38,
   "metadata": {},
   "outputs": [],
   "source": [
    "class Lexicon(): \n",
    "\n",
    "    content:dict = {\n",
    "            'methyltransferase':[\"methyltransferase\", \"nsp16\", \"2'-O-methyltransferase\", 'Mtase']\n",
    "        }\n",
    "\n",
    "    @staticmethod\n",
    "    def get_synonym(q):\n",
    "        for syn, values in Lexicon.content.items():\n",
    "            if q in values:\n",
    "                return syn\n",
    "        return None\n",
    "    \n",
    "    "
   ]
  },
  {
   "cell_type": "code",
   "execution_count": 41,
   "metadata": {},
   "outputs": [],
   "source": [
    "with open(os.path.join(testydata, \"Lexicon.json\"), 'w') as handle :\n",
    "    handle.write(json.dumps(Lexicon.content))"
   ]
  },
  {
   "cell_type": "markdown",
   "metadata": {},
   "source": [
    "# Input"
   ]
  },
  {
   "cell_type": "code",
   "execution_count": 39,
   "metadata": {},
   "outputs": [],
   "source": [
    "#suq:str = input(\"BALLS ???\")\n",
    "#print(suq)\n",
    "suq:str = \"methyltransferase\""
   ]
  },
  {
   "cell_type": "markdown",
   "metadata": {},
   "source": [
    "# Search"
   ]
  },
  {
   "cell_type": "code",
   "execution_count": null,
   "metadata": {},
   "outputs": [],
   "source": []
  },
  {
   "cell_type": "markdown",
   "metadata": {},
   "source": [
    "### aligning words"
   ]
  },
  {
   "cell_type": "code",
   "execution_count": 106,
   "metadata": {},
   "outputs": [],
   "source": [
    "referenced_word = \"AIBV[Beaudette]\"\n",
    "input_kw = \"IBV\"\n",
    "\n",
    "spaces = '_'  ### default: ' ' \\s\n",
    "small_words:bool = True\n",
    "## local alignment\n",
    "\n",
    "ident:int = 2\n",
    "subst:int\n",
    "indel:int\n",
    "\n",
    "\n",
    "if small_words:\n",
    "    indel = max(-1, -2)\n",
    "    subst = min(-1, -2)\n",
    "else:\n",
    "    indel = min(-1, -2)\n",
    "    subst = max(-1, -2)\n",
    "\n",
    "table:list = [[0] * (len(referenced_word)+1)] * (len(input_kw)+1) \n",
    "vectors:list = [[0] * len(referenced_word)] * len(input_kw)"
   ]
  },
  {
   "cell_type": "code",
   "execution_count": 107,
   "metadata": {},
   "outputs": [
    {
     "name": "stdout",
     "output_type": "stream",
     "text": [
      "[0, 0, 0, 0, 0, 0, 0, 0, 0, 0, 0, 0, 0, 0, 0, 0]\n",
      "[0, 0, 0, 0, 0, 0, 0, 0, 0, 0, 0, 0, 0, 0, 0, 0]\n",
      "[0, 0, 0, 0, 0, 0, 0, 0, 0, 0, 0, 0, 0, 0, 0, 0]\n",
      "[0, 0, 0, 0, 0, 0, 0, 0, 0, 0, 0, 0, 0, 0, 0, 0]\n",
      "\n",
      "\n",
      "[0, 0, 0, 0, 0, 0, 0, 0, 0, 0, 0, 0, 0, 0, 0]\n",
      "[0, 0, 0, 0, 0, 0, 0, 0, 0, 0, 0, 0, 0, 0, 0]\n",
      "[0, 0, 0, 0, 0, 0, 0, 0, 0, 0, 0, 0, 0, 0, 0]\n"
     ]
    }
   ],
   "source": [
    "print(*table, sep='\\n')\n",
    "print('\\n')\n",
    "print(*vectors, sep='\\n')"
   ]
  },
  {
   "cell_type": "code",
   "execution_count": 108,
   "metadata": {},
   "outputs": [],
   "source": [
    "### filling\n",
    "    # for each x,y where( x:range(1, len(reference)+1) and  y:range(1, len(input)+1)\n",
    "        # calc score -> table(x,y)\n",
    "        # fix vector -> vectors(x-1, y-1)\n",
    "\n",
    "#  subst      -> 0        |ident/subst|  | insertion |  |  deletion |  |    y,x    |\n",
    "#  insertion  -> 1        | +0  |  0  |  |  0  |  0  |  |  0  | +0  |  |-1,-1| 0,-1|\n",
    "#  deletion   -> 2        |  0  | -M  |  |  +0 | -DI |  |  0  | -DI |  |-1, 0| 0, 0|"
   ]
  },
  {
   "cell_type": "code",
   "execution_count": 109,
   "metadata": {},
   "outputs": [
    {
     "name": "stdout",
     "output_type": "stream",
     "text": [
      "1 1 -> 0 0 -> A I\n",
      "2 1 -> 1 0 -> I I\n",
      "3 1 -> 2 0 -> B I\n",
      "4 1 -> 3 0 -> V I\n",
      "5 1 -> 4 0 -> [ I\n",
      "6 1 -> 5 0 -> B I\n",
      "7 1 -> 6 0 -> e I\n",
      "8 1 -> 7 0 -> a I\n",
      "9 1 -> 8 0 -> u I\n",
      "10 1 -> 9 0 -> d I\n",
      "11 1 -> 10 0 -> e I\n",
      "12 1 -> 11 0 -> t I\n",
      "13 1 -> 12 0 -> t I\n",
      "14 1 -> 13 0 -> e I\n",
      "15 1 -> 14 0 -> ] I\n",
      "1 2 -> 0 1 -> A B\n",
      "2 2 -> 1 1 -> I B\n",
      "3 2 -> 2 1 -> B B\n",
      "4 2 -> 3 1 -> V B\n",
      "5 2 -> 4 1 -> [ B\n",
      "6 2 -> 5 1 -> B B\n",
      "7 2 -> 6 1 -> e B\n",
      "8 2 -> 7 1 -> a B\n",
      "9 2 -> 8 1 -> u B\n",
      "10 2 -> 9 1 -> d B\n",
      "11 2 -> 10 1 -> e B\n",
      "12 2 -> 11 1 -> t B\n",
      "13 2 -> 12 1 -> t B\n",
      "14 2 -> 13 1 -> e B\n",
      "15 2 -> 14 1 -> ] B\n",
      "1 3 -> 0 2 -> A V\n",
      "2 3 -> 1 2 -> I V\n",
      "3 3 -> 2 2 -> B V\n",
      "4 3 -> 3 2 -> V V\n",
      "5 3 -> 4 2 -> [ V\n",
      "6 3 -> 5 2 -> B V\n",
      "7 3 -> 6 2 -> e V\n",
      "8 3 -> 7 2 -> a V\n",
      "9 3 -> 8 2 -> u V\n",
      "10 3 -> 9 2 -> d V\n",
      "11 3 -> 10 2 -> e V\n",
      "12 3 -> 11 2 -> t V\n",
      "13 3 -> 12 2 -> t V\n",
      "14 3 -> 13 2 -> e V\n",
      "15 3 -> 14 2 -> ] V\n"
     ]
    }
   ],
   "source": [
    "for y in range(1, len(input_kw)+1):\n",
    "    for x in range(1, len(referenced_word)+1):\n",
    "        print(x,y , '->', x-1, y-1,  '->', referenced_word[x-1], input_kw[y-1])\n",
    "        if referenced_word[x-1].lower() == input_kw[y-1].lower():\n",
    "            table[y][x] = table[y-1][x-1] + ident\n",
    "            vectors[y-1][x-1] = 1\n",
    "        else:\n",
    "            costs:tuple = ((table[y-1][x-1] + subst), (table[y-1][x] + indel), (table[y][x-1] + indel))\n",
    "            minimum:int = min(costs)\n",
    "            k:int = costs.index(minimum)\n",
    "            #\n",
    "            table[y][x] = minimum\n",
    "            vectors[y-1][x-1] = k"
   ]
  },
  {
   "cell_type": "code",
   "execution_count": 110,
   "metadata": {},
   "outputs": [
    {
     "name": "stdout",
     "output_type": "stream",
     "text": [
      "[0, -4, -6, -8, -6, -8, -10, -12, -14, -16, -18, -20, -22, -24, -26, -28]\n",
      "[0, -4, -6, -8, -6, -8, -10, -12, -14, -16, -18, -20, -22, -24, -26, -28]\n",
      "[0, -4, -6, -8, -6, -8, -10, -12, -14, -16, -18, -20, -22, -24, -26, -28]\n",
      "[0, -4, -6, -8, -6, -8, -10, -12, -14, -16, -18, -20, -22, -24, -26, -28]\n",
      "\n",
      "\n",
      "[1, 0, 0, 1, 0, 0, 0, 0, 0, 0, 0, 0, 0, 0, 0]\n",
      "[1, 0, 0, 1, 0, 0, 0, 0, 0, 0, 0, 0, 0, 0, 0]\n",
      "[1, 0, 0, 1, 0, 0, 0, 0, 0, 0, 0, 0, 0, 0, 0]\n"
     ]
    }
   ],
   "source": [
    "print(*table, sep='\\n')\n",
    "print('\\n')\n",
    "print(*vectors, sep='\\n')"
   ]
  }
 ],
 "metadata": {
  "kernelspec": {
   "display_name": "Python 3",
   "language": "python",
   "name": "python3"
  },
  "language_info": {
   "codemirror_mode": {
    "name": "ipython",
    "version": 3
   },
   "file_extension": ".py",
   "mimetype": "text/x-python",
   "name": "python",
   "nbconvert_exporter": "python",
   "pygments_lexer": "ipython3",
   "version": "3.10.12"
  }
 },
 "nbformat": 4,
 "nbformat_minor": 2
}
