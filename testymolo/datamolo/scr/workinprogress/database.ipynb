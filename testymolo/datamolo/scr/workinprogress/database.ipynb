{
 "cells": [
  {
   "cell_type": "raw",
   "metadata": {},
   "source": [
    "def get_tax_data(taxid):\n",
    "    try:\n",
    "        request:str = f\"txid{taxid}[Organism] AND refseq[filter]\"\n",
    "        search = Entrez.efetch(term=request, db='nucleotide', retmode='xml')\n",
    "        return Entrez.read(search)\n",
    "    except:\n",
    "        return []"
   ]
  },
  {
   "cell_type": "markdown",
   "metadata": {},
   "source": [
    "<p>https://www.ncbi.nlm.nih.gov/Taxonomy/Browser/wwwtax.cgi?id=11128</p>\n",
    "<p>https://www.ncbi.nlm.nih.gov/Taxonomy/Browser/wwwtax.cgi?id=[TaxId]</p>"
   ]
  },
  {
   "cell_type": "raw",
   "metadata": {},
   "source": [
    "$ taxonkit list --show-rank --show-name --indent \"    \" --ids 9605,239934\n",
    "9605 [genus] Homo\n",
    "    9606 [species] Homo sapiens\n",
    "        63221 [subspecies] Homo sapiens neanderthalensis\n",
    "        741158 [subspecies] Homo sapiens subsp. 'Denisova'\n",
    "    1425170 [species] Homo heidelbergensis\n",
    "    2665952 [no rank] environmental samples\n",
    "        2665953 [species] Homo sapiens environmental sample\n",
    "\n",
    "239934 [genus] Akkermansia\n",
    "    239935 [species] Akkermansia muciniphila\n",
    "        349741 [strain] Akkermansia muciniphila ATCC BAA-835\n",
    "    512293 [no rank] environmental samples\n",
    "        512294 [species] uncultured Akkermansia sp.\n",
    "        1131822 [species] uncultured Akkermansia sp. SMG25\n",
    "        1262691 [species] Akkermansia sp. CAG:344\n",
    "        1263034 [species] Akkermansia muciniphila CAG:154\n",
    "    1679444 [species] Akkermansia glycaniphila\n",
    "    2608915 [no rank] unclassified Akkermansia\n",
    "        1131336 [species] Akkermansia sp. KLE1605\n",
    "        1574264 [species] Akkermansia sp. KLE1797"
   ]
  },
  {
   "cell_type": "code",
   "execution_count": null,
   "metadata": {},
   "outputs": [],
   "source": [
    "import re, os, json\n",
    "\n",
    "import numpy as np\n",
    "\n",
    "from Bio import Entrez\n",
    "\n",
    "Entrez.email = \"VIMVer@univ-amu.fr\"\n",
    "\n",
    "testydata: str = \"./../../../testymolo/media/data/\"\n",
    "tables_csv: str = \"./../../../testymolo/media/tables_csv/\"\n",
    "\n",
    "merge_json: str = \"./../../../testymolo/media/data/\""
   ]
  },
  {
   "cell_type": "code",
   "execution_count": null,
   "metadata": {},
   "outputs": [],
   "source": [
    "### caution when not all rows same nbr of col\n",
    "def custom_csv_parser_to_list(infilepath:str):\n",
    "    with open(infilepath ,'r') as handle:\n",
    "\n",
    "        rows:list = []\n",
    "\n",
    "        for line in handle.readlines():\n",
    "            line = line.strip(';') # removing terminal ';' \n",
    "            values:list = [] # re-initialize value list\n",
    "            val:str = \"\" # current parsing value\n",
    "            inquote:bool = False # re-initialize in quote : False\n",
    "            quote_char:str = '' # ' or \"\n",
    "            for c in line:\n",
    "                if(c == ','): # encounter comma\n",
    "                    if(not inquote): ## and not in quote\n",
    "                        val = val.strip(\"'\")\n",
    "                        val = val.strip('\"')\n",
    "                        if(len(val) > 0):\n",
    "                            values.append(val)\n",
    "                        else:\n",
    "                            values.append(None)\n",
    "                        val = \"\"\n",
    "                        continue\n",
    "                elif(c == '\"' or c == \"'\"): # encounter quote\n",
    "                    if(inquote): # already in quote \n",
    "                        if(quote_char == c):  # encounter ending quote mark\n",
    "                            inquote = False\n",
    "                        else: # encounter the other quote mark \n",
    "                            pass\n",
    "                    else: # encounter starting quote mark\n",
    "                        inquote = True\n",
    "                        quote_char = c\n",
    "                elif((c == ' ' or c == '\\n') and not inquote):  # get rid of whitespaces\n",
    "                    continue\n",
    "                val += c\n",
    "            if(len(val)>0):\n",
    "                val = val.strip(\"'\")\n",
    "                val = val.strip('\"')\n",
    "                values.append(val)\n",
    "\n",
    "            if(len(values) > 0):\n",
    "                rows.append(values)\n",
    "                #print(values)  \n",
    "        \n",
    "        print(\"nbr of col\", set([len(row) for row in rows]))\n",
    "        print(\"nbr of rows\", len(rows))\n",
    "        return rows"
   ]
  },
  {
   "cell_type": "code",
   "execution_count": null,
   "metadata": {},
   "outputs": [],
   "source": [
    "Organism_csv:list = custom_csv_parser_to_list(os.path.join(tables_csv, 'Organism.csv'))\n",
    "Organism_h:list = [\"Tax_id\", \"Name\", \"Categorie\", \"Classe\", \"Ordre\", \"Fam\", \"SsFam\", \"Genre\", \"Note_org\"]\n",
    "\n",
    "CAZy_DB_csv:list = custom_csv_parser_to_list(os.path.join(tables_csv, 'CAZy_DB.csv'))\n",
    "CAZy_DB_h:list = [\"DB_ac\", \"Protein\", \"DB_nom\", \"Organism\", \"abr\", \"Tax_id\", \"EC\", \"_3D_status\",\n",
    "                   \"Length\", \"Sequence\", \"DB_note\", \"Created\", \"Modified\", \"PP_status\", \"Lib_sort\"]\n"
   ]
  },
  {
   "cell_type": "code",
   "execution_count": null,
   "metadata": {},
   "outputs": [],
   "source": [
    "def read_merge_data(infilepath:str):\n",
    "    with open(infilepath, 'r') as handle :\n",
    "        try:\n",
    "            data = json.loads(handle.read())\n",
    "        except:\n",
    "            data = {}\n",
    "            print(\"ERROR\")\n",
    "    return data"
   ]
  },
  {
   "cell_type": "code",
   "execution_count": null,
   "metadata": {},
   "outputs": [],
   "source": [
    "Organism_json:list = read_merge_data(os.path.join(merge_json, 'Organism.temp.json'))"
   ]
  },
  {
   "cell_type": "code",
   "execution_count": null,
   "metadata": {},
   "outputs": [],
   "source": [
    "for item in Organism_json:\n",
    "    for key, value in item.items():\n",
    "        print(key, value)\n",
    "    break"
   ]
  },
  {
   "cell_type": "code",
   "execution_count": null,
   "metadata": {},
   "outputs": [],
   "source": [
    "TaxId:int = 11120\n",
    "\n",
    "print(\"Organism_csv\")\n",
    "for item in Organism_csv:\n",
    "    if str(TaxId) == str(item[0]):\n",
    "        print(item)\n",
    "print(\"CAZy_DB_csv\")\n",
    "for item in CAZy_DB_csv:\n",
    "    if str(TaxId) == str(item[5]):\n",
    "        print(item)\n"
   ]
  },
  {
   "cell_type": "code",
   "execution_count": null,
   "metadata": {},
   "outputs": [],
   "source": [
    "import subprocess as sh\n",
    "\n",
    "#var = sh.run(['taxonkit', 'list', '--ids', '11120', '--indent', ''])\n",
    "#  taxonkit list --show-rank --show-name --indent \"    \" --ids 11120 -J\n",
    "var = sh.run([\"taxonkit\",\"list\", \"--show-rank\", \"--show-name\", \"--indent\", \"    \", \"--ids\", \"11128\", \"-J\"], stdout=sh.PIPE, stderr=sh.PIPE, text=True)\n",
    "print(var.stdout)"
   ]
  },
  {
   "cell_type": "code",
   "execution_count": null,
   "metadata": {},
   "outputs": [],
   "source": [
    "\n",
    "import json\n",
    "var_json = json.loads(var.stdout)\n",
    "\n",
    "def json2html(data:dict) -> str:\n",
    "    #recursive\n",
    "    txt:str = \"\"\n",
    "    for line, subdata in data.items():\n",
    "        line:str = line.strip()\n",
    "        txt += \"<li>\"+line+\"</li>\"\n",
    "        \n",
    "        if len(subdata) > 0: #sub_clade\n",
    "            txt += \"<ul>\" + json2html(subdata) + \"</ul>\"\n",
    "    return txt\n",
    "\n",
    "var_html = \"<div class='taxonkit'><ul>\"+json2html(var_json)+\"</ul></div>\"\n",
    "print(var_html)"
   ]
  },
  {
   "cell_type": "code",
   "execution_count": null,
   "metadata": {},
   "outputs": [],
   "source": [
    "from IPython.core.display import display, HTML\n",
    "display(HTML(var_html))"
   ]
  },
  {
   "cell_type": "code",
   "execution_count": null,
   "metadata": {},
   "outputs": [],
   "source": [
    "\n",
    "display(HTML(\"<div><ul><li>species</li><ul><li>sub-species</li><li>sub-species</li></ul><li>species</li><li>species</li></ul></div>\"))"
   ]
  },
  {
   "cell_type": "code",
   "execution_count": null,
   "metadata": {},
   "outputs": [],
   "source": [
    "command = sh.run(['echo', 'Za Worudo !'], stdout=sh.PIPE, stderr=sh.PIPE, text=True)\n",
    "print(command.stdout)"
   ]
  },
  {
   "cell_type": "code",
   "execution_count": null,
   "metadata": {},
   "outputs": [],
   "source": [
    "from IPython.core.display import display, HTML\n",
    "display(HTML('<h1>Hello, world!</h1>'))\n"
   ]
  },
  {
   "cell_type": "markdown",
   "metadata": {},
   "source": [
    "# NCBI genbank record\n",
    "\n",
    "<ul>genome\n",
    "    <li>ORF</li>\n",
    "    <li>cds</li></ul>\n",
    "<ul>proteome\n",
    "    <li>protein</li></ul>\n",
    "\n",
    "<ul>\n",
    "<li>scr</li>\n",
    "<li>view</li>\n",
    "<li>url</li>\n",
    "<li>js</li>\n",
    "<li>html</li></ul>"
   ]
  },
  {
   "cell_type": "code",
   "execution_count": null,
   "metadata": {},
   "outputs": [],
   "source": [
    "#does it work every time\n",
    "\n",
    "Protein_json:list = read_merge_data(os.path.join(merge_json, 'Protein.temp.json'))"
   ]
  },
  {
   "cell_type": "code",
   "execution_count": null,
   "metadata": {},
   "outputs": [],
   "source": [
    "for org in Organism_json:\n",
    "    taxid = str(org['id'])\n",
    "    proteins:list = [ prot for prot in Protein_json if str(prot['organism']) == taxid ]\n",
    "    for prot in proteins:\n",
    "        terms:str = f\"{org['name']}[Organism] AND {prot['name']} AND refseq[filter]\"\n",
    "        print(terms)\n",
    "        with Entrez.esearch(db='nucleotide', term=terms, idtype='acc') as handle :\n",
    "            record = Entrez.read(handle)\n",
    "            print(record['IdList'])"
   ]
  },
  {
   "cell_type": "code",
   "execution_count": null,
   "metadata": {},
   "outputs": [],
   "source": [
    "# get complementary info on each\n",
    "\n",
    "for accNumber in record['IdList']:\n",
    "    print(accNumber)\n",
    "    genbank = Entrez.efetch(db='nucleotide', id=accNumber, rettype='gb', retmode='text')\n",
    "    print(genbank.readlines()[0].strip())\n"
   ]
  },
  {
   "cell_type": "code",
   "execution_count": 23,
   "metadata": {},
   "outputs": [
    {
     "name": "stdout",
     "output_type": "stream",
     "text": [
      "uwu \n"
     ]
    }
   ],
   "source": [
    "# run blast\n",
    "#blastp -query ./protein_test.fasta -db refseq_protein -max_target_seqs 5 -remote -outfmt 5 > var.blastp.html\n",
    "\n",
    "import subprocess as sh\n",
    "\n",
    "command_line = ['blastp', '-query', './protein_test.fasta', '-db', 'refseq_protein', '-max_target_seqs', '10', '-remote', '-outfmt', '5', '-out', './var.temp.blastp.xml']\n",
    "command_line = sh.run(command_line, stdout=sh.PIPE, stderr=sh.PIPE, text=True)\n",
    "print('uwu', command_line.stdout)\n"
   ]
  },
  {
   "cell_type": "code",
   "execution_count": 16,
   "metadata": {},
   "outputs": [
    {
     "ename": "FileNotFoundError",
     "evalue": "[Errno 2] No such file or directory: './.var.temp.blastp.xml'",
     "output_type": "error",
     "traceback": [
      "\u001b[0;31m---------------------------------------------------------------------------\u001b[0m",
      "\u001b[0;31mFileNotFoundError\u001b[0m                         Traceback (most recent call last)",
      "\u001b[0;32m/tmp/ipykernel_446102/213237704.py\u001b[0m in \u001b[0;36m<module>\u001b[0;34m\u001b[0m\n\u001b[1;32m      3\u001b[0m \u001b[0;34m\u001b[0m\u001b[0m\n\u001b[1;32m      4\u001b[0m \u001b[0;34m\u001b[0m\u001b[0m\n\u001b[0;32m----> 5\u001b[0;31m \u001b[0;32mwith\u001b[0m \u001b[0mopen\u001b[0m\u001b[0;34m(\u001b[0m\u001b[0;34m\"./.var.temp.blastp.xml\"\u001b[0m\u001b[0;34m)\u001b[0m \u001b[0;32mas\u001b[0m \u001b[0mblastp_result\u001b[0m\u001b[0;34m:\u001b[0m\u001b[0;34m\u001b[0m\u001b[0;34m\u001b[0m\u001b[0m\n\u001b[0m\u001b[1;32m      6\u001b[0m     \u001b[0mresult\u001b[0m \u001b[0;34m=\u001b[0m \u001b[0mBlastXML\u001b[0m\u001b[0;34m.\u001b[0m\u001b[0mparse\u001b[0m\u001b[0;34m(\u001b[0m\u001b[0mblastp_result\u001b[0m\u001b[0;34m)\u001b[0m\u001b[0;34m\u001b[0m\u001b[0;34m\u001b[0m\u001b[0m\n\u001b[1;32m      7\u001b[0m     \u001b[0mBlastXML\u001b[0m\u001b[0;34m.\u001b[0m\u001b[0mparse\u001b[0m\u001b[0;34m(\u001b[0m\u001b[0;34m)\u001b[0m\u001b[0;34m\u001b[0m\u001b[0;34m\u001b[0m\u001b[0m\n",
      "\u001b[0;31mFileNotFoundError\u001b[0m: [Errno 2] No such file or directory: './.var.temp.blastp.xml'"
     ]
    }
   ],
   "source": [
    "import Bio.Blast.NCBIXML as BlastXML\n",
    "\n",
    "with open(\"./.var.temp.blastp.xml\") as blastp_result:\n",
    "    result = BlastXML.parse(blastp_result)\n",
    "    BlastXML.parse()\n",
    "\n",
    "    for record in result:\n",
    "        print(record)"
   ]
  },
  {
   "cell_type": "code",
   "execution_count": null,
   "metadata": {},
   "outputs": [],
   "source": []
  }
 ],
 "metadata": {
  "kernelspec": {
   "display_name": "Python 3",
   "language": "python",
   "name": "python3"
  },
  "language_info": {
   "codemirror_mode": {
    "name": "ipython",
    "version": 3
   },
   "file_extension": ".py",
   "mimetype": "text/x-python",
   "name": "python",
   "nbconvert_exporter": "python",
   "pygments_lexer": "ipython3",
   "version": "3.10.12"
  },
  "orig_nbformat": 4
 },
 "nbformat": 4,
 "nbformat_minor": 2
}
