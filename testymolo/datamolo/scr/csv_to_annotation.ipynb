{
 "cells": [
  {
   "attachments": {},
   "cell_type": "markdown",
   "metadata": {},
   "source": [
    "# file path"
   ]
  },
  {
   "cell_type": "code",
   "execution_count": 71,
   "metadata": {},
   "outputs": [],
   "source": [
    "INSERTS:str = \"./../../testymolo/media/old_sql/VIRUS_1-2004-11-04_Inserts_2.sql\"\n",
    "TABLES: str = \"./../../testymolo/media/old_sql/VIRUS_1-2004-11-04_Tables.sql\"\n",
    "\n",
    "tables_csv: str = \"./../../testymolo/media/tables_csv/\"\n"
   ]
  },
  {
   "attachments": {},
   "cell_type": "markdown",
   "metadata": {},
   "source": [
    "# tables and inserts"
   ]
  },
  {
   "cell_type": "code",
   "execution_count": 74,
   "metadata": {},
   "outputs": [],
   "source": [
    "### caution when not all rows same nbr of col\n",
    "def custom_csv_parser_to_list(key:str):\n",
    "    infilepath: str = os.path.join(tables_csv, key+'.csv')\n",
    "    with open(infilepath ,'r') as handle:\n",
    "\n",
    "        rows:list = []\n",
    "\n",
    "        for line in handle.readlines():\n",
    "            line = line.strip(';') # removing terminal ';' \n",
    "            values:list = [] # re-initialize value list\n",
    "            val:str = \"\" # current parsing value\n",
    "            inquote:bool = False # re-initialize in quote : False\n",
    "            quote_char:str = '' # ' or \"\n",
    "            is_string:bool = False\n",
    "            for c in line:\n",
    "                if(c == ','): # encounter comma\n",
    "                    if(not inquote): ## and not in quote\n",
    "                        val = val.strip(\"'\")\n",
    "                        val = val.strip('\"')\n",
    "                        if(len(val) > 0):\n",
    "                            if(not is_string and val != \"NULL\" and val != \"None\"):\n",
    "                                values.append(int(val))\n",
    "                            else:\n",
    "                                values.append(val)\n",
    "                            is_string = False\n",
    "                        else:\n",
    "                            values.append(None)\n",
    "                        val = \"\"\n",
    "                        continue\n",
    "                elif(c == '\"' or c == \"'\"): # encounter quote\n",
    "                    if(inquote): # already in quote \n",
    "                        if(quote_char == c):  # encounter ending quote mark\n",
    "                            inquote = False\n",
    "                        else: # encounter the other quote mark \n",
    "                            pass\n",
    "                    else: # encounter starting quote mark\n",
    "                        inquote = True\n",
    "                        is_string = True\n",
    "                        quote_char = c\n",
    "                elif((c == ' ' or c == '\\n') and not inquote):  # get rid of whitespaces\n",
    "                    continue\n",
    "                val += c\n",
    "            if(len(val)>0):\n",
    "                val = val.strip(\"'\")\n",
    "                val = val.strip('\"')\n",
    "                if(not is_string and val != \"NULL\" and val != \"None\"):\n",
    "                    values.append(int(val))\n",
    "                else:\n",
    "                    values.append(val)\n",
    "                is_string = False\n",
    "\n",
    "            if(len(values) > 0):\n",
    "                rows.append(values)\n",
    "                #print(values)  \n",
    "        \n",
    "        #print(\"nbr of col\", set([len(row) for row in rows]))\n",
    "        #print(\"nbr of rows\", len(rows))\n",
    "        return rows\n",
    "\n",
    "import os\n",
    "\n",
    "data_keys:list = [ \"Biblio_Struct\", \"CAZy_DB\", \"CAZy_GB_GP\", \"CAZy_PDB\", \"CAZy_PP\", \"CAZy_SP\", \"CAZyModO\",\n",
    "    \"Cz_EC\", \"EC_num\", \"Fam_biblio\", \"ModO_Composition\", \"ModO_CrossRefs\", \"ModO_Families\", \"ModO_Limits\",\n",
    "    \"Motifs\", \"Organism\", \"Prot_biblio\", \"Prot_Infos\", \"Prot_MOTIF\", \"Prot_MUT\", \"Prot_REG\", \"Prot_RI\"]\n",
    "\n",
    "data:dict = { key:custom_csv_parser_to_list(key) for key in data_keys }\n"
   ]
  },
  {
   "cell_type": "code",
   "execution_count": 81,
   "metadata": {},
   "outputs": [],
   "source": [
    "### sort tables\n",
    "def sort_tab(tab:list, primary_key_indexes:tuple=(0,1)):\n",
    "    import operator\n",
    "    new_tab:list = [   ]\n",
    "\n",
    "    for j in range(len(tab)):\n",
    "        for k in primary_key_indexes:\n",
    "            tab[j][k] = int(tab[j][k])\n",
    "\n",
    "    for i in reversed(primary_key_indexes):\n",
    "        new_tab = sorted(tab, key=operator.itemgetter(i))\n",
    "    return new_tab\n",
    "\n",
    "\"\"\"\n",
    "for tab in [ \"CAZy_DB\", \"CAZy_GB_GP\", \"CAZy_PDB\", \"CAZy_SP\",\n",
    "    \"Motifs\", \"Organism\", \"Cz_EC\",]:\n",
    "    data[tab] = sort_tab(data[tab], (0,))\n",
    "\n",
    "for tab in [\"CAZy_PP\", \"ModO_Composition\", \"ModO_Limits\"]:\n",
    "    data[tab] = sort_tab(data[tab], (0,1))\n",
    "\n",
    "for tab in [\"Prot_Infos\", \"Prot_MOTIF\", \"Prot_MUT\", \"Prot_REG\", \"Prot_RI\"]:\n",
    "    data[tab] = sort_tab(data[tab], (0,2))\n",
    "\"\"\""
   ]
  },
  {
   "cell_type": "code",
   "execution_count": 82,
   "metadata": {},
   "outputs": [],
   "source": [
    "### write corrected tables\n",
    "\n",
    "import csv\n",
    "\n",
    "def write_table(key):\n",
    "    infilepath: str = os.path.join(tables_csv, key+'.csv')\n",
    "    with open(infilepath, 'w') as filehandler:\n",
    "        for row in data[key]:\n",
    "            line:str = \"\"\n",
    "            for val in row:\n",
    "                if(isinstance(val, str)):\n",
    "                    line += \"'\"+val+\"'\"\n",
    "                else:\n",
    "                    line += str(val)\n",
    "                line += \", \"\n",
    "            filehandler.write(line[:-2]+'\\n')\n",
    "\n",
    "#for tab in data:\n",
    "#    write_table(tab)"
   ]
  },
  {
   "attachments": {},
   "cell_type": "markdown",
   "metadata": {},
   "source": [
    "## Exploration of results"
   ]
  },
  {
   "cell_type": "code",
   "execution_count": 83,
   "metadata": {},
   "outputs": [
    {
     "name": "stdout",
     "output_type": "stream",
     "text": [
      "609\n",
      "428\n"
     ]
    }
   ],
   "source": [
    "## no assotiated : 609/2620\n",
    "## multiple assotiated : 428/2620\n",
    "\n",
    "import csv\n",
    "\n",
    "no_associated_annotations:list = []\n",
    "multiple_associated_annotations:list = []\n",
    "\n",
    "with open(\"./Seq_annotation_list\") as filehandler:\n",
    "    csvcontent = csv.reader(filehandler)\n",
    "    for row in csvcontent:\n",
    "        if(row[-1] == \"False\"):\n",
    "            no_associated_annotations.append(row)\n",
    "        elif(len(row[-1].split(' ')) > 1):\n",
    "            multiple_associated_annotations.append(row)\n",
    "\n",
    "print(len(no_associated_annotations))\n",
    "print(len(multiple_associated_annotations))\n"
   ]
  },
  {
   "cell_type": "code",
   "execution_count": 84,
   "metadata": {},
   "outputs": [
    {
     "name": "stdout",
     "output_type": "stream",
     "text": [
      "Prot_Infos:159/159\n",
      "CAZy_PDB:68/68\n",
      "CAZy_SP:3/4\n",
      "Prot_MUT:9/9\n",
      "Prot_RI:12/112\n",
      "CAZy_PP:346/773\n",
      "Prot_REG:12/42\n"
     ]
    }
   ],
   "source": [
    "count:dict = {}\n",
    "for row in no_associated_annotations:\n",
    "    if(row[1] in count):\n",
    "        count[row[1]] += 1\n",
    "    else:\n",
    "        count[row[1]] = 1\n",
    "\n",
    "for item in count:\n",
    "    print(f\"{item}:{count[item]}/{len(data[item])}\")"
   ]
  },
  {
   "attachments": {},
   "cell_type": "markdown",
   "metadata": {},
   "source": [
    "## unfinished annotations per families"
   ]
  },
  {
   "cell_type": "code",
   "execution_count": 85,
   "metadata": {},
   "outputs": [
    {
     "name": "stdout",
     "output_type": "stream",
     "text": [
      "['UNK', 'IHD', 'HD', 'ITM', 'TM', 'LNK', 'EX']\n"
     ]
    }
   ],
   "source": [
    "uncomplete_fams:list = []\n",
    "with open(\"./Modulo_list\") as filehandler:\n",
    "    csvcontent = csv.reader(filehandler)\n",
    "    for row in csvcontent:\n",
    "        if(row[-1] == \"False\"):\n",
    "            if(row[0] not in uncomplete_fams):\n",
    "                uncomplete_fams.append(row[0])\n",
    "print(uncomplete_fams)"
   ]
  },
  {
   "cell_type": "code",
   "execution_count": 86,
   "metadata": {},
   "outputs": [],
   "source": []
  },
  {
   "cell_type": "code",
   "execution_count": null,
   "metadata": {},
   "outputs": [],
   "source": []
  }
 ],
 "metadata": {
  "kernelspec": {
   "display_name": ".venv",
   "language": "python",
   "name": "python3"
  },
  "language_info": {
   "codemirror_mode": {
    "name": "ipython",
    "version": 3
   },
   "file_extension": ".py",
   "mimetype": "text/x-python",
   "name": "python",
   "nbconvert_exporter": "python",
   "pygments_lexer": "ipython3",
   "version": "3.10.6"
  },
  "orig_nbformat": 4
 },
 "nbformat": 4,
 "nbformat_minor": 2
}
