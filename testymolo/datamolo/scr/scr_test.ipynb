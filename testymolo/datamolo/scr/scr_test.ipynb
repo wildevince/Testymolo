{
 "cells": [
  {
   "cell_type": "code",
   "execution_count": 5,
   "metadata": {},
   "outputs": [],
   "source": [
    "INSERTS:str = \"./../../testymolo/media/old_sql/VIRUS_1-2004-11-04_Inserts_2.sql\"\n",
    "TABLES: str = \"./../../testymolo/media/old_sql/VIRUS_1-2004-11-04_Tables.sql\"\n",
    "\n",
    "\n",
    "tables_csv: str = \"./../../testymolo/media/tables_csv/\"\n",
    "testydata: str = \"./../../testymolo/media/data/\"\n",
    "data_json: str = \"./../../testymolo/media/data/data.json\"\n",
    "multifasta: str = \"./../../testymolo/media/data/sequences.fasta\""
   ]
  },
  {
   "cell_type": "code",
   "execution_count": 6,
   "metadata": {},
   "outputs": [],
   "source": [
    "### caution when not all rows same nbr of col\n",
    "import re\n",
    "import os\n",
    "\n",
    "def custom_csv_parser_to_list(infilepath:str):\n",
    "    with open(infilepath ,'r') as handle:\n",
    "\n",
    "        rows:list = []\n",
    "\n",
    "        for line in handle.readlines():\n",
    "            line = line.strip(';') # removing terminal ';' \n",
    "            values:list = [] # re-initialize value list\n",
    "            val:str = \"\" # current parsing value\n",
    "            inquote:bool = False # re-initialize in quote : False\n",
    "            quote_char:str = '' # ' or \"\n",
    "            for c in line:\n",
    "                if(c == ','): # encounter comma\n",
    "                    if(not inquote): ## and not in quote\n",
    "                        val = val.strip(\"'\")\n",
    "                        val = val.strip('\"')\n",
    "                        if(len(val) > 0):\n",
    "                            values.append(val)\n",
    "                        else:\n",
    "                            values.append(None)\n",
    "                        val = \"\"\n",
    "                        continue\n",
    "                elif(c == '\"' or c == \"'\"): # encounter quote\n",
    "                    if(inquote): # already in quote \n",
    "                        if(quote_char == c):  # encounter ending quote mark\n",
    "                            inquote = False\n",
    "                        else: # encounter the other quote mark \n",
    "                            pass\n",
    "                    else: # encounter starting quote mark\n",
    "                        inquote = True\n",
    "                        quote_char = c\n",
    "                elif((c == ' ' or c == '\\n') and not inquote):  # get rid of whitespaces\n",
    "                    continue\n",
    "                val += c\n",
    "            if(len(val)>0):\n",
    "                val = val.strip(\"'\")\n",
    "                val = val.strip('\"')\n",
    "                values.append(val)\n",
    "\n",
    "            if(len(values) > 0):\n",
    "                rows.append(values)\n",
    "                #print(values)  \n",
    "        \n",
    "        print(\"nbr of col\", set([len(row) for row in rows]))\n",
    "        print(\"nbr of rows\", len(rows))\n",
    "        return rows"
   ]
  },
  {
   "cell_type": "code",
   "execution_count": 7,
   "metadata": {},
   "outputs": [
    {
     "name": "stdout",
     "output_type": "stream",
     "text": [
      "nbr of col {6}\n",
      "nbr of rows 159\n",
      "['6', '0', '1', 'Consult accession', 'VaZy 94 for HR1 and HR2 domains and VaZy 169 for HR1 stucture (PDB: 1G2C)', 'NULL']\n",
      "['7', '0', '1', 'prot infos NCBI', 'NCBI name : glycoprotein', 'NULL']\n",
      "['12', '0', '1', 'Consult accession', 'VaZy 94 for HR1 and HR2 domains and VaZy 169 for HR1 stucture (PDB: 1G2C)', 'NULL']\n",
      "['21', '0', '1', 'Consult accession', 'VaZy 94 for HR1 and HR2 domains and VaZy 169 for HR1 stucture (PDB: 1G2C)', 'NULL']\n",
      "['27', '0', '1', 'Consult accession', 'VaZy 94 for HR1 and HR2 domains and VaZy 169 for HR1 stucture (PDB: 1G2C)', 'NULL']\n",
      "['34', '0', '1', 'Consult accession', 'VaZy 94 for HR1 and HR2 domains and VaZy 169 for HR1 stucture (PDB: 1G2C)', 'NULL']\n",
      "['43', '0', '1', 'Consult accession', 'VaZy 94 for HR1 and HR2 domains and VaZy 169 for HR1 stucture (PDB: 1G2C)', 'NULL']\n",
      "['44', '0', '3', 'Link', 'INTERPRO: IPR001477 ; PFAM: PF01445', 'NULL']\n",
      "['44', '0', '2', 'Composition', 'SH protein is a membrane protein. Treatment of microsomes with TPCK-trypsin suggested that the SH protein is oriented in the membrane with its C-terminal facing the cytoplasm.', '8918542']\n"
     ]
    }
   ],
   "source": [
    "## Prot_Infos\n",
    "\n",
    "Prot_Infos_h: list = [\"DB_ac\", \"INFO_indice\", \"INFO_ac\", \"INFO_Nature\", \"INFO\", \"INFO_pmid\"]\n",
    "Prot_Infos_p: str = os.path.join(tables_csv, 'Prot_Infos.csv')\n",
    "Prot_Infos: list = custom_csv_parser_to_list(Prot_Infos_p)\n",
    "print(Prot_Infos[0])\n",
    "for item in Prot_Infos[1:9]:\n",
    "    print(item)\n",
    "\n"
   ]
  },
  {
   "cell_type": "code",
   "execution_count": 34,
   "metadata": {},
   "outputs": [],
   "source": [
    "def open_line_csv(table_name:str, nline:int):\n",
    "    with open(os.path.join(tables_csv,table_name+\".csv\")) as handle:\n",
    "        k = 0\n",
    "        for line in handle.readlines():\n",
    "            if(k == nline):\n",
    "                # setup\n",
    "                value = \"\"\n",
    "                values = []\n",
    "                quoted = False\n",
    "                quote_mark = None\n",
    "\n",
    "                for c in line:\n",
    "                    # if is ' or \"\n",
    "                    if(c == '\"' or c ==  \"'\"):\n",
    "                        # if is first quote\n",
    "                        if(not quoted):\n",
    "                            quoted = True\n",
    "                            quote_mark = c\n",
    "                        # if is second quote\n",
    "                        if(c == quote_mark):\n",
    "                            quoted = False\n",
    "                            quote_mark = None\n",
    "                    # if is , or \\n\n",
    "                    elif(c == ',' or c == '\\n'):\n",
    "                        if(not quoted):\n",
    "                            values.append(value.strip())\n",
    "                            value = \"\"\n",
    "                    # if is value\n",
    "                    elif(c == ' ' and quoted):\n",
    "                        value += c\n",
    "                    else:\n",
    "                        value += c\n",
    "\n",
    "                return values\n",
    "            k += 1\n"
   ]
  },
  {
   "cell_type": "code",
   "execution_count": 37,
   "metadata": {},
   "outputs": [
    {
     "name": "stdout",
     "output_type": "stream",
     "text": [
      "['473', '10', '1', 'Motif', 'Motifs Helicase super family 1 : all found', 'NULL']\n"
     ]
    }
   ],
   "source": [
    "csv = open_line_csv(\"Prot_Infos\", 106)\n",
    "print(csv)"
   ]
  },
  {
   "cell_type": "code",
   "execution_count": null,
   "metadata": {},
   "outputs": [],
   "source": []
  }
 ],
 "metadata": {
  "kernelspec": {
   "display_name": "Python 3",
   "language": "python",
   "name": "python3"
  },
  "language_info": {
   "codemirror_mode": {
    "name": "ipython",
    "version": 3
   },
   "file_extension": ".py",
   "mimetype": "text/x-python",
   "name": "python",
   "nbconvert_exporter": "python",
   "pygments_lexer": "ipython3",
   "version": "3.10.6"
  },
  "orig_nbformat": 4
 },
 "nbformat": 4,
 "nbformat_minor": 2
}
