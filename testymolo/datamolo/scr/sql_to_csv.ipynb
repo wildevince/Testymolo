{
 "cells": [
  {
   "cell_type": "markdown",
   "metadata": {},
   "source": [
    "pwd\n",
    "#'/home/vincentwilde/Documents/thesis_1/Testymolo/testymolo/datamolo/scr'\n",
    "source '../../../.venv/bin/activate'"
   ]
  },
  {
   "attachments": {},
   "cell_type": "markdown",
   "metadata": {},
   "source": [
    "### file path"
   ]
  },
  {
   "cell_type": "code",
   "execution_count": 3,
   "metadata": {},
   "outputs": [],
   "source": [
    "INSERTS:str = \"./../../testymolo/media/old_sql/VIRUS_1-2004-11-04_Inserts_2.sql\"\n",
    "TABLES: str = \"./../../testymolo/media/old_sql/VIRUS_1-2004-11-04_Tables.sql\"\n",
    "\n",
    "tables_csv: str = \"./../../testymolo/media/tables_csv/\"\n"
   ]
  },
  {
   "cell_type": "code",
   "execution_count": 47,
   "metadata": {},
   "outputs": [],
   "source": [
    "import re\n",
    "import os\n",
    "\n",
    "\n",
    "## cleanning outfiles\n",
    "for each in os.listdir(tables_csv):\n",
    "    if(each.endswith(\".csv\")):\n",
    "        with open(os.path.join(tables_csv, each), 'w') as handle:\n",
    "            handle.write(\"\")\n",
    "\n",
    "\n",
    "classes:dict = {}\n",
    "\n",
    "with open(INSERTS) as handle:\n",
    "\n",
    "    for line in handle.readlines():\n",
    "\n",
    "        if(line.startswith(\"INSERT\")):\n",
    "            res = re.search(\"INSERT INTO ([^\\s]+) \",line)\n",
    "            tab_name = res.group(1)\n",
    "            if(tab_name in classes):\n",
    "                classes[tab_name] += 1\n",
    "            else:\n",
    "                classes[tab_name] = 1\n",
    "            outfile = os.path.join(tables_csv,tab_name+\".csv\")\n",
    "            res2 = re.search(\"VALUES \\((.*)\\);\",line)\n",
    "            values = r\"{}\".format(res2.group(1))\n",
    "            with open(outfile,'a') as handle:\n",
    "                handle.write(values +'\\n')\n",
    "\n"
   ]
  },
  {
   "attachments": {},
   "cell_type": "markdown",
   "metadata": {},
   "source": [
    "# YATTA !"
   ]
  },
  {
   "cell_type": "code",
   "execution_count": 4,
   "metadata": {},
   "outputs": [],
   "source": [
    "### caution when not all rows same nbr of col\n",
    "\n",
    "def custom_csv_parser_to_list(infilepath:str):\n",
    "    with open(infilepath ,'r') as handle:\n",
    "\n",
    "        rows:list = []\n",
    "\n",
    "        for line in handle.readlines():\n",
    "            line = line.strip(';') # removing terminal ';' \n",
    "            values:list = [] # re-initialize value list\n",
    "            val:str = \"\" # current parsing value\n",
    "            inquote:bool = False # re-initialize in quote : False\n",
    "            quote_char:str = '' # ' or \"\n",
    "            for c in line:\n",
    "                if(c == ','): # encounter comma\n",
    "                    if(not inquote): ## and not in quote\n",
    "                        val = val.strip(\"'\")\n",
    "                        val = val.strip('\"')\n",
    "                        if(len(val) > 0):\n",
    "                            values.append(val)\n",
    "                        else:\n",
    "                            values.append(None)\n",
    "                        val = \"\"\n",
    "                        continue\n",
    "                elif(c == '\"' or c == \"'\"): # encounter quote\n",
    "                    if(inquote): # already in quote \n",
    "                        if(quote_char == c):  # encounter ending quote mark\n",
    "                            inquote = False\n",
    "                        else: # encounter the other quote mark \n",
    "                            pass\n",
    "                    else: # encounter starting quote mark\n",
    "                        inquote = True\n",
    "                        quote_char = c\n",
    "                elif((c == ' ' or c == '\\n') and not inquote):  # get rid of whitespaces\n",
    "                    continue\n",
    "                val += c\n",
    "            if(len(val)>0):\n",
    "                val = val.strip(\"'\")\n",
    "                val = val.strip('\"')\n",
    "                values.append(val)\n",
    "\n",
    "            if(len(values) > 0):\n",
    "                rows.append(values)\n",
    "                #print(values)  \n",
    "        \n",
    "        print(\"nbr of col\", set([len(row) for row in rows]))\n",
    "        print(\"nbr of rows\", len(rows))\n",
    "        return rows"
   ]
  },
  {
   "cell_type": "code",
   "execution_count": 5,
   "metadata": {},
   "outputs": [
    {
     "name": "stdout",
     "output_type": "stream",
     "text": [
      "nbr of col {6}\n",
      "nbr of rows 2\n",
      "['1', '98062143', 'Isolation of an avirulent mutant of Sendai virus with two amino acid mutations from a highly virulent field strain through adaptation to LLC-MK2 cells', 'Itoh,M.', 'J. Gen. Virol. 78 (Pt 12), 3207-3215 (1997)', '13/01/03']\n"
     ]
    }
   ],
   "source": [
    "### Biblio_Struct\n",
    "\n",
    "import os\n",
    "\n",
    "Biblio_Struct_h: list = [\"Id_Biblio\", \"PubMed\", \"Title\", \"Auteur\", \"Journal\", \"Date\"]\n",
    "Biblio_Struct_p: str = os.path.join(tables_csv, 'Biblio_Struct.csv')\n",
    "\n",
    "Biblio_Struct: list = custom_csv_parser_to_list(Biblio_Struct_p)\n",
    "print(Biblio_Struct[0])"
   ]
  },
  {
   "cell_type": "code",
   "execution_count": 6,
   "metadata": {},
   "outputs": [
    {
     "name": "stdout",
     "output_type": "stream",
     "text": [
      "nbr of col {15}\n",
      "nbr of rows 647\n",
      "['1', 'nucleocapsid protein', None, 'Nipah virus', 'NipahV', '121791', None, None, '532', 'MSDIFEEAASFRSYQSKLGRDGRASAATATLTTKIRIFVPATNSPELRWELTLFALDVIRSPSAAESMKVGAAFTLISMYSERPGALIRSLLNDPDIEAVIIDVGSMVNGIPVMERRGDKAQEEMEGLMRILKTARDSSKGKTPFVDSRAYGLRITDMSTLVSAVITIEAQIWILIAKAVTAPDTAEESETRRWAKYVQQKRVNPFFALTQQWLTEMRNLLSQSLSVRKFMVEILIEVKKGGSAKGRAVEIISDIGNYVEETGMAGFFATIRFGLETRYPALALNEFQSDLNTIKSLMLLYREIGPRAPYMVLLEESIQTKFAPGGYPLLWSFAMGVATTIDRSMGALNINRGYLEPMYFRLGQKSARHHAGGIDQNMANRLGLSSDQVAELAAAVQETSAGRQESNVQAREAKFAAGGVLIGGSDQDIDEGEEPIEQSGRQSVTFKREMSISSLANSVPSSSVSTSGGTRLTNSLLNLRSRLAAKAAKEAASSNATDDPAISNRTQGESEKKNNQDLKPAQNDLDFVRADV', None, '2002-05-13', '2004-09-16', 'no', 'N mononegavirales']\n"
     ]
    }
   ],
   "source": [
    "### CAZy_DB\n",
    "CAZy_DB_h: list = [\"DB_ac\", \"Protein\", \"DB_nom\", \"Organism\", \"abr\", \"Tax_id\", \"EC\", \"_3D_status\",\n",
    "                   \"Length\", \"Sequence\", \"DB_note\", \"Created\", \"Modified\", \"PP_status\", \"Lib_sort\"]  # 15\n",
    "CAZy_DB_p: str = os.path.join(tables_csv, 'CAZy_DB.csv')\n",
    "\n",
    "CAZy_DB: list = custom_csv_parser_to_list(CAZy_DB_p)\n",
    "print(CAZy_DB[0])\n"
   ]
  },
  {
   "cell_type": "code",
   "execution_count": 7,
   "metadata": {},
   "outputs": [
    {
     "name": "stdout",
     "output_type": "stream",
     "text": [
      "nbr of col {9}\n",
      "nbr of rows 644\n",
      "['1', 'NP_112021.1', 'NC_002728', '13559809', 'N', None, '1', '532', 'Reference']\n"
     ]
    }
   ],
   "source": [
    "### CAZy_GB_GP\n",
    "CAZy_GB_GP_h: list = [\"DB_ac\", \"GP_ac\", \"GB_ac\", \"GP_gi\", \"GP_gene\", \"GP_genomic\", \"GP_begin\", \"GP_end\",\n",
    "                      \"GP_note\"]  # 9\n",
    "CAZy_GB_GP_p: str = os.path.join(tables_csv, 'CAZy_GB_GP.csv')\n",
    "\n",
    "CAZy_GB_GP: list = custom_csv_parser_to_list(CAZy_GB_GP_p)\n",
    "print(CAZy_GB_GP[0])"
   ]
  },
  {
   "cell_type": "code",
   "execution_count": 8,
   "metadata": {},
   "outputs": [
    {
     "name": "stdout",
     "output_type": "stream",
     "text": [
      "nbr of col {7}\n",
      "nbr of rows 68\n",
      "['99', '1EZJ', None, '320', '433', '95.6% identity', 'F35']\n"
     ]
    }
   ],
   "source": [
    "### CAZy_PDB\n",
    "CAZy_PDB_h: list = [\"DB_ac\", \"PDB_id\", \"PDB_chain\", \"PDB_begin\", \"PDB_end\", \"PDB_note\", \"PDB_bornModo\"]  # 7\n",
    "CAZy_PDB_p: str = os.path.join(tables_csv, 'CAZy_PDB.csv')\n",
    "\n",
    "CAZy_PDB: list = custom_csv_parser_to_list(CAZy_PDB_p)\n",
    "print(CAZy_PDB[0])\n"
   ]
  },
  {
   "cell_type": "code",
   "execution_count": 9,
   "metadata": {},
   "outputs": [
    {
     "name": "stdout",
     "output_type": "stream",
     "text": [
      "nbr of col {8}\n",
      "nbr of rows 773\n",
      "['269', '7', None, 'NS4A protein', '1658', '1711', 'EX-HD-F226 ', 'no']\n"
     ]
    }
   ],
   "source": [
    "### CAZy_PP\n",
    "CAZy_PP_h: list = [\"DB_ac\", \"PP_ac\", \"PP_gi\",\n",
    "                   \"PP_gene\", \"PP_begin\", \"PP_end\", \"PP_note\", \"PP_diff\"]  # 8\n",
    "CAZy_PP_p: str = os.path.join(tables_csv, 'CAZy_PP.csv')\n",
    "\n",
    "CAZy_PP: list = custom_csv_parser_to_list(CAZy_PP_p)\n",
    "print(CAZy_PP[0])\n"
   ]
  },
  {
   "cell_type": "code",
   "execution_count": 10,
   "metadata": {},
   "outputs": [
    {
     "name": "stdout",
     "output_type": "stream",
     "text": [
      "nbr of col {7}\n",
      "nbr of rows 4\n",
      "['68', 'P35944', 'NCAP_PHODV', 'N', '1', '523', 'Reference']\n"
     ]
    }
   ],
   "source": [
    "### CAZy_SP\n",
    "CAZy_SP_h: list = [\"DB_ac\", \"SP_ac\", \"SP_id\",\n",
    "                   \"SP_gene\", \"SP_begin\", \"SP_end\", \"SP_note\"]  # 7\n",
    "CAZy_SP_p: str = os.path.join(tables_csv, 'CAZy_SP.csv')\n",
    "\n",
    "CAZy_SP: list = custom_csv_parser_to_list(CAZy_SP_p)\n",
    "print(CAZy_SP[0])\n"
   ]
  },
  {
   "cell_type": "code",
   "execution_count": 11,
   "metadata": {},
   "outputs": [
    {
     "name": "stdout",
     "output_type": "stream",
     "text": [
      "nbr of col {6}\n",
      "nbr of rows 2\n",
      "['UNK2B', None, None, None, None, '2002-06-07']\n"
     ]
    }
   ],
   "source": [
    "## CAZyModO\n",
    "CAZyModO_h: list=[\"URL_family\", \"URL_title\",\n",
    "                 \"URL_body\", \"URL_relative\", \"URL_note\", \"Modified\"] # 6\n",
    "CAZyModO_p: str = os.path.join(tables_csv, 'CAZyModO.csv')\n",
    "CAZyModO: list = custom_csv_parser_to_list(CAZyModO_p)\n",
    "print(CAZyModO[0])"
   ]
  },
  {
   "cell_type": "code",
   "execution_count": 12,
   "metadata": {},
   "outputs": [
    {
     "name": "stdout",
     "output_type": "stream",
     "text": [
      "nbr of col {2}\n",
      "nbr of rows 2\n",
      "['269', '2.7.7.48']\n"
     ]
    }
   ],
   "source": [
    "## Cz_EC\n",
    "Cz_EC_h: list=[\"DB_ac\", \"EC\"]  # 2\n",
    "Cz_EC_p: str = os.path.join(tables_csv, 'Cz_EC.csv')\n",
    "Cz_EC: list = custom_csv_parser_to_list(Cz_EC_p)\n",
    "print(Cz_EC[0])\n"
   ]
  },
  {
   "cell_type": "code",
   "execution_count": 13,
   "metadata": {},
   "outputs": [
    {
     "name": "stdout",
     "output_type": "stream",
     "text": [
      "nbr of col {5}\n",
      "nbr of rows 1\n",
      "['2.7.7.48', 'RNA-directed RNA polymerase.', 'RNA nucleotidyltransferase (RNA-directed).', 'N nucleoside triphosphate = N diphosphate + {RNA}(N).', '-!- Catalyzes RNA-template-directed extension of the 3prim-end of an RNAstrand by one nucleotide at a time.-!- Can initiate a chain de novo.-!- See also EC 2.7.7.6.']\n"
     ]
    }
   ],
   "source": [
    "## EC_num\n",
    "EC_num_h: list=[\"EC\", \"EC_name\", \"EC_othername\", \"EC_reaction\", \"EC_comment\"]  # 5\n",
    "EC_num_p: str = os.path.join(tables_csv, 'EC_num.csv')\n",
    "EC_num: list = custom_csv_parser_to_list(EC_num_p)\n",
    "print(EC_num[0])\n"
   ]
  },
  {
   "cell_type": "code",
   "execution_count": 14,
   "metadata": {},
   "outputs": [
    {
     "name": "stdout",
     "output_type": "stream",
     "text": [
      "nbr of col {2}\n",
      "nbr of rows 1\n",
      "['F35', '1']\n"
     ]
    }
   ],
   "source": [
    "## Fam_biblio\n",
    "Fam_biblio_h: list=[\"Family\", \"Id_Biblio\"]  # 2\n",
    "Fam_biblio_p: str = os.path.join(tables_csv, 'Fam_biblio.csv')\n",
    "Fam_biblio: list = custom_csv_parser_to_list(Fam_biblio_p)\n",
    "print(Fam_biblio[0])\n"
   ]
  },
  {
   "cell_type": "code",
   "execution_count": 15,
   "metadata": {},
   "outputs": [
    {
     "name": "stdout",
     "output_type": "stream",
     "text": [
      "nbr of col {4}\n",
      "nbr of rows 2797\n",
      "['191', '1', 'F55', '']\n"
     ]
    }
   ],
   "source": [
    "## ModO_Composition\n",
    "ModO_Composition_h: list=[\"DB_ac\", \"Mod_num\", \"Family\",\n",
    "                         \"Subf\"]  # 4\n",
    "ModO_Composition_p: str = os.path.join(tables_csv, 'ModO_Composition.csv')\n",
    "ModO_Composition: list = custom_csv_parser_to_list(ModO_Composition_p)\n",
    "print(ModO_Composition[0])"
   ]
  },
  {
   "cell_type": "code",
   "execution_count": 16,
   "metadata": {},
   "outputs": [
    {
     "name": "stdout",
     "output_type": "stream",
     "text": [
      "nbr of col {5}\n",
      "nbr of rows 77\n",
      "['F116', 'Interferon AntaGonist', 'http://139.124.42.180/VIZIR/phpVIZIR/BILANS/functional_characterization.htm', None, '']\n"
     ]
    }
   ],
   "source": [
    "## ModO_CrossRefs\n",
    "ModO_CrossRefs_h: list=[\"Family\", \"Link\", \"URL_base\", \"URL_string\", \n",
    "                       \"Ref_note\"]  # 5\n",
    "ModO_CrossRefs_p: str = os.path.join(tables_csv, 'ModO_CrossRefs.csv')\n",
    "ModO_CrossRefs: list = custom_csv_parser_to_list(ModO_CrossRefs_p)\n",
    "print(ModO_CrossRefs[0])\n"
   ]
  },
  {
   "cell_type": "code",
   "execution_count": 17,
   "metadata": {},
   "outputs": [
    {
     "name": "stdout",
     "output_type": "stream",
     "text": [
      "nbr of col {16}\n",
      "nbr of rows 514\n",
      "['UNK', 'unknown', None, 'NULL', None, None, None, None, 'no', 'NULL', 'NULL', 'NULL', 'NULL', 'NULL', 'NULL', 'NULL']\n"
     ]
    }
   ],
   "source": [
    "## ModO_Families\n",
    "ModO_Families_h: list=[\"Family\", \"Family_Name\", \"Family_Activity\", \"Family_Taxo\",\n",
    "                      \"Clan\", \"Family_note\", \"Family_Private_note\", \"Fold\",\n",
    "                      \"ModoS_uniqfct\", \"ModoS_Activity\", \"ModoS_Description\", \"ModoS_Fold\", \"ModoS_note\", \"ModoS_Private_note\",\n",
    "                      \"web_descript\", \"web_status\"]  # 16\n",
    "ModO_Families_p: str = os.path.join(tables_csv, 'ModO_Families.csv')\n",
    "ModO_Families: list = custom_csv_parser_to_list(ModO_Families_p)\n",
    "print(ModO_Families[0])\n"
   ]
  },
  {
   "cell_type": "code",
   "execution_count": 18,
   "metadata": {},
   "outputs": [
    {
     "name": "stdout",
     "output_type": "stream",
     "text": [
      "nbr of col {4}\n",
      "nbr of rows 2829\n",
      "['191', '1', '1', '188']\n"
     ]
    }
   ],
   "source": [
    "## ModO_Limits\n",
    "ModO_Limits_h: list = [\"DB_ac\", \"Mod_num\", \"Mod_begin\", \"Mod_end\"]  # 4\n",
    "ModO_Limits_p: str = os.path.join(tables_csv, 'ModO_Limits.csv')\n",
    "ModO_Limits: list = custom_csv_parser_to_list(ModO_Limits_p)\n",
    "print(ModO_Limits[0])\n"
   ]
  },
  {
   "cell_type": "code",
   "execution_count": 19,
   "metadata": {},
   "outputs": [
    {
     "name": "stdout",
     "output_type": "stream",
     "text": [
      "nbr of col {6}\n",
      "nbr of rows 58\n",
      "['1', 'motif I', 'helicase', 'super family 1', '[FHILVWY]-x-G-x-P-G-x-G-K-[ST]-x(0,2)-[FHILVWY]', 'NULL']\n"
     ]
    }
   ],
   "source": [
    "## Motifs\n",
    "Motifs_h: list = [\"motifs_ac\", \"motifs_name\", \"motifs_activity\", \"motifs_classification\", \"motifs_form\", \"motifs_note\"]\n",
    "Motifs_p: str = os.path.join(tables_csv, 'Motifs.csv')\n",
    "Motifs: list = custom_csv_parser_to_list(Motifs_p)\n",
    "print(Motifs[0])"
   ]
  },
  {
   "cell_type": "code",
   "execution_count": 20,
   "metadata": {},
   "outputs": [
    {
     "name": "stdout",
     "output_type": "stream",
     "text": [
      "nbr of col {9}\n",
      "nbr of rows 166\n",
      "['11207', 'Simian parainfluenza virus 5', 'Viruses', 'ssRNA negative-strand viruses', 'Mononegavirales', 'Paramyxoviridae', 'Paramyxovirinae', 'Rubulavirus', '']\n"
     ]
    }
   ],
   "source": [
    "## Organism\n",
    "Organism_h: list = [\"Tax_id\", \"Name\", \"Categorie\",\n",
    "                    \"Classe\", \"Ordre\", \"Fam\", \"SsFam\", \"Genre\", \"Note_org\"]\n",
    "Organism_p: str = os.path.join(tables_csv, 'Organism.csv')\n",
    "Organism: list = custom_csv_parser_to_list(Organism_p)\n",
    "print(Organism[0])\n"
   ]
  },
  {
   "cell_type": "code",
   "execution_count": 21,
   "metadata": {},
   "outputs": [
    {
     "name": "stdout",
     "output_type": "stream",
     "text": [
      "nbr of col {2}\n",
      "nbr of rows 1\n",
      "['99', '1']\n"
     ]
    }
   ],
   "source": [
    "## Prot_biblio\n",
    "\n",
    "Prot_biblio_h: list = [\"DB_ac\", \"Id_Biblio\"]\n",
    "Prot_biblio_p: str = os.path.join(tables_csv, 'Prot_biblio.csv')\n",
    "Prot_biblio: list = custom_csv_parser_to_list(Prot_biblio_p)\n",
    "print(Prot_biblio[0])\n"
   ]
  },
  {
   "cell_type": "code",
   "execution_count": 22,
   "metadata": {},
   "outputs": [
    {
     "name": "stdout",
     "output_type": "stream",
     "text": [
      "nbr of col {6}\n",
      "nbr of rows 159\n",
      "['90', '0', '1', 'Biochemical', 'N-Tail desordonnee', 'NULL']\n"
     ]
    }
   ],
   "source": [
    "## Prot_Infos\n",
    "\n",
    "Prot_Infos_h: list = [\"DB_ac\", \"INFO_indice\", \"INFO_ac\", \"INFO_Nature\", \"INFO\", \"INFO_pmid\"]\n",
    "Prot_Infos_p: str = os.path.join(tables_csv, 'Prot_Infos.csv')\n",
    "Prot_Infos: list = custom_csv_parser_to_list(Prot_Infos_p)\n",
    "print(Prot_Infos[0])\n"
   ]
  },
  {
   "cell_type": "code",
   "execution_count": 23,
   "metadata": {},
   "outputs": [
    {
     "name": "stdout",
     "output_type": "stream",
     "text": [
      "nbr of col {12}\n",
      "nbr of rows 809\n",
      "['96', '0', '1', 'Hinge', '1695', '1712', 'NULL', 'Hinge', None, 'prouve biochimiquement', 'NULL', '12072530']\n"
     ]
    }
   ],
   "source": [
    "## Prot_MOTIF\n",
    "\n",
    "Prot_MOTIF_h: list = [\"DB_ac\", \"MOTIF_indice\", \"MOTIF_ac\", \"MOTIF_name\", \"MOTIF_begin\", \"MOTIF_end\",\n",
    "                      \"MOTIF\", \"MOTIF_activity\", \"MOTIF_class\", \"MOTIF_note\", \"MOTIF_ref\", \"MOTIF_pmid\"] # 12\n",
    "Prot_MOTIF_p: str = os.path.join(tables_csv, 'Prot_MOTIF.csv')\n",
    "Prot_MOTIF: list = custom_csv_parser_to_list(Prot_MOTIF_p)\n",
    "print(Prot_MOTIF[0])\n"
   ]
  },
  {
   "cell_type": "code",
   "execution_count": 24,
   "metadata": {},
   "outputs": [
    {
     "name": "stdout",
     "output_type": "stream",
     "text": [
      "nbr of col {7}\n",
      "nbr of rows 9\n",
      "['90', '0', '1', 'S228Q; L229D', \"action sur l\\\\'interaction N=N, Supression de la formation de la nucleocapside (aggregats aleatoires) et de la liaison a l\\\\'ARN.\", 'Virology 2002 Oct 25;302(2):420-32', '12441086']\n"
     ]
    }
   ],
   "source": [
    "## Prot_MUT\n",
    "\n",
    "Prot_MUT_h: list = [\"DB_ac\", \"MUT_indice\", \"MUT_ac\", \"MUT\",\n",
    "                      \"MUT_note\", \"MUT_ref\", \"MUT_pmid\"]  # 7\n",
    "Prot_MUT_p: str = os.path.join(tables_csv, 'Prot_MUT.csv')\n",
    "Prot_MUT: list = custom_csv_parser_to_list(Prot_MUT_p)\n",
    "print(Prot_MUT[0])\n"
   ]
  },
  {
   "cell_type": "code",
   "execution_count": 25,
   "metadata": {},
   "outputs": [
    {
     "name": "stdout",
     "output_type": "stream",
     "text": [
      "nbr of col {9}\n",
      "nbr of rows 42\n",
      "['494', '4', '1', 'HD', '3026', '3137', 'module F196', None, 'NULL']\n"
     ]
    }
   ],
   "source": [
    "## Prot_REG\n",
    "\n",
    "Prot_REG_h: list = [\"DB_ac\", \"REG_indice\", \"REG_ac\", \"REG_name\", \"REG_begin\", \"REG_end\",\n",
    "                    \"REG_note\", \"REG_ref\", \"REG_pmid\"]  # 9\n",
    "Prot_REG_p: str = os.path.join(tables_csv, 'Prot_REG.csv')\n",
    "Prot_REG: list = custom_csv_parser_to_list(Prot_REG_p)\n",
    "print(Prot_REG[0])\n"
   ]
  },
  {
   "cell_type": "code",
   "execution_count": 26,
   "metadata": {},
   "outputs": [
    {
     "name": "stdout",
     "output_type": "stream",
     "text": [
      "nbr of col {10}\n",
      "nbr of rows 112\n",
      "['90', '0', '2', 'antigenic region', '457', '476', 'NULL', 'N-TAIL; epitope recognized by monoclonal antibody Cl25', 'NULL', 'NULL']\n"
     ]
    }
   ],
   "source": [
    "## Prot_RI\n",
    "\n",
    "Prot_RI_h: list = [\"DB_ac\", \"RI_indice\", \"RI_ac\", \"RI_name\", \"RI_begin\", \"RI_end\",\n",
    "                   \"RI_no_limit\", \"RI_note\", \"RI_ref\", \"RI_pmid\"]  # 10\n",
    "Prot_RI_p: str = os.path.join(tables_csv, 'Prot_RI.csv')\n",
    "Prot_RI: list = custom_csv_parser_to_list(Prot_RI_p)\n",
    "print(Prot_RI[0])\n"
   ]
  },
  {
   "cell_type": "code",
   "execution_count": 27,
   "metadata": {},
   "outputs": [
    {
     "ename": "ModuleNotFoundError",
     "evalue": "No module named 'matplotlib'",
     "output_type": "error",
     "traceback": [
      "\u001b[0;31m---------------------------------------------------------------------------\u001b[0m",
      "\u001b[0;31mModuleNotFoundError\u001b[0m                       Traceback (most recent call last)",
      "Cell \u001b[0;32mIn[27], line 1\u001b[0m\n\u001b[0;32m----> 1\u001b[0m \u001b[39mimport\u001b[39;00m \u001b[39mmatplotlib\u001b[39;00m\u001b[39m.\u001b[39;00m\u001b[39mpyplot\u001b[39;00m \u001b[39mas\u001b[39;00m \u001b[39mplt\u001b[39;00m\n\u001b[1;32m      2\u001b[0m \u001b[39mimport\u001b[39;00m \u001b[39mnumpy\u001b[39;00m \u001b[39mas\u001b[39;00m \u001b[39mnp\u001b[39;00m\n\u001b[1;32m      4\u001b[0m Items:\u001b[39mdict\u001b[39m \u001b[39m=\u001b[39m {}\n",
      "\u001b[0;31mModuleNotFoundError\u001b[0m: No module named 'matplotlib'"
     ]
    }
   ],
   "source": [
    "import matplotlib.pyplot as plt\n",
    "import numpy as np\n",
    "\n",
    "Items:dict = {}\n",
    "for item in ModO_Composition:\n",
    "    fam_id = item[2]\n",
    "    if fam_id in Items:\n",
    "        Items[fam_id] += 1\n",
    "    else :\n",
    "        Items[fam_id] = 1\n",
    "# dict[fam.id] = nbr_sequence\n",
    "\n",
    "Counts: dict = {}\n",
    "for k, v in Items.items():\n",
    "    if v in Counts:\n",
    "        Counts[str(v)] += 1\n",
    "    else :\n",
    "        Counts[str(v)] = 1\n",
    "\n",
    "X: list = [int(val) for val in Counts.keys()]\n",
    "Y: list = Counts.values()\n",
    "count: list = list(Items.values())\n",
    "count.sort()\n",
    "\n",
    "print(\"M11 \", Items[\"M11\"])\n",
    "print(\"M12 \", Items[\"M12\"])\n",
    "print(\"M13 \", Items[\"M13\"])\n",
    "\n",
    "#print(X)\n",
    "#print(Y)\n",
    "#plt.scatter(X,Y)\n",
    "\n",
    "print(min(Items.values()),max(Items.values()))\n",
    "print(count[:10], count[-10:])\n",
    "\n",
    "y_pos = np.arange(len(Items.keys()))\n",
    "plt.barh(y_pos, Items.values())\n",
    "plt.yticks(y_pos, Items.keys())\n",
    "plt.show()\n",
    "\n",
    "\n",
    "#ones:int = 0\n",
    "#for c in count:\n",
    "#    if c == 1:\n",
    "#        ones += 1\n",
    "#print(\"ones : \", ones)"
   ]
  },
  {
   "cell_type": "code",
   "execution_count": null,
   "metadata": {},
   "outputs": [
    {
     "name": "stdout",
     "output_type": "stream",
     "text": [
      "ac 191 : 2\n",
      "[['1', 'F55', ''], ['2', 'F16', '']]\n",
      "ac 3 : 3\n",
      "[['2', 'DISF14', ''], ['1', 'F26', ''], ['3', 'F22', '']]\n"
     ]
    }
   ],
   "source": [
    "def get_family(ac:str, _print=True):\n",
    "    result:list = []\n",
    "    for item in ModO_Composition:\n",
    "        if(item[0] == ac):\n",
    "            result.append(item[1:])\n",
    "    if(_print):\n",
    "        print(f\"ac {ac} : {len(result)}\")\n",
    "    return(result)\n",
    "\n",
    "print(get_family(\"191\"))\n",
    "\n",
    "print(get_family(\"3\"))"
   ]
  },
  {
   "cell_type": "code",
   "execution_count": null,
   "metadata": {},
   "outputs": [
    {
     "name": "stdout",
     "output_type": "stream",
     "text": [
      "ac 191: 1\n",
      "[(0, ['0', '1', 'prot infos NCBI', 'NCBI name : NS protein', 'NULL'])]\n",
      "ac 3: 2\n",
      "[(1, ['0', '1', 'motif I', '14', '19', 'I-D-x-I-x-K', 'trigger sequences motifs retrivied in coiled coil', None, 'in F26', None, 'NULL']), (1, ['0', '2', 'motif zinc binding', '408', '455', 'H-R-R-E-x(11)-V-x(2)-W-C-N-P-x-C-x(2)-I-x(8)-C-x-C-x(2)-C-P-x(2)-C-x(2)-C', 'zinc binding', 'paramyxoviridae', 'in F22', None, 'NULL'])]\n"
     ]
    }
   ],
   "source": [
    "def get_nbr_annotations(ac:str, _print=True):\n",
    "    Annotations:list = [Prot_Infos, Prot_MOTIF, Prot_MUT, Prot_REG, Prot_RI]\n",
    "    result:list = []\n",
    "    for a, tab in enumerate(Annotations):\n",
    "        for item in tab:\n",
    "            if(item[0] == ac ):\n",
    "                result.append((a,item[1:]))\n",
    "    if(_print) :\n",
    "        print(f\"ac {ac}: {len(result)}\")\n",
    "    return result\n",
    "\n",
    "\n",
    "print(get_nbr_annotations(\"191\"))\n",
    "\n",
    "print(get_nbr_annotations(\"3\"))\n"
   ]
  },
  {
   "cell_type": "code",
   "execution_count": null,
   "metadata": {},
   "outputs": [
    {
     "name": "stdout",
     "output_type": "stream",
     "text": [
      "ac 191: 2\n",
      "[(1, 1, 188), (2, 189, 265)]\n"
     ]
    }
   ],
   "source": [
    "def get_limits(ac:str, _print=True):\n",
    "    result:list=[]\n",
    "    for item in ModO_Limits:\n",
    "        if(ac == item[0]):\n",
    "            result.append(item[1:])\n",
    "    if(_print) :\n",
    "        print(f\"ac {ac}: {len(result)}\")\n",
    "    return [(int(r[0]), int(r[1]), int(r[2])) for r in result]\n",
    "\n",
    "print(get_limits(\"191\"))"
   ]
  },
  {
   "cell_type": "code",
   "execution_count": null,
   "metadata": {},
   "outputs": [
    {
     "name": "stdout",
     "output_type": "stream",
     "text": [
      "0 27\n"
     ]
    },
    {
     "data": {
      "text/plain": [
       "<matplotlib.collections.PathCollection at 0x7f8f0e608370>"
      ]
     },
     "execution_count": 131,
     "metadata": {},
     "output_type": "execute_result"
    },
    {
     "data": {
      "image/png": "[encoded data removed]",
      "text/plain": [
       "<Figure size 1000x600 with 1 Axes>"
      ]
     },
     "metadata": {},
     "output_type": "display_data"
    }
   ],
   "source": [
    "# nbr of annotations per accession\n",
    "X:list = [item[0] for item in CAZy_DB]\n",
    "Y:list = [len(get_nbr_annotations(x, False)) for x in X]\n",
    "\n",
    "print(min(Y),max(Y))\n",
    "\n",
    "plt.figure(figsize=(10,6))\n",
    "plt.scatter(X,Y)"
   ]
  },
  {
   "cell_type": "code",
   "execution_count": null,
   "metadata": {},
   "outputs": [
    {
     "name": "stdout",
     "output_type": "stream",
     "text": [
      "366 / 647\n"
     ]
    }
   ],
   "source": [
    "# nbr of annotation without any annotation\n",
    "\n",
    "voids:list = []\n",
    "for i in range(len(X)):\n",
    "    if(Y[i] == 0):\n",
    "        voids.append(X[i])\n",
    "print(len(voids),'/' , len(X))\n"
   ]
  },
  {
   "cell_type": "code",
   "execution_count": null,
   "metadata": {},
   "outputs": [
    {
     "name": "stdout",
     "output_type": "stream",
     "text": [
      "31 / 647\n"
     ]
    }
   ],
   "source": [
    "def question_1_b():\n",
    "    k = 0\n",
    "    j = 0\n",
    "    for ac in X:\n",
    "        j += 1\n",
    "        Fams = get_family(ac, False)\n",
    "        Lims = get_limits(ac, False)\n",
    "        if(len(Fams) != len(Lims)):\n",
    "            #print(\"ac:\", ac, \" fam:\", len(Fams), \" lim:\", len(Lims))\n",
    "            #print(\"fam:\", [(item[0],item[1]) for item in Fams])\n",
    "            #print(\"lim:\", [(item[0],f\"{item[-2]}:{item[-1]}\") for item in Lims])\n",
    "            k += 1\n",
    "    print(k,\"/\",j)\n",
    "    \n",
    "question_1_b()"
   ]
  },
  {
   "cell_type": "code",
   "execution_count": null,
   "metadata": {},
   "outputs": [
    {
     "name": "stdout",
     "output_type": "stream",
     "text": [
      "169 514\n",
      "web_descript {'multimerization domain', 'helicase/RNATriPhosphatase', 'protease', 'nd', 'glycoprotein', 'encapsidation RNA protein', 'spike', 'methyltransferase', 'methytransferase', 'hydrophobic', 'probable multimerization domain', 'zinc binding domain', 'membrane protein', 'minor RNA encapsidation protein', 'posttranscriptional regulator', 'cofactor polymerase', 'neuraminidase', 'helicase', 'Polymerase', 'regulatory factor of RNA synthesis', 'cofactor in polymerase complex', 'hemagglutinin', 'minor matrix protein', 'ionic channel (mb protein)', 'disorder', 'RNA encapsidation protein', 'neuraminidase or sialidase', 'disorder (membrane protein)', 'polymerase', 'X domain', 'transcription antitermination factor'}\n",
      "web_status {'NULL', '0', '1'}\n"
     ]
    }
   ],
   "source": [
    "# families web status ?\n",
    "\n",
    "# tab: Fam_biblio -> 1 -> ['F35', 1]\n",
    "\n",
    "\n",
    "Fam_web_no_null:list = []\n",
    "for item in ModO_Families:\n",
    "    fam_id:str = item[0]\n",
    "    if(item[-1] not in ['NULL', \"NULL\", '0'] or item[-2] not in ['NULL', \"NULL\", \"nd\", None]):\n",
    "        Fam_web_no_null.append(item)\n",
    "print(len(Fam_web_no_null), len(ModO_Families))\n",
    "\n",
    "print(\"web_descript\",  set([it[-2] for it in Fam_web_no_null]))\n",
    "print(\"web_status\",  set([it[-1] for it in Fam_web_no_null]))\n"
   ]
  },
  {
   "cell_type": "code",
   "execution_count": null,
   "metadata": {},
   "outputs": [
    {
     "name": "stdout",
     "output_type": "stream",
     "text": [
      "7\n",
      "15 514\n",
      "fold {'beta barrel', 'rossmann', 'OB-fold', 'Trypsin-like serine', 'coiled-coil', 'b-propeller', 'a/b', '6-fold b-propeller'}\n"
     ]
    }
   ],
   "source": [
    "# families fold ?\n",
    "\n",
    "\n",
    "Fam_fold: list = []\n",
    "i = ModO_Families_h.index('Fold')\n",
    "print(i)\n",
    "\n",
    "for item in ModO_Families:\n",
    "    #fam_id: str = item[0]\n",
    "    fold_val:str = item[i]\n",
    "    if(fold_val not in ['NULL', \"NULL\", \"0\", None, 'no']):\n",
    "        Fam_fold.append(fold_val)\n",
    "print(len(Fam_fold), len(ModO_Families))\n",
    "\n",
    "print(\"fold\",  set(Fam_fold))\n"
   ]
  },
  {
   "cell_type": "code",
   "execution_count": null,
   "metadata": {},
   "outputs": [],
   "source": []
  }
 ],
 "metadata": {
  "kernelspec": {
   "display_name": ".venv",
   "language": "python",
   "name": "python3"
  },
  "language_info": {
   "codemirror_mode": {
    "name": "ipython",
    "version": 3
   },
   "file_extension": ".py",
   "mimetype": "text/x-python",
   "name": "python",
   "nbconvert_exporter": "python",
   "pygments_lexer": "ipython3",
   "version": "3.10.6"
  },
  "orig_nbformat": 4
 },
 "nbformat": 4,
 "nbformat_minor": 2
}
