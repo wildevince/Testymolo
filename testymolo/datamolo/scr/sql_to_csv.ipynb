{
 "cells": [
  {
   "cell_type": "markdown",
   "metadata": {},
   "source": [
    "pwd\n",
    "#'/home/vincentwilde/Documents/thesis_1/Testymolo/testymolo/datamolo/scr'\n",
    "source '../../../.venv/bin/activate'"
   ]
  },
  {
   "attachments": {},
   "cell_type": "markdown",
   "metadata": {},
   "source": [
    "### file path"
   ]
  },
  {
   "cell_type": "code",
   "execution_count": 1,
   "metadata": {},
   "outputs": [],
   "source": [
    "INSERTS:str = \"./../../testymolo/media/old_sql/VIRUS_1-2004-11-04_Inserts_2.sql\"\n",
    "TABLES: str = \"./../../testymolo/media/old_sql/VIRUS_1-2004-11-04_Tables.sql\"\n",
    "\n",
    "tables_csv: str = \"./../../testymolo/media/tables_csv/\"\n"
   ]
  },
  {
   "cell_type": "code",
   "execution_count": 47,
   "metadata": {},
   "outputs": [],
   "source": [
    "import re\n",
    "import os\n",
    "\n",
    "\n",
    "## cleanning outfiles\n",
    "for each in os.listdir(tables_csv):\n",
    "    if(each.endswith(\".csv\")):\n",
    "        with open(os.path.join(tables_csv, each), 'w') as handle:\n",
    "            handle.write(\"\")\n",
    "\n",
    "\n",
    "classes:dict = {}\n",
    "\n",
    "with open(INSERTS) as handle:\n",
    "\n",
    "    for line in handle.readlines():\n",
    "\n",
    "        if(line.startswith(\"INSERT\")):\n",
    "            res = re.search(\"INSERT INTO ([^\\s]+) \",line)\n",
    "            tab_name = res.group(1)\n",
    "            if(tab_name in classes):\n",
    "                classes[tab_name] += 1\n",
    "            else:\n",
    "                classes[tab_name] = 1\n",
    "            outfile = os.path.join(tables_csv,tab_name+\".csv\")\n",
    "            res2 = re.search(\"VALUES \\((.*)\\);\",line)\n",
    "            values = r\"{}\".format(res2.group(1))\n",
    "            with open(outfile,'a') as handle:\n",
    "                handle.write(values +'\\n')\n",
    "\n"
   ]
  },
  {
   "attachments": {},
   "cell_type": "markdown",
   "metadata": {},
   "source": [
    "# YATTA !"
   ]
  },
  {
   "cell_type": "code",
   "execution_count": 2,
   "metadata": {},
   "outputs": [],
   "source": [
    "### caution when not all rows same nbr of col\n",
    "\n",
    "def custom_csv_parser_to_list(infilepath:str):\n",
    "    with open(infilepath ,'r') as handle:\n",
    "\n",
    "        rows:list = []\n",
    "\n",
    "        for line in handle.readlines():\n",
    "            line = line.strip(';') # removing terminal ';' \n",
    "            values:list = [] # re-initialize value list\n",
    "            val:str = \"\" # current parsing value\n",
    "            inquote:bool = False # re-initialize in quote : False\n",
    "            quote_char:str = '' # ' or \"\n",
    "            for c in line:\n",
    "                if(c == ','): # encounter comma\n",
    "                    if(not inquote): ## and not in quote\n",
    "                        val = val.strip(\"'\")\n",
    "                        val = val.strip('\"')\n",
    "                        if(len(val) > 0):\n",
    "                            values.append(val)\n",
    "                        else:\n",
    "                            values.append(None)\n",
    "                        val = \"\"\n",
    "                        continue\n",
    "                elif(c == '\"' or c == \"'\"): # encounter quote\n",
    "                    if(inquote): # already in quote \n",
    "                        if(quote_char == c):  # encounter ending quote mark\n",
    "                            inquote = False\n",
    "                        else: # encounter the other quote mark \n",
    "                            pass\n",
    "                    else: # encounter starting quote mark\n",
    "                        inquote = True\n",
    "                        quote_char = c\n",
    "                elif((c == ' ' or c == '\\n') and not inquote):  # get rid of whitespaces\n",
    "                    continue\n",
    "                val += c\n",
    "            if(len(val)>0):\n",
    "                val = val.strip(\"'\")\n",
    "                val = val.strip('\"')\n",
    "                values.append(val)\n",
    "\n",
    "            if(len(values) > 0):\n",
    "                rows.append(values)\n",
    "                #print(values)  \n",
    "        \n",
    "        print(\"nbr of col\", set([len(row) for row in rows]))\n",
    "        print(\"nbr of rows\", len(rows))\n",
    "        return rows"
   ]
  },
  {
   "cell_type": "code",
   "execution_count": 3,
   "metadata": {},
   "outputs": [
    {
     "name": "stdout",
     "output_type": "stream",
     "text": [
      "nbr of col {6}\n",
      "nbr of rows 2\n",
      "['1', '98062143', 'Isolation of an avirulent mutant of Sendai virus with two amino acid mutations from a highly virulent field strain through adaptation to LLC-MK2 cells', 'Itoh,M.', 'J. Gen. Virol. 78 (Pt 12), 3207-3215 (1997)', '13/01/03']\n"
     ]
    }
   ],
   "source": [
    "### Biblio_Struct\n",
    "\n",
    "import os\n",
    "\n",
    "Biblio_Struct_h: list = [\"Id_Biblio\", \"PubMed\", \"Title\", \"Auteur\", \"Journal\", \"Date\"]\n",
    "Biblio_Struct_p: str = os.path.join(tables_csv, 'Biblio_Struct.csv')\n",
    "\n",
    "Biblio_Struct: list = custom_csv_parser_to_list(Biblio_Struct_p)\n",
    "print(Biblio_Struct[0])"
   ]
  },
  {
   "cell_type": "code",
   "execution_count": 4,
   "metadata": {},
   "outputs": [
    {
     "name": "stdout",
     "output_type": "stream",
     "text": [
      "nbr of col {15}\n",
      "nbr of rows 647\n",
      "['1', 'nucleocapsid protein', None, 'Nipah virus', 'NipahV', '121791', None, None, '532', 'MSDIFEEAASFRSYQSKLGRDGRASAATATLTTKIRIFVPATNSPELRWELTLFALDVIRSPSAAESMKVGAAFTLISMYSERPGALIRSLLNDPDIEAVIIDVGSMVNGIPVMERRGDKAQEEMEGLMRILKTARDSSKGKTPFVDSRAYGLRITDMSTLVSAVITIEAQIWILIAKAVTAPDTAEESETRRWAKYVQQKRVNPFFALTQQWLTEMRNLLSQSLSVRKFMVEILIEVKKGGSAKGRAVEIISDIGNYVEETGMAGFFATIRFGLETRYPALALNEFQSDLNTIKSLMLLYREIGPRAPYMVLLEESIQTKFAPGGYPLLWSFAMGVATTIDRSMGALNINRGYLEPMYFRLGQKSARHHAGGIDQNMANRLGLSSDQVAELAAAVQETSAGRQESNVQAREAKFAAGGVLIGGSDQDIDEGEEPIEQSGRQSVTFKREMSISSLANSVPSSSVSTSGGTRLTNSLLNLRSRLAAKAAKEAASSNATDDPAISNRTQGESEKKNNQDLKPAQNDLDFVRADV', None, '2002-05-13', '2004-09-16', 'no', 'N mononegavirales']\n"
     ]
    }
   ],
   "source": [
    "### CAZy_DB\n",
    "CAZy_DB_h: list = [\"DB_ac\", \"Protein\", \"DB_nom\", \"Organism\", \"abr\", \"Tax_id\", \"EC\", \"_3D_status\",\n",
    "                   \"Length\", \"Sequence\", \"DB_note\", \"Created\", \"Modified\", \"PP_status\", \"Lib_sort\"]  # 15\n",
    "CAZy_DB_p: str = os.path.join(tables_csv, 'CAZy_DB.csv')\n",
    "\n",
    "CAZy_DB: list = custom_csv_parser_to_list(CAZy_DB_p)\n",
    "print(CAZy_DB[0])\n"
   ]
  },
  {
   "cell_type": "code",
   "execution_count": 5,
   "metadata": {},
   "outputs": [
    {
     "name": "stdout",
     "output_type": "stream",
     "text": [
      "nbr of col {9}\n",
      "nbr of rows 644\n",
      "['1', 'NP_112021.1', 'NC_002728', '13559809', 'N', None, '1', '532', 'Reference']\n"
     ]
    }
   ],
   "source": [
    "### CAZy_GB_GP\n",
    "CAZy_GB_GP_h: list = [\"DB_ac\", \"GP_ac\", \"GB_ac\", \"GP_gi\", \"GP_gene\", \"GP_genomic\", \"GP_begin\", \"GP_end\", \"GP_note\"]  # 9\n",
    "CAZy_GB_GP_p: str = os.path.join(tables_csv, 'CAZy_GB_GP.csv')\n",
    "\n",
    "CAZy_GB_GP: list = custom_csv_parser_to_list(CAZy_GB_GP_p)\n",
    "print(CAZy_GB_GP[0])"
   ]
  },
  {
   "cell_type": "code",
   "execution_count": 6,
   "metadata": {},
   "outputs": [
    {
     "name": "stdout",
     "output_type": "stream",
     "text": [
      "nbr of col {7}\n",
      "nbr of rows 68\n",
      "['99', '1EZJ', None, '320', '433', '95.6% identity', 'F35']\n"
     ]
    }
   ],
   "source": [
    "### CAZy_PDB\n",
    "CAZy_PDB_h: list = [\"DB_ac\", \"PDB_id\", \"PDB_chain\", \"PDB_begin\", \"PDB_end\", \"PDB_note\", \"PDB_bornModo\"]  # 7\n",
    "CAZy_PDB_p: str = os.path.join(tables_csv, 'CAZy_PDB.csv')\n",
    "\n",
    "CAZy_PDB: list = custom_csv_parser_to_list(CAZy_PDB_p)\n",
    "print(CAZy_PDB[0])\n"
   ]
  },
  {
   "cell_type": "code",
   "execution_count": 7,
   "metadata": {},
   "outputs": [
    {
     "name": "stdout",
     "output_type": "stream",
     "text": [
      "nbr of col {8}\n",
      "nbr of rows 773\n",
      "['269', '7', None, 'NS4A protein', '1658', '1711', 'EX-HD-F226 ', 'no']\n"
     ]
    }
   ],
   "source": [
    "### CAZy_PP\n",
    "CAZy_PP_h: list = [\"DB_ac\", \"PP_ac\", \"PP_gi\",\n",
    "                   \"PP_gene\", \"PP_begin\", \"PP_end\", \"PP_note\", \"PP_diff\"]  # 8\n",
    "CAZy_PP_p: str = os.path.join(tables_csv, 'CAZy_PP.csv')\n",
    "\n",
    "CAZy_PP: list = custom_csv_parser_to_list(CAZy_PP_p)\n",
    "print(CAZy_PP[0])\n"
   ]
  },
  {
   "cell_type": "code",
   "execution_count": 8,
   "metadata": {},
   "outputs": [
    {
     "name": "stdout",
     "output_type": "stream",
     "text": [
      "nbr of col {7}\n",
      "nbr of rows 4\n",
      "['68', 'P35944', 'NCAP_PHODV', 'N', '1', '523', 'Reference']\n"
     ]
    }
   ],
   "source": [
    "### CAZy_SP\n",
    "CAZy_SP_h: list = [\"DB_ac\", \"SP_ac\", \"SP_id\",\n",
    "                   \"SP_gene\", \"SP_begin\", \"SP_end\", \"SP_note\"]  # 7\n",
    "CAZy_SP_p: str = os.path.join(tables_csv, 'CAZy_SP.csv')\n",
    "\n",
    "CAZy_SP: list = custom_csv_parser_to_list(CAZy_SP_p)\n",
    "print(CAZy_SP[0])\n"
   ]
  },
  {
   "cell_type": "code",
   "execution_count": 9,
   "metadata": {},
   "outputs": [
    {
     "name": "stdout",
     "output_type": "stream",
     "text": [
      "nbr of col {6}\n",
      "nbr of rows 2\n",
      "['UNK2B', None, None, None, None, '2002-06-07']\n"
     ]
    }
   ],
   "source": [
    "## CAZyModO\n",
    "CAZyModO_h: list=[\"URL_family\", \"URL_title\",\n",
    "                 \"URL_body\", \"URL_relative\", \"URL_note\", \"Modified\"] # 6\n",
    "CAZyModO_p: str = os.path.join(tables_csv, 'CAZyModO.csv')\n",
    "CAZyModO: list = custom_csv_parser_to_list(CAZyModO_p)\n",
    "print(CAZyModO[0])"
   ]
  },
  {
   "cell_type": "code",
   "execution_count": 10,
   "metadata": {},
   "outputs": [
    {
     "name": "stdout",
     "output_type": "stream",
     "text": [
      "nbr of col {2}\n",
      "nbr of rows 2\n",
      "['269', '2.7.7.48']\n"
     ]
    }
   ],
   "source": [
    "## Cz_EC\n",
    "Cz_EC_h: list=[\"DB_ac\", \"EC\"]  # 2\n",
    "Cz_EC_p: str = os.path.join(tables_csv, 'Cz_EC.csv')\n",
    "Cz_EC: list = custom_csv_parser_to_list(Cz_EC_p)\n",
    "print(Cz_EC[0])\n"
   ]
  },
  {
   "cell_type": "code",
   "execution_count": 11,
   "metadata": {},
   "outputs": [
    {
     "name": "stdout",
     "output_type": "stream",
     "text": [
      "nbr of col {5}\n",
      "nbr of rows 1\n",
      "['2.7.7.48', 'RNA-directed RNA polymerase.', 'RNA nucleotidyltransferase (RNA-directed).', 'N nucleoside triphosphate = N diphosphate + {RNA}(N).', '-!- Catalyzes RNA-template-directed extension of the 3prim-end of an RNAstrand by one nucleotide at a time.-!- Can initiate a chain de novo.-!- See also EC 2.7.7.6.']\n"
     ]
    }
   ],
   "source": [
    "## EC_num\n",
    "EC_num_h: list=[\"EC\", \"EC_name\", \"EC_othername\", \"EC_reaction\", \"EC_comment\"]  # 5\n",
    "EC_num_p: str = os.path.join(tables_csv, 'EC_num.csv')\n",
    "EC_num: list = custom_csv_parser_to_list(EC_num_p)\n",
    "print(EC_num[0])\n"
   ]
  },
  {
   "cell_type": "code",
   "execution_count": 12,
   "metadata": {},
   "outputs": [
    {
     "name": "stdout",
     "output_type": "stream",
     "text": [
      "nbr of col {2}\n",
      "nbr of rows 1\n",
      "['F35', '1']\n"
     ]
    }
   ],
   "source": [
    "## Fam_biblio\n",
    "Fam_biblio_h: list=[\"Family\", \"Id_Biblio\"]  # 2\n",
    "Fam_biblio_p: str = os.path.join(tables_csv, 'Fam_biblio.csv')\n",
    "Fam_biblio: list = custom_csv_parser_to_list(Fam_biblio_p)\n",
    "print(Fam_biblio[0])\n"
   ]
  },
  {
   "cell_type": "code",
   "execution_count": 13,
   "metadata": {},
   "outputs": [
    {
     "name": "stdout",
     "output_type": "stream",
     "text": [
      "nbr of col {4}\n",
      "nbr of rows 2797\n",
      "['191', '1', 'F55', '']\n"
     ]
    }
   ],
   "source": [
    "## ModO_Composition\n",
    "ModO_Composition_h: list=[\"DB_ac\", \"Mod_num\", \"Family\",\n",
    "                         \"Subf\"]  # 4\n",
    "ModO_Composition_p: str = os.path.join(tables_csv, 'ModO_Composition.csv')\n",
    "ModO_Composition: list = custom_csv_parser_to_list(ModO_Composition_p)\n",
    "print(ModO_Composition[0])"
   ]
  },
  {
   "cell_type": "code",
   "execution_count": 14,
   "metadata": {},
   "outputs": [
    {
     "name": "stdout",
     "output_type": "stream",
     "text": [
      "nbr of col {5}\n",
      "nbr of rows 77\n",
      "['F116', 'Interferon AntaGonist', 'http://139.124.42.180/VIZIR/phpVIZIR/BILANS/functional_characterization.htm', None, '']\n"
     ]
    }
   ],
   "source": [
    "## ModO_CrossRefs\n",
    "ModO_CrossRefs_h: list=[\"Family\", \"Link\", \"URL_base\", \"URL_string\", \n",
    "                       \"Ref_note\"]  # 5\n",
    "ModO_CrossRefs_p: str = os.path.join(tables_csv, 'ModO_CrossRefs.csv')\n",
    "ModO_CrossRefs: list = custom_csv_parser_to_list(ModO_CrossRefs_p)\n",
    "print(ModO_CrossRefs[0])\n"
   ]
  },
  {
   "cell_type": "code",
   "execution_count": 15,
   "metadata": {},
   "outputs": [
    {
     "name": "stdout",
     "output_type": "stream",
     "text": [
      "nbr of col {16}\n",
      "nbr of rows 514\n",
      "['UNK', 'unknown', None, 'NULL', None, None, None, None, 'no', 'NULL', 'NULL', 'NULL', 'NULL', 'NULL', 'NULL', 'NULL']\n"
     ]
    }
   ],
   "source": [
    "## ModO_Families\n",
    "ModO_Families_h: list=[\"Family\", \"Family_Name\", \"Family_Activity\", \"Family_Taxo\",\n",
    "                      \"Clan\", \"Family_note\", \"Family_Private_note\", \"Fold\",\n",
    "                      \"ModoS_uniqfct\", \"ModoS_Activity\", \"ModoS_Description\", \"ModoS_Fold\", \"ModoS_note\", \"ModoS_Private_note\",\n",
    "                      \"web_descript\", \"web_status\"]  # 16\n",
    "ModO_Families_p: str = os.path.join(tables_csv, 'ModO_Families.csv')\n",
    "ModO_Families: list = custom_csv_parser_to_list(ModO_Families_p)\n",
    "print(ModO_Families[0])\n"
   ]
  },
  {
   "cell_type": "code",
   "execution_count": 16,
   "metadata": {},
   "outputs": [
    {
     "name": "stdout",
     "output_type": "stream",
     "text": [
      "nbr of col {4}\n",
      "nbr of rows 2829\n",
      "['191', '1', '1', '188']\n"
     ]
    }
   ],
   "source": [
    "## ModO_Limits\n",
    "ModO_Limits_h: list = [\"DB_ac\", \"Mod_num\", \"Mod_begin\", \"Mod_end\"]  # 4\n",
    "ModO_Limits_p: str = os.path.join(tables_csv, 'ModO_Limits.csv')\n",
    "ModO_Limits: list = custom_csv_parser_to_list(ModO_Limits_p)\n",
    "print(ModO_Limits[0])\n"
   ]
  },
  {
   "cell_type": "code",
   "execution_count": 17,
   "metadata": {},
   "outputs": [
    {
     "name": "stdout",
     "output_type": "stream",
     "text": [
      "nbr of col {6}\n",
      "nbr of rows 58\n",
      "['1', 'motif I', 'helicase', 'super family 1', '[FHILVWY]-x-G-x-P-G-x-G-K-[ST]-x(0,2)-[FHILVWY]', 'NULL']\n"
     ]
    }
   ],
   "source": [
    "## Motifs\n",
    "Motifs_h: list = [\"motifs_ac\", \"motifs_name\", \"motifs_activity\", \"motifs_classification\", \"motifs_form\", \"motifs_note\"]\n",
    "Motifs_p: str = os.path.join(tables_csv, 'Motifs.csv')\n",
    "Motifs: list = custom_csv_parser_to_list(Motifs_p)\n",
    "print(Motifs[0])"
   ]
  },
  {
   "cell_type": "code",
   "execution_count": 18,
   "metadata": {},
   "outputs": [
    {
     "name": "stdout",
     "output_type": "stream",
     "text": [
      "nbr of col {9}\n",
      "nbr of rows 166\n",
      "['11207', 'Simian parainfluenza virus 5', 'Viruses', 'ssRNA negative-strand viruses', 'Mononegavirales', 'Paramyxoviridae', 'Paramyxovirinae', 'Rubulavirus', '']\n"
     ]
    }
   ],
   "source": [
    "## Organism\n",
    "Organism_h: list = [\"Tax_id\", \"Name\", \"Categorie\",\n",
    "                    \"Classe\", \"Ordre\", \"Fam\", \"SsFam\", \"Genre\", \"Note_org\"]\n",
    "Organism_p: str = os.path.join(tables_csv, 'Organism.csv')\n",
    "Organism: list = custom_csv_parser_to_list(Organism_p)\n",
    "print(Organism[0])\n"
   ]
  },
  {
   "cell_type": "code",
   "execution_count": 19,
   "metadata": {},
   "outputs": [
    {
     "name": "stdout",
     "output_type": "stream",
     "text": [
      "nbr of col {2}\n",
      "nbr of rows 1\n",
      "['99', '1']\n"
     ]
    }
   ],
   "source": [
    "## Prot_biblio\n",
    "\n",
    "Prot_biblio_h: list = [\"DB_ac\", \"Id_Biblio\"]\n",
    "Prot_biblio_p: str = os.path.join(tables_csv, 'Prot_biblio.csv')\n",
    "Prot_biblio: list = custom_csv_parser_to_list(Prot_biblio_p)\n",
    "print(Prot_biblio[0])\n"
   ]
  },
  {
   "cell_type": "code",
   "execution_count": 20,
   "metadata": {},
   "outputs": [
    {
     "name": "stdout",
     "output_type": "stream",
     "text": [
      "nbr of col {6}\n",
      "nbr of rows 159\n",
      "['90', '0', '1', 'Biochemical', 'N-Tail desordonnee', 'NULL']\n"
     ]
    }
   ],
   "source": [
    "## Prot_Infos\n",
    "\n",
    "Prot_Infos_h: list = [\"DB_ac\", \"INFO_indice\", \"INFO_ac\", \"INFO_Nature\", \"INFO\", \"INFO_pmid\"]\n",
    "Prot_Infos_p: str = os.path.join(tables_csv, 'Prot_Infos.csv')\n",
    "Prot_Infos: list = custom_csv_parser_to_list(Prot_Infos_p)\n",
    "print(Prot_Infos[0])\n"
   ]
  },
  {
   "cell_type": "code",
   "execution_count": 21,
   "metadata": {},
   "outputs": [
    {
     "name": "stdout",
     "output_type": "stream",
     "text": [
      "nbr of col {12}\n",
      "nbr of rows 809\n",
      "['96', '0', '1', 'Hinge', '1695', '1712', 'NULL', 'Hinge', None, 'prouve biochimiquement', 'NULL', '12072530']\n"
     ]
    }
   ],
   "source": [
    "## Prot_MOTIF\n",
    "\n",
    "Prot_MOTIF_h: list = [\"DB_ac\", \"MOTIF_indice\", \"MOTIF_ac\", \"MOTIF_name\", \"MOTIF_begin\", \"MOTIF_end\",\n",
    "                      \"MOTIF\", \"MOTIF_activity\", \"MOTIF_class\", \"MOTIF_note\", \"MOTIF_ref\", \"MOTIF_pmid\"] # 12\n",
    "Prot_MOTIF_p: str = os.path.join(tables_csv, 'Prot_MOTIF.csv')\n",
    "Prot_MOTIF: list = custom_csv_parser_to_list(Prot_MOTIF_p)\n",
    "print(Prot_MOTIF[0])\n"
   ]
  },
  {
   "cell_type": "code",
   "execution_count": 22,
   "metadata": {},
   "outputs": [
    {
     "name": "stdout",
     "output_type": "stream",
     "text": [
      "nbr of col {7}\n",
      "nbr of rows 9\n",
      "['90', '0', '1', 'S228Q; L229D', \"action sur l\\\\'interaction N=N, Supression de la formation de la nucleocapside (aggregats aleatoires) et de la liaison a l\\\\'ARN.\", 'Virology 2002 Oct 25;302(2):420-32', '12441086']\n"
     ]
    }
   ],
   "source": [
    "## Prot_MUT\n",
    "\n",
    "Prot_MUT_h: list = [\"DB_ac\", \"MUT_indice\", \"MUT_ac\", \"MUT\",\n",
    "                      \"MUT_note\", \"MUT_ref\", \"MUT_pmid\"]  # 7\n",
    "Prot_MUT_p: str = os.path.join(tables_csv, 'Prot_MUT.csv')\n",
    "Prot_MUT: list = custom_csv_parser_to_list(Prot_MUT_p)\n",
    "print(Prot_MUT[0])\n"
   ]
  },
  {
   "cell_type": "code",
   "execution_count": 23,
   "metadata": {},
   "outputs": [
    {
     "name": "stdout",
     "output_type": "stream",
     "text": [
      "nbr of col {9}\n",
      "nbr of rows 42\n",
      "['494', '4', '1', 'HD', '3026', '3137', 'module F196', None, 'NULL']\n"
     ]
    }
   ],
   "source": [
    "## Prot_REG\n",
    "\n",
    "Prot_REG_h: list = [\"DB_ac\", \"REG_indice\", \"REG_ac\", \"REG_name\", \"REG_begin\", \"REG_end\",\n",
    "                    \"REG_note\", \"REG_ref\", \"REG_pmid\"]  # 9\n",
    "Prot_REG_p: str = os.path.join(tables_csv, 'Prot_REG.csv')\n",
    "Prot_REG: list = custom_csv_parser_to_list(Prot_REG_p)\n",
    "print(Prot_REG[0])\n"
   ]
  },
  {
   "cell_type": "code",
   "execution_count": 24,
   "metadata": {},
   "outputs": [
    {
     "name": "stdout",
     "output_type": "stream",
     "text": [
      "nbr of col {10}\n",
      "nbr of rows 112\n",
      "['90', '0', '2', 'antigenic region', '457', '476', 'NULL', 'N-TAIL; epitope recognized by monoclonal antibody Cl25', 'NULL', 'NULL']\n"
     ]
    }
   ],
   "source": [
    "## Prot_RI\n",
    "\n",
    "Prot_RI_h: list = [\"DB_ac\", \"RI_indice\", \"RI_ac\", \"RI_name\", \"RI_begin\", \"RI_end\",\n",
    "                   \"RI_no_limit\", \"RI_note\", \"RI_ref\", \"RI_pmid\"]  # 10\n",
    "Prot_RI_p: str = os.path.join(tables_csv, 'Prot_RI.csv')\n",
    "Prot_RI: list = custom_csv_parser_to_list(Prot_RI_p)\n",
    "print(Prot_RI[0])\n"
   ]
  },
  {
   "cell_type": "code",
   "execution_count": 25,
   "metadata": {},
   "outputs": [
    {
     "name": "stdout",
     "output_type": "stream",
     "text": [
      "M11  6\n",
      "M12  3\n",
      "M13  3\n",
      "1 329\n",
      "[1, 1, 1, 1, 1, 1, 1, 1, 1, 1] [27, 29, 35, 44, 56, 71, 92, 103, 113, 329]\n"
     ]
    }
   ],
   "source": [
    "#import matplotlib.pyplot as plt\n",
    "import numpy as np\n",
    "\n",
    "Items:dict = {}\n",
    "for item in ModO_Composition:\n",
    "    fam_id = item[2]\n",
    "    if fam_id in Items:\n",
    "        Items[fam_id] += 1\n",
    "    else :\n",
    "        Items[fam_id] = 1\n",
    "# dict[fam.id] = nbr_sequence\n",
    "\n",
    "Counts: dict = {}\n",
    "for k, v in Items.items():\n",
    "    if v in Counts:\n",
    "        Counts[str(v)] += 1\n",
    "    else :\n",
    "        Counts[str(v)] = 1\n",
    "\n",
    "X: list = [int(val) for val in Counts.keys()]\n",
    "Y: list = Counts.values()\n",
    "count: list = list(Items.values())\n",
    "count.sort()\n",
    "\n",
    "print(\"M11 \", Items[\"M11\"])\n",
    "print(\"M12 \", Items[\"M12\"])\n",
    "print(\"M13 \", Items[\"M13\"])\n",
    "\n",
    "#print(X)\n",
    "#print(Y)\n",
    "#plt.scatter(X,Y)\n",
    "\n",
    "print(min(Items.values()),max(Items.values()))\n",
    "print(count[:10], count[-10:])\n",
    "\n",
    "#y_pos = np.arange(len(Items.keys()))\n",
    "#plt.barh(y_pos, Items.values())\n",
    "#plt.yticks(y_pos, Items.keys())\n",
    "#plt.show()\n",
    "\n",
    "\n",
    "#ones:int = 0\n",
    "#for c in count:\n",
    "#    if c == 1:\n",
    "#        ones += 1\n",
    "#print(\"ones : \", ones)"
   ]
  },
  {
   "cell_type": "code",
   "execution_count": 26,
   "metadata": {},
   "outputs": [
    {
     "name": "stdout",
     "output_type": "stream",
     "text": [
      "ac 191 : 2\n",
      "[['1', 'F55', ''], ['2', 'F16', '']]\n",
      "ac 3 : 3\n",
      "[['2', 'DISF14', ''], ['1', 'F26', ''], ['3', 'F22', '']]\n"
     ]
    }
   ],
   "source": [
    "def get_family(ac:str, _print=True):\n",
    "    result:list = []\n",
    "    for item in ModO_Composition:\n",
    "        if(item[0] == ac):\n",
    "            result.append(item[1:])\n",
    "    if(_print):\n",
    "        print(f\"ac {ac} : {len(result)}\")\n",
    "    return(result)\n",
    "\n",
    "print(get_family(\"191\"))\n",
    "\n",
    "print(get_family(\"3\"))"
   ]
  },
  {
   "cell_type": "code",
   "execution_count": 67,
   "metadata": {},
   "outputs": [
    {
     "name": "stdout",
     "output_type": "stream",
     "text": [
      "ac 191: 2\n",
      "[('Prot_Infos', ['0', '1', 'prot infos NCBI', 'NCBI name : NS protein', 'NULL']), ('CAZy_GB_GP', ['NP_041713.1', 'NC_001560', '9627231', None, None, '1', '265', 'Reference'])]\n",
      "ac 3: 3\n",
      "[('Prot_MOTIF', ['0', '1', 'motif I', '14', '19', 'I-D-x-I-x-K', 'trigger sequences motifs retrivied in coiled coil', None, 'in F26', None, 'NULL']), ('Prot_MOTIF', ['0', '2', 'motif zinc binding', '408', '455', 'H-R-R-E-x(11)-V-x(2)-W-C-N-P-x-C-x(2)-I-x(8)-C-x-C-x(2)-C-P-x(2)-C-x(2)-C', 'zinc binding', 'paramyxoviridae', 'in F22', None, 'NULL']), ('CAZy_GB_GP', ['NP_112023.1', 'NC_002728', '13559816', 'P/V/C', None, '1', '456', 'Reference'])]\n"
     ]
    }
   ],
   "source": [
    "def get_nbr_annotations(ac:str, _print=True):\n",
    "    Annotations:list = [Prot_Infos, Prot_MOTIF, Prot_MUT, Prot_REG, Prot_RI, CAZy_GB_GP, CAZy_PDB, CAZy_PP, CAZy_SP]\n",
    "    Annotations_txt:list = [\"Prot_Infos\", \"Prot_MOTIF\", \"Prot_MUT\", \"Prot_REG\", \"Prot_RI\", \"CAZy_GB_GP\", \"CAZy_PDB\", \"CAZy_PP\", \"CAZy_SP\"]\n",
    "    result:list = []\n",
    "    for a, tab in enumerate(Annotations):\n",
    "        for item in tab:\n",
    "            if(item[0] == ac ):\n",
    "                result.append((Annotations_txt[a] , item[1:]))\n",
    "    if(_print) :\n",
    "        print(f\"ac {ac}: {len(result)}\")\n",
    "    return result\n",
    "\n",
    "\n",
    "print(get_nbr_annotations(\"191\"))\n",
    "\n",
    "print(get_nbr_annotations(\"3\"))\n"
   ]
  },
  {
   "cell_type": "code",
   "execution_count": 56,
   "metadata": {},
   "outputs": [
    {
     "name": "stdout",
     "output_type": "stream",
     "text": [
      "ac 191: 2\n",
      "[(1, 1, 188), (2, 189, 265)]\n"
     ]
    }
   ],
   "source": [
    "def get_limits(ac:str, _print=True):\n",
    "    result:list=[]\n",
    "    for item in ModO_Limits:\n",
    "        if(ac == item[0]):\n",
    "            result.append(item[1:])\n",
    "    if(_print) :\n",
    "        print(f\"ac {ac}: {len(result)}\")\n",
    "    return [(int(r[0]), int(r[1]), int(r[2])) for r in result]\n",
    "\n",
    "print(get_limits(\"191\"))"
   ]
  },
  {
   "cell_type": "code",
   "execution_count": 57,
   "metadata": {},
   "outputs": [
    {
     "name": "stdout",
     "output_type": "stream",
     "text": [
      "0 43\n"
     ]
    }
   ],
   "source": [
    "# nbr of annotations per accession\n",
    "X:list = [item[0] for item in CAZy_DB]\n",
    "Y:list = [len(get_nbr_annotations(x, False)) for x in X]\n",
    "\n",
    "print(min(Y),max(Y))\n",
    "\n",
    "#plt.figure(figsize=(10,6))\n",
    "#plt.scatter(X,Y)"
   ]
  },
  {
   "cell_type": "code",
   "execution_count": 58,
   "metadata": {},
   "outputs": [
    {
     "name": "stdout",
     "output_type": "stream",
     "text": [
      "2 / 647\n"
     ]
    }
   ],
   "source": [
    "# nbr of annotation without any annotation\n",
    "\n",
    "voids:list = []\n",
    "for i in range(len(X)):\n",
    "    if(Y[i] == 0):\n",
    "        voids.append(X[i])\n",
    "print(len(voids),'/' , len(X))\n"
   ]
  },
  {
   "cell_type": "code",
   "execution_count": 59,
   "metadata": {},
   "outputs": [
    {
     "name": "stdout",
     "output_type": "stream",
     "text": [
      "31 / 647\n"
     ]
    }
   ],
   "source": [
    "def question_1_b():\n",
    "    k = 0\n",
    "    j = 0\n",
    "    for ac in X:\n",
    "        j += 1\n",
    "        Fams = get_family(ac, False)\n",
    "        Lims = get_limits(ac, False)\n",
    "        if(len(Fams) != len(Lims)):\n",
    "            #print(\"ac:\", ac, \" fam:\", len(Fams), \" lim:\", len(Lims))\n",
    "            #print(\"fam:\", [(item[0],item[1]) for item in Fams])\n",
    "            #print(\"lim:\", [(item[0],f\"{item[-2]}:{item[-1]}\") for item in Lims])\n",
    "            k += 1\n",
    "    print(k,\"/\",j)\n",
    "    \n",
    "question_1_b()"
   ]
  },
  {
   "cell_type": "code",
   "execution_count": 60,
   "metadata": {},
   "outputs": [
    {
     "name": "stdout",
     "output_type": "stream",
     "text": [
      "169 514\n",
      "web_descript {'encapsidation RNA protein', 'minor RNA encapsidation protein', 'ionic channel (mb protein)', 'hydrophobic', 'cofactor in polymerase complex', 'probable multimerization domain', 'cofactor polymerase', 'disorder', 'RNA encapsidation protein', 'methytransferase', 'Polymerase', 'posttranscriptional regulator', 'multimerization domain', 'zinc binding domain', 'transcription antitermination factor', 'polymerase', 'glycoprotein', 'membrane protein', 'neuraminidase or sialidase', 'methyltransferase', 'hemagglutinin', 'spike', 'X domain', 'helicase/RNATriPhosphatase', 'disorder (membrane protein)', 'neuraminidase', 'protease', 'helicase', 'minor matrix protein', 'regulatory factor of RNA synthesis', 'nd'}\n",
      "web_status {'1', 'NULL', '0'}\n"
     ]
    }
   ],
   "source": [
    "# families web status ?\n",
    "\n",
    "# tab: Fam_biblio -> 1 -> ['F35', 1]\n",
    "\n",
    "\n",
    "Fam_web_no_null:list = []\n",
    "for item in ModO_Families:\n",
    "    fam_id:str = item[0]\n",
    "    if(item[-1] not in ['NULL', \"NULL\", '0'] or item[-2] not in ['NULL', \"NULL\", \"nd\", None]):\n",
    "        Fam_web_no_null.append(item)\n",
    "print(len(Fam_web_no_null), len(ModO_Families))\n",
    "\n",
    "print(\"web_descript\",  set([it[-2] for it in Fam_web_no_null]))\n",
    "print(\"web_status\",  set([it[-1] for it in Fam_web_no_null]))\n"
   ]
  },
  {
   "cell_type": "code",
   "execution_count": 61,
   "metadata": {},
   "outputs": [
    {
     "name": "stdout",
     "output_type": "stream",
     "text": [
      "7\n",
      "15 514\n",
      "fold {'OB-fold', '6-fold b-propeller', 'a/b', 'coiled-coil', 'rossmann', 'beta barrel', 'b-propeller', 'Trypsin-like serine'}\n"
     ]
    }
   ],
   "source": [
    "# families fold ?\n",
    "\n",
    "\n",
    "Fam_fold: list = []\n",
    "i = ModO_Families_h.index('Fold')\n",
    "print(i)\n",
    "\n",
    "for item in ModO_Families:\n",
    "    #fam_id: str = item[0]\n",
    "    fold_val:str = item[i]\n",
    "    if(fold_val not in ['NULL', \"NULL\", \"0\", None, 'no']):\n",
    "        Fam_fold.append(fold_val)\n",
    "print(len(Fam_fold), len(ModO_Families))\n",
    "\n",
    "print(\"fold\",  set(Fam_fold))\n"
   ]
  },
  {
   "cell_type": "code",
   "execution_count": 62,
   "metadata": {},
   "outputs": [],
   "source": [
    "# sequence -> famille -> composition & limit \n",
    "#          -> annotation\n",
    "\n",
    "# for each family : \n",
    "#     sequence \n",
    "#         composition & limit\n",
    "\n",
    "# != type of family (family = modulo)\n"
   ]
  },
  {
   "cell_type": "code",
   "execution_count": 63,
   "metadata": {},
   "outputs": [
    {
     "name": "stdout",
     "output_type": "stream",
     "text": [
      "len(type_of_family) 16  :  UNK S F DISF M IHD HD ITM TM LNK IC NF PS EX DIS DISS\n",
      "len(families)  514\n",
      "type  UNK  :  1\n",
      "type  S  :  141\n",
      "type  F  :  283\n",
      "type  DISF  :  29\n",
      "type  M  :  20\n",
      "type  IHD  :  1\n",
      "type  HD  :  1\n",
      "type  ITM  :  1\n",
      "type  TM  :  1\n",
      "type  LNK  :  1\n",
      "type  IC  :  27\n",
      "type  NF  :  1\n",
      "type  PS  :  1\n",
      "type  EX  :  1\n",
      "type  DIS  :  1\n",
      "type  DISS  :  4\n"
     ]
    }
   ],
   "source": [
    "\n",
    "def get_type(fam_id:str):\n",
    "    result:str = \"\"\n",
    "    for i in range(len(fam_id)):\n",
    "        if not fam_id[i].isdigit():\n",
    "            result += fam_id[i]\n",
    "    return result\n",
    "\n",
    "type_of_family:dict = {}\n",
    "families:list = []\n",
    "Modulo_F:list = []\n",
    "\n",
    "for fam in ModO_Families:\n",
    "    fam_type = get_type(fam[0])\n",
    "    families.append(fam[0])\n",
    "\n",
    "    if(fam_type in type_of_family):\n",
    "        type_of_family[fam_type] += 1\n",
    "    else :\n",
    "        type_of_family[fam_type] = 1\n",
    "\n",
    "    if(fam_type == 'F'):\n",
    "        Modulo_F.append(fam)\n",
    "\n",
    "print(\"len(type_of_family)\" , len(type_of_family) , ' : ',*type_of_family)\n",
    "print(\"len(families) \", len(families))\n",
    "for t, nbr in type_of_family.items():\n",
    "    print(\"type \",t,\" : \" ,nbr)\n"
   ]
  },
  {
   "cell_type": "code",
   "execution_count": 64,
   "metadata": {},
   "outputs": [
    {
     "data": {
      "text/plain": [
       "[['279', '1', 'F33', ''], ['275', '1', 'F33', ''], ['130', '1', 'F33', '']]"
      ]
     },
     "execution_count": 64,
     "metadata": {},
     "output_type": "execute_result"
    }
   ],
   "source": [
    "# found nbr sequence of given family \n",
    "# ModO_composition :  0:seq_id  1:limit  2:fam_id  3:subfam\n",
    "\n",
    "def get_fam_composition(fam_id:str=\"\", _print:bool=True):\n",
    "    result:list = []\n",
    "    for item in ModO_Composition:\n",
    "        if(item[2] == fam_id):\n",
    "            result.append(item)\n",
    "    return result\n",
    "\n",
    "# for each in family\n",
    "# print fam_composition\n",
    "\n",
    "get_fam_composition(\"F33\")"
   ]
  },
  {
   "cell_type": "code",
   "execution_count": 68,
   "metadata": {},
   "outputs": [
    {
     "name": "stdout",
     "output_type": "stream",
     "text": [
      "ac 279: 1\n",
      "[('CAZy_GB_GP', ['NP_619702.1', 'NC_003620', None, 'Nsm', None, '1', '307', 'Reference'])]\n",
      "ac 275: 1\n",
      "[('CAZy_GB_GP', ['NP_620766.1', 'NC_003841', None, 'Nsm', None, '1', '312', 'Reference'])]\n",
      "ac 130: 1\n",
      "[('CAZy_GB_GP', ['NP_619690.1', 'NC_003616', None, None, None, '1', '303', 'Reference'])]\n"
     ]
    }
   ],
   "source": [
    "for seq in get_fam_composition(\"F33\"):\n",
    "    seq_id = seq[0]\n",
    "    print(get_nbr_annotations(seq_id))"
   ]
  },
  {
   "cell_type": "code",
   "execution_count": 76,
   "metadata": {},
   "outputs": [
    {
     "name": "stdout",
     "output_type": "stream",
     "text": [
      "family  F20  : nbr sequences  35  : annotations  {3, 4, 5, 6, 8}\n",
      "family  F17  : nbr sequences  5  : annotations  {1}\n",
      "family  F11  : nbr sequences  4  : annotations  {1, 5}\n",
      "family  F10  : nbr sequences  2  : annotations  {1}\n",
      "family  F51  : nbr sequences  44  : annotations  {1, 3, 4, 5, 6, 8}\n",
      "family  F52  : nbr sequences  5  : annotations  {3, 4}\n",
      "family  F50  : nbr sequences  23  : annotations  {8, 4, 6}\n",
      "family  F34  : nbr sequences  1  : annotations  {1}\n",
      "family  F21  : nbr sequences  9  : annotations  {4}\n",
      "family  F35  : nbr sequences  4  : annotations  {2, 4}\n",
      "family  F1  : nbr sequences  19  : annotations  {16, 2, 4}\n",
      "family  F2  : nbr sequences  23  : annotations  {16, 2, 4}\n",
      "family  F5  : nbr sequences  5  : annotations  {1}\n",
      "family  F6  : nbr sequences  4  : annotations  {1}\n",
      "family  F8  : nbr sequences  4  : annotations  {1}\n",
      "family  F9  : nbr sequences  3  : annotations  {1}\n",
      "family  F36  : nbr sequences  4  : annotations  {2, 4}\n",
      "family  F12  : nbr sequences  5  : annotations  {4}\n",
      "family  F13  : nbr sequences  3  : annotations  {1, 2}\n",
      "family  F18  : nbr sequences  8  : annotations  {1}\n",
      "family  F16  : nbr sequences  2  : annotations  {1, 2}\n",
      "family  F15  : nbr sequences  4  : annotations  {2}\n",
      "family  F14  : nbr sequences  3  : annotations  {1, 4}\n",
      "family  F23  : nbr sequences  8  : annotations  {1}\n",
      "family  F46  : nbr sequences  2  : annotations  {1, 2}\n",
      "family  F22  : nbr sequences  12  : annotations  {2, 3}\n",
      "family  F24  : nbr sequences  13  : annotations  {1, 2}\n",
      "family  F27  : nbr sequences  5  : annotations  {1, 2, 5}\n",
      "family  F26  : nbr sequences  4  : annotations  {3}\n",
      "family  F45  : nbr sequences  6  : annotations  {1, 2, 5}\n",
      "family  F44  : nbr sequences  1  : annotations  {24}\n",
      "family  F43  : nbr sequences  4  : annotations  {2}\n",
      "family  F25  : nbr sequences  9  : annotations  {1, 2, 3, 5}\n",
      "family  F28  : nbr sequences  4  : annotations  {1, 2, 3}\n",
      "family  F29  : nbr sequences  0  : annotations  set()\n",
      "family  F48  : nbr sequences  3  : annotations  {1}\n",
      "family  F47  : nbr sequences  3  : annotations  {1}\n",
      "family  F66  : nbr sequences  1  : annotations  {3}\n",
      "family  F65  : nbr sequences  1  : annotations  {5}\n",
      "family  F64  : nbr sequences  3  : annotations  {4}\n",
      "family  F49  : nbr sequences  9  : annotations  {8, 4, 6}\n",
      "family  F53  : nbr sequences  2  : annotations  {3, 4}\n",
      "family  F54  : nbr sequences  1  : annotations  {1}\n",
      "family  F55  : nbr sequences  1  : annotations  {2}\n",
      "family  F57  : nbr sequences  1  : annotations  {3}\n",
      "family  F58  : nbr sequences  26  : annotations  {8, 4, 6}\n",
      "family  F59  : nbr sequences  1  : annotations  {5}\n",
      "family  F60  : nbr sequences  1  : annotations  {3}\n",
      "family  F61  : nbr sequences  4  : annotations  {4, 5}\n",
      "family  F62  : nbr sequences  5  : annotations  {3, 4}\n",
      "family  F19  : nbr sequences  4  : annotations  {4, 5}\n",
      "family  F7  : nbr sequences  5  : annotations  {3, 4}\n",
      "family  F3  : nbr sequences  4  : annotations  {4, 5}\n",
      "family  F67  : nbr sequences  2  : annotations  {3, 4}\n",
      "family  F68  : nbr sequences  4  : annotations  {4, 5}\n",
      "family  F69  : nbr sequences  4  : annotations  {4, 5}\n",
      "family  F70  : nbr sequences  3  : annotations  {4}\n",
      "family  F71  : nbr sequences  19  : annotations  {12, 14, 19, 21, 22, 23, 24, 26}\n",
      "family  F72  : nbr sequences  17  : annotations  {14, 19, 21, 22, 23, 24, 26}\n",
      "family  F73  : nbr sequences  6  : annotations  {14, 21, 22, 23, 26}\n",
      "family  F74  : nbr sequences  20  : annotations  {12, 14, 19, 21, 22, 23, 24, 26}\n",
      "family  F75  : nbr sequences  17  : annotations  {14, 19, 21, 22, 23, 24, 26}\n",
      "family  F76  : nbr sequences  17  : annotations  {14, 19, 21, 22, 23, 24, 26}\n",
      "family  F77  : nbr sequences  20  : annotations  {12, 14, 19, 21, 22, 23, 24, 26}\n",
      "family  F78  : nbr sequences  20  : annotations  {12, 14, 19, 21, 22, 23, 24, 26}\n",
      "family  F33  : nbr sequences  3  : annotations  {1}\n",
      "family  F42  : nbr sequences  1  : annotations  {1}\n",
      "family  F56  : nbr sequences  7  : annotations  {1}\n",
      "family  F63  : nbr sequences  1  : annotations  {1}\n",
      "family  F231  : nbr sequences  2  : annotations  {43, 19}\n",
      "family  F232  : nbr sequences  5  : annotations  {1, 2, 5}\n",
      "family  F79  : nbr sequences  20  : annotations  {12, 14, 19, 21, 22, 23, 24, 26}\n",
      "family  F80  : nbr sequences  3  : annotations  {1, 10, 2}\n",
      "family  F81  : nbr sequences  1  : annotations  {2}\n",
      "family  F83  : nbr sequences  1  : annotations  {1}\n",
      "family  F82  : nbr sequences  5  : annotations  {1}\n",
      "family  F84  : nbr sequences  3  : annotations  {1}\n",
      "family  F85  : nbr sequences  1  : annotations  {1}\n",
      "family  F86  : nbr sequences  6  : annotations  {1}\n",
      "family  F87  : nbr sequences  2  : annotations  {1}\n",
      "family  F88  : nbr sequences  2  : annotations  {1}\n",
      "family  F89  : nbr sequences  4  : annotations  {1}\n",
      "family  F90  : nbr sequences  2  : annotations  {1}\n",
      "family  F91  : nbr sequences  2  : annotations  {1}\n",
      "family  F92  : nbr sequences  2  : annotations  {1}\n",
      "family  F93  : nbr sequences  4  : annotations  {1}\n",
      "family  F94  : nbr sequences  1  : annotations  {1}\n",
      "family  F95  : nbr sequences  2  : annotations  {1}\n",
      "family  F96  : nbr sequences  2  : annotations  {1}\n",
      "family  F97  : nbr sequences  1  : annotations  {1}\n",
      "family  F98  : nbr sequences  1  : annotations  {1}\n",
      "family  F99  : nbr sequences  1  : annotations  {1}\n",
      "family  F100  : nbr sequences  1  : annotations  {1}\n",
      "family  F101  : nbr sequences  2  : annotations  {1}\n",
      "family  F102  : nbr sequences  1  : annotations  {1}\n",
      "family  F103  : nbr sequences  2  : annotations  {1}\n",
      "family  F104  : nbr sequences  1  : annotations  {1}\n",
      "family  F105  : nbr sequences  4  : annotations  {1}\n",
      "family  F106  : nbr sequences  4  : annotations  {1}\n",
      "family  F107  : nbr sequences  1  : annotations  {1}\n",
      "family  F108  : nbr sequences  1  : annotations  {4}\n",
      "family  F109  : nbr sequences  1  : annotations  {2}\n",
      "family  F110  : nbr sequences  3  : annotations  {1}\n",
      "family  F111  : nbr sequences  3  : annotations  {1}\n",
      "family  F112  : nbr sequences  6  : annotations  {1, 4}\n",
      "family  F113  : nbr sequences  6  : annotations  {1}\n",
      "family  F114  : nbr sequences  6  : annotations  {1}\n",
      "family  F115  : nbr sequences  6  : annotations  {4}\n",
      "family  F116  : nbr sequences  1  : annotations  {1}\n",
      "family  F117  : nbr sequences  1  : annotations  {1}\n",
      "family  F118  : nbr sequences  3  : annotations  {1, 2}\n",
      "family  F119  : nbr sequences  3  : annotations  {1, 2}\n",
      "family  F120  : nbr sequences  2  : annotations  {1}\n",
      "family  F121  : nbr sequences  2  : annotations  {1}\n",
      "family  F123  : nbr sequences  1  : annotations  {1}\n",
      "family  F124  : nbr sequences  2  : annotations  {1}\n",
      "family  F125  : nbr sequences  1  : annotations  {1}\n",
      "family  F126  : nbr sequences  1  : annotations  {1}\n",
      "family  F127  : nbr sequences  1  : annotations  {1}\n",
      "family  F128  : nbr sequences  1  : annotations  {1}\n",
      "family  F129  : nbr sequences  2  : annotations  {1}\n",
      "family  F130  : nbr sequences  1  : annotations  {1}\n",
      "family  F131  : nbr sequences  1  : annotations  {1}\n",
      "family  F132  : nbr sequences  1  : annotations  {1}\n",
      "family  F133  : nbr sequences  1  : annotations  {1}\n",
      "family  F134  : nbr sequences  1  : annotations  {1}\n",
      "family  F135  : nbr sequences  1  : annotations  {1}\n",
      "family  F136  : nbr sequences  2  : annotations  {1}\n",
      "family  F137  : nbr sequences  1  : annotations  {6}\n",
      "family  F138  : nbr sequences  1  : annotations  {6}\n",
      "family  F139  : nbr sequences  3  : annotations  {6}\n",
      "family  F140  : nbr sequences  3  : annotations  {2, 3}\n",
      "family  F141  : nbr sequences  3  : annotations  {6}\n",
      "family  F142  : nbr sequences  1  : annotations  {6}\n",
      "family  F143  : nbr sequences  3  : annotations  {6}\n",
      "family  F144  : nbr sequences  3  : annotations  {6}\n",
      "family  F145  : nbr sequences  2  : annotations  {6}\n",
      "family  F146  : nbr sequences  1  : annotations  {6}\n",
      "family  F147  : nbr sequences  4  : annotations  {1}\n",
      "family  F148  : nbr sequences  4  : annotations  {1}\n",
      "family  F149  : nbr sequences  3  : annotations  {1}\n",
      "family  F150  : nbr sequences  3  : annotations  {1}\n",
      "family  F151  : nbr sequences  1  : annotations  {1}\n",
      "family  F152  : nbr sequences  1  : annotations  {1}\n",
      "family  F153  : nbr sequences  2  : annotations  {1}\n",
      "family  F154  : nbr sequences  3  : annotations  {1}\n",
      "family  F155  : nbr sequences  1  : annotations  {1}\n",
      "family  F156  : nbr sequences  2  : annotations  {2}\n",
      "family  F157  : nbr sequences  2  : annotations  {1}\n",
      "family  F158  : nbr sequences  1  : annotations  {1}\n",
      "family  F159  : nbr sequences  5  : annotations  {1}\n",
      "family  F160  : nbr sequences  1  : annotations  {2}\n",
      "family  F161  : nbr sequences  2  : annotations  {1}\n",
      "family  F162  : nbr sequences  1  : annotations  {1}\n",
      "family  F163  : nbr sequences  1  : annotations  {1}\n",
      "family  F164  : nbr sequences  1  : annotations  {1}\n",
      "family  F165  : nbr sequences  1  : annotations  {1}\n",
      "family  F166  : nbr sequences  6  : annotations  {20, 21, 22}\n",
      "family  F167  : nbr sequences  1  : annotations  {1}\n",
      "family  F168  : nbr sequences  6  : annotations  {20, 21, 22}\n",
      "family  F169  : nbr sequences  1  : annotations  {1}\n",
      "family  F170  : nbr sequences  1  : annotations  {1}\n",
      "family  F171  : nbr sequences  1  : annotations  {1}\n",
      "family  F172  : nbr sequences  1  : annotations  {1}\n",
      "family  F173  : nbr sequences  1  : annotations  {1}\n",
      "family  F174  : nbr sequences  1  : annotations  {1}\n",
      "family  F175  : nbr sequences  1  : annotations  {7}\n",
      "family  F176  : nbr sequences  1  : annotations  {1}\n",
      "family  F177  : nbr sequences  1  : annotations  {1}\n",
      "family  F178  : nbr sequences  2  : annotations  {1}\n",
      "family  F179  : nbr sequences  3  : annotations  {1}\n",
      "family  F180  : nbr sequences  3  : annotations  {1}\n",
      "family  F181  : nbr sequences  2  : annotations  {1}\n",
      "family  F182  : nbr sequences  2  : annotations  {1, 2}\n",
      "family  F183  : nbr sequences  2  : annotations  {1}\n",
      "family  F184  : nbr sequences  14  : annotations  {37, 38, 39, 40, 41, 10, 11, 12, 31}\n",
      "family  F185  : nbr sequences  14  : annotations  {37, 38, 39, 40, 41, 10, 11, 12, 31}\n",
      "family  F186  : nbr sequences  14  : annotations  {37, 38, 39, 40, 41, 10, 11, 12, 31}\n",
      "family  F187  : nbr sequences  14  : annotations  {37, 38, 39, 40, 41, 10, 11, 12, 31}\n",
      "family  F188  : nbr sequences  14  : annotations  {37, 38, 39, 40, 41, 10, 11, 12, 31}\n",
      "family  F189  : nbr sequences  12  : annotations  {35, 37, 38, 39, 40, 41, 24, 28, 31}\n",
      "family  F190  : nbr sequences  12  : annotations  {35, 37, 38, 39, 40, 41, 24, 28, 31}\n",
      "family  F191  : nbr sequences  8  : annotations  {37, 38, 39, 40, 41, 31}\n",
      "family  F192  : nbr sequences  12  : annotations  {35, 37, 38, 39, 40, 41, 24, 28, 31}\n",
      "family  F193  : nbr sequences  8  : annotations  {37, 38, 39, 40, 41, 31}\n",
      "family  F194  : nbr sequences  2  : annotations  {10, 37}\n",
      "family  F195  : nbr sequences  14  : annotations  {37, 38, 39, 40, 41, 10, 11, 12, 31}\n",
      "family  F196  : nbr sequences  14  : annotations  {37, 38, 39, 40, 41, 10, 11, 12, 31}\n",
      "family  F197  : nbr sequences  7  : annotations  {38, 39, 41, 11, 12, 31}\n",
      "family  F198  : nbr sequences  5  : annotations  {37, 38, 40, 10, 12}\n",
      "family  F199  : nbr sequences  2  : annotations  {10, 38}\n",
      "family  F200  : nbr sequences  14  : annotations  {37, 38, 39, 40, 41, 10, 11, 12, 31}\n",
      "family  F201  : nbr sequences  5  : annotations  {37, 38, 40, 10, 12}\n",
      "family  F202  : nbr sequences  14  : annotations  {37, 38, 39, 40, 41, 10, 11, 12, 31}\n",
      "family  F203  : nbr sequences  14  : annotations  {37, 38, 39, 40, 41, 10, 11, 12, 31}\n",
      "family  F204  : nbr sequences  5  : annotations  {37, 38, 40, 10, 12}\n",
      "family  F205  : nbr sequences  8  : annotations  {1, 2}\n",
      "family  F206  : nbr sequences  8  : annotations  {1, 2}\n",
      "family  F207  : nbr sequences  2  : annotations  {1}\n",
      "family  F208  : nbr sequences  5  : annotations  {37, 38, 40, 10, 12}\n",
      "family  F209  : nbr sequences  2  : annotations  {41, 12}\n",
      "family  F210  : nbr sequences  1  : annotations  {22}\n",
      "family  F211  : nbr sequences  1  : annotations  {22}\n",
      "family  F212  : nbr sequences  1  : annotations  {22}\n",
      "family  F213  : nbr sequences  1  : annotations  {22}\n",
      "family  F214  : nbr sequences  1  : annotations  {22}\n",
      "family  F215  : nbr sequences  2  : annotations  {12, 21}\n",
      "family  F216  : nbr sequences  6  : annotations  {43, 19, 13, 15}\n",
      "family  F217  : nbr sequences  11  : annotations  {14, 19, 21, 22, 24}\n",
      "family  F218  : nbr sequences  2  : annotations  {12, 21}\n",
      "family  F219  : nbr sequences  12  : annotations  {43, 13, 15, 19, 20, 21, 22}\n",
      "family  F220  : nbr sequences  3  : annotations  {24, 35}\n",
      "family  F221  : nbr sequences  4  : annotations  {24, 35, 28}\n",
      "family  F222  : nbr sequences  4  : annotations  {24, 35, 28}\n",
      "family  F223  : nbr sequences  4  : annotations  {24, 35, 28}\n",
      "family  F224  : nbr sequences  4  : annotations  {24, 35, 28}\n",
      "family  F225  : nbr sequences  2  : annotations  {43, 19}\n",
      "family  F226  : nbr sequences  2  : annotations  {43, 19}\n",
      "family  F227  : nbr sequences  2  : annotations  {43, 19}\n",
      "family  F228  : nbr sequences  4  : annotations  {13, 15}\n",
      "family  F229  : nbr sequences  6  : annotations  {43, 19, 13, 15}\n",
      "family  F230  : nbr sequences  6  : annotations  {43, 19, 13, 15}\n",
      "family  F233  : nbr sequences  5  : annotations  {38, 39, 11, 12, 31}\n",
      "family  F234  : nbr sequences  1  : annotations  {35}\n",
      "family  F236  : nbr sequences  1  : annotations  {2}\n",
      "family  F237  : nbr sequences  2  : annotations  {2, 3}\n",
      "family  F238  : nbr sequences  1  : annotations  {2}\n",
      "family  F239  : nbr sequences  4  : annotations  {2, 10}\n",
      "family  F240  : nbr sequences  5  : annotations  {38, 39, 11, 12, 31}\n",
      "family  F241  : nbr sequences  2  : annotations  {14}\n",
      "family  F242  : nbr sequences  3  : annotations  {13}\n",
      "family  F243  : nbr sequences  1  : annotations  {15}\n",
      "family  F244  : nbr sequences  4  : annotations  {24, 35, 28}\n",
      "family  F258  : nbr sequences  1  : annotations  {22}\n",
      "family  F257  : nbr sequences  2  : annotations  {12, 21}\n",
      "family  F256  : nbr sequences  2  : annotations  {12, 21}\n",
      "family  F255  : nbr sequences  19  : annotations  {12, 14, 19, 21, 22, 23, 24, 26}\n",
      "family  F254  : nbr sequences  2  : annotations  {41, 12}\n",
      "family  F253  : nbr sequences  2  : annotations  {41, 12}\n",
      "family  F245  : nbr sequences  2  : annotations  {10, 37}\n",
      "family  F246  : nbr sequences  2  : annotations  {10, 37}\n",
      "family  F247  : nbr sequences  2  : annotations  {10, 37}\n",
      "family  F248  : nbr sequences  5  : annotations  {38, 39, 11, 12, 31}\n",
      "family  F249  : nbr sequences  5  : annotations  {38, 39, 11, 12, 31}\n",
      "family  F250  : nbr sequences  7  : annotations  {38, 39, 41, 11, 12, 31}\n",
      "family  F251  : nbr sequences  3  : annotations  {40, 12, 37}\n",
      "family  F252  : nbr sequences  3  : annotations  {40, 12, 37}\n",
      "family  F122  : nbr sequences  1  : annotations  {5}\n",
      "family  F235  : nbr sequences  6  : annotations  {20, 21, 22}\n",
      "family  F4  : nbr sequences  6  : annotations  {20, 21, 22}\n",
      "family  F40  : nbr sequences  3  : annotations  {1}\n",
      "family  F30  : nbr sequences  6  : annotations  {1}\n",
      "family  F31  : nbr sequences  1  : annotations  {3}\n",
      "family  F32  : nbr sequences  1  : annotations  {3}\n",
      "family  F39  : nbr sequences  2  : annotations  {24, 35}\n",
      "family  F38  : nbr sequences  4  : annotations  {24, 35, 28}\n",
      "family  F37  : nbr sequences  1  : annotations  {28}\n",
      "family  F41  : nbr sequences  2  : annotations  {1}\n",
      "family  F259  : nbr sequences  2  : annotations  {1, 2}\n",
      "family  F260  : nbr sequences  16  : annotations  {9, 20, 14, 15}\n",
      "family  F261  : nbr sequences  16  : annotations  {9, 20, 14, 15}\n",
      "family  F262  : nbr sequences  14  : annotations  {15, 20, 14, 6}\n",
      "family  F263  : nbr sequences  16  : annotations  {9, 20, 14, 15}\n",
      "family  F264  : nbr sequences  1  : annotations  {12}\n",
      "family  F265  : nbr sequences  1  : annotations  {12}\n",
      "family  F266  : nbr sequences  1  : annotations  {12}\n",
      "family  F267  : nbr sequences  1  : annotations  {12}\n",
      "family  F268  : nbr sequences  0  : annotations  set()\n",
      "family  F269  : nbr sequences  16  : annotations  {9, 20, 14, 15}\n",
      "family  F270  : nbr sequences  1  : annotations  {24}\n",
      "family  F271  : nbr sequences  1  : annotations  {24}\n",
      "family  F272  : nbr sequences  1  : annotations  {28}\n",
      "family  F273  : nbr sequences  6  : annotations  {20, 21, 22}\n",
      "family  F274  : nbr sequences  6  : annotations  {20, 21, 22}\n",
      "family  F275  : nbr sequences  6  : annotations  {20, 21, 22}\n",
      "family  F276  : nbr sequences  6  : annotations  {20, 21, 22}\n",
      "family  F277  : nbr sequences  3  : annotations  {9, 10, 17}\n",
      "family  F278  : nbr sequences  3  : annotations  {17, 10, 9}\n",
      "family  F279  : nbr sequences  3  : annotations  {17, 10, 9}\n",
      "family  F280  : nbr sequences  3  : annotations  {17, 10, 9}\n",
      "family  F281  : nbr sequences  3  : annotations  {17, 10, 9}\n",
      "family  F282  : nbr sequences  3  : annotations  {17, 10, 9}\n",
      "family  F284  : nbr sequences  3  : annotations  {17, 10, 9}\n"
     ]
    }
   ],
   "source": [
    "for fam in Modulo_F:\n",
    "    fam_id = fam[0]\n",
    "    _annotations = [len(get_nbr_annotations(seq[0],False)) for seq in get_fam_composition(fam_id,False)]\n",
    "    \n",
    "    print(\"family \", fam_id , \" : nbr sequences \", len(_annotations), \" : annotations \", set(_annotations))\n",
    "    "
   ]
  }
 ],
 "metadata": {
  "kernelspec": {
   "display_name": ".venv",
   "language": "python",
   "name": "python3"
  },
  "language_info": {
   "codemirror_mode": {
    "name": "ipython",
    "version": 3
   },
   "file_extension": ".py",
   "mimetype": "text/x-python",
   "name": "python",
   "nbconvert_exporter": "python",
   "pygments_lexer": "ipython3",
   "version": "3.10.6"
  },
  "orig_nbformat": 4
 },
 "nbformat": 4,
 "nbformat_minor": 2
}
