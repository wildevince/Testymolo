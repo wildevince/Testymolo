{
 "cells": [
  {
   "attachments": {},
   "cell_type": "markdown",
   "metadata": {},
   "source": [
    "### file path"
   ]
  },
  {
   "cell_type": "code",
   "execution_count": 1,
   "metadata": {},
   "outputs": [],
   "source": [
    "INSERTS:str = \"./../../testymolo/media/old_sql/VIRUS_1-2004-11-04_Inserts_2.sql\"\n",
    "TABLES: str = \"./../../testymolo/media/old_sql/VIRUS_1-2004-11-04_Tables.sql\"\n",
    "\n",
    "tables_csv: str = \"./../../testymolo/media/tables_csv/\"\n"
   ]
  },
  {
   "cell_type": "code",
   "execution_count": 8,
   "metadata": {},
   "outputs": [],
   "source": [
    "import re\n",
    "import os\n",
    "\n",
    "\n",
    "## cleanning outfiles\n",
    "for each in os.listdir(tables_csv):\n",
    "    if(each.endswith(\".csv\")):\n",
    "        with open(os.path.join(tables_csv, each), 'w') as handle:\n",
    "            handle.write(\"\")\n",
    "\n",
    "\n",
    "classes:dict = {}\n",
    "\n",
    "with open(INSERTS) as handle:\n",
    "\n",
    "    for line in handle.readlines():\n",
    "\n",
    "        if(line.startswith(\"INSERT\")):\n",
    "            res = re.search(\"INSERT INTO ([^\\s]+) \",line)\n",
    "            tab_name = res.group(1)\n",
    "            if(tab_name in classes):\n",
    "                classes[tab_name] += 1\n",
    "            else:\n",
    "                classes[tab_name] = 1\n",
    "            outfile = os.path.join(tables_csv,tab_name+\".csv\")\n",
    "            res2 = re.search(\"VALUES \\((.*)\\);\",line)\n",
    "            values = r\"{}\".format(res2.group(1))\n",
    "            with open(outfile,'a') as handle:\n",
    "                handle.write(values +';\\n')\n",
    "\n"
   ]
  },
  {
   "attachments": {},
   "cell_type": "markdown",
   "metadata": {},
   "source": [
    "# YATTA !"
   ]
  },
  {
   "cell_type": "code",
   "execution_count": null,
   "metadata": {},
   "outputs": [],
   "source": [
    "import pandas\n"
   ]
  }
 ],
 "metadata": {
  "kernelspec": {
   "display_name": ".venv",
   "language": "python",
   "name": "python3"
  },
  "language_info": {
   "codemirror_mode": {
    "name": "ipython",
    "version": 3
   },
   "file_extension": ".py",
   "mimetype": "text/x-python",
   "name": "python",
   "nbconvert_exporter": "python",
   "pygments_lexer": "ipython3",
   "version": "3.10.6"
  },
  "orig_nbformat": 4
 },
 "nbformat": 4,
 "nbformat_minor": 2
}
